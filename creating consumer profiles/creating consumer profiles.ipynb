{
 "cells": [
  {
   "cell_type": "markdown",
   "id": "5fc7ad54",
   "metadata": {},
   "source": [
    "Презентация по ссылке https://drive.google.com/file/d/1zG1MDzPwXJikmw7_TbKZlIANBWuwST_-/view?usp=sharing"
   ]
  },
  {
   "cell_type": "markdown",
   "id": "22c56162",
   "metadata": {},
   "source": [
    "## Обзор данных"
   ]
  },
  {
   "cell_type": "code",
   "execution_count": 1,
   "id": "e7ea1c55",
   "metadata": {},
   "outputs": [],
   "source": [
    "pip install flashtext"
   ]
  },
  {
   "cell_type": "code",
   "execution_count": 2,
   "id": "b1f0385d",
   "metadata": {},
   "outputs": [],
   "source": [
    "import pandas as pd\n",
    "import matplotlib.pyplot as plt\n",
    "import re\n",
    "from flashtext import KeywordProcessor\n",
    "\n",
    "import seaborn as sns\n",
    "from datetime import datetime, timedelta\n",
    "\n",
    "from sklearn.model_selection import train_test_split\n",
    "from sklearn.preprocessing import StandardScaler\n",
    "from scipy.cluster.hierarchy import dendrogram, linkage\n",
    "from sklearn.cluster import KMeans\n",
    "from sklearn.metrics import silhouette_score\n",
    "\n",
    "from scipy import stats as st"
   ]
  },
  {
   "cell_type": "code",
   "execution_count": 3,
   "id": "eadd27ba",
   "metadata": {},
   "outputs": [],
   "source": [
    "data = pd.read_csv('/datasets/ecommerce_dataset.csv')\n",
    "#data = pd.read_csv('ecommerce_dataset.csv')"
   ]
  },
  {
   "cell_type": "code",
   "execution_count": 4,
   "id": "ff498f46",
   "metadata": {
    "scrolled": false
   },
   "outputs": [
    {
     "data": {
      "text/html": [
       "<div>\n",
       "<style scoped>\n",
       "    .dataframe tbody tr th:only-of-type {\n",
       "        vertical-align: middle;\n",
       "    }\n",
       "\n",
       "    .dataframe tbody tr th {\n",
       "        vertical-align: top;\n",
       "    }\n",
       "\n",
       "    .dataframe thead th {\n",
       "        text-align: right;\n",
       "    }\n",
       "</style>\n",
       "<table border=\"1\" class=\"dataframe\">\n",
       "  <thead>\n",
       "    <tr style=\"text-align: right;\">\n",
       "      <th></th>\n",
       "      <th>date</th>\n",
       "      <th>customer_id</th>\n",
       "      <th>order_id</th>\n",
       "      <th>product</th>\n",
       "      <th>quantity</th>\n",
       "      <th>price</th>\n",
       "    </tr>\n",
       "  </thead>\n",
       "  <tbody>\n",
       "    <tr>\n",
       "      <th>0</th>\n",
       "      <td>2018100100</td>\n",
       "      <td>ee47d746-6d2f-4d3c-9622-c31412542920</td>\n",
       "      <td>68477</td>\n",
       "      <td>Комнатное растение в горшке Алое Вера, d12, h30</td>\n",
       "      <td>1</td>\n",
       "      <td>142.0</td>\n",
       "    </tr>\n",
       "    <tr>\n",
       "      <th>1</th>\n",
       "      <td>2018100100</td>\n",
       "      <td>ee47d746-6d2f-4d3c-9622-c31412542920</td>\n",
       "      <td>68477</td>\n",
       "      <td>Комнатное растение в горшке Кофе Арабика, d12,...</td>\n",
       "      <td>1</td>\n",
       "      <td>194.0</td>\n",
       "    </tr>\n",
       "    <tr>\n",
       "      <th>2</th>\n",
       "      <td>2018100100</td>\n",
       "      <td>ee47d746-6d2f-4d3c-9622-c31412542920</td>\n",
       "      <td>68477</td>\n",
       "      <td>Радермахера d-12 см h-20 см</td>\n",
       "      <td>1</td>\n",
       "      <td>112.0</td>\n",
       "    </tr>\n",
       "    <tr>\n",
       "      <th>3</th>\n",
       "      <td>2018100100</td>\n",
       "      <td>ee47d746-6d2f-4d3c-9622-c31412542920</td>\n",
       "      <td>68477</td>\n",
       "      <td>Хризолидокарпус Лутесценс d-9 см</td>\n",
       "      <td>1</td>\n",
       "      <td>179.0</td>\n",
       "    </tr>\n",
       "    <tr>\n",
       "      <th>4</th>\n",
       "      <td>2018100100</td>\n",
       "      <td>ee47d746-6d2f-4d3c-9622-c31412542920</td>\n",
       "      <td>68477</td>\n",
       "      <td>Циперус Зумула d-12 см h-25 см</td>\n",
       "      <td>1</td>\n",
       "      <td>112.0</td>\n",
       "    </tr>\n",
       "    <tr>\n",
       "      <th>...</th>\n",
       "      <td>...</td>\n",
       "      <td>...</td>\n",
       "      <td>...</td>\n",
       "      <td>...</td>\n",
       "      <td>...</td>\n",
       "      <td>...</td>\n",
       "    </tr>\n",
       "    <tr>\n",
       "      <th>6732</th>\n",
       "      <td>2019103111</td>\n",
       "      <td>73d1cd35-5e5f-4629-8cf2-3fda829d4e58</td>\n",
       "      <td>73156</td>\n",
       "      <td>Таз пластмассовый 40,0 л пищевой овальный (Иж)...</td>\n",
       "      <td>1</td>\n",
       "      <td>404.0</td>\n",
       "    </tr>\n",
       "    <tr>\n",
       "      <th>6733</th>\n",
       "      <td>2019103112</td>\n",
       "      <td>1f0a7f35-7459-4f23-b468-5e45bf481dd1</td>\n",
       "      <td>73158</td>\n",
       "      <td>Сумка-тележка 2-х колесная Gimi Argo синяя</td>\n",
       "      <td>1</td>\n",
       "      <td>1087.0</td>\n",
       "    </tr>\n",
       "    <tr>\n",
       "      <th>6734</th>\n",
       "      <td>2019103113</td>\n",
       "      <td>25df96a7-c453-4708-9cea-a3dfc7c342ea</td>\n",
       "      <td>73162</td>\n",
       "      <td>Герань домашняя (пеларгония зональная) цветуща...</td>\n",
       "      <td>1</td>\n",
       "      <td>157.0</td>\n",
       "    </tr>\n",
       "    <tr>\n",
       "      <th>6735</th>\n",
       "      <td>2019103114</td>\n",
       "      <td>73d1cd35-5e5f-4629-8cf2-3fda829d4e58</td>\n",
       "      <td>73164</td>\n",
       "      <td>Таз пластмассовый со стиральной доской (Иж), 1...</td>\n",
       "      <td>1</td>\n",
       "      <td>397.0</td>\n",
       "    </tr>\n",
       "    <tr>\n",
       "      <th>6736</th>\n",
       "      <td>2019103116</td>\n",
       "      <td>344aa778-e436-419e-a9c6-9b8f37b7c1df</td>\n",
       "      <td>73137</td>\n",
       "      <td>Сумка-тележка 2-х колесная Gimi Argo синяя</td>\n",
       "      <td>1</td>\n",
       "      <td>1087.0</td>\n",
       "    </tr>\n",
       "  </tbody>\n",
       "</table>\n",
       "<p>6737 rows × 6 columns</p>\n",
       "</div>"
      ],
      "text/plain": [
       "            date                           customer_id  order_id  \\\n",
       "0     2018100100  ee47d746-6d2f-4d3c-9622-c31412542920     68477   \n",
       "1     2018100100  ee47d746-6d2f-4d3c-9622-c31412542920     68477   \n",
       "2     2018100100  ee47d746-6d2f-4d3c-9622-c31412542920     68477   \n",
       "3     2018100100  ee47d746-6d2f-4d3c-9622-c31412542920     68477   \n",
       "4     2018100100  ee47d746-6d2f-4d3c-9622-c31412542920     68477   \n",
       "...          ...                                   ...       ...   \n",
       "6732  2019103111  73d1cd35-5e5f-4629-8cf2-3fda829d4e58     73156   \n",
       "6733  2019103112  1f0a7f35-7459-4f23-b468-5e45bf481dd1     73158   \n",
       "6734  2019103113  25df96a7-c453-4708-9cea-a3dfc7c342ea     73162   \n",
       "6735  2019103114  73d1cd35-5e5f-4629-8cf2-3fda829d4e58     73164   \n",
       "6736  2019103116  344aa778-e436-419e-a9c6-9b8f37b7c1df     73137   \n",
       "\n",
       "                                                product  quantity   price  \n",
       "0       Комнатное растение в горшке Алое Вера, d12, h30         1   142.0  \n",
       "1     Комнатное растение в горшке Кофе Арабика, d12,...         1   194.0  \n",
       "2                           Радермахера d-12 см h-20 см         1   112.0  \n",
       "3                      Хризолидокарпус Лутесценс d-9 см         1   179.0  \n",
       "4                        Циперус Зумула d-12 см h-25 см         1   112.0  \n",
       "...                                                 ...       ...     ...  \n",
       "6732  Таз пластмассовый 40,0 л пищевой овальный (Иж)...         1   404.0  \n",
       "6733         Сумка-тележка 2-х колесная Gimi Argo синяя         1  1087.0  \n",
       "6734  Герань домашняя (пеларгония зональная) цветуща...         1   157.0  \n",
       "6735  Таз пластмассовый со стиральной доской (Иж), 1...         1   397.0  \n",
       "6736         Сумка-тележка 2-х колесная Gimi Argo синяя         1  1087.0  \n",
       "\n",
       "[6737 rows x 6 columns]"
      ]
     },
     "execution_count": 4,
     "metadata": {},
     "output_type": "execute_result"
    }
   ],
   "source": [
    "# Обзор данных\n",
    "data"
   ]
  },
  {
   "cell_type": "markdown",
   "id": "af7f8c19",
   "metadata": {},
   "source": [
    "Неоходимо привести все значения в столбце product к нижнему регистру для упрощения дальнейшей работы."
   ]
  },
  {
   "cell_type": "code",
   "execution_count": 5,
   "id": "75222253",
   "metadata": {
    "scrolled": true
   },
   "outputs": [
    {
     "name": "stdout",
     "output_type": "stream",
     "text": [
      "<class 'pandas.core.frame.DataFrame'>\n",
      "RangeIndex: 6737 entries, 0 to 6736\n",
      "Data columns (total 6 columns):\n",
      " #   Column       Non-Null Count  Dtype  \n",
      "---  ------       --------------  -----  \n",
      " 0   date         6737 non-null   int64  \n",
      " 1   customer_id  6737 non-null   object \n",
      " 2   order_id     6737 non-null   int64  \n",
      " 3   product      6737 non-null   object \n",
      " 4   quantity     6737 non-null   int64  \n",
      " 5   price        6737 non-null   float64\n",
      "dtypes: float64(1), int64(3), object(2)\n",
      "memory usage: 315.9+ KB\n"
     ]
    }
   ],
   "source": [
    "data.info()"
   ]
  },
  {
   "cell_type": "markdown",
   "id": "830fd560",
   "metadata": {},
   "source": [
    "В таблице отсутствуют пропуски. Датафрейм небольшой. Необходимо изменить тип данных в столбцах date и price на datetime и int соответственно. Посмотрим на данные, использовав метод describe()."
   ]
  },
  {
   "cell_type": "code",
   "execution_count": 6,
   "id": "5274e623",
   "metadata": {
    "scrolled": false
   },
   "outputs": [
    {
     "data": {
      "text/html": [
       "<div>\n",
       "<style scoped>\n",
       "    .dataframe tbody tr th:only-of-type {\n",
       "        vertical-align: middle;\n",
       "    }\n",
       "\n",
       "    .dataframe tbody tr th {\n",
       "        vertical-align: top;\n",
       "    }\n",
       "\n",
       "    .dataframe thead th {\n",
       "        text-align: right;\n",
       "    }\n",
       "</style>\n",
       "<table border=\"1\" class=\"dataframe\">\n",
       "  <thead>\n",
       "    <tr style=\"text-align: right;\">\n",
       "      <th></th>\n",
       "      <th>date</th>\n",
       "      <th>order_id</th>\n",
       "      <th>quantity</th>\n",
       "      <th>price</th>\n",
       "    </tr>\n",
       "  </thead>\n",
       "  <tbody>\n",
       "    <tr>\n",
       "      <th>count</th>\n",
       "      <td>6.737000e+03</td>\n",
       "      <td>6737.000000</td>\n",
       "      <td>6737.000000</td>\n",
       "      <td>6737.000000</td>\n",
       "    </tr>\n",
       "    <tr>\n",
       "      <th>mean</th>\n",
       "      <td>2.018855e+09</td>\n",
       "      <td>43128.948345</td>\n",
       "      <td>2.501559</td>\n",
       "      <td>462.028499</td>\n",
       "    </tr>\n",
       "    <tr>\n",
       "      <th>std</th>\n",
       "      <td>3.855185e+05</td>\n",
       "      <td>27899.414662</td>\n",
       "      <td>15.266478</td>\n",
       "      <td>871.296064</td>\n",
       "    </tr>\n",
       "    <tr>\n",
       "      <th>min</th>\n",
       "      <td>2.018100e+09</td>\n",
       "      <td>12624.000000</td>\n",
       "      <td>1.000000</td>\n",
       "      <td>9.000000</td>\n",
       "    </tr>\n",
       "    <tr>\n",
       "      <th>25%</th>\n",
       "      <td>2.019020e+09</td>\n",
       "      <td>14827.000000</td>\n",
       "      <td>1.000000</td>\n",
       "      <td>101.000000</td>\n",
       "    </tr>\n",
       "    <tr>\n",
       "      <th>50%</th>\n",
       "      <td>2.019050e+09</td>\n",
       "      <td>68503.000000</td>\n",
       "      <td>1.000000</td>\n",
       "      <td>135.000000</td>\n",
       "    </tr>\n",
       "    <tr>\n",
       "      <th>75%</th>\n",
       "      <td>2.019061e+09</td>\n",
       "      <td>70504.000000</td>\n",
       "      <td>1.000000</td>\n",
       "      <td>398.000000</td>\n",
       "    </tr>\n",
       "    <tr>\n",
       "      <th>max</th>\n",
       "      <td>2.019103e+09</td>\n",
       "      <td>73164.000000</td>\n",
       "      <td>1000.000000</td>\n",
       "      <td>14917.000000</td>\n",
       "    </tr>\n",
       "  </tbody>\n",
       "</table>\n",
       "</div>"
      ],
      "text/plain": [
       "               date      order_id     quantity         price\n",
       "count  6.737000e+03   6737.000000  6737.000000   6737.000000\n",
       "mean   2.018855e+09  43128.948345     2.501559    462.028499\n",
       "std    3.855185e+05  27899.414662    15.266478    871.296064\n",
       "min    2.018100e+09  12624.000000     1.000000      9.000000\n",
       "25%    2.019020e+09  14827.000000     1.000000    101.000000\n",
       "50%    2.019050e+09  68503.000000     1.000000    135.000000\n",
       "75%    2.019061e+09  70504.000000     1.000000    398.000000\n",
       "max    2.019103e+09  73164.000000  1000.000000  14917.000000"
      ]
     },
     "execution_count": 6,
     "metadata": {},
     "output_type": "execute_result"
    }
   ],
   "source": [
    "data.describe()"
   ]
  },
  {
   "cell_type": "markdown",
   "id": "8df3dadc",
   "metadata": {},
   "source": [
    "Распределение данных столбцов quantity и price нужно рассмотреть поближе. Основная масса заказов содержит в составе по одной единице товаров, но максимальное значение в столбце quantity равно 1000. В столбце price максимальное значение 14917, а минимальное число 9. Максимальные значения в этих двух столбцах намного больше среднего и медианного значений."
   ]
  },
  {
   "cell_type": "markdown",
   "id": "c708fa1f",
   "metadata": {},
   "source": [
    "Краткий вывод по текущему пункту:\n",
    "   - Был загружен датафрейм. Датафрейм небольшой, пропуски данных отсутствуют.\n",
    "   - Необходимо изменить тип данных в столбцах date и price на datetime и int соответственно.\n",
    "   - В столбцах quantity и price очень большие максимальные числа. Основная масса заказов содержит в составе по одной единице товаров, но максимальное значение в столбце quantity равно 1000. В столбце price максимальное значение 14917, а минимальное число 9. В дальнейшем стоит внимательно рассмотреть эти столбцы на наличие выбросов."
   ]
  },
  {
   "cell_type": "markdown",
   "id": "815893c6",
   "metadata": {},
   "source": [
    "## Предобработка данных\n",
    "\n",
    "Проведем предобработку данных."
   ]
  },
  {
   "cell_type": "markdown",
   "id": "065ca821",
   "metadata": {},
   "source": [
    "### Приведение значения столбца product к нижнему регистру"
   ]
  },
  {
   "cell_type": "code",
   "execution_count": 7,
   "id": "a90a8018",
   "metadata": {
    "scrolled": false
   },
   "outputs": [
    {
     "data": {
      "text/html": [
       "<div>\n",
       "<style scoped>\n",
       "    .dataframe tbody tr th:only-of-type {\n",
       "        vertical-align: middle;\n",
       "    }\n",
       "\n",
       "    .dataframe tbody tr th {\n",
       "        vertical-align: top;\n",
       "    }\n",
       "\n",
       "    .dataframe thead th {\n",
       "        text-align: right;\n",
       "    }\n",
       "</style>\n",
       "<table border=\"1\" class=\"dataframe\">\n",
       "  <thead>\n",
       "    <tr style=\"text-align: right;\">\n",
       "      <th></th>\n",
       "      <th>date</th>\n",
       "      <th>customer_id</th>\n",
       "      <th>order_id</th>\n",
       "      <th>product</th>\n",
       "      <th>quantity</th>\n",
       "      <th>price</th>\n",
       "    </tr>\n",
       "  </thead>\n",
       "  <tbody>\n",
       "    <tr>\n",
       "      <th>0</th>\n",
       "      <td>2018100100</td>\n",
       "      <td>ee47d746-6d2f-4d3c-9622-c31412542920</td>\n",
       "      <td>68477</td>\n",
       "      <td>комнатное растение в горшке алое вера, d12, h30</td>\n",
       "      <td>1</td>\n",
       "      <td>142.0</td>\n",
       "    </tr>\n",
       "    <tr>\n",
       "      <th>1</th>\n",
       "      <td>2018100100</td>\n",
       "      <td>ee47d746-6d2f-4d3c-9622-c31412542920</td>\n",
       "      <td>68477</td>\n",
       "      <td>комнатное растение в горшке кофе арабика, d12,...</td>\n",
       "      <td>1</td>\n",
       "      <td>194.0</td>\n",
       "    </tr>\n",
       "    <tr>\n",
       "      <th>2</th>\n",
       "      <td>2018100100</td>\n",
       "      <td>ee47d746-6d2f-4d3c-9622-c31412542920</td>\n",
       "      <td>68477</td>\n",
       "      <td>радермахера d-12 см h-20 см</td>\n",
       "      <td>1</td>\n",
       "      <td>112.0</td>\n",
       "    </tr>\n",
       "    <tr>\n",
       "      <th>3</th>\n",
       "      <td>2018100100</td>\n",
       "      <td>ee47d746-6d2f-4d3c-9622-c31412542920</td>\n",
       "      <td>68477</td>\n",
       "      <td>хризолидокарпус лутесценс d-9 см</td>\n",
       "      <td>1</td>\n",
       "      <td>179.0</td>\n",
       "    </tr>\n",
       "    <tr>\n",
       "      <th>4</th>\n",
       "      <td>2018100100</td>\n",
       "      <td>ee47d746-6d2f-4d3c-9622-c31412542920</td>\n",
       "      <td>68477</td>\n",
       "      <td>циперус зумула d-12 см h-25 см</td>\n",
       "      <td>1</td>\n",
       "      <td>112.0</td>\n",
       "    </tr>\n",
       "  </tbody>\n",
       "</table>\n",
       "</div>"
      ],
      "text/plain": [
       "         date                           customer_id  order_id  \\\n",
       "0  2018100100  ee47d746-6d2f-4d3c-9622-c31412542920     68477   \n",
       "1  2018100100  ee47d746-6d2f-4d3c-9622-c31412542920     68477   \n",
       "2  2018100100  ee47d746-6d2f-4d3c-9622-c31412542920     68477   \n",
       "3  2018100100  ee47d746-6d2f-4d3c-9622-c31412542920     68477   \n",
       "4  2018100100  ee47d746-6d2f-4d3c-9622-c31412542920     68477   \n",
       "\n",
       "                                             product  quantity  price  \n",
       "0    комнатное растение в горшке алое вера, d12, h30         1  142.0  \n",
       "1  комнатное растение в горшке кофе арабика, d12,...         1  194.0  \n",
       "2                        радермахера d-12 см h-20 см         1  112.0  \n",
       "3                   хризолидокарпус лутесценс d-9 см         1  179.0  \n",
       "4                     циперус зумула d-12 см h-25 см         1  112.0  "
      ]
     },
     "execution_count": 7,
     "metadata": {},
     "output_type": "execute_result"
    }
   ],
   "source": [
    "data['product'] = data['product'].str.lower()\n",
    "data.head(5)"
   ]
  },
  {
   "cell_type": "markdown",
   "id": "354cbc9d",
   "metadata": {},
   "source": [
    "### Приведение данных к нужным типам"
   ]
  },
  {
   "cell_type": "code",
   "execution_count": 8,
   "id": "be82690c",
   "metadata": {},
   "outputs": [],
   "source": [
    "data['date_datetime'] = pd.to_datetime(data['date'], format='%Y%m%d%H')\n",
    "data['price'] = data['price'].astype('int')"
   ]
  },
  {
   "cell_type": "code",
   "execution_count": 9,
   "id": "078287f6",
   "metadata": {
    "scrolled": false
   },
   "outputs": [
    {
     "name": "stdout",
     "output_type": "stream",
     "text": [
      "<class 'pandas.core.frame.DataFrame'>\n",
      "RangeIndex: 6737 entries, 0 to 6736\n",
      "Data columns (total 7 columns):\n",
      " #   Column         Non-Null Count  Dtype         \n",
      "---  ------         --------------  -----         \n",
      " 0   date           6737 non-null   int64         \n",
      " 1   customer_id    6737 non-null   object        \n",
      " 2   order_id       6737 non-null   int64         \n",
      " 3   product        6737 non-null   object        \n",
      " 4   quantity       6737 non-null   int64         \n",
      " 5   price          6737 non-null   int64         \n",
      " 6   date_datetime  6737 non-null   datetime64[ns]\n",
      "dtypes: datetime64[ns](1), int64(4), object(2)\n",
      "memory usage: 368.6+ KB\n"
     ]
    }
   ],
   "source": [
    "data.info()"
   ]
  },
  {
   "cell_type": "code",
   "execution_count": 10,
   "id": "56119af8",
   "metadata": {
    "scrolled": true
   },
   "outputs": [
    {
     "data": {
      "text/plain": [
       "Timestamp('2018-10-01 00:00:00')"
      ]
     },
     "execution_count": 10,
     "metadata": {},
     "output_type": "execute_result"
    }
   ],
   "source": [
    "data['date_datetime'].min()"
   ]
  },
  {
   "cell_type": "code",
   "execution_count": 11,
   "id": "1511bf62",
   "metadata": {
    "scrolled": true
   },
   "outputs": [
    {
     "data": {
      "text/plain": [
       "Timestamp('2019-10-31 16:00:00')"
      ]
     },
     "execution_count": 11,
     "metadata": {},
     "output_type": "execute_result"
    }
   ],
   "source": [
    "data['date_datetime'].max()"
   ]
  },
  {
   "cell_type": "markdown",
   "id": "95e757fa",
   "metadata": {},
   "source": [
    "В таблице присутствуют данные за период времени 01 октября 2018 года 00:00 часов по 31 октября 2019 года 16:00 часов."
   ]
  },
  {
   "cell_type": "markdown",
   "id": "c332d50f",
   "metadata": {},
   "source": [
    "### Проверка на наличие дубликатов\n",
    "\n",
    "Проверим исходную таблицу на наличие дубликатов"
   ]
  },
  {
   "cell_type": "code",
   "execution_count": 12,
   "id": "1f6e7828",
   "metadata": {},
   "outputs": [
    {
     "name": "stdout",
     "output_type": "stream",
     "text": [
      "Дубликатов в таблице data: 0\n"
     ]
    }
   ],
   "source": [
    "print ('Дубликатов в таблице data:', data.duplicated().sum())"
   ]
  },
  {
   "cell_type": "markdown",
   "id": "311e4e46",
   "metadata": {},
   "source": [
    "В таблице отсутствуют явные дубликаты. Необходимо сделать проверку на неявные дубликаты."
   ]
  },
  {
   "cell_type": "code",
   "execution_count": 13,
   "id": "f01f9d7e",
   "metadata": {
    "scrolled": true
   },
   "outputs": [
    {
     "name": "stdout",
     "output_type": "stream",
     "text": [
      "Количество уникальных названий товаров:  2341\n"
     ]
    }
   ],
   "source": [
    "print('Количество уникальных названий товаров: ', len(data['product'].unique()))\n",
    "# for i in data['product'].unique():\n",
    "#     print(i)"
   ]
  },
  {
   "cell_type": "markdown",
   "id": "c137a5ed",
   "metadata": {},
   "source": [
    "В датафрейме присутствует 2341 уникальное название товаров. Среди них есть неявные дубликаты."
   ]
  },
  {
   "cell_type": "code",
   "execution_count": 14,
   "id": "37c4f9bd",
   "metadata": {},
   "outputs": [
    {
     "data": {
      "text/html": [
       "<div>\n",
       "<style scoped>\n",
       "    .dataframe tbody tr th:only-of-type {\n",
       "        vertical-align: middle;\n",
       "    }\n",
       "\n",
       "    .dataframe tbody tr th {\n",
       "        vertical-align: top;\n",
       "    }\n",
       "\n",
       "    .dataframe thead th {\n",
       "        text-align: right;\n",
       "    }\n",
       "</style>\n",
       "<table border=\"1\" class=\"dataframe\">\n",
       "  <thead>\n",
       "    <tr style=\"text-align: right;\">\n",
       "      <th></th>\n",
       "      <th>date</th>\n",
       "      <th>customer_id</th>\n",
       "      <th>order_id</th>\n",
       "      <th>product</th>\n",
       "      <th>quantity</th>\n",
       "      <th>price</th>\n",
       "      <th>date_datetime</th>\n",
       "    </tr>\n",
       "  </thead>\n",
       "  <tbody>\n",
       "    <tr>\n",
       "      <th>4341</th>\n",
       "      <td>2019060220</td>\n",
       "      <td>d17861fa-db5f-4de4-93fd-dc5e60d24d3e</td>\n",
       "      <td>12624</td>\n",
       "      <td>осина обыкновенная, высота 50-100 см</td>\n",
       "      <td>1</td>\n",
       "      <td>225</td>\n",
       "      <td>2019-06-02 20:00:00</td>\n",
       "    </tr>\n",
       "    <tr>\n",
       "      <th>4340</th>\n",
       "      <td>2019060220</td>\n",
       "      <td>d17861fa-db5f-4de4-93fd-dc5e60d24d3e</td>\n",
       "      <td>12624</td>\n",
       "      <td>осина обыкновенная, высота 25-50 см</td>\n",
       "      <td>1</td>\n",
       "      <td>150</td>\n",
       "      <td>2019-06-02 20:00:00</td>\n",
       "    </tr>\n",
       "    <tr>\n",
       "      <th>758</th>\n",
       "      <td>2018111017</td>\n",
       "      <td>b80e4826-7218-4bf9-ac08-eb2c81ab3f62</td>\n",
       "      <td>13547</td>\n",
       "      <td>рассада зелени для кухни лаванды в кассете по ...</td>\n",
       "      <td>1</td>\n",
       "      <td>315</td>\n",
       "      <td>2018-11-10 17:00:00</td>\n",
       "    </tr>\n",
       "    <tr>\n",
       "      <th>588</th>\n",
       "      <td>2018110214</td>\n",
       "      <td>b80e4826-7218-4bf9-ac08-eb2c81ab3f62</td>\n",
       "      <td>13547</td>\n",
       "      <td>рассада зелени для кухни лаванды в кассете по ...</td>\n",
       "      <td>1</td>\n",
       "      <td>315</td>\n",
       "      <td>2018-11-02 14:00:00</td>\n",
       "    </tr>\n",
       "    <tr>\n",
       "      <th>511</th>\n",
       "      <td>2018102819</td>\n",
       "      <td>b80e4826-7218-4bf9-ac08-eb2c81ab3f62</td>\n",
       "      <td>13547</td>\n",
       "      <td>рассада зелени для кухни тимьяна в кассете по ...</td>\n",
       "      <td>1</td>\n",
       "      <td>162</td>\n",
       "      <td>2018-10-28 19:00:00</td>\n",
       "    </tr>\n",
       "    <tr>\n",
       "      <th>510</th>\n",
       "      <td>2018102819</td>\n",
       "      <td>b80e4826-7218-4bf9-ac08-eb2c81ab3f62</td>\n",
       "      <td>13547</td>\n",
       "      <td>рассада зелени для кухни розмарина в кассете п...</td>\n",
       "      <td>1</td>\n",
       "      <td>207</td>\n",
       "      <td>2018-10-28 19:00:00</td>\n",
       "    </tr>\n",
       "    <tr>\n",
       "      <th>509</th>\n",
       "      <td>2018102819</td>\n",
       "      <td>b80e4826-7218-4bf9-ac08-eb2c81ab3f62</td>\n",
       "      <td>13547</td>\n",
       "      <td>рассада зелени для кухни лаванды в кассете по ...</td>\n",
       "      <td>1</td>\n",
       "      <td>315</td>\n",
       "      <td>2018-10-28 19:00:00</td>\n",
       "    </tr>\n",
       "    <tr>\n",
       "      <th>590</th>\n",
       "      <td>2018110214</td>\n",
       "      <td>b80e4826-7218-4bf9-ac08-eb2c81ab3f62</td>\n",
       "      <td>13547</td>\n",
       "      <td>рассада зелени для кухни тимьяна в кассете по ...</td>\n",
       "      <td>1</td>\n",
       "      <td>162</td>\n",
       "      <td>2018-11-02 14:00:00</td>\n",
       "    </tr>\n",
       "    <tr>\n",
       "      <th>759</th>\n",
       "      <td>2018111017</td>\n",
       "      <td>b80e4826-7218-4bf9-ac08-eb2c81ab3f62</td>\n",
       "      <td>13547</td>\n",
       "      <td>рассада зелени для кухни розмарина в кассете п...</td>\n",
       "      <td>1</td>\n",
       "      <td>207</td>\n",
       "      <td>2018-11-10 17:00:00</td>\n",
       "    </tr>\n",
       "    <tr>\n",
       "      <th>760</th>\n",
       "      <td>2018111017</td>\n",
       "      <td>b80e4826-7218-4bf9-ac08-eb2c81ab3f62</td>\n",
       "      <td>13547</td>\n",
       "      <td>рассада зелени для кухни тимьяна в кассете по ...</td>\n",
       "      <td>1</td>\n",
       "      <td>162</td>\n",
       "      <td>2018-11-10 17:00:00</td>\n",
       "    </tr>\n",
       "    <tr>\n",
       "      <th>816</th>\n",
       "      <td>2018111515</td>\n",
       "      <td>b80e4826-7218-4bf9-ac08-eb2c81ab3f62</td>\n",
       "      <td>13547</td>\n",
       "      <td>рассада зелени для кухни лаванды в кассете по ...</td>\n",
       "      <td>1</td>\n",
       "      <td>315</td>\n",
       "      <td>2018-11-15 15:00:00</td>\n",
       "    </tr>\n",
       "    <tr>\n",
       "      <th>817</th>\n",
       "      <td>2018111515</td>\n",
       "      <td>b80e4826-7218-4bf9-ac08-eb2c81ab3f62</td>\n",
       "      <td>13547</td>\n",
       "      <td>рассада зелени для кухни розмарина в кассете п...</td>\n",
       "      <td>1</td>\n",
       "      <td>207</td>\n",
       "      <td>2018-11-15 15:00:00</td>\n",
       "    </tr>\n",
       "    <tr>\n",
       "      <th>827</th>\n",
       "      <td>2018111616</td>\n",
       "      <td>b80e4826-7218-4bf9-ac08-eb2c81ab3f62</td>\n",
       "      <td>13547</td>\n",
       "      <td>рассада зелени для кухни лаванды в кассете по ...</td>\n",
       "      <td>1</td>\n",
       "      <td>315</td>\n",
       "      <td>2018-11-16 16:00:00</td>\n",
       "    </tr>\n",
       "    <tr>\n",
       "      <th>589</th>\n",
       "      <td>2018110214</td>\n",
       "      <td>b80e4826-7218-4bf9-ac08-eb2c81ab3f62</td>\n",
       "      <td>13547</td>\n",
       "      <td>рассада зелени для кухни розмарина в кассете п...</td>\n",
       "      <td>1</td>\n",
       "      <td>207</td>\n",
       "      <td>2018-11-02 14:00:00</td>\n",
       "    </tr>\n",
       "    <tr>\n",
       "      <th>828</th>\n",
       "      <td>2018111616</td>\n",
       "      <td>b80e4826-7218-4bf9-ac08-eb2c81ab3f62</td>\n",
       "      <td>13547</td>\n",
       "      <td>рассада зелени для кухни розмарина в кассете п...</td>\n",
       "      <td>1</td>\n",
       "      <td>207</td>\n",
       "      <td>2018-11-16 16:00:00</td>\n",
       "    </tr>\n",
       "    <tr>\n",
       "      <th>829</th>\n",
       "      <td>2018111616</td>\n",
       "      <td>b80e4826-7218-4bf9-ac08-eb2c81ab3f62</td>\n",
       "      <td>13547</td>\n",
       "      <td>рассада зелени для кухни тимьяна в кассете по ...</td>\n",
       "      <td>1</td>\n",
       "      <td>162</td>\n",
       "      <td>2018-11-16 16:00:00</td>\n",
       "    </tr>\n",
       "    <tr>\n",
       "      <th>104</th>\n",
       "      <td>2018100500</td>\n",
       "      <td>b80e4826-7218-4bf9-ac08-eb2c81ab3f62</td>\n",
       "      <td>13547</td>\n",
       "      <td>рассада зелени для кухни тимьяна в кассете по ...</td>\n",
       "      <td>1</td>\n",
       "      <td>162</td>\n",
       "      <td>2018-10-05 00:00:00</td>\n",
       "    </tr>\n",
       "    <tr>\n",
       "      <th>103</th>\n",
       "      <td>2018100500</td>\n",
       "      <td>b80e4826-7218-4bf9-ac08-eb2c81ab3f62</td>\n",
       "      <td>13547</td>\n",
       "      <td>рассада зелени для кухни розмарина в кассете п...</td>\n",
       "      <td>1</td>\n",
       "      <td>207</td>\n",
       "      <td>2018-10-05 00:00:00</td>\n",
       "    </tr>\n",
       "    <tr>\n",
       "      <th>102</th>\n",
       "      <td>2018100500</td>\n",
       "      <td>b80e4826-7218-4bf9-ac08-eb2c81ab3f62</td>\n",
       "      <td>13547</td>\n",
       "      <td>рассада зелени для кухни лаванды в кассете по ...</td>\n",
       "      <td>1</td>\n",
       "      <td>315</td>\n",
       "      <td>2018-10-05 00:00:00</td>\n",
       "    </tr>\n",
       "    <tr>\n",
       "      <th>378</th>\n",
       "      <td>2018102313</td>\n",
       "      <td>b80e4826-7218-4bf9-ac08-eb2c81ab3f62</td>\n",
       "      <td>13547</td>\n",
       "      <td>рассада зелени для кухни тимьяна в кассете по ...</td>\n",
       "      <td>1</td>\n",
       "      <td>162</td>\n",
       "      <td>2018-10-23 13:00:00</td>\n",
       "    </tr>\n",
       "  </tbody>\n",
       "</table>\n",
       "</div>"
      ],
      "text/plain": [
       "            date                           customer_id  order_id  \\\n",
       "4341  2019060220  d17861fa-db5f-4de4-93fd-dc5e60d24d3e     12624   \n",
       "4340  2019060220  d17861fa-db5f-4de4-93fd-dc5e60d24d3e     12624   \n",
       "758   2018111017  b80e4826-7218-4bf9-ac08-eb2c81ab3f62     13547   \n",
       "588   2018110214  b80e4826-7218-4bf9-ac08-eb2c81ab3f62     13547   \n",
       "511   2018102819  b80e4826-7218-4bf9-ac08-eb2c81ab3f62     13547   \n",
       "510   2018102819  b80e4826-7218-4bf9-ac08-eb2c81ab3f62     13547   \n",
       "509   2018102819  b80e4826-7218-4bf9-ac08-eb2c81ab3f62     13547   \n",
       "590   2018110214  b80e4826-7218-4bf9-ac08-eb2c81ab3f62     13547   \n",
       "759   2018111017  b80e4826-7218-4bf9-ac08-eb2c81ab3f62     13547   \n",
       "760   2018111017  b80e4826-7218-4bf9-ac08-eb2c81ab3f62     13547   \n",
       "816   2018111515  b80e4826-7218-4bf9-ac08-eb2c81ab3f62     13547   \n",
       "817   2018111515  b80e4826-7218-4bf9-ac08-eb2c81ab3f62     13547   \n",
       "827   2018111616  b80e4826-7218-4bf9-ac08-eb2c81ab3f62     13547   \n",
       "589   2018110214  b80e4826-7218-4bf9-ac08-eb2c81ab3f62     13547   \n",
       "828   2018111616  b80e4826-7218-4bf9-ac08-eb2c81ab3f62     13547   \n",
       "829   2018111616  b80e4826-7218-4bf9-ac08-eb2c81ab3f62     13547   \n",
       "104   2018100500  b80e4826-7218-4bf9-ac08-eb2c81ab3f62     13547   \n",
       "103   2018100500  b80e4826-7218-4bf9-ac08-eb2c81ab3f62     13547   \n",
       "102   2018100500  b80e4826-7218-4bf9-ac08-eb2c81ab3f62     13547   \n",
       "378   2018102313  b80e4826-7218-4bf9-ac08-eb2c81ab3f62     13547   \n",
       "\n",
       "                                                product  quantity  price  \\\n",
       "4341               осина обыкновенная, высота 50-100 см         1    225   \n",
       "4340                осина обыкновенная, высота 25-50 см         1    150   \n",
       "758   рассада зелени для кухни лаванды в кассете по ...         1    315   \n",
       "588   рассада зелени для кухни лаванды в кассете по ...         1    315   \n",
       "511   рассада зелени для кухни тимьяна в кассете по ...         1    162   \n",
       "510   рассада зелени для кухни розмарина в кассете п...         1    207   \n",
       "509   рассада зелени для кухни лаванды в кассете по ...         1    315   \n",
       "590   рассада зелени для кухни тимьяна в кассете по ...         1    162   \n",
       "759   рассада зелени для кухни розмарина в кассете п...         1    207   \n",
       "760   рассада зелени для кухни тимьяна в кассете по ...         1    162   \n",
       "816   рассада зелени для кухни лаванды в кассете по ...         1    315   \n",
       "817   рассада зелени для кухни розмарина в кассете п...         1    207   \n",
       "827   рассада зелени для кухни лаванды в кассете по ...         1    315   \n",
       "589   рассада зелени для кухни розмарина в кассете п...         1    207   \n",
       "828   рассада зелени для кухни розмарина в кассете п...         1    207   \n",
       "829   рассада зелени для кухни тимьяна в кассете по ...         1    162   \n",
       "104   рассада зелени для кухни тимьяна в кассете по ...         1    162   \n",
       "103   рассада зелени для кухни розмарина в кассете п...         1    207   \n",
       "102   рассада зелени для кухни лаванды в кассете по ...         1    315   \n",
       "378   рассада зелени для кухни тимьяна в кассете по ...         1    162   \n",
       "\n",
       "           date_datetime  \n",
       "4341 2019-06-02 20:00:00  \n",
       "4340 2019-06-02 20:00:00  \n",
       "758  2018-11-10 17:00:00  \n",
       "588  2018-11-02 14:00:00  \n",
       "511  2018-10-28 19:00:00  \n",
       "510  2018-10-28 19:00:00  \n",
       "509  2018-10-28 19:00:00  \n",
       "590  2018-11-02 14:00:00  \n",
       "759  2018-11-10 17:00:00  \n",
       "760  2018-11-10 17:00:00  \n",
       "816  2018-11-15 15:00:00  \n",
       "817  2018-11-15 15:00:00  \n",
       "827  2018-11-16 16:00:00  \n",
       "589  2018-11-02 14:00:00  \n",
       "828  2018-11-16 16:00:00  \n",
       "829  2018-11-16 16:00:00  \n",
       "104  2018-10-05 00:00:00  \n",
       "103  2018-10-05 00:00:00  \n",
       "102  2018-10-05 00:00:00  \n",
       "378  2018-10-23 13:00:00  "
      ]
     },
     "execution_count": 14,
     "metadata": {},
     "output_type": "execute_result"
    }
   ],
   "source": [
    "data.sort_values(by='order_id').head(20)"
   ]
  },
  {
   "cell_type": "markdown",
   "id": "88e4a987",
   "metadata": {},
   "source": [
    "В таблице присутствуют задвоенные строки: они отличаются только датой совершения покупки."
   ]
  },
  {
   "cell_type": "code",
   "execution_count": 15,
   "id": "358013f3",
   "metadata": {
    "scrolled": false
   },
   "outputs": [
    {
     "name": "stdout",
     "output_type": "stream",
     "text": [
      "Задублированные строки в таблице data: 1864\n"
     ]
    }
   ],
   "source": [
    "print ('Задублированные строки в таблице data:', data.drop(['date','date_datetime'], axis=1).duplicated().sum())"
   ]
  },
  {
   "cell_type": "code",
   "execution_count": 16,
   "id": "0b3f6da5",
   "metadata": {},
   "outputs": [
    {
     "name": "stdout",
     "output_type": "stream",
     "text": [
      "Доля задублированных строк: 27.67%\n"
     ]
    }
   ],
   "source": [
    "print('Доля задублированных строк: {:.2%}'.format(data.drop(['date','date_datetime'], axis=1).duplicated().sum()/data.shape[0]))"
   ]
  },
  {
   "cell_type": "markdown",
   "id": "c3ecbaaf",
   "metadata": {},
   "source": [
    "Доля задублированных строк велика, 27.67%. Но удалим данные строки, чтобы они не искажали исследования."
   ]
  },
  {
   "cell_type": "code",
   "execution_count": 17,
   "id": "f9d182c6",
   "metadata": {
    "scrolled": true
   },
   "outputs": [],
   "source": [
    "index_dupl = []\n",
    "for i in range(len(data['date'])):\n",
    "    if data.drop(['date','date_datetime'], axis=1).duplicated()[i] == True:\n",
    "        index_dupl.append(i)"
   ]
  },
  {
   "cell_type": "code",
   "execution_count": 18,
   "id": "63110c34",
   "metadata": {},
   "outputs": [],
   "source": [
    "data = data.query(\"index not in @index_dupl\").reset_index(drop=True)"
   ]
  },
  {
   "cell_type": "code",
   "execution_count": 19,
   "id": "743a5252",
   "metadata": {},
   "outputs": [
    {
     "name": "stdout",
     "output_type": "stream",
     "text": [
      "<class 'pandas.core.frame.DataFrame'>\n",
      "RangeIndex: 4873 entries, 0 to 4872\n",
      "Data columns (total 7 columns):\n",
      " #   Column         Non-Null Count  Dtype         \n",
      "---  ------         --------------  -----         \n",
      " 0   date           4873 non-null   int64         \n",
      " 1   customer_id    4873 non-null   object        \n",
      " 2   order_id       4873 non-null   int64         \n",
      " 3   product        4873 non-null   object        \n",
      " 4   quantity       4873 non-null   int64         \n",
      " 5   price          4873 non-null   int64         \n",
      " 6   date_datetime  4873 non-null   datetime64[ns]\n",
      "dtypes: datetime64[ns](1), int64(4), object(2)\n",
      "memory usage: 266.6+ KB\n"
     ]
    }
   ],
   "source": [
    "data.info()"
   ]
  },
  {
   "cell_type": "code",
   "execution_count": 20,
   "id": "ad657231",
   "metadata": {
    "scrolled": false
   },
   "outputs": [],
   "source": [
    "# df= pd.DataFrame()\n",
    "# for i in range(len(data['product'])):\n",
    "#     if data['product'].str.contains('набор')[i] == True:\n",
    "#         df = df.append(data.loc[i])\n",
    "# df['product'].unique()"
   ]
  },
  {
   "cell_type": "code",
   "execution_count": 21,
   "id": "9cb6fa77",
   "metadata": {},
   "outputs": [],
   "source": [
    "# # список слов для удаления из столбца product\n",
    "# removal_list = [\"комнатное\", 'растение', 'в', 'горшке', 'герань', 'домашняя', 'диам', 'для', 'кухни', 'орегано', \\\n",
    "#                 'многолетнее', 'зелени', 'однолетнее', 'цветущее', 'рассада', 'зелени', 'см', 'помидор',\\\n",
    "#                 'набор', 'мл', 'л', 'd', 'h', 'с', 'из']"
   ]
  },
  {
   "cell_type": "code",
   "execution_count": 22,
   "id": "0ce83e56",
   "metadata": {},
   "outputs": [],
   "source": [
    "# # удаление лишних слов\n",
    "# for i in range(len(data['product'])):\n",
    "#     edit_string_as_list = data.loc[i, 'product'].split()\n",
    "#     final_list = [word for word in edit_string_as_list if word not in removal_list]\n",
    "#     data.loc[i,'new'] = ' '.join(final_list)"
   ]
  },
  {
   "cell_type": "markdown",
   "id": "94e3b9a9",
   "metadata": {},
   "source": [
    "Некоторые слова написаны через тире или стоят в разных падежах, поэтому унифицируем их для упрощения поиска ключевых слов."
   ]
  },
  {
   "cell_type": "code",
   "execution_count": 23,
   "id": "7b29bad5",
   "metadata": {},
   "outputs": [],
   "source": [
    "keyword_processor = KeywordProcessor(case_sensitive=True)"
   ]
  },
  {
   "cell_type": "code",
   "execution_count": 24,
   "id": "7f8ab34b",
   "metadata": {},
   "outputs": [],
   "source": [
    "keyword_dict = {\n",
    "    \"сумка тележка\": [\"сумка-тележка\"],\n",
    "    \"щетка сметка\": [\"щетка-сметка\"],\n",
    "    \"ерш\": [\"ёрш\"],\n",
    "    \"ковер\": [\"ковёр\", \"ковров\"],\n",
    "    \"лестница стремянка\": [\"лестница-стремянка\"],\n",
    "    \"доска стремянка\": [\"доска-стремянка\"],\n",
    "    \"стремянка табурет\": [\"стремянка-табурет\"],\n",
    "    \"щетка утюжок\": [\"щетка-утюжок\"],\n",
    "    \"сверло фреза\": [\"сверло-фреза\"],\n",
    "    \"наматрицник чехол\": [\"наматрицник-чехол\"],\n",
    "    \"урна пепельница\": [\"урна-пепельница\"],\n",
    "    \"тимьян чабрец\": [\"тимьян-чабрец\"],\n",
    "    \"сверло\": [\"сверел\"],\n",
    "    \"чехол\": [\"чехла\"],\n",
    "    \"вешалка\": [\"вешалок\", 'вешалки'],\n",
    "    \"пружина\": [\"пружины\"],\n",
    "    \"термокружка\": [\"tepмокружка\"],\n",
    "    \"швабра\": [\"швабры\", 'швабре'],\n",
    "    \"салатник\": [\"салатников\"],\n",
    "    \"кружка\": [\"кружки\", 'кружек'],\n",
    "    \"петля стрела\": [\"петля-стрела\"],\n",
    "    \"полотенце\": [\"полотенец\"],\n",
    "    \"ролик\": [\"ролика\"],\n",
    "    \"бокалы\": [\"бокалов\"],\n",
    "    \"пуансеттия\": [\"пуансетия\"],\n",
    "    \"салфетки\": [\"салфеток\"],\n",
    "    \"стремянка\": [\"стремянки\"],\n",
    "#     \"полотенце\": [\"полотенец\"],\n",
    "#     \"полотенце\": [\"полотенец\"]\n",
    "    \n",
    "    \n",
    "}\n",
    "keyword_processor.add_keywords_from_dict(keyword_dict)"
   ]
  },
  {
   "cell_type": "code",
   "execution_count": 25,
   "id": "7bf93a93",
   "metadata": {},
   "outputs": [],
   "source": [
    "for i in range(len(data['product'])):\n",
    "    data.loc[i,'new'] = keyword_processor.replace_keywords(data.loc[i,'product'])"
   ]
  },
  {
   "cell_type": "code",
   "execution_count": 26,
   "id": "418ac3b7",
   "metadata": {
    "scrolled": true
   },
   "outputs": [
    {
     "data": {
      "text/html": [
       "<div>\n",
       "<style scoped>\n",
       "    .dataframe tbody tr th:only-of-type {\n",
       "        vertical-align: middle;\n",
       "    }\n",
       "\n",
       "    .dataframe tbody tr th {\n",
       "        vertical-align: top;\n",
       "    }\n",
       "\n",
       "    .dataframe thead th {\n",
       "        text-align: right;\n",
       "    }\n",
       "</style>\n",
       "<table border=\"1\" class=\"dataframe\">\n",
       "  <thead>\n",
       "    <tr style=\"text-align: right;\">\n",
       "      <th></th>\n",
       "      <th>date</th>\n",
       "      <th>customer_id</th>\n",
       "      <th>order_id</th>\n",
       "      <th>product</th>\n",
       "      <th>quantity</th>\n",
       "      <th>price</th>\n",
       "      <th>date_datetime</th>\n",
       "      <th>new</th>\n",
       "    </tr>\n",
       "  </thead>\n",
       "  <tbody>\n",
       "    <tr>\n",
       "      <th>0</th>\n",
       "      <td>2018100100</td>\n",
       "      <td>ee47d746-6d2f-4d3c-9622-c31412542920</td>\n",
       "      <td>68477</td>\n",
       "      <td>комнатное растение в горшке алое вера, d12, h30</td>\n",
       "      <td>1</td>\n",
       "      <td>142</td>\n",
       "      <td>2018-10-01 00:00:00</td>\n",
       "      <td>комнатное растение в горшке алое вера, d12, h30</td>\n",
       "    </tr>\n",
       "    <tr>\n",
       "      <th>1</th>\n",
       "      <td>2018100100</td>\n",
       "      <td>ee47d746-6d2f-4d3c-9622-c31412542920</td>\n",
       "      <td>68477</td>\n",
       "      <td>комнатное растение в горшке кофе арабика, d12,...</td>\n",
       "      <td>1</td>\n",
       "      <td>194</td>\n",
       "      <td>2018-10-01 00:00:00</td>\n",
       "      <td>комнатное растение в горшке кофе арабика, d12,...</td>\n",
       "    </tr>\n",
       "    <tr>\n",
       "      <th>2</th>\n",
       "      <td>2018100100</td>\n",
       "      <td>ee47d746-6d2f-4d3c-9622-c31412542920</td>\n",
       "      <td>68477</td>\n",
       "      <td>радермахера d-12 см h-20 см</td>\n",
       "      <td>1</td>\n",
       "      <td>112</td>\n",
       "      <td>2018-10-01 00:00:00</td>\n",
       "      <td>радермахера d-12 см h-20 см</td>\n",
       "    </tr>\n",
       "    <tr>\n",
       "      <th>3</th>\n",
       "      <td>2018100100</td>\n",
       "      <td>ee47d746-6d2f-4d3c-9622-c31412542920</td>\n",
       "      <td>68477</td>\n",
       "      <td>хризолидокарпус лутесценс d-9 см</td>\n",
       "      <td>1</td>\n",
       "      <td>179</td>\n",
       "      <td>2018-10-01 00:00:00</td>\n",
       "      <td>хризолидокарпус лутесценс d-9 см</td>\n",
       "    </tr>\n",
       "    <tr>\n",
       "      <th>4</th>\n",
       "      <td>2018100100</td>\n",
       "      <td>ee47d746-6d2f-4d3c-9622-c31412542920</td>\n",
       "      <td>68477</td>\n",
       "      <td>циперус зумула d-12 см h-25 см</td>\n",
       "      <td>1</td>\n",
       "      <td>112</td>\n",
       "      <td>2018-10-01 00:00:00</td>\n",
       "      <td>циперус зумула d-12 см h-25 см</td>\n",
       "    </tr>\n",
       "    <tr>\n",
       "      <th>...</th>\n",
       "      <td>...</td>\n",
       "      <td>...</td>\n",
       "      <td>...</td>\n",
       "      <td>...</td>\n",
       "      <td>...</td>\n",
       "      <td>...</td>\n",
       "      <td>...</td>\n",
       "      <td>...</td>\n",
       "    </tr>\n",
       "    <tr>\n",
       "      <th>4868</th>\n",
       "      <td>2019103111</td>\n",
       "      <td>f17ed857-178e-45e1-a662-0a9dd3b58c5f</td>\n",
       "      <td>73155</td>\n",
       "      <td>мимоза стыдливая d-9 см</td>\n",
       "      <td>1</td>\n",
       "      <td>329</td>\n",
       "      <td>2019-10-31 11:00:00</td>\n",
       "      <td>мимоза стыдливая d-9 см</td>\n",
       "    </tr>\n",
       "    <tr>\n",
       "      <th>4869</th>\n",
       "      <td>2019103111</td>\n",
       "      <td>73d1cd35-5e5f-4629-8cf2-3fda829d4e58</td>\n",
       "      <td>73156</td>\n",
       "      <td>таз пластмассовый 40,0 л пищевой овальный (иж)...</td>\n",
       "      <td>1</td>\n",
       "      <td>404</td>\n",
       "      <td>2019-10-31 11:00:00</td>\n",
       "      <td>таз пластмассовый 40,0 л пищевой овальный (иж)...</td>\n",
       "    </tr>\n",
       "    <tr>\n",
       "      <th>4870</th>\n",
       "      <td>2019103112</td>\n",
       "      <td>1f0a7f35-7459-4f23-b468-5e45bf481dd1</td>\n",
       "      <td>73158</td>\n",
       "      <td>сумка-тележка 2-х колесная gimi argo синяя</td>\n",
       "      <td>1</td>\n",
       "      <td>1087</td>\n",
       "      <td>2019-10-31 12:00:00</td>\n",
       "      <td>сумка тележка 2-х колесная gimi argo синяя</td>\n",
       "    </tr>\n",
       "    <tr>\n",
       "      <th>4871</th>\n",
       "      <td>2019103113</td>\n",
       "      <td>25df96a7-c453-4708-9cea-a3dfc7c342ea</td>\n",
       "      <td>73162</td>\n",
       "      <td>герань домашняя (пеларгония зональная) цветуща...</td>\n",
       "      <td>1</td>\n",
       "      <td>157</td>\n",
       "      <td>2019-10-31 13:00:00</td>\n",
       "      <td>герань домашняя (пеларгония зональная) цветуща...</td>\n",
       "    </tr>\n",
       "    <tr>\n",
       "      <th>4872</th>\n",
       "      <td>2019103114</td>\n",
       "      <td>73d1cd35-5e5f-4629-8cf2-3fda829d4e58</td>\n",
       "      <td>73164</td>\n",
       "      <td>таз пластмассовый со стиральной доской (иж), 1...</td>\n",
       "      <td>1</td>\n",
       "      <td>397</td>\n",
       "      <td>2019-10-31 14:00:00</td>\n",
       "      <td>таз пластмассовый со стиральной доской (иж), 1...</td>\n",
       "    </tr>\n",
       "  </tbody>\n",
       "</table>\n",
       "<p>4873 rows × 8 columns</p>\n",
       "</div>"
      ],
      "text/plain": [
       "            date                           customer_id  order_id  \\\n",
       "0     2018100100  ee47d746-6d2f-4d3c-9622-c31412542920     68477   \n",
       "1     2018100100  ee47d746-6d2f-4d3c-9622-c31412542920     68477   \n",
       "2     2018100100  ee47d746-6d2f-4d3c-9622-c31412542920     68477   \n",
       "3     2018100100  ee47d746-6d2f-4d3c-9622-c31412542920     68477   \n",
       "4     2018100100  ee47d746-6d2f-4d3c-9622-c31412542920     68477   \n",
       "...          ...                                   ...       ...   \n",
       "4868  2019103111  f17ed857-178e-45e1-a662-0a9dd3b58c5f     73155   \n",
       "4869  2019103111  73d1cd35-5e5f-4629-8cf2-3fda829d4e58     73156   \n",
       "4870  2019103112  1f0a7f35-7459-4f23-b468-5e45bf481dd1     73158   \n",
       "4871  2019103113  25df96a7-c453-4708-9cea-a3dfc7c342ea     73162   \n",
       "4872  2019103114  73d1cd35-5e5f-4629-8cf2-3fda829d4e58     73164   \n",
       "\n",
       "                                                product  quantity  price  \\\n",
       "0       комнатное растение в горшке алое вера, d12, h30         1    142   \n",
       "1     комнатное растение в горшке кофе арабика, d12,...         1    194   \n",
       "2                           радермахера d-12 см h-20 см         1    112   \n",
       "3                      хризолидокарпус лутесценс d-9 см         1    179   \n",
       "4                        циперус зумула d-12 см h-25 см         1    112   \n",
       "...                                                 ...       ...    ...   \n",
       "4868                            мимоза стыдливая d-9 см         1    329   \n",
       "4869  таз пластмассовый 40,0 л пищевой овальный (иж)...         1    404   \n",
       "4870         сумка-тележка 2-х колесная gimi argo синяя         1   1087   \n",
       "4871  герань домашняя (пеларгония зональная) цветуща...         1    157   \n",
       "4872  таз пластмассовый со стиральной доской (иж), 1...         1    397   \n",
       "\n",
       "           date_datetime                                                new  \n",
       "0    2018-10-01 00:00:00    комнатное растение в горшке алое вера, d12, h30  \n",
       "1    2018-10-01 00:00:00  комнатное растение в горшке кофе арабика, d12,...  \n",
       "2    2018-10-01 00:00:00                        радермахера d-12 см h-20 см  \n",
       "3    2018-10-01 00:00:00                   хризолидокарпус лутесценс d-9 см  \n",
       "4    2018-10-01 00:00:00                     циперус зумула d-12 см h-25 см  \n",
       "...                  ...                                                ...  \n",
       "4868 2019-10-31 11:00:00                            мимоза стыдливая d-9 см  \n",
       "4869 2019-10-31 11:00:00  таз пластмассовый 40,0 л пищевой овальный (иж)...  \n",
       "4870 2019-10-31 12:00:00         сумка тележка 2-х колесная gimi argo синяя  \n",
       "4871 2019-10-31 13:00:00  герань домашняя (пеларгония зональная) цветуща...  \n",
       "4872 2019-10-31 14:00:00  таз пластмассовый со стиральной доской (иж), 1...  \n",
       "\n",
       "[4873 rows x 8 columns]"
      ]
     },
     "execution_count": 26,
     "metadata": {},
     "output_type": "execute_result"
    }
   ],
   "source": [
    "data"
   ]
  },
  {
   "cell_type": "code",
   "execution_count": 27,
   "id": "30b099a4",
   "metadata": {},
   "outputs": [],
   "source": [
    "# df= pd.DataFrame()\n",
    "# for i in range(len(data['product'])):\n",
    "#     if data['new'].str.contains('рассада')[i] == True:\n",
    "#         df = df.append(data.loc[i])\n",
    "# df['new'].unique()"
   ]
  },
  {
   "cell_type": "code",
   "execution_count": 28,
   "id": "0f8bcca8",
   "metadata": {},
   "outputs": [
    {
     "data": {
      "text/html": [
       "<div>\n",
       "<style scoped>\n",
       "    .dataframe tbody tr th:only-of-type {\n",
       "        vertical-align: middle;\n",
       "    }\n",
       "\n",
       "    .dataframe tbody tr th {\n",
       "        vertical-align: top;\n",
       "    }\n",
       "\n",
       "    .dataframe thead th {\n",
       "        text-align: right;\n",
       "    }\n",
       "</style>\n",
       "<table border=\"1\" class=\"dataframe\">\n",
       "  <thead>\n",
       "    <tr style=\"text-align: right;\">\n",
       "      <th></th>\n",
       "      <th>date</th>\n",
       "      <th>customer_id</th>\n",
       "      <th>order_id</th>\n",
       "      <th>product</th>\n",
       "      <th>quantity</th>\n",
       "      <th>price</th>\n",
       "      <th>date_datetime</th>\n",
       "      <th>new</th>\n",
       "    </tr>\n",
       "  </thead>\n",
       "  <tbody>\n",
       "    <tr>\n",
       "      <th>0</th>\n",
       "      <td>2018100100</td>\n",
       "      <td>ee47d746-6d2f-4d3c-9622-c31412542920</td>\n",
       "      <td>68477</td>\n",
       "      <td>комнатное растение в горшке алое вера, d12, h30</td>\n",
       "      <td>1</td>\n",
       "      <td>142</td>\n",
       "      <td>2018-10-01 00:00:00</td>\n",
       "      <td>комнатное растение в горшке алое вера, d12, h30</td>\n",
       "    </tr>\n",
       "    <tr>\n",
       "      <th>1</th>\n",
       "      <td>2018100100</td>\n",
       "      <td>ee47d746-6d2f-4d3c-9622-c31412542920</td>\n",
       "      <td>68477</td>\n",
       "      <td>комнатное растение в горшке кофе арабика, d12,...</td>\n",
       "      <td>1</td>\n",
       "      <td>194</td>\n",
       "      <td>2018-10-01 00:00:00</td>\n",
       "      <td>комнатное растение в горшке кофе арабика, d12,...</td>\n",
       "    </tr>\n",
       "    <tr>\n",
       "      <th>2</th>\n",
       "      <td>2018100100</td>\n",
       "      <td>ee47d746-6d2f-4d3c-9622-c31412542920</td>\n",
       "      <td>68477</td>\n",
       "      <td>радермахера d-12 см h-20 см</td>\n",
       "      <td>1</td>\n",
       "      <td>112</td>\n",
       "      <td>2018-10-01 00:00:00</td>\n",
       "      <td>радермахера d-12 см h-20 см</td>\n",
       "    </tr>\n",
       "    <tr>\n",
       "      <th>3</th>\n",
       "      <td>2018100100</td>\n",
       "      <td>ee47d746-6d2f-4d3c-9622-c31412542920</td>\n",
       "      <td>68477</td>\n",
       "      <td>хризолидокарпус лутесценс d-9 см</td>\n",
       "      <td>1</td>\n",
       "      <td>179</td>\n",
       "      <td>2018-10-01 00:00:00</td>\n",
       "      <td>хризолидокарпус лутесценс d-9 см</td>\n",
       "    </tr>\n",
       "    <tr>\n",
       "      <th>4</th>\n",
       "      <td>2018100100</td>\n",
       "      <td>ee47d746-6d2f-4d3c-9622-c31412542920</td>\n",
       "      <td>68477</td>\n",
       "      <td>циперус зумула d-12 см h-25 см</td>\n",
       "      <td>1</td>\n",
       "      <td>112</td>\n",
       "      <td>2018-10-01 00:00:00</td>\n",
       "      <td>циперус зумула d-12 см h-25 см</td>\n",
       "    </tr>\n",
       "    <tr>\n",
       "      <th>5</th>\n",
       "      <td>2018100100</td>\n",
       "      <td>ee47d746-6d2f-4d3c-9622-c31412542920</td>\n",
       "      <td>68477</td>\n",
       "      <td>шеффлера лузеана d-9 см</td>\n",
       "      <td>1</td>\n",
       "      <td>164</td>\n",
       "      <td>2018-10-01 00:00:00</td>\n",
       "      <td>шеффлера лузеана d-9 см</td>\n",
       "    </tr>\n",
       "    <tr>\n",
       "      <th>6</th>\n",
       "      <td>2018100100</td>\n",
       "      <td>ee47d746-6d2f-4d3c-9622-c31412542920</td>\n",
       "      <td>68477</td>\n",
       "      <td>юкка нитчатая d-12 см h-25-35 см</td>\n",
       "      <td>1</td>\n",
       "      <td>134</td>\n",
       "      <td>2018-10-01 00:00:00</td>\n",
       "      <td>юкка нитчатая d-12 см h-25-35 см</td>\n",
       "    </tr>\n",
       "    <tr>\n",
       "      <th>7</th>\n",
       "      <td>2018100108</td>\n",
       "      <td>375e0724-f033-4c76-b579-84969cf38ee2</td>\n",
       "      <td>68479</td>\n",
       "      <td>настенная сушилка для белья gimi brio super 100</td>\n",
       "      <td>1</td>\n",
       "      <td>824</td>\n",
       "      <td>2018-10-01 08:00:00</td>\n",
       "      <td>настенная сушилка для белья gimi brio super 100</td>\n",
       "    </tr>\n",
       "    <tr>\n",
       "      <th>8</th>\n",
       "      <td>2018100108</td>\n",
       "      <td>6644e5b4-9934-4863-9778-aaa125207701</td>\n",
       "      <td>68478</td>\n",
       "      <td>таз пластмассовый 21,0 л круглый \"водолей\" с61...</td>\n",
       "      <td>1</td>\n",
       "      <td>269</td>\n",
       "      <td>2018-10-01 08:00:00</td>\n",
       "      <td>таз пластмассовый 21,0 л круглый \"водолей\" с61...</td>\n",
       "    </tr>\n",
       "    <tr>\n",
       "      <th>9</th>\n",
       "      <td>2018100109</td>\n",
       "      <td>c971fb21-d54c-4134-938f-16b62ee86d3b</td>\n",
       "      <td>68480</td>\n",
       "      <td>чехол для гладильной доски colombo persia beig...</td>\n",
       "      <td>1</td>\n",
       "      <td>674</td>\n",
       "      <td>2018-10-01 09:00:00</td>\n",
       "      <td>чехол для гладильной доски colombo persia beig...</td>\n",
       "    </tr>\n",
       "  </tbody>\n",
       "</table>\n",
       "</div>"
      ],
      "text/plain": [
       "         date                           customer_id  order_id  \\\n",
       "0  2018100100  ee47d746-6d2f-4d3c-9622-c31412542920     68477   \n",
       "1  2018100100  ee47d746-6d2f-4d3c-9622-c31412542920     68477   \n",
       "2  2018100100  ee47d746-6d2f-4d3c-9622-c31412542920     68477   \n",
       "3  2018100100  ee47d746-6d2f-4d3c-9622-c31412542920     68477   \n",
       "4  2018100100  ee47d746-6d2f-4d3c-9622-c31412542920     68477   \n",
       "5  2018100100  ee47d746-6d2f-4d3c-9622-c31412542920     68477   \n",
       "6  2018100100  ee47d746-6d2f-4d3c-9622-c31412542920     68477   \n",
       "7  2018100108  375e0724-f033-4c76-b579-84969cf38ee2     68479   \n",
       "8  2018100108  6644e5b4-9934-4863-9778-aaa125207701     68478   \n",
       "9  2018100109  c971fb21-d54c-4134-938f-16b62ee86d3b     68480   \n",
       "\n",
       "                                             product  quantity  price  \\\n",
       "0    комнатное растение в горшке алое вера, d12, h30         1    142   \n",
       "1  комнатное растение в горшке кофе арабика, d12,...         1    194   \n",
       "2                        радермахера d-12 см h-20 см         1    112   \n",
       "3                   хризолидокарпус лутесценс d-9 см         1    179   \n",
       "4                     циперус зумула d-12 см h-25 см         1    112   \n",
       "5                            шеффлера лузеана d-9 см         1    164   \n",
       "6                   юкка нитчатая d-12 см h-25-35 см         1    134   \n",
       "7    настенная сушилка для белья gimi brio super 100         1    824   \n",
       "8  таз пластмассовый 21,0 л круглый \"водолей\" с61...         1    269   \n",
       "9  чехол для гладильной доски colombo persia beig...         1    674   \n",
       "\n",
       "        date_datetime                                                new  \n",
       "0 2018-10-01 00:00:00    комнатное растение в горшке алое вера, d12, h30  \n",
       "1 2018-10-01 00:00:00  комнатное растение в горшке кофе арабика, d12,...  \n",
       "2 2018-10-01 00:00:00                        радермахера d-12 см h-20 см  \n",
       "3 2018-10-01 00:00:00                   хризолидокарпус лутесценс d-9 см  \n",
       "4 2018-10-01 00:00:00                     циперус зумула d-12 см h-25 см  \n",
       "5 2018-10-01 00:00:00                            шеффлера лузеана d-9 см  \n",
       "6 2018-10-01 00:00:00                   юкка нитчатая d-12 см h-25-35 см  \n",
       "7 2018-10-01 08:00:00    настенная сушилка для белья gimi brio super 100  \n",
       "8 2018-10-01 08:00:00  таз пластмассовый 21,0 л круглый \"водолей\" с61...  \n",
       "9 2018-10-01 09:00:00  чехол для гладильной доски colombo persia beig...  "
      ]
     },
     "execution_count": 28,
     "metadata": {},
     "output_type": "execute_result"
    }
   ],
   "source": [
    "data.head(10)"
   ]
  },
  {
   "cell_type": "code",
   "execution_count": 29,
   "id": "1865650f",
   "metadata": {},
   "outputs": [],
   "source": [
    "#data.loc[data['new'].str.contains('вера')]"
   ]
  },
  {
   "cell_type": "markdown",
   "id": "e193ba45",
   "metadata": {},
   "source": [
    "Создадим функцию для очистки текста от лишних символов и лишних пробелов."
   ]
  },
  {
   "cell_type": "code",
   "execution_count": 30,
   "id": "16546347",
   "metadata": {},
   "outputs": [],
   "source": [
    "def clean_text(text):\n",
    "    # создаем регулярное выражение для удаления лишних символов\n",
    "    regular = r'[\\*+\\#+\\№\\\"\\-+\\+\\=+\\?+\\&\\^\\.+\\;\\,+\\>+\\(\\)\\/+\\:\\\\+]'\n",
    "    # удаляем лишние символы\n",
    "    text = re.sub(regular, '', text)\n",
    "#     # заменяем числа и цифры на ''\n",
    "#     text = re.sub(r'(\\d+\\s\\d+)|(\\d+)','', text)\n",
    "    # удаляем лишние пробелы\n",
    "    text = re.sub(r'\\s+', ' ', text)\n",
    "    return text"
   ]
  },
  {
   "cell_type": "code",
   "execution_count": 31,
   "id": "57128688",
   "metadata": {},
   "outputs": [],
   "source": [
    "cleaned_text = []\n",
    "for text in data['new']:\n",
    "    text = clean_text(text)\n",
    "    cleaned_text.append(text)\n",
    "\n",
    "data['new'] = cleaned_text"
   ]
  },
  {
   "cell_type": "code",
   "execution_count": 32,
   "id": "102fe195",
   "metadata": {
    "scrolled": false
   },
   "outputs": [
    {
     "data": {
      "text/html": [
       "<div>\n",
       "<style scoped>\n",
       "    .dataframe tbody tr th:only-of-type {\n",
       "        vertical-align: middle;\n",
       "    }\n",
       "\n",
       "    .dataframe tbody tr th {\n",
       "        vertical-align: top;\n",
       "    }\n",
       "\n",
       "    .dataframe thead th {\n",
       "        text-align: right;\n",
       "    }\n",
       "</style>\n",
       "<table border=\"1\" class=\"dataframe\">\n",
       "  <thead>\n",
       "    <tr style=\"text-align: right;\">\n",
       "      <th></th>\n",
       "      <th>date</th>\n",
       "      <th>customer_id</th>\n",
       "      <th>order_id</th>\n",
       "      <th>product</th>\n",
       "      <th>quantity</th>\n",
       "      <th>price</th>\n",
       "      <th>date_datetime</th>\n",
       "      <th>new</th>\n",
       "    </tr>\n",
       "  </thead>\n",
       "  <tbody>\n",
       "    <tr>\n",
       "      <th>0</th>\n",
       "      <td>2018100100</td>\n",
       "      <td>ee47d746-6d2f-4d3c-9622-c31412542920</td>\n",
       "      <td>68477</td>\n",
       "      <td>комнатное растение в горшке алое вера, d12, h30</td>\n",
       "      <td>1</td>\n",
       "      <td>142</td>\n",
       "      <td>2018-10-01</td>\n",
       "      <td>комнатное растение в горшке алое вера d12 h30</td>\n",
       "    </tr>\n",
       "    <tr>\n",
       "      <th>1</th>\n",
       "      <td>2018100100</td>\n",
       "      <td>ee47d746-6d2f-4d3c-9622-c31412542920</td>\n",
       "      <td>68477</td>\n",
       "      <td>комнатное растение в горшке кофе арабика, d12,...</td>\n",
       "      <td>1</td>\n",
       "      <td>194</td>\n",
       "      <td>2018-10-01</td>\n",
       "      <td>комнатное растение в горшке кофе арабика d12 h25</td>\n",
       "    </tr>\n",
       "    <tr>\n",
       "      <th>2</th>\n",
       "      <td>2018100100</td>\n",
       "      <td>ee47d746-6d2f-4d3c-9622-c31412542920</td>\n",
       "      <td>68477</td>\n",
       "      <td>радермахера d-12 см h-20 см</td>\n",
       "      <td>1</td>\n",
       "      <td>112</td>\n",
       "      <td>2018-10-01</td>\n",
       "      <td>радермахера d12 см h20 см</td>\n",
       "    </tr>\n",
       "    <tr>\n",
       "      <th>3</th>\n",
       "      <td>2018100100</td>\n",
       "      <td>ee47d746-6d2f-4d3c-9622-c31412542920</td>\n",
       "      <td>68477</td>\n",
       "      <td>хризолидокарпус лутесценс d-9 см</td>\n",
       "      <td>1</td>\n",
       "      <td>179</td>\n",
       "      <td>2018-10-01</td>\n",
       "      <td>хризолидокарпус лутесценс d9 см</td>\n",
       "    </tr>\n",
       "    <tr>\n",
       "      <th>4</th>\n",
       "      <td>2018100100</td>\n",
       "      <td>ee47d746-6d2f-4d3c-9622-c31412542920</td>\n",
       "      <td>68477</td>\n",
       "      <td>циперус зумула d-12 см h-25 см</td>\n",
       "      <td>1</td>\n",
       "      <td>112</td>\n",
       "      <td>2018-10-01</td>\n",
       "      <td>циперус зумула d12 см h25 см</td>\n",
       "    </tr>\n",
       "  </tbody>\n",
       "</table>\n",
       "</div>"
      ],
      "text/plain": [
       "         date                           customer_id  order_id  \\\n",
       "0  2018100100  ee47d746-6d2f-4d3c-9622-c31412542920     68477   \n",
       "1  2018100100  ee47d746-6d2f-4d3c-9622-c31412542920     68477   \n",
       "2  2018100100  ee47d746-6d2f-4d3c-9622-c31412542920     68477   \n",
       "3  2018100100  ee47d746-6d2f-4d3c-9622-c31412542920     68477   \n",
       "4  2018100100  ee47d746-6d2f-4d3c-9622-c31412542920     68477   \n",
       "\n",
       "                                             product  quantity  price  \\\n",
       "0    комнатное растение в горшке алое вера, d12, h30         1    142   \n",
       "1  комнатное растение в горшке кофе арабика, d12,...         1    194   \n",
       "2                        радермахера d-12 см h-20 см         1    112   \n",
       "3                   хризолидокарпус лутесценс d-9 см         1    179   \n",
       "4                     циперус зумула d-12 см h-25 см         1    112   \n",
       "\n",
       "  date_datetime                                               new  \n",
       "0    2018-10-01     комнатное растение в горшке алое вера d12 h30  \n",
       "1    2018-10-01  комнатное растение в горшке кофе арабика d12 h25  \n",
       "2    2018-10-01                         радермахера d12 см h20 см  \n",
       "3    2018-10-01                   хризолидокарпус лутесценс d9 см  \n",
       "4    2018-10-01                      циперус зумула d12 см h25 см  "
      ]
     },
     "execution_count": 32,
     "metadata": {},
     "output_type": "execute_result"
    }
   ],
   "source": [
    "data.head()"
   ]
  },
  {
   "cell_type": "markdown",
   "id": "ecb9cc89",
   "metadata": {},
   "source": [
    "Повторно очистим текст от единичных символов. Они остались, тк мы удалили числа и спец символы, а до преобразования текста это было одно слово состоящее из буквы, спец символа и числа."
   ]
  },
  {
   "cell_type": "code",
   "execution_count": 33,
   "id": "9d3cea69",
   "metadata": {},
   "outputs": [],
   "source": [
    "# # список слов для удаления из столбца product\n",
    "# removal_list = [ 'диам', 'см', 'мл', 'л', 'd', 'h', 'с', 'из', 'х', 'шт', 'по', 'мм', 'м']"
   ]
  },
  {
   "cell_type": "code",
   "execution_count": 34,
   "id": "5eed8b97",
   "metadata": {},
   "outputs": [],
   "source": [
    "# # удаление лишних слов\n",
    "# for i in range(len(data['new'])):\n",
    "#     edit_string_as_list = data.loc[i, 'new'].split()\n",
    "#     final_list = [word for word in edit_string_as_list if word not in removal_list]\n",
    "#     data.loc[i,'new'] = ' '.join(final_list)"
   ]
  },
  {
   "cell_type": "code",
   "execution_count": 35,
   "id": "20925f58",
   "metadata": {
    "scrolled": true
   },
   "outputs": [],
   "source": [
    "# data.head()"
   ]
  },
  {
   "cell_type": "markdown",
   "id": "88608db4",
   "metadata": {},
   "source": [
    "Краткий вывод по текущему пункту:\n",
    "   - Изменены типы данных в столбцах date и price на datetime и int соответственно.\n",
    "   - В таблице присутствуют данные за период времени 01 октября 2018 года 00:00 часов по 31 октября 2019 года 16:00 часов.\n",
    "   - Явные дубликаты отсутствуют.\n",
    "   - Было удалено 27.67% забудлированных строк.\n",
    "   - Наименование товаров было преобразовано, очищено от спец символов, лишних пробелов и записано в новый столбец 'new'."
   ]
  },
  {
   "cell_type": "markdown",
   "id": "f1f7da0b",
   "metadata": {},
   "source": [
    "## Исследовательский анализ данных\n",
    "### Визуализация распределения числовых данных (столбцы quantity и price)\n",
    "\n",
    "Метод describe() показал довольно большой разброс чисел для столбцов quantity и price. Построим boxplot() для каждого из этих столбцов."
   ]
  },
  {
   "cell_type": "code",
   "execution_count": 36,
   "id": "2238f4be",
   "metadata": {},
   "outputs": [
    {
     "data": {
      "image/png": "[encoded data removed]",
      "text/plain": [
       "<Figure size 432x288 with 1 Axes>"
      ]
     },
     "metadata": {
      "needs_background": "light"
     },
     "output_type": "display_data"
    }
   ],
   "source": [
    "data.drop(['date', 'order_id', 'quantity'], axis=1).boxplot()\n",
    "plt.ylim(0, 1200)\n",
    "plt.title('Распределение цены товаров')\n",
    "plt.show()"
   ]
  },
  {
   "cell_type": "code",
   "execution_count": 37,
   "id": "789e9a1e",
   "metadata": {
    "scrolled": true
   },
   "outputs": [
    {
     "data": {
      "image/png": "[encoded data removed]",
      "text/plain": [
       "<Figure size 432x288 with 1 Axes>"
      ]
     },
     "metadata": {
      "needs_background": "light"
     },
     "output_type": "display_data"
    }
   ],
   "source": [
    "data.drop(['date', 'order_id', 'price'], axis=1).boxplot()\n",
    "plt.ylim(0, 80)\n",
    "plt.title('Распределение количества товаров')\n",
    "plt.show()"
   ]
  },
  {
   "cell_type": "code",
   "execution_count": 38,
   "id": "c4611e22",
   "metadata": {},
   "outputs": [
    {
     "data": {
      "image/png": "[encoded data removed]",
      "text/plain": [
       "<Figure size 432x288 with 1 Axes>"
      ]
     },
     "metadata": {
      "needs_background": "light"
     },
     "output_type": "display_data"
    }
   ],
   "source": [
    "data.plot(x='quantity', y='price', kind='scatter', grid=True)\n",
    "plt.title('Взаимосвязь цены и количества товаров')\n",
    "plt.ylim(0, 2000)\n",
    "plt.xlim(0, 400)\n",
    "plt.show()"
   ]
  },
  {
   "cell_type": "markdown",
   "id": "84f2692c",
   "metadata": {},
   "source": [
    "Большое количество товаров куплено в единичном экземпляре. Но есть товары, купленные в количетсве более 50 шт. Оценим долю таких заказов. Так же найдем долю дорогих товаров, стоимость которых превышает 1100."
   ]
  },
  {
   "cell_type": "code",
   "execution_count": 39,
   "id": "a4f04551",
   "metadata": {},
   "outputs": [
    {
     "name": "stdout",
     "output_type": "stream",
     "text": [
      "Доля оптовых заказов: 1.04%\n"
     ]
    }
   ],
   "source": [
    "print('Доля оптовых заказов: {:.2%}'.format(len(data.query('quantity >= 50')['order_id'].unique())/len(data['order_id'].unique())))"
   ]
  },
  {
   "cell_type": "code",
   "execution_count": 40,
   "id": "e13ab0a3",
   "metadata": {},
   "outputs": [
    {
     "name": "stdout",
     "output_type": "stream",
     "text": [
      "Доля купленных дорогих товаров: 12.03%\n"
     ]
    }
   ],
   "source": [
    "print('Доля купленных дорогих товаров: {:.2%}'.format(len(data.query('price >= 1100'))/len(data['product'])))"
   ]
  },
  {
   "cell_type": "markdown",
   "id": "f646a3df",
   "metadata": {},
   "source": [
    "Доля оптовых заказов всего 1,04% от общего количества заказов. Доля купленных дорогих товаров составляет 12.03% от общего числа купленных товаров. Для дальнейшей работы выберем только розничных покупателей, т.е. сделаем срез данных quantity > 50 и снова оценим долю дорогих товаров."
   ]
  },
  {
   "cell_type": "markdown",
   "id": "23049b76",
   "metadata": {},
   "source": [
    "Посчитаем сколько заказов совершили клиенты за рассматриваемый период"
   ]
  },
  {
   "cell_type": "code",
   "execution_count": 41,
   "id": "64d16231",
   "metadata": {},
   "outputs": [
    {
     "data": {
      "text/html": [
       "<div>\n",
       "<style scoped>\n",
       "    .dataframe tbody tr th:only-of-type {\n",
       "        vertical-align: middle;\n",
       "    }\n",
       "\n",
       "    .dataframe tbody tr th {\n",
       "        vertical-align: top;\n",
       "    }\n",
       "\n",
       "    .dataframe thead th {\n",
       "        text-align: right;\n",
       "    }\n",
       "</style>\n",
       "<table border=\"1\" class=\"dataframe\">\n",
       "  <thead>\n",
       "    <tr style=\"text-align: right;\">\n",
       "      <th></th>\n",
       "      <th>order_id</th>\n",
       "    </tr>\n",
       "    <tr>\n",
       "      <th>customer_id</th>\n",
       "      <th></th>\n",
       "    </tr>\n",
       "  </thead>\n",
       "  <tbody>\n",
       "    <tr>\n",
       "      <th>c971fb21-d54c-4134-938f-16b62ee86d3b</th>\n",
       "      <td>126</td>\n",
       "    </tr>\n",
       "    <tr>\n",
       "      <th>4d93d3f6-8b24-403b-a74b-f5173e40d7db</th>\n",
       "      <td>35</td>\n",
       "    </tr>\n",
       "    <tr>\n",
       "      <th>73d1cd35-5e5f-4629-8cf2-3fda829d4e58</th>\n",
       "      <td>17</td>\n",
       "    </tr>\n",
       "    <tr>\n",
       "      <th>b7b865ab-0735-407f-8d0c-31f74d2806cc</th>\n",
       "      <td>7</td>\n",
       "    </tr>\n",
       "    <tr>\n",
       "      <th>0184f535-b60a-4914-a982-231e3f615206</th>\n",
       "      <td>5</td>\n",
       "    </tr>\n",
       "  </tbody>\n",
       "</table>\n",
       "</div>"
      ],
      "text/plain": [
       "                                      order_id\n",
       "customer_id                                   \n",
       "c971fb21-d54c-4134-938f-16b62ee86d3b       126\n",
       "4d93d3f6-8b24-403b-a74b-f5173e40d7db        35\n",
       "73d1cd35-5e5f-4629-8cf2-3fda829d4e58        17\n",
       "b7b865ab-0735-407f-8d0c-31f74d2806cc         7\n",
       "0184f535-b60a-4914-a982-231e3f615206         5"
      ]
     },
     "execution_count": 41,
     "metadata": {},
     "output_type": "execute_result"
    }
   ],
   "source": [
    "count_df = data.groupby('customer_id').agg({'order_id': 'nunique'})\n",
    "count_df.sort_values('order_id', ascending = False).head(5)"
   ]
  },
  {
   "cell_type": "code",
   "execution_count": 42,
   "id": "17c06f1f",
   "metadata": {
    "scrolled": true
   },
   "outputs": [
    {
     "name": "stdout",
     "output_type": "stream",
     "text": [
      "Количество клиентов, совершивших более одного заказа:  160\n",
      "Доля клиентов, совершивих больше одного заказа: 6.53%\n"
     ]
    }
   ],
   "source": [
    "print('Количество клиентов, совершивших более одного заказа: ', len(count_df.query('order_id>1')))\n",
    "print('Доля клиентов, совершивих больше одного заказа: {:.2%}'.format(len(count_df.query('order_id>1'))/count_df.shape[0]))"
   ]
  },
  {
   "cell_type": "markdown",
   "id": "d5eb2585",
   "metadata": {},
   "source": [
    "За рассмотренный период только 6,53% клиентов совершили больше одного заказа."
   ]
  },
  {
   "cell_type": "code",
   "execution_count": 43,
   "id": "7b6b5326",
   "metadata": {},
   "outputs": [
    {
     "data": {
      "image/png": "[encoded data removed]",
      "text/plain": [
       "<Figure size 432x288 with 1 Axes>"
      ]
     },
     "metadata": {
      "needs_background": "light"
     },
     "output_type": "display_data"
    }
   ],
   "source": [
    "count_df.boxplot()\n",
    "#plt.ylim(0, 80)\n",
    "plt.title('Распределение общего количества заказов по клиентам')\n",
    "plt.show()"
   ]
  },
  {
   "cell_type": "markdown",
   "id": "73b5dfb1",
   "metadata": {},
   "source": [
    "Для клиентов интернет-магазина характерны единичные покупки. Клиенты с количеством заказов больше 10 редки."
   ]
  },
  {
   "cell_type": "code",
   "execution_count": 44,
   "id": "4ef5666b",
   "metadata": {
    "scrolled": true
   },
   "outputs": [
    {
     "name": "stdout",
     "output_type": "stream",
     "text": [
      "Доля выбросов: 4.21%\n"
     ]
    }
   ],
   "source": [
    "print('Доля выбросов: {:.2%}'.format(len(data.query('customer_id in @count_df.query(\"order_id>10\").index'))/data.shape[0]))"
   ]
  },
  {
   "cell_type": "markdown",
   "id": "9861d9aa",
   "metadata": {},
   "source": [
    "Удалим этих клиентов и их заказы, тк их доля всего 4,21% от общего числа."
   ]
  },
  {
   "cell_type": "code",
   "execution_count": 45,
   "id": "6b40d491",
   "metadata": {
    "scrolled": true
   },
   "outputs": [
    {
     "data": {
      "text/html": [
       "<div>\n",
       "<style scoped>\n",
       "    .dataframe tbody tr th:only-of-type {\n",
       "        vertical-align: middle;\n",
       "    }\n",
       "\n",
       "    .dataframe tbody tr th {\n",
       "        vertical-align: top;\n",
       "    }\n",
       "\n",
       "    .dataframe thead th {\n",
       "        text-align: right;\n",
       "    }\n",
       "</style>\n",
       "<table border=\"1\" class=\"dataframe\">\n",
       "  <thead>\n",
       "    <tr style=\"text-align: right;\">\n",
       "      <th></th>\n",
       "      <th>order_id</th>\n",
       "    </tr>\n",
       "    <tr>\n",
       "      <th>customer_id</th>\n",
       "      <th></th>\n",
       "    </tr>\n",
       "  </thead>\n",
       "  <tbody>\n",
       "    <tr>\n",
       "      <th>b7b865ab-0735-407f-8d0c-31f74d2806cc</th>\n",
       "      <td>7</td>\n",
       "    </tr>\n",
       "    <tr>\n",
       "      <th>0184f535-b60a-4914-a982-231e3f615206</th>\n",
       "      <td>5</td>\n",
       "    </tr>\n",
       "    <tr>\n",
       "      <th>e0535076-6270-4df2-8621-cb06264a94fa</th>\n",
       "      <td>4</td>\n",
       "    </tr>\n",
       "    <tr>\n",
       "      <th>bea7a833-2074-42db-bc49-4457abd3c930</th>\n",
       "      <td>4</td>\n",
       "    </tr>\n",
       "    <tr>\n",
       "      <th>498f12a4-6a62-4725-8516-cf5dc9ab8a3a</th>\n",
       "      <td>4</td>\n",
       "    </tr>\n",
       "  </tbody>\n",
       "</table>\n",
       "</div>"
      ],
      "text/plain": [
       "                                      order_id\n",
       "customer_id                                   \n",
       "b7b865ab-0735-407f-8d0c-31f74d2806cc         7\n",
       "0184f535-b60a-4914-a982-231e3f615206         5\n",
       "e0535076-6270-4df2-8621-cb06264a94fa         4\n",
       "bea7a833-2074-42db-bc49-4457abd3c930         4\n",
       "498f12a4-6a62-4725-8516-cf5dc9ab8a3a         4"
      ]
     },
     "execution_count": 45,
     "metadata": {},
     "output_type": "execute_result"
    }
   ],
   "source": [
    "count_df = count_df.query('order_id<=10')\n",
    "count_df.sort_values('order_id', ascending = False).head(5)"
   ]
  },
  {
   "cell_type": "code",
   "execution_count": 46,
   "id": "a37e45a7",
   "metadata": {
    "scrolled": true
   },
   "outputs": [
    {
     "name": "stdout",
     "output_type": "stream",
     "text": [
      "<class 'pandas.core.frame.DataFrame'>\n",
      "RangeIndex: 4668 entries, 0 to 4667\n",
      "Data columns (total 8 columns):\n",
      " #   Column         Non-Null Count  Dtype         \n",
      "---  ------         --------------  -----         \n",
      " 0   date           4668 non-null   int64         \n",
      " 1   customer_id    4668 non-null   object        \n",
      " 2   order_id       4668 non-null   int64         \n",
      " 3   product        4668 non-null   object        \n",
      " 4   quantity       4668 non-null   int64         \n",
      " 5   price          4668 non-null   int64         \n",
      " 6   date_datetime  4668 non-null   datetime64[ns]\n",
      " 7   new            4668 non-null   object        \n",
      "dtypes: datetime64[ns](1), int64(4), object(3)\n",
      "memory usage: 291.9+ KB\n"
     ]
    }
   ],
   "source": [
    "data = data.query('customer_id in @count_df.index').reset_index(drop=True)\n",
    "data.info()"
   ]
  },
  {
   "cell_type": "markdown",
   "id": "a62a58a2",
   "metadata": {},
   "source": [
    "### Создание профилей пользователей\n",
    "Создадим профили пользователей."
   ]
  },
  {
   "cell_type": "markdown",
   "id": "aa9db59e",
   "metadata": {},
   "source": [
    "Выделим отдельный столбец с указанием года и месяца совершения покупки, чтобы оценить удержание по месяцам."
   ]
  },
  {
   "cell_type": "code",
   "execution_count": 47,
   "id": "56008154",
   "metadata": {},
   "outputs": [],
   "source": [
    "data['year_month']=data['date']/10000"
   ]
  },
  {
   "cell_type": "code",
   "execution_count": 48,
   "id": "6a03a9e7",
   "metadata": {},
   "outputs": [],
   "source": [
    "data['year_month']=data['year_month'].astype('int')"
   ]
  },
  {
   "cell_type": "code",
   "execution_count": 49,
   "id": "a2038d45",
   "metadata": {},
   "outputs": [],
   "source": [
    "data['year_month'] = pd.to_datetime(data['year_month'], format='%Y%m')"
   ]
  },
  {
   "cell_type": "code",
   "execution_count": 50,
   "id": "7f422f13",
   "metadata": {
    "scrolled": true
   },
   "outputs": [
    {
     "data": {
      "text/html": [
       "<div>\n",
       "<style scoped>\n",
       "    .dataframe tbody tr th:only-of-type {\n",
       "        vertical-align: middle;\n",
       "    }\n",
       "\n",
       "    .dataframe tbody tr th {\n",
       "        vertical-align: top;\n",
       "    }\n",
       "\n",
       "    .dataframe thead th {\n",
       "        text-align: right;\n",
       "    }\n",
       "</style>\n",
       "<table border=\"1\" class=\"dataframe\">\n",
       "  <thead>\n",
       "    <tr style=\"text-align: right;\">\n",
       "      <th></th>\n",
       "      <th>date</th>\n",
       "      <th>customer_id</th>\n",
       "      <th>order_id</th>\n",
       "      <th>product</th>\n",
       "      <th>quantity</th>\n",
       "      <th>price</th>\n",
       "      <th>date_datetime</th>\n",
       "      <th>new</th>\n",
       "      <th>year_month</th>\n",
       "    </tr>\n",
       "  </thead>\n",
       "  <tbody>\n",
       "    <tr>\n",
       "      <th>4663</th>\n",
       "      <td>2019103021</td>\n",
       "      <td>b24b3075-bbb5-498c-add9-534a727f3c33</td>\n",
       "      <td>73151</td>\n",
       "      <td>герань домашняя (пеларгония зональная) цветуща...</td>\n",
       "      <td>2</td>\n",
       "      <td>157</td>\n",
       "      <td>2019-10-30 21:00:00</td>\n",
       "      <td>герань домашняя пеларгония зональная цветущая ...</td>\n",
       "      <td>2019-10-01</td>\n",
       "    </tr>\n",
       "    <tr>\n",
       "      <th>4664</th>\n",
       "      <td>2019103109</td>\n",
       "      <td>6ddd4081-515e-401a-9567-8c0eab6dc868</td>\n",
       "      <td>73154</td>\n",
       "      <td>литопс микс d-5 см</td>\n",
       "      <td>1</td>\n",
       "      <td>112</td>\n",
       "      <td>2019-10-31 09:00:00</td>\n",
       "      <td>литопс микс d5 см</td>\n",
       "      <td>2019-10-01</td>\n",
       "    </tr>\n",
       "    <tr>\n",
       "      <th>4665</th>\n",
       "      <td>2019103111</td>\n",
       "      <td>f17ed857-178e-45e1-a662-0a9dd3b58c5f</td>\n",
       "      <td>73155</td>\n",
       "      <td>мимоза стыдливая d-9 см</td>\n",
       "      <td>1</td>\n",
       "      <td>329</td>\n",
       "      <td>2019-10-31 11:00:00</td>\n",
       "      <td>мимоза стыдливая d9 см</td>\n",
       "      <td>2019-10-01</td>\n",
       "    </tr>\n",
       "    <tr>\n",
       "      <th>4666</th>\n",
       "      <td>2019103112</td>\n",
       "      <td>1f0a7f35-7459-4f23-b468-5e45bf481dd1</td>\n",
       "      <td>73158</td>\n",
       "      <td>сумка-тележка 2-х колесная gimi argo синяя</td>\n",
       "      <td>1</td>\n",
       "      <td>1087</td>\n",
       "      <td>2019-10-31 12:00:00</td>\n",
       "      <td>сумка тележка 2х колесная gimi argo синяя</td>\n",
       "      <td>2019-10-01</td>\n",
       "    </tr>\n",
       "    <tr>\n",
       "      <th>4667</th>\n",
       "      <td>2019103113</td>\n",
       "      <td>25df96a7-c453-4708-9cea-a3dfc7c342ea</td>\n",
       "      <td>73162</td>\n",
       "      <td>герань домашняя (пеларгония зональная) цветуща...</td>\n",
       "      <td>1</td>\n",
       "      <td>157</td>\n",
       "      <td>2019-10-31 13:00:00</td>\n",
       "      <td>герань домашняя пеларгония зональная цветущая ...</td>\n",
       "      <td>2019-10-01</td>\n",
       "    </tr>\n",
       "  </tbody>\n",
       "</table>\n",
       "</div>"
      ],
      "text/plain": [
       "            date                           customer_id  order_id  \\\n",
       "4663  2019103021  b24b3075-bbb5-498c-add9-534a727f3c33     73151   \n",
       "4664  2019103109  6ddd4081-515e-401a-9567-8c0eab6dc868     73154   \n",
       "4665  2019103111  f17ed857-178e-45e1-a662-0a9dd3b58c5f     73155   \n",
       "4666  2019103112  1f0a7f35-7459-4f23-b468-5e45bf481dd1     73158   \n",
       "4667  2019103113  25df96a7-c453-4708-9cea-a3dfc7c342ea     73162   \n",
       "\n",
       "                                                product  quantity  price  \\\n",
       "4663  герань домашняя (пеларгония зональная) цветуща...         2    157   \n",
       "4664                                 литопс микс d-5 см         1    112   \n",
       "4665                            мимоза стыдливая d-9 см         1    329   \n",
       "4666         сумка-тележка 2-х колесная gimi argo синяя         1   1087   \n",
       "4667  герань домашняя (пеларгония зональная) цветуща...         1    157   \n",
       "\n",
       "           date_datetime                                                new  \\\n",
       "4663 2019-10-30 21:00:00  герань домашняя пеларгония зональная цветущая ...   \n",
       "4664 2019-10-31 09:00:00                                  литопс микс d5 см   \n",
       "4665 2019-10-31 11:00:00                             мимоза стыдливая d9 см   \n",
       "4666 2019-10-31 12:00:00          сумка тележка 2х колесная gimi argo синяя   \n",
       "4667 2019-10-31 13:00:00  герань домашняя пеларгония зональная цветущая ...   \n",
       "\n",
       "     year_month  \n",
       "4663 2019-10-01  \n",
       "4664 2019-10-01  \n",
       "4665 2019-10-01  \n",
       "4666 2019-10-01  \n",
       "4667 2019-10-01  "
      ]
     },
     "execution_count": 50,
     "metadata": {},
     "output_type": "execute_result"
    }
   ],
   "source": [
    "data.tail()"
   ]
  },
  {
   "cell_type": "code",
   "execution_count": 51,
   "id": "f6558c49",
   "metadata": {
    "scrolled": true
   },
   "outputs": [
    {
     "name": "stdout",
     "output_type": "stream",
     "text": [
      "<class 'pandas.core.frame.DataFrame'>\n",
      "RangeIndex: 4668 entries, 0 to 4667\n",
      "Data columns (total 9 columns):\n",
      " #   Column         Non-Null Count  Dtype         \n",
      "---  ------         --------------  -----         \n",
      " 0   date           4668 non-null   int64         \n",
      " 1   customer_id    4668 non-null   object        \n",
      " 2   order_id       4668 non-null   int64         \n",
      " 3   product        4668 non-null   object        \n",
      " 4   quantity       4668 non-null   int64         \n",
      " 5   price          4668 non-null   int64         \n",
      " 6   date_datetime  4668 non-null   datetime64[ns]\n",
      " 7   new            4668 non-null   object        \n",
      " 8   year_month     4668 non-null   datetime64[ns]\n",
      "dtypes: datetime64[ns](2), int64(4), object(3)\n",
      "memory usage: 328.3+ KB\n"
     ]
    }
   ],
   "source": [
    "data.info()"
   ]
  },
  {
   "cell_type": "markdown",
   "id": "d4ffb23d",
   "metadata": {},
   "source": [
    "Создадим функцию для определения даты совершения первого заказа."
   ]
  },
  {
   "cell_type": "code",
   "execution_count": 52,
   "id": "95801cc7",
   "metadata": {},
   "outputs": [],
   "source": [
    "def get_profiles(sessions):\n",
    "\n",
    "    # сортируем сессии по ID пользователя и дате заказа\n",
    "    # группируем по ID и находим первые значения date_datetime\n",
    "    # столбец с временем первого посещения назовём first_order\n",
    "    profiles = (\n",
    "        sessions.sort_values(by=['customer_id', 'date_datetime'])\n",
    "        .groupby('customer_id')\n",
    "        .agg({'date_datetime': 'first'})\n",
    "        .rename(columns={'date_datetime': 'first_order'})\n",
    "        .reset_index()\n",
    "    )\n",
    "\n",
    "    # определяем дату первого посещения\n",
    "    # и первый день месяца, в который это посещение произошло\n",
    "    # эти данные понадобятся для когортного анализа\n",
    "    profiles['dt'] = profiles['first_order'].dt.date\n",
    "    profiles['month_year_fo'] = profiles['first_order'].dt.to_period('M')\n",
    "    profiles['month_year_fo'] = profiles['month_year_fo'].astype(str)\n",
    "    profiles['month_year_fo'] = pd.to_datetime(profiles['month_year_fo'])\n",
    "    #profiles['year'] = pd.DatetimeIndex(profiles['first_order']).year\n",
    "    #profiles['month'] = pd.DatetimeIndex(profiles['first_order']).month\n",
    "    #profiles['day'] = pd.DatetimeIndex(profiles['first_order']).day\n",
    "    #profiles['hour'] = profiles['first_order'].astype('datetime64[h]')\n",
    "\n",
    "    return profiles"
   ]
  },
  {
   "cell_type": "code",
   "execution_count": 53,
   "id": "b31317ce",
   "metadata": {
    "scrolled": true
   },
   "outputs": [
    {
     "data": {
      "text/html": [
       "<div>\n",
       "<style scoped>\n",
       "    .dataframe tbody tr th:only-of-type {\n",
       "        vertical-align: middle;\n",
       "    }\n",
       "\n",
       "    .dataframe tbody tr th {\n",
       "        vertical-align: top;\n",
       "    }\n",
       "\n",
       "    .dataframe thead th {\n",
       "        text-align: right;\n",
       "    }\n",
       "</style>\n",
       "<table border=\"1\" class=\"dataframe\">\n",
       "  <thead>\n",
       "    <tr style=\"text-align: right;\">\n",
       "      <th></th>\n",
       "      <th>customer_id</th>\n",
       "      <th>first_order</th>\n",
       "      <th>dt</th>\n",
       "      <th>month_year_fo</th>\n",
       "    </tr>\n",
       "  </thead>\n",
       "  <tbody>\n",
       "    <tr>\n",
       "      <th>0</th>\n",
       "      <td>000d6849-084e-4d9f-ac03-37174eaf60c4</td>\n",
       "      <td>2019-10-16 08:00:00</td>\n",
       "      <td>2019-10-16</td>\n",
       "      <td>2019-10-01</td>\n",
       "    </tr>\n",
       "    <tr>\n",
       "      <th>1</th>\n",
       "      <td>001cee7f-0b29-4716-b202-0042213ab038</td>\n",
       "      <td>2019-02-16 11:00:00</td>\n",
       "      <td>2019-02-16</td>\n",
       "      <td>2019-02-01</td>\n",
       "    </tr>\n",
       "    <tr>\n",
       "      <th>2</th>\n",
       "      <td>00299f34-5385-4d13-9aea-c80b81658e1b</td>\n",
       "      <td>2019-10-14 23:00:00</td>\n",
       "      <td>2019-10-14</td>\n",
       "      <td>2019-10-01</td>\n",
       "    </tr>\n",
       "    <tr>\n",
       "      <th>3</th>\n",
       "      <td>002d4d3a-4a59-406b-86ec-c3314357e498</td>\n",
       "      <td>2019-01-27 17:00:00</td>\n",
       "      <td>2019-01-27</td>\n",
       "      <td>2019-01-01</td>\n",
       "    </tr>\n",
       "    <tr>\n",
       "      <th>4</th>\n",
       "      <td>003bbd39-0000-41ff-b7f9-2ddaec152037</td>\n",
       "      <td>2019-09-29 17:00:00</td>\n",
       "      <td>2019-09-29</td>\n",
       "      <td>2019-09-01</td>\n",
       "    </tr>\n",
       "    <tr>\n",
       "      <th>...</th>\n",
       "      <td>...</td>\n",
       "      <td>...</td>\n",
       "      <td>...</td>\n",
       "      <td>...</td>\n",
       "    </tr>\n",
       "    <tr>\n",
       "      <th>2443</th>\n",
       "      <td>ff601403-b094-4b86-9ac6-264d725b9277</td>\n",
       "      <td>2019-08-16 16:00:00</td>\n",
       "      <td>2019-08-16</td>\n",
       "      <td>2019-08-01</td>\n",
       "    </tr>\n",
       "    <tr>\n",
       "      <th>2444</th>\n",
       "      <td>ffaeab76-3a8d-49ee-860f-17273b2fc8a2</td>\n",
       "      <td>2019-10-30 07:00:00</td>\n",
       "      <td>2019-10-30</td>\n",
       "      <td>2019-10-01</td>\n",
       "    </tr>\n",
       "    <tr>\n",
       "      <th>2445</th>\n",
       "      <td>ffb5976a-7a4d-460b-95c4-5ffaba31cb24</td>\n",
       "      <td>2018-12-14 23:00:00</td>\n",
       "      <td>2018-12-14</td>\n",
       "      <td>2018-12-01</td>\n",
       "    </tr>\n",
       "    <tr>\n",
       "      <th>2446</th>\n",
       "      <td>ffb80538-3fda-4351-8ea9-9d2bec58bb07</td>\n",
       "      <td>2019-09-09 12:00:00</td>\n",
       "      <td>2019-09-09</td>\n",
       "      <td>2019-09-01</td>\n",
       "    </tr>\n",
       "    <tr>\n",
       "      <th>2447</th>\n",
       "      <td>ffe82299-3f5b-4214-87fe-3d36ecccfac3</td>\n",
       "      <td>2019-10-22 13:00:00</td>\n",
       "      <td>2019-10-22</td>\n",
       "      <td>2019-10-01</td>\n",
       "    </tr>\n",
       "  </tbody>\n",
       "</table>\n",
       "<p>2448 rows × 4 columns</p>\n",
       "</div>"
      ],
      "text/plain": [
       "                               customer_id         first_order          dt  \\\n",
       "0     000d6849-084e-4d9f-ac03-37174eaf60c4 2019-10-16 08:00:00  2019-10-16   \n",
       "1     001cee7f-0b29-4716-b202-0042213ab038 2019-02-16 11:00:00  2019-02-16   \n",
       "2     00299f34-5385-4d13-9aea-c80b81658e1b 2019-10-14 23:00:00  2019-10-14   \n",
       "3     002d4d3a-4a59-406b-86ec-c3314357e498 2019-01-27 17:00:00  2019-01-27   \n",
       "4     003bbd39-0000-41ff-b7f9-2ddaec152037 2019-09-29 17:00:00  2019-09-29   \n",
       "...                                    ...                 ...         ...   \n",
       "2443  ff601403-b094-4b86-9ac6-264d725b9277 2019-08-16 16:00:00  2019-08-16   \n",
       "2444  ffaeab76-3a8d-49ee-860f-17273b2fc8a2 2019-10-30 07:00:00  2019-10-30   \n",
       "2445  ffb5976a-7a4d-460b-95c4-5ffaba31cb24 2018-12-14 23:00:00  2018-12-14   \n",
       "2446  ffb80538-3fda-4351-8ea9-9d2bec58bb07 2019-09-09 12:00:00  2019-09-09   \n",
       "2447  ffe82299-3f5b-4214-87fe-3d36ecccfac3 2019-10-22 13:00:00  2019-10-22   \n",
       "\n",
       "     month_year_fo  \n",
       "0       2019-10-01  \n",
       "1       2019-02-01  \n",
       "2       2019-10-01  \n",
       "3       2019-01-01  \n",
       "4       2019-09-01  \n",
       "...            ...  \n",
       "2443    2019-08-01  \n",
       "2444    2019-10-01  \n",
       "2445    2018-12-01  \n",
       "2446    2019-09-01  \n",
       "2447    2019-10-01  \n",
       "\n",
       "[2448 rows x 4 columns]"
      ]
     },
     "execution_count": 53,
     "metadata": {},
     "output_type": "execute_result"
    }
   ],
   "source": [
    "profiles = get_profiles(data)\n",
    "profiles"
   ]
  },
  {
   "cell_type": "code",
   "execution_count": 54,
   "id": "606bd228",
   "metadata": {},
   "outputs": [
    {
     "data": {
      "text/plain": [
       "Timestamp('2018-10-01 00:00:00')"
      ]
     },
     "execution_count": 54,
     "metadata": {},
     "output_type": "execute_result"
    }
   ],
   "source": [
    "profiles['first_order'].min()"
   ]
  },
  {
   "cell_type": "code",
   "execution_count": 55,
   "id": "0cb1c980",
   "metadata": {},
   "outputs": [
    {
     "data": {
      "text/plain": [
       "Timestamp('2019-10-31 13:00:00')"
      ]
     },
     "execution_count": 55,
     "metadata": {},
     "output_type": "execute_result"
    }
   ],
   "source": [
    "profiles['first_order'].max()"
   ]
  },
  {
   "cell_type": "code",
   "execution_count": 56,
   "id": "19441b1c",
   "metadata": {},
   "outputs": [],
   "source": [
    "# функция для расчета количества месяцев между датами\n",
    "def diff_month(d1, d2):\n",
    "    return (d1.year - d2.year) * 12 + d1.month - d2.month"
   ]
  },
  {
   "cell_type": "markdown",
   "id": "1c6e8892",
   "metadata": {},
   "source": [
    "Для расчёта Retention Rate воспользуемся функцией."
   ]
  },
  {
   "cell_type": "code",
   "execution_count": 57,
   "id": "77539766",
   "metadata": {},
   "outputs": [],
   "source": [
    "def get_retention(\n",
    "    profiles, sessions, observation_date, horizon_days, ignore_horizon=False\n",
    "):\n",
    "    # исключаем пользователей, не «доживших» до горизонта анализа\n",
    "    last_suitable_acquisition_date = observation_date\n",
    "    if not ignore_horizon:\n",
    "        last_suitable_acquisition_date = observation_date - timedelta(\n",
    "            days=horizon_days -1\n",
    "        )\n",
    "    result_raw = profiles.query('dt <= @last_suitable_acquisition_date')\n",
    "\n",
    "    # собираем «сырые» данные для расчёта удержания\n",
    "    result_raw = result_raw.merge(\n",
    "        sessions[['customer_id', 'date_datetime', 'order_id', 'year_month']], on='customer_id', how='left'\n",
    "    )\n",
    "    # Расчет lifetime  в днях\n",
    "    result_raw['lifetime_d'] = (\n",
    "        result_raw['date_datetime'] - result_raw['first_order']\n",
    "    ).dt.days\n",
    "\n",
    "    \n",
    "    # Расчитаем lifetime в месяцах\n",
    "    for i in range(len(result_raw['customer_id'])):\n",
    "        result_raw.loc[i, 'lifetime_m'] = diff_month(result_raw.loc[i,'date_datetime'], result_raw.loc[i,'first_order'])\n",
    "    \n",
    "    \n",
    "    \n",
    "    # рассчитываем удержание\n",
    "    result_grouped = result_raw.pivot_table(\n",
    "        index=['month_year_fo'], columns='lifetime_m', values='customer_id', aggfunc='nunique'\n",
    "    )\n",
    "    cohort_sizes = (\n",
    "        result_raw.groupby('month_year_fo')\n",
    "        .agg({'customer_id': 'nunique'})\n",
    "        .rename(columns={'customer_id': 'cohort_size'})\n",
    "    )\n",
    "    result_grouped = cohort_sizes.merge(\n",
    "        result_grouped, on='month_year_fo', how='left'\n",
    "    ).fillna(0)\n",
    "    result_grouped = result_grouped.div(result_grouped['cohort_size'], axis=0)\n",
    "\n",
    "     # исключаем все лайфтаймы, превышающие горизонт анализа\n",
    "    #result_grouped = result_grouped[['cohort_size'] + list(range(horizon_days))]\n",
    "\n",
    "    # восстанавливаем столбец с размерами когорт\n",
    "    result_grouped['cohort_size'] = cohort_sizes\n",
    "\n",
    "    # возвращаем таблицу удержания и сырые данные\n",
    "    return result_raw, result_grouped"
   ]
  },
  {
   "cell_type": "markdown",
   "id": "24c74364",
   "metadata": {},
   "source": [
    "Получим данные по удержанию на момент 01 октября 2019 года, горизонт событий 30 дней."
   ]
  },
  {
   "cell_type": "code",
   "execution_count": 58,
   "id": "b6abee74",
   "metadata": {},
   "outputs": [],
   "source": [
    "retention_raw, retention = get_retention(\n",
    "    profiles, data, datetime(2019, 10, 1).date(), 30, ignore_horizon=False\n",
    ")"
   ]
  },
  {
   "cell_type": "markdown",
   "id": "bb6cb036",
   "metadata": {},
   "source": [
    "Построим хитмэп, но предварительно уберем первый столбец, тк редкие покупатели повторно вернулись за покупками и данные за первый месяц перекрывают все показатели."
   ]
  },
  {
   "cell_type": "code",
   "execution_count": 59,
   "id": "235599e9",
   "metadata": {
    "scrolled": false
   },
   "outputs": [
    {
     "data": {
      "image/png": "[encoded data removed]",
      "text/plain": [
       "<Figure size 1080x432 with 2 Axes>"
      ]
     },
     "metadata": {
      "needs_background": "light"
     },
     "output_type": "display_data"
    }
   ],
   "source": [
    "plt.figure(figsize=(15, 6))\n",
    "sns.heatmap(\n",
    "    retention.drop(columns=['cohort_size',0]), \n",
    "    annot=True,\n",
    "    fmt='.2%',\n",
    "    \n",
    ")\n",
    "plt.title('Тепловая карта удержания')\n",
    "plt.show()"
   ]
  },
  {
   "cell_type": "markdown",
   "id": "ec87fb9c",
   "metadata": {},
   "source": [
    "Когорта за май месяц 2019 показала наибольший показатель месяцев \"жизни\" после совершения первой покупки. Этот показатель составил 6 месяцев. Затем идет когорта от ноября месяца 2018."
   ]
  },
  {
   "cell_type": "code",
   "execution_count": 60,
   "id": "e6bb6587",
   "metadata": {},
   "outputs": [],
   "source": [
    "#retention.index"
   ]
  },
  {
   "cell_type": "code",
   "execution_count": 61,
   "id": "963c32d5",
   "metadata": {},
   "outputs": [
    {
     "data": {
      "image/png": "[encoded data removed]",
      "text/plain": [
       "<Figure size 1080x360 with 2 Axes>"
      ]
     },
     "metadata": {
      "needs_background": "light"
     },
     "output_type": "display_data"
    }
   ],
   "source": [
    "plt.figure(figsize=(15, 5))\n",
    "ax1 = plt.subplot(1, 2, 1)\n",
    "retention.drop(columns = ['cohort_size',0]).drop(['2019-01-01',\\\n",
    "               '2019-02-01', '2019-03-01', '2019-04-01', '2019-05-01','2019-06-01', \\\n",
    "                '2019-07-01', '2019-08-01', '2019-09-01']).T.plot(\n",
    "    grid=True,\n",
    "    ax=ax1\n",
    "    \n",
    ")\n",
    "plt.legend()\n",
    "plt.xlabel('Лайфтайм')\n",
    "plt.title('Кривые удержания по месяцам привлечения  в 2018')\n",
    "\n",
    "ax2 = plt.subplot(1, 2, 2, sharey=ax1)\n",
    "retention.drop(columns = ['cohort_size',0]).drop(['2018-10-01', '2018-11-01', '2018-12-01']).T.plot(\n",
    "    grid=True,\n",
    "    ax=ax2\n",
    "    \n",
    ")\n",
    "plt.legend()\n",
    "plt.xlabel('Лайфтайм')\n",
    "plt.title('Кривые удержания по месяцам привлечения  в 2019')\n",
    "\n",
    "plt.show()"
   ]
  },
  {
   "cell_type": "markdown",
   "id": "5b00e1a1",
   "metadata": {},
   "source": [
    "Кривые удержания отображают тот же процесс, но здесь нагляднее можно проследить за теми когортами, которые быстрее ушли в ноль. Это когорты за сентябрь 2019(всего 1 месяц), декабрь 2018, июнь 2019. В целом все покупатели плохо удерживаются."
   ]
  },
  {
   "cell_type": "markdown",
   "id": "2f94c8b3",
   "metadata": {},
   "source": [
    "### Распределение товаров по категориям."
   ]
  },
  {
   "cell_type": "code",
   "execution_count": 62,
   "id": "ff41eef2",
   "metadata": {},
   "outputs": [
    {
     "data": {
      "text/html": [
       "<div>\n",
       "<style scoped>\n",
       "    .dataframe tbody tr th:only-of-type {\n",
       "        vertical-align: middle;\n",
       "    }\n",
       "\n",
       "    .dataframe tbody tr th {\n",
       "        vertical-align: top;\n",
       "    }\n",
       "\n",
       "    .dataframe thead th {\n",
       "        text-align: right;\n",
       "    }\n",
       "</style>\n",
       "<table border=\"1\" class=\"dataframe\">\n",
       "  <thead>\n",
       "    <tr style=\"text-align: right;\">\n",
       "      <th></th>\n",
       "      <th>date</th>\n",
       "      <th>customer_id</th>\n",
       "      <th>order_id</th>\n",
       "      <th>product</th>\n",
       "      <th>quantity</th>\n",
       "      <th>price</th>\n",
       "      <th>date_datetime</th>\n",
       "      <th>new</th>\n",
       "      <th>year_month</th>\n",
       "    </tr>\n",
       "  </thead>\n",
       "  <tbody>\n",
       "    <tr>\n",
       "      <th>0</th>\n",
       "      <td>2018100100</td>\n",
       "      <td>ee47d746-6d2f-4d3c-9622-c31412542920</td>\n",
       "      <td>68477</td>\n",
       "      <td>комнатное растение в горшке алое вера, d12, h30</td>\n",
       "      <td>1</td>\n",
       "      <td>142</td>\n",
       "      <td>2018-10-01</td>\n",
       "      <td>комнатное растение в горшке алое вера d12 h30</td>\n",
       "      <td>2018-10-01</td>\n",
       "    </tr>\n",
       "    <tr>\n",
       "      <th>1</th>\n",
       "      <td>2018100100</td>\n",
       "      <td>ee47d746-6d2f-4d3c-9622-c31412542920</td>\n",
       "      <td>68477</td>\n",
       "      <td>комнатное растение в горшке кофе арабика, d12,...</td>\n",
       "      <td>1</td>\n",
       "      <td>194</td>\n",
       "      <td>2018-10-01</td>\n",
       "      <td>комнатное растение в горшке кофе арабика d12 h25</td>\n",
       "      <td>2018-10-01</td>\n",
       "    </tr>\n",
       "    <tr>\n",
       "      <th>2</th>\n",
       "      <td>2018100100</td>\n",
       "      <td>ee47d746-6d2f-4d3c-9622-c31412542920</td>\n",
       "      <td>68477</td>\n",
       "      <td>радермахера d-12 см h-20 см</td>\n",
       "      <td>1</td>\n",
       "      <td>112</td>\n",
       "      <td>2018-10-01</td>\n",
       "      <td>радермахера d12 см h20 см</td>\n",
       "      <td>2018-10-01</td>\n",
       "    </tr>\n",
       "    <tr>\n",
       "      <th>3</th>\n",
       "      <td>2018100100</td>\n",
       "      <td>ee47d746-6d2f-4d3c-9622-c31412542920</td>\n",
       "      <td>68477</td>\n",
       "      <td>хризолидокарпус лутесценс d-9 см</td>\n",
       "      <td>1</td>\n",
       "      <td>179</td>\n",
       "      <td>2018-10-01</td>\n",
       "      <td>хризолидокарпус лутесценс d9 см</td>\n",
       "      <td>2018-10-01</td>\n",
       "    </tr>\n",
       "    <tr>\n",
       "      <th>4</th>\n",
       "      <td>2018100100</td>\n",
       "      <td>ee47d746-6d2f-4d3c-9622-c31412542920</td>\n",
       "      <td>68477</td>\n",
       "      <td>циперус зумула d-12 см h-25 см</td>\n",
       "      <td>1</td>\n",
       "      <td>112</td>\n",
       "      <td>2018-10-01</td>\n",
       "      <td>циперус зумула d12 см h25 см</td>\n",
       "      <td>2018-10-01</td>\n",
       "    </tr>\n",
       "  </tbody>\n",
       "</table>\n",
       "</div>"
      ],
      "text/plain": [
       "         date                           customer_id  order_id  \\\n",
       "0  2018100100  ee47d746-6d2f-4d3c-9622-c31412542920     68477   \n",
       "1  2018100100  ee47d746-6d2f-4d3c-9622-c31412542920     68477   \n",
       "2  2018100100  ee47d746-6d2f-4d3c-9622-c31412542920     68477   \n",
       "3  2018100100  ee47d746-6d2f-4d3c-9622-c31412542920     68477   \n",
       "4  2018100100  ee47d746-6d2f-4d3c-9622-c31412542920     68477   \n",
       "\n",
       "                                             product  quantity  price  \\\n",
       "0    комнатное растение в горшке алое вера, d12, h30         1    142   \n",
       "1  комнатное растение в горшке кофе арабика, d12,...         1    194   \n",
       "2                        радермахера d-12 см h-20 см         1    112   \n",
       "3                   хризолидокарпус лутесценс d-9 см         1    179   \n",
       "4                     циперус зумула d-12 см h-25 см         1    112   \n",
       "\n",
       "  date_datetime                                               new year_month  \n",
       "0    2018-10-01     комнатное растение в горшке алое вера d12 h30 2018-10-01  \n",
       "1    2018-10-01  комнатное растение в горшке кофе арабика d12 h25 2018-10-01  \n",
       "2    2018-10-01                         радермахера d12 см h20 см 2018-10-01  \n",
       "3    2018-10-01                   хризолидокарпус лутесценс d9 см 2018-10-01  \n",
       "4    2018-10-01                      циперус зумула d12 см h25 см 2018-10-01  "
      ]
     },
     "execution_count": 62,
     "metadata": {},
     "output_type": "execute_result"
    }
   ],
   "source": [
    "data.head()"
   ]
  },
  {
   "cell_type": "code",
   "execution_count": 63,
   "id": "7375b1c6",
   "metadata": {
    "scrolled": true
   },
   "outputs": [],
   "source": [
    "# print('Количество уникальных названий товаров: ', len(data['new'].unique()))\n",
    "# for i in data['new'].unique():\n",
    "#     print(i)"
   ]
  },
  {
   "cell_type": "code",
   "execution_count": 64,
   "id": "45fd5baf",
   "metadata": {},
   "outputs": [],
   "source": [
    "# df= pd.DataFrame()\n",
    "# for i in range(len(data['new'])):\n",
    "#     if data['new'].str.contains('сверло')[i] == True:\n",
    "#         df = df.append(data.loc[i])\n",
    "#         print(i)\n",
    "# df['new'].unique()"
   ]
  },
  {
   "cell_type": "markdown",
   "id": "f7804425",
   "metadata": {},
   "source": [
    "Теперь все эти товары нужно разделить на категории. Будут следующие категории: Товары для кухни, Садоводство, Товары для дома, Строительные принадлежности. Нужно создать словарь со значениями, где ключами будет название категории. Тк товаров из раздела \"садоводство\" больше всего, эти товары вносить в словарь не будем, эту категорию впишем автоматически при определении категории товара ниже."
   ]
  },
  {
   "cell_type": "code",
   "execution_count": 65,
   "id": "e02622bd",
   "metadata": {},
   "outputs": [],
   "source": [
    "category_dict = {\n",
    "    \"build\": [\"напильников\", 'инструментов', 'лестница', 'стремянка', 'стяжка', 'котел', \\\n",
    "                                    'шпингалет', 'пружина', 'сверло', 'сварка', 'корыто', 'угольник', 'линейка', \\\n",
    "                                    'бензин', 'петля','ручкаскоба','фал', 'основание', 'оконный', 'решетка', \\\n",
    "                                    'пьезозажигалка', 'шпагат', 'камнеломка','штангенциркуль'],  \n",
    "    \n",
    "    \"kitchen\": [\"контейнер\", 'вилка','ложка', 'ножи', \"кружка\", 'толкушка','бокалы', 'лопатка', 'крышка', \\\n",
    "                        'сковорода', 'чайный', 'фужеры', 'минисковорода', 'тарелка', 'нож', 'фужеров',\\\n",
    "                       'скатерть', 'кувшин', 'чайник', 'банка', 'противень', 'миксер', 'масленка', 'салатник', \\\n",
    "                        'терка', 'овощеварка', 'стакан', 'лоток', 'губка', 'салфетница', 'овощечистка', 'пробка',\\\n",
    "                        'ковш', 'мантоварка', 'картофелемялка','рассекатель','пресс','кексов','приборов','термос',\\\n",
    "                         'бульонница','электроштопор','блюдце','хлебница','кастрюля','веник','блюдце','емкость',\\\n",
    "                         'орехоколка', 'скалка', 'венчик', 'сито', 'миска', 'форма', 'тортница', 'блюдо',\\\n",
    "                         \"половник\", 'соковыжималка', 'соковарка', 'сахарница', 'сотейник'],\n",
    "    \n",
    "    \"home\": [\"вешалка\", 'чехол', 'муляж', 'ковер', 'салфетка', 'таз', 'сушилка', 'доска', 'сумка', \\\n",
    "                        'перчатки', 'гладильная', 'сушилка', 'подкладка', 'крючок', 'ерш', 'корзина', 'коврик',\\\n",
    "                       'плед', 'дозатор', 'полки', 'урна','ведро', 'полотенце', 'подушка','плечики', 'кофр', \\\n",
    "                        'хранения', 'чистящий', 'щетка', 'термокружка', 'мыло', 'пена', 'штора', 'подрукавник', \\\n",
    "                        'тележка', 'стиральный', 'паста', 'карниз', 'швабра', 'подголовник', 'короб', 'наматрасник',\\\n",
    "                        'утюг', 'сиденье', 'шнур', 'сметка', 'халат', 'средство', 'держатель', 'декоративная', 'фен',\\\n",
    "                        'антижир', 'ящик', 'термометр', 'ролик', 'комод', 'шило', 'ополаскиватель', 'бальзам','сетка',\\\n",
    "                        'подставка','весы','покрывало','мыльница','штор','комплект','фоторамка','вантуз','ключница',\\\n",
    "                        'защитная', 'ведра', 'салфетки', 'пылесос','штанга','увлажняющая', 'подарочный', 'насадка',\\\n",
    "                        \"рукав\", 'посуды' , 'ткань','полка', \"простыня\", 'одеяло', 'совок','наволочка', 'тряпка',\\\n",
    "                        'этажерка','скребок', 'гладильной', 'мешок', 'корзинка','пододеяльник', 'ваза', 'пуф', 'стеллаж',\\\n",
    "                        'окномойка'],\n",
    "    \n",
    "}"
   ]
  },
  {
   "cell_type": "code",
   "execution_count": 66,
   "id": "d0d0aadb",
   "metadata": {},
   "outputs": [],
   "source": [
    "def categorize(row):\n",
    "    for key, value in category_dict.items():\n",
    "        for pattern in value:\n",
    "            if re.search(pattern, row['new']):\n",
    "                return key\n",
    "    return 'garden'"
   ]
  },
  {
   "cell_type": "code",
   "execution_count": 67,
   "id": "1e2057ad",
   "metadata": {},
   "outputs": [],
   "source": [
    "data['product_cat'] = data.apply(categorize, axis=1)"
   ]
  },
  {
   "cell_type": "code",
   "execution_count": 68,
   "id": "b143b33a",
   "metadata": {
    "scrolled": true
   },
   "outputs": [
    {
     "data": {
      "text/html": [
       "<div>\n",
       "<style scoped>\n",
       "    .dataframe tbody tr th:only-of-type {\n",
       "        vertical-align: middle;\n",
       "    }\n",
       "\n",
       "    .dataframe tbody tr th {\n",
       "        vertical-align: top;\n",
       "    }\n",
       "\n",
       "    .dataframe thead th {\n",
       "        text-align: right;\n",
       "    }\n",
       "</style>\n",
       "<table border=\"1\" class=\"dataframe\">\n",
       "  <thead>\n",
       "    <tr style=\"text-align: right;\">\n",
       "      <th></th>\n",
       "      <th>date</th>\n",
       "      <th>customer_id</th>\n",
       "      <th>order_id</th>\n",
       "      <th>product</th>\n",
       "      <th>quantity</th>\n",
       "      <th>price</th>\n",
       "      <th>date_datetime</th>\n",
       "      <th>new</th>\n",
       "      <th>year_month</th>\n",
       "      <th>product_cat</th>\n",
       "    </tr>\n",
       "  </thead>\n",
       "  <tbody>\n",
       "    <tr>\n",
       "      <th>0</th>\n",
       "      <td>2018100100</td>\n",
       "      <td>ee47d746-6d2f-4d3c-9622-c31412542920</td>\n",
       "      <td>68477</td>\n",
       "      <td>комнатное растение в горшке алое вера, d12, h30</td>\n",
       "      <td>1</td>\n",
       "      <td>142</td>\n",
       "      <td>2018-10-01</td>\n",
       "      <td>комнатное растение в горшке алое вера d12 h30</td>\n",
       "      <td>2018-10-01</td>\n",
       "      <td>garden</td>\n",
       "    </tr>\n",
       "    <tr>\n",
       "      <th>1</th>\n",
       "      <td>2018100100</td>\n",
       "      <td>ee47d746-6d2f-4d3c-9622-c31412542920</td>\n",
       "      <td>68477</td>\n",
       "      <td>комнатное растение в горшке кофе арабика, d12,...</td>\n",
       "      <td>1</td>\n",
       "      <td>194</td>\n",
       "      <td>2018-10-01</td>\n",
       "      <td>комнатное растение в горшке кофе арабика d12 h25</td>\n",
       "      <td>2018-10-01</td>\n",
       "      <td>garden</td>\n",
       "    </tr>\n",
       "    <tr>\n",
       "      <th>2</th>\n",
       "      <td>2018100100</td>\n",
       "      <td>ee47d746-6d2f-4d3c-9622-c31412542920</td>\n",
       "      <td>68477</td>\n",
       "      <td>радермахера d-12 см h-20 см</td>\n",
       "      <td>1</td>\n",
       "      <td>112</td>\n",
       "      <td>2018-10-01</td>\n",
       "      <td>радермахера d12 см h20 см</td>\n",
       "      <td>2018-10-01</td>\n",
       "      <td>garden</td>\n",
       "    </tr>\n",
       "    <tr>\n",
       "      <th>3</th>\n",
       "      <td>2018100100</td>\n",
       "      <td>ee47d746-6d2f-4d3c-9622-c31412542920</td>\n",
       "      <td>68477</td>\n",
       "      <td>хризолидокарпус лутесценс d-9 см</td>\n",
       "      <td>1</td>\n",
       "      <td>179</td>\n",
       "      <td>2018-10-01</td>\n",
       "      <td>хризолидокарпус лутесценс d9 см</td>\n",
       "      <td>2018-10-01</td>\n",
       "      <td>garden</td>\n",
       "    </tr>\n",
       "    <tr>\n",
       "      <th>4</th>\n",
       "      <td>2018100100</td>\n",
       "      <td>ee47d746-6d2f-4d3c-9622-c31412542920</td>\n",
       "      <td>68477</td>\n",
       "      <td>циперус зумула d-12 см h-25 см</td>\n",
       "      <td>1</td>\n",
       "      <td>112</td>\n",
       "      <td>2018-10-01</td>\n",
       "      <td>циперус зумула d12 см h25 см</td>\n",
       "      <td>2018-10-01</td>\n",
       "      <td>garden</td>\n",
       "    </tr>\n",
       "  </tbody>\n",
       "</table>\n",
       "</div>"
      ],
      "text/plain": [
       "         date                           customer_id  order_id  \\\n",
       "0  2018100100  ee47d746-6d2f-4d3c-9622-c31412542920     68477   \n",
       "1  2018100100  ee47d746-6d2f-4d3c-9622-c31412542920     68477   \n",
       "2  2018100100  ee47d746-6d2f-4d3c-9622-c31412542920     68477   \n",
       "3  2018100100  ee47d746-6d2f-4d3c-9622-c31412542920     68477   \n",
       "4  2018100100  ee47d746-6d2f-4d3c-9622-c31412542920     68477   \n",
       "\n",
       "                                             product  quantity  price  \\\n",
       "0    комнатное растение в горшке алое вера, d12, h30         1    142   \n",
       "1  комнатное растение в горшке кофе арабика, d12,...         1    194   \n",
       "2                        радермахера d-12 см h-20 см         1    112   \n",
       "3                   хризолидокарпус лутесценс d-9 см         1    179   \n",
       "4                     циперус зумула d-12 см h-25 см         1    112   \n",
       "\n",
       "  date_datetime                                               new year_month  \\\n",
       "0    2018-10-01     комнатное растение в горшке алое вера d12 h30 2018-10-01   \n",
       "1    2018-10-01  комнатное растение в горшке кофе арабика d12 h25 2018-10-01   \n",
       "2    2018-10-01                         радермахера d12 см h20 см 2018-10-01   \n",
       "3    2018-10-01                   хризолидокарпус лутесценс d9 см 2018-10-01   \n",
       "4    2018-10-01                      циперус зумула d12 см h25 см 2018-10-01   \n",
       "\n",
       "  product_cat  \n",
       "0      garden  \n",
       "1      garden  \n",
       "2      garden  \n",
       "3      garden  \n",
       "4      garden  "
      ]
     },
     "execution_count": 68,
     "metadata": {},
     "output_type": "execute_result"
    }
   ],
   "source": [
    "data.head()"
   ]
  },
  {
   "cell_type": "code",
   "execution_count": 69,
   "id": "dc1ab856",
   "metadata": {
    "scrolled": true
   },
   "outputs": [
    {
     "data": {
      "text/plain": [
       "array(['garden', 'home', 'kitchen', 'build'], dtype=object)"
      ]
     },
     "execution_count": 69,
     "metadata": {},
     "output_type": "execute_result"
    }
   ],
   "source": [
    "data['product_cat'].unique()"
   ]
  },
  {
   "cell_type": "markdown",
   "id": "18e03628",
   "metadata": {},
   "source": [
    "Теперь все товары распределены по 4 категориям. Расчитаем долю купленных товаров в каждой из категорий."
   ]
  },
  {
   "cell_type": "code",
   "execution_count": 70,
   "id": "e3f153e4",
   "metadata": {},
   "outputs": [],
   "source": [
    "count_cat = data.groupby('product_cat').agg({'new': 'count'}).sort_values('new', ascending=False)"
   ]
  },
  {
   "cell_type": "code",
   "execution_count": 71,
   "id": "6e7ce8b9",
   "metadata": {},
   "outputs": [],
   "source": [
    "count_cat['part']=count_cat['new']/data.shape[0]"
   ]
  },
  {
   "cell_type": "code",
   "execution_count": 72,
   "id": "f12498d2",
   "metadata": {},
   "outputs": [
    {
     "data": {
      "text/html": [
       "<style type=\"text/css\">\n",
       "#T_be15b_row0_col1 {\n",
       "  width: 10em;\n",
       "  height: 80%;\n",
       "  background: linear-gradient(90deg,green 100.0%, transparent 100.0%);\n",
       "}\n",
       "#T_be15b_row1_col1 {\n",
       "  width: 10em;\n",
       "  height: 80%;\n",
       "  background: linear-gradient(90deg,green 63.2%, transparent 63.2%);\n",
       "}\n",
       "#T_be15b_row2_col1 {\n",
       "  width: 10em;\n",
       "  height: 80%;\n",
       "  background: linear-gradient(90deg,green 10.8%, transparent 10.8%);\n",
       "}\n",
       "#T_be15b_row3_col1 {\n",
       "  width: 10em;\n",
       "  height: 80%;\n",
       "}\n",
       "</style>\n",
       "<table id=\"T_be15b_\">\n",
       "  <thead>\n",
       "    <tr>\n",
       "      <th class=\"blank level0\" >&nbsp;</th>\n",
       "      <th class=\"col_heading level0 col0\" >new</th>\n",
       "      <th class=\"col_heading level0 col1\" >part</th>\n",
       "    </tr>\n",
       "    <tr>\n",
       "      <th class=\"index_name level0\" >product_cat</th>\n",
       "      <th class=\"blank col0\" >&nbsp;</th>\n",
       "      <th class=\"blank col1\" >&nbsp;</th>\n",
       "    </tr>\n",
       "  </thead>\n",
       "  <tbody>\n",
       "    <tr>\n",
       "      <th id=\"T_be15b_level0_row0\" class=\"row_heading level0 row0\" >garden</th>\n",
       "      <td id=\"T_be15b_row0_col0\" class=\"data row0 col0\" >2553</td>\n",
       "      <td id=\"T_be15b_row0_col1\" class=\"data row0 col1\" >54.69%</td>\n",
       "    </tr>\n",
       "    <tr>\n",
       "      <th id=\"T_be15b_level0_row1\" class=\"row_heading level0 row1\" >home</th>\n",
       "      <td id=\"T_be15b_row1_col0\" class=\"data row1 col0\" >1651</td>\n",
       "      <td id=\"T_be15b_row1_col1\" class=\"data row1 col1\" >35.37%</td>\n",
       "    </tr>\n",
       "    <tr>\n",
       "      <th id=\"T_be15b_level0_row2\" class=\"row_heading level0 row2\" >kitchen</th>\n",
       "      <td id=\"T_be15b_row2_col0\" class=\"data row2 col0\" >365</td>\n",
       "      <td id=\"T_be15b_row2_col1\" class=\"data row2 col1\" >7.82%</td>\n",
       "    </tr>\n",
       "    <tr>\n",
       "      <th id=\"T_be15b_level0_row3\" class=\"row_heading level0 row3\" >build</th>\n",
       "      <td id=\"T_be15b_row3_col0\" class=\"data row3 col0\" >99</td>\n",
       "      <td id=\"T_be15b_row3_col1\" class=\"data row3 col1\" >2.12%</td>\n",
       "    </tr>\n",
       "  </tbody>\n",
       "</table>\n"
      ],
      "text/plain": [
       "<pandas.io.formats.style.Styler at 0x7f4516d15be0>"
      ]
     },
     "execution_count": 72,
     "metadata": {},
     "output_type": "execute_result"
    }
   ],
   "source": [
    "count_cat.style.format({'part':'{:,.2%}'.format}).bar('part', color='green')"
   ]
  },
  {
   "cell_type": "markdown",
   "id": "77321884",
   "metadata": {},
   "source": [
    "Более 61% товаров куплено из категории \"Садоводство\". Затем идут товары из категории \"Товары для дома\" (30.6%)."
   ]
  },
  {
   "cell_type": "markdown",
   "id": "7eed5dbc",
   "metadata": {},
   "source": [
    "###  Кластеризация клиентов по категории купленных товаров.\n",
    "Для начала нам нужно привести датасет к подходящему для категоризации виду.\n",
    "Удалим часть ненужных столбцов, например столбец date, product, new. Нужно оставить числовые данные и столбец со значением категорий, что в свою очередь мы преобразуем в числовые данные."
   ]
  },
  {
   "cell_type": "code",
   "execution_count": 73,
   "id": "1a7b3a7a",
   "metadata": {
    "scrolled": false
   },
   "outputs": [
    {
     "data": {
      "text/html": [
       "<div>\n",
       "<style scoped>\n",
       "    .dataframe tbody tr th:only-of-type {\n",
       "        vertical-align: middle;\n",
       "    }\n",
       "\n",
       "    .dataframe tbody tr th {\n",
       "        vertical-align: top;\n",
       "    }\n",
       "\n",
       "    .dataframe thead th {\n",
       "        text-align: right;\n",
       "    }\n",
       "</style>\n",
       "<table border=\"1\" class=\"dataframe\">\n",
       "  <thead>\n",
       "    <tr style=\"text-align: right;\">\n",
       "      <th></th>\n",
       "      <th>date</th>\n",
       "      <th>customer_id</th>\n",
       "      <th>order_id</th>\n",
       "      <th>product</th>\n",
       "      <th>quantity</th>\n",
       "      <th>price</th>\n",
       "      <th>date_datetime</th>\n",
       "      <th>new</th>\n",
       "      <th>year_month</th>\n",
       "      <th>product_cat</th>\n",
       "    </tr>\n",
       "  </thead>\n",
       "  <tbody>\n",
       "    <tr>\n",
       "      <th>0</th>\n",
       "      <td>2018100100</td>\n",
       "      <td>ee47d746-6d2f-4d3c-9622-c31412542920</td>\n",
       "      <td>68477</td>\n",
       "      <td>комнатное растение в горшке алое вера, d12, h30</td>\n",
       "      <td>1</td>\n",
       "      <td>142</td>\n",
       "      <td>2018-10-01</td>\n",
       "      <td>комнатное растение в горшке алое вера d12 h30</td>\n",
       "      <td>2018-10-01</td>\n",
       "      <td>garden</td>\n",
       "    </tr>\n",
       "    <tr>\n",
       "      <th>1</th>\n",
       "      <td>2018100100</td>\n",
       "      <td>ee47d746-6d2f-4d3c-9622-c31412542920</td>\n",
       "      <td>68477</td>\n",
       "      <td>комнатное растение в горшке кофе арабика, d12,...</td>\n",
       "      <td>1</td>\n",
       "      <td>194</td>\n",
       "      <td>2018-10-01</td>\n",
       "      <td>комнатное растение в горшке кофе арабика d12 h25</td>\n",
       "      <td>2018-10-01</td>\n",
       "      <td>garden</td>\n",
       "    </tr>\n",
       "    <tr>\n",
       "      <th>2</th>\n",
       "      <td>2018100100</td>\n",
       "      <td>ee47d746-6d2f-4d3c-9622-c31412542920</td>\n",
       "      <td>68477</td>\n",
       "      <td>радермахера d-12 см h-20 см</td>\n",
       "      <td>1</td>\n",
       "      <td>112</td>\n",
       "      <td>2018-10-01</td>\n",
       "      <td>радермахера d12 см h20 см</td>\n",
       "      <td>2018-10-01</td>\n",
       "      <td>garden</td>\n",
       "    </tr>\n",
       "    <tr>\n",
       "      <th>3</th>\n",
       "      <td>2018100100</td>\n",
       "      <td>ee47d746-6d2f-4d3c-9622-c31412542920</td>\n",
       "      <td>68477</td>\n",
       "      <td>хризолидокарпус лутесценс d-9 см</td>\n",
       "      <td>1</td>\n",
       "      <td>179</td>\n",
       "      <td>2018-10-01</td>\n",
       "      <td>хризолидокарпус лутесценс d9 см</td>\n",
       "      <td>2018-10-01</td>\n",
       "      <td>garden</td>\n",
       "    </tr>\n",
       "    <tr>\n",
       "      <th>4</th>\n",
       "      <td>2018100100</td>\n",
       "      <td>ee47d746-6d2f-4d3c-9622-c31412542920</td>\n",
       "      <td>68477</td>\n",
       "      <td>циперус зумула d-12 см h-25 см</td>\n",
       "      <td>1</td>\n",
       "      <td>112</td>\n",
       "      <td>2018-10-01</td>\n",
       "      <td>циперус зумула d12 см h25 см</td>\n",
       "      <td>2018-10-01</td>\n",
       "      <td>garden</td>\n",
       "    </tr>\n",
       "  </tbody>\n",
       "</table>\n",
       "</div>"
      ],
      "text/plain": [
       "         date                           customer_id  order_id  \\\n",
       "0  2018100100  ee47d746-6d2f-4d3c-9622-c31412542920     68477   \n",
       "1  2018100100  ee47d746-6d2f-4d3c-9622-c31412542920     68477   \n",
       "2  2018100100  ee47d746-6d2f-4d3c-9622-c31412542920     68477   \n",
       "3  2018100100  ee47d746-6d2f-4d3c-9622-c31412542920     68477   \n",
       "4  2018100100  ee47d746-6d2f-4d3c-9622-c31412542920     68477   \n",
       "\n",
       "                                             product  quantity  price  \\\n",
       "0    комнатное растение в горшке алое вера, d12, h30         1    142   \n",
       "1  комнатное растение в горшке кофе арабика, d12,...         1    194   \n",
       "2                        радермахера d-12 см h-20 см         1    112   \n",
       "3                   хризолидокарпус лутесценс d-9 см         1    179   \n",
       "4                     циперус зумула d-12 см h-25 см         1    112   \n",
       "\n",
       "  date_datetime                                               new year_month  \\\n",
       "0    2018-10-01     комнатное растение в горшке алое вера d12 h30 2018-10-01   \n",
       "1    2018-10-01  комнатное растение в горшке кофе арабика d12 h25 2018-10-01   \n",
       "2    2018-10-01                         радермахера d12 см h20 см 2018-10-01   \n",
       "3    2018-10-01                   хризолидокарпус лутесценс d9 см 2018-10-01   \n",
       "4    2018-10-01                      циперус зумула d12 см h25 см 2018-10-01   \n",
       "\n",
       "  product_cat  \n",
       "0      garden  \n",
       "1      garden  \n",
       "2      garden  \n",
       "3      garden  \n",
       "4      garden  "
      ]
     },
     "execution_count": 73,
     "metadata": {},
     "output_type": "execute_result"
    }
   ],
   "source": [
    "data.head()"
   ]
  },
  {
   "cell_type": "markdown",
   "id": "f3a30f28",
   "metadata": {},
   "source": [
    "Группируем данные по клиентам и посмотрим какие количество категорий было выбранно покупателями."
   ]
  },
  {
   "cell_type": "code",
   "execution_count": 74,
   "id": "b467ca71",
   "metadata": {
    "scrolled": true
   },
   "outputs": [
    {
     "data": {
      "text/html": [
       "<div>\n",
       "<style scoped>\n",
       "    .dataframe tbody tr th:only-of-type {\n",
       "        vertical-align: middle;\n",
       "    }\n",
       "\n",
       "    .dataframe tbody tr th {\n",
       "        vertical-align: top;\n",
       "    }\n",
       "\n",
       "    .dataframe thead th {\n",
       "        text-align: right;\n",
       "    }\n",
       "</style>\n",
       "<table border=\"1\" class=\"dataframe\">\n",
       "  <thead>\n",
       "    <tr style=\"text-align: right;\">\n",
       "      <th></th>\n",
       "      <th>product_cat</th>\n",
       "    </tr>\n",
       "    <tr>\n",
       "      <th>customer_id</th>\n",
       "      <th></th>\n",
       "    </tr>\n",
       "  </thead>\n",
       "  <tbody>\n",
       "    <tr>\n",
       "      <th>6a86cc77-ef15-496f-b5d3-89005597ee5d</th>\n",
       "      <td>3</td>\n",
       "    </tr>\n",
       "    <tr>\n",
       "      <th>e8a27cb1-6d5a-4161-aac4-11df7dfb4a0e</th>\n",
       "      <td>3</td>\n",
       "    </tr>\n",
       "    <tr>\n",
       "      <th>3414d523-5337-49b9-84f5-dd151a0b5077</th>\n",
       "      <td>3</td>\n",
       "    </tr>\n",
       "    <tr>\n",
       "      <th>6dbae21e-4b94-4b16-9548-24aadf146ae2</th>\n",
       "      <td>3</td>\n",
       "    </tr>\n",
       "    <tr>\n",
       "      <th>e72fcd9e-d3d0-4a40-8910-6bce6e794aed</th>\n",
       "      <td>3</td>\n",
       "    </tr>\n",
       "  </tbody>\n",
       "</table>\n",
       "</div>"
      ],
      "text/plain": [
       "                                      product_cat\n",
       "customer_id                                      \n",
       "6a86cc77-ef15-496f-b5d3-89005597ee5d            3\n",
       "e8a27cb1-6d5a-4161-aac4-11df7dfb4a0e            3\n",
       "3414d523-5337-49b9-84f5-dd151a0b5077            3\n",
       "6dbae21e-4b94-4b16-9548-24aadf146ae2            3\n",
       "e72fcd9e-d3d0-4a40-8910-6bce6e794aed            3"
      ]
     },
     "execution_count": 74,
     "metadata": {},
     "output_type": "execute_result"
    }
   ],
   "source": [
    "data.groupby('customer_id').agg({'product_cat': 'nunique'}).sort_values(by='product_cat', ascending=False).head()"
   ]
  },
  {
   "cell_type": "code",
   "execution_count": 75,
   "id": "eeb339c5",
   "metadata": {
    "scrolled": true
   },
   "outputs": [
    {
     "data": {
      "text/plain": [
       "array([1, 2, 3])"
      ]
     },
     "execution_count": 75,
     "metadata": {},
     "output_type": "execute_result"
    }
   ],
   "source": [
    "data.groupby('customer_id').agg({'product_cat': 'nunique'})['product_cat'].unique()"
   ]
  },
  {
   "cell_type": "markdown",
   "id": "7716d4cb",
   "metadata": {},
   "source": [
    "В данных присутствуют такие клиенты, которые выбрали товары из трех различных категорий. Теперь проведем кластеризацию клиентов."
   ]
  },
  {
   "cell_type": "code",
   "execution_count": 76,
   "id": "4867aa4a",
   "metadata": {
    "scrolled": true
   },
   "outputs": [
    {
     "name": "stdout",
     "output_type": "stream",
     "text": [
      "<class 'pandas.core.frame.DataFrame'>\n",
      "RangeIndex: 2658 entries, 0 to 2657\n",
      "Data columns (total 2 columns):\n",
      " #   Column       Non-Null Count  Dtype \n",
      "---  ------       --------------  ----- \n",
      " 0   order_id     2658 non-null   int64 \n",
      " 1   product_cat  2658 non-null   object\n",
      "dtypes: int64(1), object(1)\n",
      "memory usage: 41.7+ KB\n"
     ]
    }
   ],
   "source": [
    "claster_df = data.loc[:,['order_id', 'product_cat']].drop_duplicates().reset_index(drop=True)\n",
    "claster_df.info()"
   ]
  },
  {
   "cell_type": "markdown",
   "id": "3c3e10bd",
   "metadata": {},
   "source": [
    "Теперь преобразуем получившийся датафрейм в такой вид, где в название колонок перейдут названия категорий, а сами значения будут числовыми и будут содержать только 0 и 1."
   ]
  },
  {
   "cell_type": "code",
   "execution_count": 77,
   "id": "574037ab",
   "metadata": {
    "scrolled": true
   },
   "outputs": [
    {
     "data": {
      "text/html": [
       "<div>\n",
       "<style scoped>\n",
       "    .dataframe tbody tr th:only-of-type {\n",
       "        vertical-align: middle;\n",
       "    }\n",
       "\n",
       "    .dataframe tbody tr th {\n",
       "        vertical-align: top;\n",
       "    }\n",
       "\n",
       "    .dataframe thead th {\n",
       "        text-align: right;\n",
       "    }\n",
       "</style>\n",
       "<table border=\"1\" class=\"dataframe\">\n",
       "  <thead>\n",
       "    <tr style=\"text-align: right;\">\n",
       "      <th></th>\n",
       "      <th>order_id</th>\n",
       "      <th>product_cat_build</th>\n",
       "      <th>product_cat_garden</th>\n",
       "      <th>product_cat_home</th>\n",
       "      <th>product_cat_kitchen</th>\n",
       "    </tr>\n",
       "  </thead>\n",
       "  <tbody>\n",
       "    <tr>\n",
       "      <th>0</th>\n",
       "      <td>68477</td>\n",
       "      <td>0</td>\n",
       "      <td>1</td>\n",
       "      <td>0</td>\n",
       "      <td>0</td>\n",
       "    </tr>\n",
       "    <tr>\n",
       "      <th>1</th>\n",
       "      <td>68479</td>\n",
       "      <td>0</td>\n",
       "      <td>0</td>\n",
       "      <td>1</td>\n",
       "      <td>0</td>\n",
       "    </tr>\n",
       "    <tr>\n",
       "      <th>2</th>\n",
       "      <td>68478</td>\n",
       "      <td>0</td>\n",
       "      <td>0</td>\n",
       "      <td>1</td>\n",
       "      <td>0</td>\n",
       "    </tr>\n",
       "    <tr>\n",
       "      <th>3</th>\n",
       "      <td>68483</td>\n",
       "      <td>0</td>\n",
       "      <td>0</td>\n",
       "      <td>1</td>\n",
       "      <td>0</td>\n",
       "    </tr>\n",
       "    <tr>\n",
       "      <th>4</th>\n",
       "      <td>68484</td>\n",
       "      <td>0</td>\n",
       "      <td>0</td>\n",
       "      <td>1</td>\n",
       "      <td>0</td>\n",
       "    </tr>\n",
       "  </tbody>\n",
       "</table>\n",
       "</div>"
      ],
      "text/plain": [
       "   order_id  product_cat_build  product_cat_garden  product_cat_home  \\\n",
       "0     68477                  0                   1                 0   \n",
       "1     68479                  0                   0                 1   \n",
       "2     68478                  0                   0                 1   \n",
       "3     68483                  0                   0                 1   \n",
       "4     68484                  0                   0                 1   \n",
       "\n",
       "   product_cat_kitchen  \n",
       "0                    0  \n",
       "1                    0  \n",
       "2                    0  \n",
       "3                    0  \n",
       "4                    0  "
      ]
     },
     "execution_count": 77,
     "metadata": {},
     "output_type": "execute_result"
    }
   ],
   "source": [
    "claster_df = pd.get_dummies(claster_df)\n",
    "claster_df.head()"
   ]
  },
  {
   "cell_type": "markdown",
   "id": "05818e84",
   "metadata": {},
   "source": [
    "Некоторые заказы содержат товары из разных категорий. Найдем эти заказы, и \"просуммируем\" значения категорий для каждого заказа."
   ]
  },
  {
   "cell_type": "code",
   "execution_count": 78,
   "id": "6f373a5c",
   "metadata": {},
   "outputs": [],
   "source": [
    "claster_df['sum_cat']=claster_df['product_cat_garden']+claster_df['product_cat_build']+\\\n",
    "claster_df['product_cat_home']+claster_df['product_cat_kitchen']"
   ]
  },
  {
   "cell_type": "code",
   "execution_count": 79,
   "id": "074e383a",
   "metadata": {},
   "outputs": [
    {
     "data": {
      "text/html": [
       "<div>\n",
       "<style scoped>\n",
       "    .dataframe tbody tr th:only-of-type {\n",
       "        vertical-align: middle;\n",
       "    }\n",
       "\n",
       "    .dataframe tbody tr th {\n",
       "        vertical-align: top;\n",
       "    }\n",
       "\n",
       "    .dataframe thead th {\n",
       "        text-align: right;\n",
       "    }\n",
       "</style>\n",
       "<table border=\"1\" class=\"dataframe\">\n",
       "  <thead>\n",
       "    <tr style=\"text-align: right;\">\n",
       "      <th></th>\n",
       "      <th>sum_cat</th>\n",
       "    </tr>\n",
       "    <tr>\n",
       "      <th>order_id</th>\n",
       "      <th></th>\n",
       "    </tr>\n",
       "  </thead>\n",
       "  <tbody>\n",
       "    <tr>\n",
       "      <th>68965</th>\n",
       "      <td>3</td>\n",
       "    </tr>\n",
       "    <tr>\n",
       "      <th>68735</th>\n",
       "      <td>3</td>\n",
       "    </tr>\n",
       "    <tr>\n",
       "      <th>69104</th>\n",
       "      <td>3</td>\n",
       "    </tr>\n",
       "    <tr>\n",
       "      <th>68521</th>\n",
       "      <td>3</td>\n",
       "    </tr>\n",
       "    <tr>\n",
       "      <th>69090</th>\n",
       "      <td>3</td>\n",
       "    </tr>\n",
       "    <tr>\n",
       "      <th>68523</th>\n",
       "      <td>3</td>\n",
       "    </tr>\n",
       "    <tr>\n",
       "      <th>68801</th>\n",
       "      <td>2</td>\n",
       "    </tr>\n",
       "    <tr>\n",
       "      <th>14682</th>\n",
       "      <td>2</td>\n",
       "    </tr>\n",
       "    <tr>\n",
       "      <th>69050</th>\n",
       "      <td>2</td>\n",
       "    </tr>\n",
       "    <tr>\n",
       "      <th>69527</th>\n",
       "      <td>2</td>\n",
       "    </tr>\n",
       "  </tbody>\n",
       "</table>\n",
       "</div>"
      ],
      "text/plain": [
       "          sum_cat\n",
       "order_id         \n",
       "68965           3\n",
       "68735           3\n",
       "69104           3\n",
       "68521           3\n",
       "69090           3\n",
       "68523           3\n",
       "68801           2\n",
       "14682           2\n",
       "69050           2\n",
       "69527           2"
      ]
     },
     "execution_count": 79,
     "metadata": {},
     "output_type": "execute_result"
    }
   ],
   "source": [
    "claster_df.groupby('order_id').agg({'sum_cat':'sum'}).sort_values('sum_cat', ascending=False).head(10)"
   ]
  },
  {
   "cell_type": "code",
   "execution_count": 80,
   "id": "521fa8cb",
   "metadata": {},
   "outputs": [],
   "source": [
    "# mix_cat = claster_df.groupby('order_id').agg({'sum_cat':'sum'}).query('sum_cat>1').index"
   ]
  },
  {
   "cell_type": "code",
   "execution_count": 81,
   "id": "fe70d27e",
   "metadata": {
    "scrolled": true
   },
   "outputs": [],
   "source": [
    "# mix_cat"
   ]
  },
  {
   "cell_type": "code",
   "execution_count": 82,
   "id": "33d06108",
   "metadata": {
    "scrolled": false
   },
   "outputs": [],
   "source": [
    "# d1 = claster_df.query('order_id in [69177, 14514, 14611]').reset_index(drop=True)\n",
    "# d1"
   ]
  },
  {
   "cell_type": "code",
   "execution_count": 83,
   "id": "5a1304d6",
   "metadata": {},
   "outputs": [],
   "source": [
    "# df= pd.DataFrame()\n",
    "# c=0\n",
    "# for index in d1['order_id'].unique():\n",
    "#     for column in d1.drop('order_id',axis = 1).columns:\n",
    "#         d2 = d1.loc[d1.loc[:,'order_id']==index]\n",
    "#         df.loc[c,'order_id']=index\n",
    "#         df.loc[c,column] = d2[column].sum()\n",
    "#     c=c+1"
   ]
  },
  {
   "cell_type": "code",
   "execution_count": 84,
   "id": "2a427660",
   "metadata": {},
   "outputs": [],
   "source": [
    "claster_sum = pd.DataFrame()\n",
    "c=0\n",
    "for index in claster_df['order_id'].unique():\n",
    "    for column in claster_df.drop('order_id',axis = 1).columns:\n",
    "        d2 = claster_df.loc[claster_df.loc[:,'order_id']==index]\n",
    "        claster_sum.loc[c,'order_id']=index\n",
    "        claster_sum.loc[c,column] = d2[column].sum()\n",
    "    c=c+1"
   ]
  },
  {
   "cell_type": "code",
   "execution_count": 85,
   "id": "81883eb6",
   "metadata": {
    "scrolled": true
   },
   "outputs": [
    {
     "name": "stdout",
     "output_type": "stream",
     "text": [
      "<class 'pandas.core.frame.DataFrame'>\n",
      "Int64Index: 2606 entries, 0 to 2605\n",
      "Data columns (total 6 columns):\n",
      " #   Column               Non-Null Count  Dtype  \n",
      "---  ------               --------------  -----  \n",
      " 0   order_id             2606 non-null   float64\n",
      " 1   product_cat_build    2606 non-null   float64\n",
      " 2   product_cat_garden   2606 non-null   float64\n",
      " 3   product_cat_home     2606 non-null   float64\n",
      " 4   product_cat_kitchen  2606 non-null   float64\n",
      " 5   sum_cat              2606 non-null   float64\n",
      "dtypes: float64(6)\n",
      "memory usage: 207.1 KB\n"
     ]
    }
   ],
   "source": [
    "claster_sum.info()"
   ]
  },
  {
   "cell_type": "markdown",
   "id": "fb44fe9f",
   "metadata": {},
   "source": [
    "Все значения стали float, изменим их на int."
   ]
  },
  {
   "cell_type": "code",
   "execution_count": 86,
   "id": "77a6b683",
   "metadata": {},
   "outputs": [],
   "source": [
    "for column in claster_sum.columns:\n",
    "    claster_sum[column] = claster_sum[column].astype('int')"
   ]
  },
  {
   "cell_type": "code",
   "execution_count": 87,
   "id": "83fdc1fe",
   "metadata": {},
   "outputs": [
    {
     "data": {
      "text/html": [
       "<div>\n",
       "<style scoped>\n",
       "    .dataframe tbody tr th:only-of-type {\n",
       "        vertical-align: middle;\n",
       "    }\n",
       "\n",
       "    .dataframe tbody tr th {\n",
       "        vertical-align: top;\n",
       "    }\n",
       "\n",
       "    .dataframe thead th {\n",
       "        text-align: right;\n",
       "    }\n",
       "</style>\n",
       "<table border=\"1\" class=\"dataframe\">\n",
       "  <thead>\n",
       "    <tr style=\"text-align: right;\">\n",
       "      <th></th>\n",
       "      <th>order_id</th>\n",
       "      <th>product_cat_build</th>\n",
       "      <th>product_cat_garden</th>\n",
       "      <th>product_cat_home</th>\n",
       "      <th>product_cat_kitchen</th>\n",
       "      <th>sum_cat</th>\n",
       "    </tr>\n",
       "  </thead>\n",
       "  <tbody>\n",
       "    <tr>\n",
       "      <th>0</th>\n",
       "      <td>68477</td>\n",
       "      <td>0</td>\n",
       "      <td>1</td>\n",
       "      <td>0</td>\n",
       "      <td>0</td>\n",
       "      <td>1</td>\n",
       "    </tr>\n",
       "    <tr>\n",
       "      <th>1</th>\n",
       "      <td>68479</td>\n",
       "      <td>0</td>\n",
       "      <td>0</td>\n",
       "      <td>1</td>\n",
       "      <td>0</td>\n",
       "      <td>1</td>\n",
       "    </tr>\n",
       "    <tr>\n",
       "      <th>2</th>\n",
       "      <td>68478</td>\n",
       "      <td>0</td>\n",
       "      <td>0</td>\n",
       "      <td>1</td>\n",
       "      <td>0</td>\n",
       "      <td>1</td>\n",
       "    </tr>\n",
       "    <tr>\n",
       "      <th>3</th>\n",
       "      <td>68483</td>\n",
       "      <td>0</td>\n",
       "      <td>0</td>\n",
       "      <td>1</td>\n",
       "      <td>0</td>\n",
       "      <td>1</td>\n",
       "    </tr>\n",
       "    <tr>\n",
       "      <th>4</th>\n",
       "      <td>68484</td>\n",
       "      <td>0</td>\n",
       "      <td>0</td>\n",
       "      <td>1</td>\n",
       "      <td>0</td>\n",
       "      <td>1</td>\n",
       "    </tr>\n",
       "    <tr>\n",
       "      <th>5</th>\n",
       "      <td>68486</td>\n",
       "      <td>0</td>\n",
       "      <td>0</td>\n",
       "      <td>1</td>\n",
       "      <td>0</td>\n",
       "      <td>1</td>\n",
       "    </tr>\n",
       "    <tr>\n",
       "      <th>6</th>\n",
       "      <td>68487</td>\n",
       "      <td>0</td>\n",
       "      <td>0</td>\n",
       "      <td>1</td>\n",
       "      <td>0</td>\n",
       "      <td>1</td>\n",
       "    </tr>\n",
       "    <tr>\n",
       "      <th>7</th>\n",
       "      <td>68476</td>\n",
       "      <td>0</td>\n",
       "      <td>0</td>\n",
       "      <td>1</td>\n",
       "      <td>1</td>\n",
       "      <td>2</td>\n",
       "    </tr>\n",
       "    <tr>\n",
       "      <th>8</th>\n",
       "      <td>68474</td>\n",
       "      <td>0</td>\n",
       "      <td>0</td>\n",
       "      <td>1</td>\n",
       "      <td>0</td>\n",
       "      <td>1</td>\n",
       "    </tr>\n",
       "    <tr>\n",
       "      <th>9</th>\n",
       "      <td>14480</td>\n",
       "      <td>0</td>\n",
       "      <td>1</td>\n",
       "      <td>0</td>\n",
       "      <td>0</td>\n",
       "      <td>1</td>\n",
       "    </tr>\n",
       "  </tbody>\n",
       "</table>\n",
       "</div>"
      ],
      "text/plain": [
       "   order_id  product_cat_build  product_cat_garden  product_cat_home  \\\n",
       "0     68477                  0                   1                 0   \n",
       "1     68479                  0                   0                 1   \n",
       "2     68478                  0                   0                 1   \n",
       "3     68483                  0                   0                 1   \n",
       "4     68484                  0                   0                 1   \n",
       "5     68486                  0                   0                 1   \n",
       "6     68487                  0                   0                 1   \n",
       "7     68476                  0                   0                 1   \n",
       "8     68474                  0                   0                 1   \n",
       "9     14480                  0                   1                 0   \n",
       "\n",
       "   product_cat_kitchen  sum_cat  \n",
       "0                    0        1  \n",
       "1                    0        1  \n",
       "2                    0        1  \n",
       "3                    0        1  \n",
       "4                    0        1  \n",
       "5                    0        1  \n",
       "6                    0        1  \n",
       "7                    1        2  \n",
       "8                    0        1  \n",
       "9                    0        1  "
      ]
     },
     "execution_count": 87,
     "metadata": {},
     "output_type": "execute_result"
    }
   ],
   "source": [
    "claster_sum.head(10)"
   ]
  },
  {
   "cell_type": "code",
   "execution_count": 88,
   "id": "ba82d234",
   "metadata": {
    "scrolled": true
   },
   "outputs": [
    {
     "data": {
      "text/plain": [
       "array([1, 2, 3])"
      ]
     },
     "execution_count": 88,
     "metadata": {},
     "output_type": "execute_result"
    }
   ],
   "source": [
    "# для самопроверки посмотрим на уникальные значения в столбце sum_cat\n",
    "claster_sum['sum_cat'].unique()"
   ]
  },
  {
   "cell_type": "markdown",
   "id": "13305f74",
   "metadata": {},
   "source": [
    "Теперь можно проводить кластеризацию. Для этого зададим целевую переменную."
   ]
  },
  {
   "cell_type": "code",
   "execution_count": 89,
   "id": "5716dad1",
   "metadata": {},
   "outputs": [],
   "source": [
    "x = claster_sum.drop('product_cat_home', axis = 1)\n",
    "y = claster_sum['product_cat_home']"
   ]
  },
  {
   "cell_type": "code",
   "execution_count": 90,
   "id": "a3424734",
   "metadata": {},
   "outputs": [],
   "source": [
    "x_train, x_test, y_train, y_test = train_test_split(x, y, test_size=0.2)"
   ]
  },
  {
   "cell_type": "code",
   "execution_count": 91,
   "id": "e643faeb",
   "metadata": {},
   "outputs": [],
   "source": [
    "scaler = StandardScaler()\n",
    "x_train_st = scaler.fit_transform(x_train)"
   ]
  },
  {
   "cell_type": "code",
   "execution_count": 92,
   "id": "7f277128",
   "metadata": {},
   "outputs": [],
   "source": [
    "x_test_st = scaler.transform(x_test)"
   ]
  },
  {
   "cell_type": "code",
   "execution_count": 93,
   "id": "d1094f8a",
   "metadata": {},
   "outputs": [],
   "source": [
    "linked = linkage(x_test_st, method = 'ward') "
   ]
  },
  {
   "cell_type": "code",
   "execution_count": 94,
   "id": "47afeb05",
   "metadata": {},
   "outputs": [
    {
     "data": {
      "image/png": "[encoded data removed]",
      "text/plain": [
       "<Figure size 432x432 with 1 Axes>"
      ]
     },
     "metadata": {
      "needs_background": "light"
     },
     "output_type": "display_data"
    }
   ],
   "source": [
    "plt.figure(figsize=(6, 6))  \n",
    "dendrogram(linked, orientation='top')\n",
    "plt.title('Отображение кластеризации по категориям купленных товаров')\n",
    "plt.show()"
   ]
  },
  {
   "cell_type": "markdown",
   "id": "75102635",
   "metadata": {},
   "source": [
    "На дендрограмме присутствует 5 различных цветов, это значит что предполагается деление клиентов на 5 кластеров."
   ]
  },
  {
   "cell_type": "code",
   "execution_count": 95,
   "id": "d1afe5f2",
   "metadata": {},
   "outputs": [],
   "source": [
    "# Стандартизируем все признаки исходного датафрейма\n",
    "sc = StandardScaler()\n",
    "x_sc = sc.fit_transform(x)\n",
    "# задаём число кластеров, равное 5, и фиксируем значение random_state для воспроизводимости результата\n",
    "km = KMeans(n_clusters=5, random_state=0) \n",
    "# применяем алгоритм к данным и формируем вектор кластеров\n",
    "labels = km.fit_predict(x_sc) \n",
    "claster_sum['claster_client'] = labels"
   ]
  },
  {
   "cell_type": "code",
   "execution_count": 96,
   "id": "eb99d7c4",
   "metadata": {
    "scrolled": true
   },
   "outputs": [
    {
     "name": "stdout",
     "output_type": "stream",
     "text": [
      "Silhouette_score: 0.77\n"
     ]
    }
   ],
   "source": [
    "print('Silhouette_score: {:.2f}'.format(silhouette_score(x_sc, labels)))"
   ]
  },
  {
   "cell_type": "markdown",
   "id": "608ab165",
   "metadata": {},
   "source": [
    "Значение данного параметра довольно велико."
   ]
  },
  {
   "cell_type": "code",
   "execution_count": 97,
   "id": "e55aa9f4",
   "metadata": {
    "scrolled": true
   },
   "outputs": [
    {
     "data": {
      "text/html": [
       "<div>\n",
       "<style scoped>\n",
       "    .dataframe tbody tr th:only-of-type {\n",
       "        vertical-align: middle;\n",
       "    }\n",
       "\n",
       "    .dataframe tbody tr th {\n",
       "        vertical-align: top;\n",
       "    }\n",
       "\n",
       "    .dataframe thead th {\n",
       "        text-align: right;\n",
       "    }\n",
       "</style>\n",
       "<table border=\"1\" class=\"dataframe\">\n",
       "  <thead>\n",
       "    <tr style=\"text-align: right;\">\n",
       "      <th></th>\n",
       "      <th>order_id</th>\n",
       "      <th>product_cat_build</th>\n",
       "      <th>product_cat_garden</th>\n",
       "      <th>product_cat_home</th>\n",
       "      <th>product_cat_kitchen</th>\n",
       "      <th>sum_cat</th>\n",
       "      <th>claster_client</th>\n",
       "    </tr>\n",
       "  </thead>\n",
       "  <tbody>\n",
       "    <tr>\n",
       "      <th>0</th>\n",
       "      <td>68477</td>\n",
       "      <td>0</td>\n",
       "      <td>1</td>\n",
       "      <td>0</td>\n",
       "      <td>0</td>\n",
       "      <td>1</td>\n",
       "      <td>0</td>\n",
       "    </tr>\n",
       "    <tr>\n",
       "      <th>1</th>\n",
       "      <td>68479</td>\n",
       "      <td>0</td>\n",
       "      <td>0</td>\n",
       "      <td>1</td>\n",
       "      <td>0</td>\n",
       "      <td>1</td>\n",
       "      <td>0</td>\n",
       "    </tr>\n",
       "    <tr>\n",
       "      <th>2</th>\n",
       "      <td>68478</td>\n",
       "      <td>0</td>\n",
       "      <td>0</td>\n",
       "      <td>1</td>\n",
       "      <td>0</td>\n",
       "      <td>1</td>\n",
       "      <td>0</td>\n",
       "    </tr>\n",
       "    <tr>\n",
       "      <th>3</th>\n",
       "      <td>68483</td>\n",
       "      <td>0</td>\n",
       "      <td>0</td>\n",
       "      <td>1</td>\n",
       "      <td>0</td>\n",
       "      <td>1</td>\n",
       "      <td>0</td>\n",
       "    </tr>\n",
       "    <tr>\n",
       "      <th>4</th>\n",
       "      <td>68484</td>\n",
       "      <td>0</td>\n",
       "      <td>0</td>\n",
       "      <td>1</td>\n",
       "      <td>0</td>\n",
       "      <td>1</td>\n",
       "      <td>0</td>\n",
       "    </tr>\n",
       "    <tr>\n",
       "      <th>...</th>\n",
       "      <td>...</td>\n",
       "      <td>...</td>\n",
       "      <td>...</td>\n",
       "      <td>...</td>\n",
       "      <td>...</td>\n",
       "      <td>...</td>\n",
       "      <td>...</td>\n",
       "    </tr>\n",
       "    <tr>\n",
       "      <th>2601</th>\n",
       "      <td>73151</td>\n",
       "      <td>0</td>\n",
       "      <td>1</td>\n",
       "      <td>0</td>\n",
       "      <td>0</td>\n",
       "      <td>1</td>\n",
       "      <td>0</td>\n",
       "    </tr>\n",
       "    <tr>\n",
       "      <th>2602</th>\n",
       "      <td>73154</td>\n",
       "      <td>0</td>\n",
       "      <td>1</td>\n",
       "      <td>0</td>\n",
       "      <td>0</td>\n",
       "      <td>1</td>\n",
       "      <td>0</td>\n",
       "    </tr>\n",
       "    <tr>\n",
       "      <th>2603</th>\n",
       "      <td>73155</td>\n",
       "      <td>0</td>\n",
       "      <td>1</td>\n",
       "      <td>0</td>\n",
       "      <td>0</td>\n",
       "      <td>1</td>\n",
       "      <td>0</td>\n",
       "    </tr>\n",
       "    <tr>\n",
       "      <th>2604</th>\n",
       "      <td>73158</td>\n",
       "      <td>0</td>\n",
       "      <td>0</td>\n",
       "      <td>1</td>\n",
       "      <td>0</td>\n",
       "      <td>1</td>\n",
       "      <td>0</td>\n",
       "    </tr>\n",
       "    <tr>\n",
       "      <th>2605</th>\n",
       "      <td>73162</td>\n",
       "      <td>0</td>\n",
       "      <td>1</td>\n",
       "      <td>0</td>\n",
       "      <td>0</td>\n",
       "      <td>1</td>\n",
       "      <td>0</td>\n",
       "    </tr>\n",
       "  </tbody>\n",
       "</table>\n",
       "<p>2606 rows × 7 columns</p>\n",
       "</div>"
      ],
      "text/plain": [
       "      order_id  product_cat_build  product_cat_garden  product_cat_home  \\\n",
       "0        68477                  0                   1                 0   \n",
       "1        68479                  0                   0                 1   \n",
       "2        68478                  0                   0                 1   \n",
       "3        68483                  0                   0                 1   \n",
       "4        68484                  0                   0                 1   \n",
       "...        ...                ...                 ...               ...   \n",
       "2601     73151                  0                   1                 0   \n",
       "2602     73154                  0                   1                 0   \n",
       "2603     73155                  0                   1                 0   \n",
       "2604     73158                  0                   0                 1   \n",
       "2605     73162                  0                   1                 0   \n",
       "\n",
       "      product_cat_kitchen  sum_cat  claster_client  \n",
       "0                       0        1               0  \n",
       "1                       0        1               0  \n",
       "2                       0        1               0  \n",
       "3                       0        1               0  \n",
       "4                       0        1               0  \n",
       "...                   ...      ...             ...  \n",
       "2601                    0        1               0  \n",
       "2602                    0        1               0  \n",
       "2603                    0        1               0  \n",
       "2604                    0        1               0  \n",
       "2605                    0        1               0  \n",
       "\n",
       "[2606 rows x 7 columns]"
      ]
     },
     "execution_count": 97,
     "metadata": {},
     "output_type": "execute_result"
    }
   ],
   "source": [
    "claster_sum"
   ]
  },
  {
   "cell_type": "code",
   "execution_count": 98,
   "id": "b8e5faa4",
   "metadata": {
    "scrolled": false
   },
   "outputs": [
    {
     "name": "stdout",
     "output_type": "stream",
     "text": [
      "<class 'pandas.core.frame.DataFrame'>\n",
      "Int64Index: 2606 entries, 0 to 2605\n",
      "Data columns (total 7 columns):\n",
      " #   Column               Non-Null Count  Dtype\n",
      "---  ------               --------------  -----\n",
      " 0   order_id             2606 non-null   int64\n",
      " 1   product_cat_build    2606 non-null   int64\n",
      " 2   product_cat_garden   2606 non-null   int64\n",
      " 3   product_cat_home     2606 non-null   int64\n",
      " 4   product_cat_kitchen  2606 non-null   int64\n",
      " 5   sum_cat              2606 non-null   int64\n",
      " 6   claster_client       2606 non-null   int32\n",
      "dtypes: int32(1), int64(6)\n",
      "memory usage: 217.2 KB\n"
     ]
    }
   ],
   "source": [
    "claster_sum.info()"
   ]
  },
  {
   "cell_type": "code",
   "execution_count": 99,
   "id": "e7d25043",
   "metadata": {
    "scrolled": true
   },
   "outputs": [
    {
     "data": {
      "text/plain": [
       "array([0, 2, 1, 4, 3], dtype=int32)"
      ]
     },
     "execution_count": 99,
     "metadata": {},
     "output_type": "execute_result"
    }
   ],
   "source": [
    "claster_sum['claster_client'].unique()"
   ]
  },
  {
   "cell_type": "markdown",
   "id": "d0d582c7",
   "metadata": {},
   "source": [
    "Посмотрим теперь на распределение признаков для каждого кластера."
   ]
  },
  {
   "cell_type": "code",
   "execution_count": 100,
   "id": "0b6198ea",
   "metadata": {
    "scrolled": false
   },
   "outputs": [
    {
     "data": {
      "image/png": "[encoded data removed]",
      "text/plain": [
       "<Figure size 1800x432 with 4 Axes>"
      ]
     },
     "metadata": {
      "needs_background": "light"
     },
     "output_type": "display_data"
    }
   ],
   "source": [
    "plt.figure(figsize = (25,6))\n",
    "c=1\n",
    "for i, col in enumerate(claster_sum.drop(['claster_client','order_id','sum_cat'], axis=1).columns):\n",
    "    sns.barplot(data=claster_sum, x='claster_client', y=col, ax=plt.subplot(1,4,c))\n",
    "    c=c+1\n",
    "    plt.title('Средние значения для признака '+ col, fontsize=12)"
   ]
  },
  {
   "cell_type": "markdown",
   "id": "d1293631",
   "metadata": {},
   "source": [
    "Мы получили следующие кластеры:\n",
    "- Кластер 0\n",
    "    - Сюда вошли клиенты, купившие товары из категории Садоводство и Товары для дома\n",
    "- Кластер 1\n",
    "    - Клиенты, купившие товары из категории Садоводство\n",
    "- Кластер 2\n",
    "    - Сюда вошли клиенты, купившие товары из категории Садоводство, Товары для дома, Строительство и Товары для кухни\n",
    "- Кластер 3\n",
    "    - Клиенты купившие товары из категории Строительство\n",
    "- Кластер 4\n",
    "    - Клиенты купившие товары из категории Товары для кухни"
   ]
  },
  {
   "cell_type": "code",
   "execution_count": 101,
   "id": "ca80be88",
   "metadata": {},
   "outputs": [
    {
     "data": {
      "image/png": "[encoded data removed]",
      "text/plain": [
       "<Figure size 974.5x900 with 30 Axes>"
      ]
     },
     "metadata": {
      "needs_background": "light"
     },
     "output_type": "display_data"
    }
   ],
   "source": [
    "sns.pairplot(data=claster_sum.drop('sum_cat', axis=1), kind='scatter', hue='claster_client', palette=\"tab10\")\n",
    "plt.show()"
   ]
  },
  {
   "cell_type": "markdown",
   "id": "d95831a2",
   "metadata": {},
   "source": [
    "На графике распределения хорошо видно, что кластеры хорошо отличимы друг от друга, что подтверждает значение метрики silhouette_score."
   ]
  },
  {
   "cell_type": "markdown",
   "id": "a10adf01",
   "metadata": {},
   "source": [
    "Объединим исходную таблицу data с claster_sum."
   ]
  },
  {
   "cell_type": "code",
   "execution_count": 102,
   "id": "172cb8e9",
   "metadata": {},
   "outputs": [],
   "source": [
    "data=data.merge(claster_sum.drop(['product_cat_build', 'product_cat_garden',\\\n",
    "       'product_cat_home', 'product_cat_kitchen', 'sum_cat'], axis=1), on='order_id',how='right')"
   ]
  },
  {
   "cell_type": "markdown",
   "id": "67d5615c",
   "metadata": {},
   "source": [
    "Посмотрим для каждого кластера как распределены заказы по категориям товаров."
   ]
  },
  {
   "cell_type": "code",
   "execution_count": 117,
   "id": "1fdf2b9c",
   "metadata": {},
   "outputs": [
    {
     "data": {
      "text/html": [
       "<div>\n",
       "<style scoped>\n",
       "    .dataframe tbody tr th:only-of-type {\n",
       "        vertical-align: middle;\n",
       "    }\n",
       "\n",
       "    .dataframe tbody tr th {\n",
       "        vertical-align: top;\n",
       "    }\n",
       "\n",
       "    .dataframe thead th {\n",
       "        text-align: right;\n",
       "    }\n",
       "</style>\n",
       "<table border=\"1\" class=\"dataframe\">\n",
       "  <thead>\n",
       "    <tr style=\"text-align: right;\">\n",
       "      <th>product_cat</th>\n",
       "      <th>build</th>\n",
       "      <th>garden</th>\n",
       "      <th>home</th>\n",
       "      <th>kitchen</th>\n",
       "    </tr>\n",
       "    <tr>\n",
       "      <th>claster_client</th>\n",
       "      <th></th>\n",
       "      <th></th>\n",
       "      <th></th>\n",
       "      <th></th>\n",
       "    </tr>\n",
       "  </thead>\n",
       "  <tbody>\n",
       "    <tr>\n",
       "      <th>0</th>\n",
       "      <td>0.0</td>\n",
       "      <td>582.0</td>\n",
       "      <td>1574.0</td>\n",
       "      <td>0.0</td>\n",
       "    </tr>\n",
       "    <tr>\n",
       "      <th>1</th>\n",
       "      <td>0.0</td>\n",
       "      <td>1739.0</td>\n",
       "      <td>0.0</td>\n",
       "      <td>0.0</td>\n",
       "    </tr>\n",
       "    <tr>\n",
       "      <th>2</th>\n",
       "      <td>12.0</td>\n",
       "      <td>232.0</td>\n",
       "      <td>77.0</td>\n",
       "      <td>43.0</td>\n",
       "    </tr>\n",
       "    <tr>\n",
       "      <th>3</th>\n",
       "      <td>87.0</td>\n",
       "      <td>0.0</td>\n",
       "      <td>0.0</td>\n",
       "      <td>0.0</td>\n",
       "    </tr>\n",
       "    <tr>\n",
       "      <th>4</th>\n",
       "      <td>0.0</td>\n",
       "      <td>0.0</td>\n",
       "      <td>0.0</td>\n",
       "      <td>322.0</td>\n",
       "    </tr>\n",
       "  </tbody>\n",
       "</table>\n",
       "</div>"
      ],
      "text/plain": [
       "product_cat     build  garden    home  kitchen\n",
       "claster_client                                \n",
       "0                 0.0   582.0  1574.0      0.0\n",
       "1                 0.0  1739.0     0.0      0.0\n",
       "2                12.0   232.0    77.0     43.0\n",
       "3                87.0     0.0     0.0      0.0\n",
       "4                 0.0     0.0     0.0    322.0"
      ]
     },
     "execution_count": 117,
     "metadata": {},
     "output_type": "execute_result"
    }
   ],
   "source": [
    "data.pivot_table(index='claster_client', columns='product_cat', values='order_id', aggfunc='count').fillna(0)"
   ]
  },
  {
   "cell_type": "code",
   "execution_count": 103,
   "id": "a8aa1978",
   "metadata": {},
   "outputs": [
    {
     "data": {
      "image/png": "[encoded data removed]",
      "text/plain": [
       "<Figure size 720x360 with 1 Axes>"
      ]
     },
     "metadata": {
      "needs_background": "light"
     },
     "output_type": "display_data"
    }
   ],
   "source": [
    "data.pivot_table(index='claster_client', columns='product_cat', values='order_id', aggfunc='count').fillna(0)\\\n",
    ".plot(kind='bar', xlabel='кластер', figsize=(10,5))\n",
    "plt.title('Количество заказов в каждом кластере по категориям товаров')\n",
    "plt.show()"
   ]
  },
  {
   "cell_type": "markdown",
   "id": "4778d0a5",
   "metadata": {},
   "source": [
    "Здесь мы видим, что в \"смешанных\" кластерах, где клиенты совершают покупки в разных категориях, как распределились заказы. В кластере 0 клиенты больше заказывают из категории Товары для дома.В кластере 2 преобладают товары из категории Садоводство, затем идут Товары для дома и для кухни. И малая часть заказов содержит товары из категории Строительные принадлежности."
   ]
  },
  {
   "cell_type": "markdown",
   "id": "631cab54",
   "metadata": {},
   "source": [
    "### Доля дорогих товаров в каждом кластере\n",
    "Расчитаем долю товаров стоимостью больше 1000 от числа товаров в каждом кластере."
   ]
  },
  {
   "cell_type": "code",
   "execution_count": 104,
   "id": "2e7b44cc",
   "metadata": {
    "scrolled": true
   },
   "outputs": [
    {
     "data": {
      "text/html": [
       "<style type=\"text/css\">\n",
       "#T_4808b_row0_col1 {\n",
       "  width: 10em;\n",
       "  height: 80%;\n",
       "  background: linear-gradient(90deg,green 100.0%, transparent 100.0%);\n",
       "}\n",
       "#T_4808b_row1_col1 {\n",
       "  width: 10em;\n",
       "  height: 80%;\n",
       "}\n",
       "#T_4808b_row2_col1 {\n",
       "  width: 10em;\n",
       "  height: 80%;\n",
       "  background: linear-gradient(90deg,green 4.2%, transparent 4.2%);\n",
       "}\n",
       "#T_4808b_row3_col1 {\n",
       "  width: 10em;\n",
       "  height: 80%;\n",
       "  background: linear-gradient(90deg,green 6.0%, transparent 6.0%);\n",
       "}\n",
       "</style>\n",
       "<table id=\"T_4808b_\">\n",
       "  <thead>\n",
       "    <tr>\n",
       "      <th class=\"blank level0\" >&nbsp;</th>\n",
       "      <th class=\"col_heading level0 col0\" >expensive_count</th>\n",
       "      <th class=\"col_heading level0 col1\" >part_all</th>\n",
       "    </tr>\n",
       "    <tr>\n",
       "      <th class=\"index_name level0\" >claster_client</th>\n",
       "      <th class=\"blank col0\" >&nbsp;</th>\n",
       "      <th class=\"blank col1\" >&nbsp;</th>\n",
       "    </tr>\n",
       "  </thead>\n",
       "  <tbody>\n",
       "    <tr>\n",
       "      <th id=\"T_4808b_level0_row0\" class=\"row_heading level0 row0\" >0</th>\n",
       "      <td id=\"T_4808b_row0_col0\" class=\"data row0 col0\" >561</td>\n",
       "      <td id=\"T_4808b_row0_col1\" class=\"data row0 col1\" >12.02%</td>\n",
       "    </tr>\n",
       "    <tr>\n",
       "      <th id=\"T_4808b_level0_row1\" class=\"row_heading level0 row1\" >2</th>\n",
       "      <td id=\"T_4808b_row1_col0\" class=\"data row1 col0\" >15</td>\n",
       "      <td id=\"T_4808b_row1_col1\" class=\"data row1 col1\" >0.32%</td>\n",
       "    </tr>\n",
       "    <tr>\n",
       "      <th id=\"T_4808b_level0_row2\" class=\"row_heading level0 row2\" >3</th>\n",
       "      <td id=\"T_4808b_row2_col0\" class=\"data row2 col0\" >38</td>\n",
       "      <td id=\"T_4808b_row2_col1\" class=\"data row2 col1\" >0.81%</td>\n",
       "    </tr>\n",
       "    <tr>\n",
       "      <th id=\"T_4808b_level0_row3\" class=\"row_heading level0 row3\" >4</th>\n",
       "      <td id=\"T_4808b_row3_col0\" class=\"data row3 col0\" >48</td>\n",
       "      <td id=\"T_4808b_row3_col1\" class=\"data row3 col1\" >1.03%</td>\n",
       "    </tr>\n",
       "  </tbody>\n",
       "</table>\n"
      ],
      "text/plain": [
       "<pandas.io.formats.style.Styler at 0x7f4515acf670>"
      ]
     },
     "execution_count": 104,
     "metadata": {},
     "output_type": "execute_result"
    }
   ],
   "source": [
    "expensive_item = data.query('price>1000').groupby('claster_client').agg({'new':'count'})\n",
    "expensive_item.columns=['expensive_count']\n",
    "# доля дорогих товаров от общего числа купленных товаров\n",
    "expensive_item['part_all']=expensive_item['expensive_count']/data['new'].count()\n",
    "expensive_item.style.format({'part_all':'{:,.2%}'.format}).bar('part_all', color='green')"
   ]
  },
  {
   "cell_type": "code",
   "execution_count": 105,
   "id": "bf30e0e1",
   "metadata": {
    "scrolled": true
   },
   "outputs": [
    {
     "data": {
      "text/html": [
       "<div>\n",
       "<style scoped>\n",
       "    .dataframe tbody tr th:only-of-type {\n",
       "        vertical-align: middle;\n",
       "    }\n",
       "\n",
       "    .dataframe tbody tr th {\n",
       "        vertical-align: top;\n",
       "    }\n",
       "\n",
       "    .dataframe thead th {\n",
       "        text-align: right;\n",
       "    }\n",
       "</style>\n",
       "<table border=\"1\" class=\"dataframe\">\n",
       "  <thead>\n",
       "    <tr style=\"text-align: right;\">\n",
       "      <th></th>\n",
       "      <th>all_item</th>\n",
       "    </tr>\n",
       "    <tr>\n",
       "      <th>claster_client</th>\n",
       "      <th></th>\n",
       "    </tr>\n",
       "  </thead>\n",
       "  <tbody>\n",
       "    <tr>\n",
       "      <th>0</th>\n",
       "      <td>2156</td>\n",
       "    </tr>\n",
       "    <tr>\n",
       "      <th>1</th>\n",
       "      <td>1739</td>\n",
       "    </tr>\n",
       "    <tr>\n",
       "      <th>2</th>\n",
       "      <td>364</td>\n",
       "    </tr>\n",
       "    <tr>\n",
       "      <th>3</th>\n",
       "      <td>87</td>\n",
       "    </tr>\n",
       "    <tr>\n",
       "      <th>4</th>\n",
       "      <td>322</td>\n",
       "    </tr>\n",
       "  </tbody>\n",
       "</table>\n",
       "</div>"
      ],
      "text/plain": [
       "                all_item\n",
       "claster_client          \n",
       "0                   2156\n",
       "1                   1739\n",
       "2                    364\n",
       "3                     87\n",
       "4                    322"
      ]
     },
     "execution_count": 105,
     "metadata": {},
     "output_type": "execute_result"
    }
   ],
   "source": [
    "all_item = data.groupby('claster_client').agg({'new':'count'})\n",
    "all_item.columns=['all_item']\n",
    "all_item"
   ]
  },
  {
   "cell_type": "code",
   "execution_count": 106,
   "id": "55c0484f",
   "metadata": {},
   "outputs": [
    {
     "data": {
      "text/html": [
       "<style type=\"text/css\">\n",
       "#T_d9dc9_row0_col1, #T_d9dc9_row3_col3 {\n",
       "  width: 10em;\n",
       "  height: 80%;\n",
       "  background: linear-gradient(90deg,green 100.0%, transparent 100.0%);\n",
       "}\n",
       "#T_d9dc9_row0_col3 {\n",
       "  width: 10em;\n",
       "  height: 80%;\n",
       "  background: linear-gradient(90deg,green 59.6%, transparent 59.6%);\n",
       "}\n",
       "#T_d9dc9_row1_col1, #T_d9dc9_row1_col3 {\n",
       "  width: 10em;\n",
       "  height: 80%;\n",
       "}\n",
       "#T_d9dc9_row2_col1 {\n",
       "  width: 10em;\n",
       "  height: 80%;\n",
       "  background: linear-gradient(90deg,green 2.7%, transparent 2.7%);\n",
       "}\n",
       "#T_d9dc9_row2_col3 {\n",
       "  width: 10em;\n",
       "  height: 80%;\n",
       "  background: linear-gradient(90deg,green 9.4%, transparent 9.4%);\n",
       "}\n",
       "#T_d9dc9_row3_col1 {\n",
       "  width: 10em;\n",
       "  height: 80%;\n",
       "  background: linear-gradient(90deg,green 6.8%, transparent 6.8%);\n",
       "}\n",
       "#T_d9dc9_row4_col1 {\n",
       "  width: 10em;\n",
       "  height: 80%;\n",
       "  background: linear-gradient(90deg,green 8.6%, transparent 8.6%);\n",
       "}\n",
       "#T_d9dc9_row4_col3 {\n",
       "  width: 10em;\n",
       "  height: 80%;\n",
       "  background: linear-gradient(90deg,green 34.1%, transparent 34.1%);\n",
       "}\n",
       "</style>\n",
       "<table id=\"T_d9dc9_\">\n",
       "  <thead>\n",
       "    <tr>\n",
       "      <th class=\"blank level0\" >&nbsp;</th>\n",
       "      <th class=\"col_heading level0 col0\" >expensive_count</th>\n",
       "      <th class=\"col_heading level0 col1\" >part_all</th>\n",
       "      <th class=\"col_heading level0 col2\" >all_item</th>\n",
       "      <th class=\"col_heading level0 col3\" >part</th>\n",
       "    </tr>\n",
       "    <tr>\n",
       "      <th class=\"index_name level0\" >claster_client</th>\n",
       "      <th class=\"blank col0\" >&nbsp;</th>\n",
       "      <th class=\"blank col1\" >&nbsp;</th>\n",
       "      <th class=\"blank col2\" >&nbsp;</th>\n",
       "      <th class=\"blank col3\" >&nbsp;</th>\n",
       "    </tr>\n",
       "  </thead>\n",
       "  <tbody>\n",
       "    <tr>\n",
       "      <th id=\"T_d9dc9_level0_row0\" class=\"row_heading level0 row0\" >0</th>\n",
       "      <td id=\"T_d9dc9_row0_col0\" class=\"data row0 col0\" >561.000000</td>\n",
       "      <td id=\"T_d9dc9_row0_col1\" class=\"data row0 col1\" >12.02%</td>\n",
       "      <td id=\"T_d9dc9_row0_col2\" class=\"data row0 col2\" >2156</td>\n",
       "      <td id=\"T_d9dc9_row0_col3\" class=\"data row0 col3\" >26.02%</td>\n",
       "    </tr>\n",
       "    <tr>\n",
       "      <th id=\"T_d9dc9_level0_row1\" class=\"row_heading level0 row1\" >1</th>\n",
       "      <td id=\"T_d9dc9_row1_col0\" class=\"data row1 col0\" >0.000000</td>\n",
       "      <td id=\"T_d9dc9_row1_col1\" class=\"data row1 col1\" >0.00%</td>\n",
       "      <td id=\"T_d9dc9_row1_col2\" class=\"data row1 col2\" >1739</td>\n",
       "      <td id=\"T_d9dc9_row1_col3\" class=\"data row1 col3\" >0.00%</td>\n",
       "    </tr>\n",
       "    <tr>\n",
       "      <th id=\"T_d9dc9_level0_row2\" class=\"row_heading level0 row2\" >2</th>\n",
       "      <td id=\"T_d9dc9_row2_col0\" class=\"data row2 col0\" >15.000000</td>\n",
       "      <td id=\"T_d9dc9_row2_col1\" class=\"data row2 col1\" >0.32%</td>\n",
       "      <td id=\"T_d9dc9_row2_col2\" class=\"data row2 col2\" >364</td>\n",
       "      <td id=\"T_d9dc9_row2_col3\" class=\"data row2 col3\" >4.12%</td>\n",
       "    </tr>\n",
       "    <tr>\n",
       "      <th id=\"T_d9dc9_level0_row3\" class=\"row_heading level0 row3\" >3</th>\n",
       "      <td id=\"T_d9dc9_row3_col0\" class=\"data row3 col0\" >38.000000</td>\n",
       "      <td id=\"T_d9dc9_row3_col1\" class=\"data row3 col1\" >0.81%</td>\n",
       "      <td id=\"T_d9dc9_row3_col2\" class=\"data row3 col2\" >87</td>\n",
       "      <td id=\"T_d9dc9_row3_col3\" class=\"data row3 col3\" >43.68%</td>\n",
       "    </tr>\n",
       "    <tr>\n",
       "      <th id=\"T_d9dc9_level0_row4\" class=\"row_heading level0 row4\" >4</th>\n",
       "      <td id=\"T_d9dc9_row4_col0\" class=\"data row4 col0\" >48.000000</td>\n",
       "      <td id=\"T_d9dc9_row4_col1\" class=\"data row4 col1\" >1.03%</td>\n",
       "      <td id=\"T_d9dc9_row4_col2\" class=\"data row4 col2\" >322</td>\n",
       "      <td id=\"T_d9dc9_row4_col3\" class=\"data row4 col3\" >14.91%</td>\n",
       "    </tr>\n",
       "  </tbody>\n",
       "</table>\n"
      ],
      "text/plain": [
       "<pandas.io.formats.style.Styler at 0x7f4515c65070>"
      ]
     },
     "execution_count": 106,
     "metadata": {},
     "output_type": "execute_result"
    }
   ],
   "source": [
    "all_item = expensive_item.merge(all_item, how='right', on='claster_client').fillna(0)\n",
    "all_item['part'] = all_item['expensive_count']/all_item['all_item']\n",
    "all_item.style.format({'part':'{:,.2%}'.format, 'part_all':'{:,.2%}'.format}).bar(['part','part_all'], color='green')"
   ]
  },
  {
   "cell_type": "markdown",
   "id": "f7bbcbb5",
   "metadata": {},
   "source": [
    "Третий кластер содержит 43.68% дорогих товаров от числа товаров, вошедших в этот кластер. Затем идет нулевой кластер, в который вошли 22.02% дорогих товаров от числа товаров в этом кластере. Но данный кластер лидирует по содержанию дорогих товаров от общего числа купленных товаров. В первый кластер попало 0% дорогостоящих товаров."
   ]
  },
  {
   "cell_type": "markdown",
   "id": "b045c11a",
   "metadata": {},
   "source": [
    "### Разделение клиентов по времени совершения покупки."
   ]
  },
  {
   "cell_type": "code",
   "execution_count": 107,
   "id": "acd584a0",
   "metadata": {},
   "outputs": [],
   "source": [
    "for i in range(len(data['date'])):\n",
    "    data.loc[i,'time']=data.loc[i,'date_datetime'].time()"
   ]
  },
  {
   "cell_type": "code",
   "execution_count": 108,
   "id": "a31ecda4",
   "metadata": {},
   "outputs": [
    {
     "data": {
      "text/html": [
       "<div>\n",
       "<style scoped>\n",
       "    .dataframe tbody tr th:only-of-type {\n",
       "        vertical-align: middle;\n",
       "    }\n",
       "\n",
       "    .dataframe tbody tr th {\n",
       "        vertical-align: top;\n",
       "    }\n",
       "\n",
       "    .dataframe thead th {\n",
       "        text-align: right;\n",
       "    }\n",
       "</style>\n",
       "<table border=\"1\" class=\"dataframe\">\n",
       "  <thead>\n",
       "    <tr style=\"text-align: right;\">\n",
       "      <th></th>\n",
       "      <th>date</th>\n",
       "      <th>customer_id</th>\n",
       "      <th>order_id</th>\n",
       "      <th>product</th>\n",
       "      <th>quantity</th>\n",
       "      <th>price</th>\n",
       "      <th>date_datetime</th>\n",
       "      <th>new</th>\n",
       "      <th>year_month</th>\n",
       "      <th>product_cat</th>\n",
       "      <th>claster_client</th>\n",
       "      <th>time</th>\n",
       "    </tr>\n",
       "  </thead>\n",
       "  <tbody>\n",
       "    <tr>\n",
       "      <th>4663</th>\n",
       "      <td>2019103021</td>\n",
       "      <td>b24b3075-bbb5-498c-add9-534a727f3c33</td>\n",
       "      <td>73151</td>\n",
       "      <td>герань домашняя (пеларгония зональная) цветуща...</td>\n",
       "      <td>2</td>\n",
       "      <td>157</td>\n",
       "      <td>2019-10-30 21:00:00</td>\n",
       "      <td>герань домашняя пеларгония зональная цветущая ...</td>\n",
       "      <td>2019-10-01</td>\n",
       "      <td>garden</td>\n",
       "      <td>0</td>\n",
       "      <td>21:00:00</td>\n",
       "    </tr>\n",
       "    <tr>\n",
       "      <th>4664</th>\n",
       "      <td>2019103109</td>\n",
       "      <td>6ddd4081-515e-401a-9567-8c0eab6dc868</td>\n",
       "      <td>73154</td>\n",
       "      <td>литопс микс d-5 см</td>\n",
       "      <td>1</td>\n",
       "      <td>112</td>\n",
       "      <td>2019-10-31 09:00:00</td>\n",
       "      <td>литопс микс d5 см</td>\n",
       "      <td>2019-10-01</td>\n",
       "      <td>garden</td>\n",
       "      <td>0</td>\n",
       "      <td>09:00:00</td>\n",
       "    </tr>\n",
       "    <tr>\n",
       "      <th>4665</th>\n",
       "      <td>2019103111</td>\n",
       "      <td>f17ed857-178e-45e1-a662-0a9dd3b58c5f</td>\n",
       "      <td>73155</td>\n",
       "      <td>мимоза стыдливая d-9 см</td>\n",
       "      <td>1</td>\n",
       "      <td>329</td>\n",
       "      <td>2019-10-31 11:00:00</td>\n",
       "      <td>мимоза стыдливая d9 см</td>\n",
       "      <td>2019-10-01</td>\n",
       "      <td>garden</td>\n",
       "      <td>0</td>\n",
       "      <td>11:00:00</td>\n",
       "    </tr>\n",
       "    <tr>\n",
       "      <th>4666</th>\n",
       "      <td>2019103112</td>\n",
       "      <td>1f0a7f35-7459-4f23-b468-5e45bf481dd1</td>\n",
       "      <td>73158</td>\n",
       "      <td>сумка-тележка 2-х колесная gimi argo синяя</td>\n",
       "      <td>1</td>\n",
       "      <td>1087</td>\n",
       "      <td>2019-10-31 12:00:00</td>\n",
       "      <td>сумка тележка 2х колесная gimi argo синяя</td>\n",
       "      <td>2019-10-01</td>\n",
       "      <td>home</td>\n",
       "      <td>0</td>\n",
       "      <td>12:00:00</td>\n",
       "    </tr>\n",
       "    <tr>\n",
       "      <th>4667</th>\n",
       "      <td>2019103113</td>\n",
       "      <td>25df96a7-c453-4708-9cea-a3dfc7c342ea</td>\n",
       "      <td>73162</td>\n",
       "      <td>герань домашняя (пеларгония зональная) цветуща...</td>\n",
       "      <td>1</td>\n",
       "      <td>157</td>\n",
       "      <td>2019-10-31 13:00:00</td>\n",
       "      <td>герань домашняя пеларгония зональная цветущая ...</td>\n",
       "      <td>2019-10-01</td>\n",
       "      <td>garden</td>\n",
       "      <td>0</td>\n",
       "      <td>13:00:00</td>\n",
       "    </tr>\n",
       "  </tbody>\n",
       "</table>\n",
       "</div>"
      ],
      "text/plain": [
       "            date                           customer_id  order_id  \\\n",
       "4663  2019103021  b24b3075-bbb5-498c-add9-534a727f3c33     73151   \n",
       "4664  2019103109  6ddd4081-515e-401a-9567-8c0eab6dc868     73154   \n",
       "4665  2019103111  f17ed857-178e-45e1-a662-0a9dd3b58c5f     73155   \n",
       "4666  2019103112  1f0a7f35-7459-4f23-b468-5e45bf481dd1     73158   \n",
       "4667  2019103113  25df96a7-c453-4708-9cea-a3dfc7c342ea     73162   \n",
       "\n",
       "                                                product  quantity  price  \\\n",
       "4663  герань домашняя (пеларгония зональная) цветуща...         2    157   \n",
       "4664                                 литопс микс d-5 см         1    112   \n",
       "4665                            мимоза стыдливая d-9 см         1    329   \n",
       "4666         сумка-тележка 2-х колесная gimi argo синяя         1   1087   \n",
       "4667  герань домашняя (пеларгония зональная) цветуща...         1    157   \n",
       "\n",
       "           date_datetime                                                new  \\\n",
       "4663 2019-10-30 21:00:00  герань домашняя пеларгония зональная цветущая ...   \n",
       "4664 2019-10-31 09:00:00                                  литопс микс d5 см   \n",
       "4665 2019-10-31 11:00:00                             мимоза стыдливая d9 см   \n",
       "4666 2019-10-31 12:00:00          сумка тележка 2х колесная gimi argo синяя   \n",
       "4667 2019-10-31 13:00:00  герань домашняя пеларгония зональная цветущая ...   \n",
       "\n",
       "     year_month product_cat  claster_client      time  \n",
       "4663 2019-10-01      garden               0  21:00:00  \n",
       "4664 2019-10-01      garden               0  09:00:00  \n",
       "4665 2019-10-01      garden               0  11:00:00  \n",
       "4666 2019-10-01        home               0  12:00:00  \n",
       "4667 2019-10-01      garden               0  13:00:00  "
      ]
     },
     "execution_count": 108,
     "metadata": {},
     "output_type": "execute_result"
    }
   ],
   "source": [
    "data.tail()"
   ]
  },
  {
   "cell_type": "markdown",
   "id": "4cd43e3d",
   "metadata": {},
   "source": [
    "Разделим клиентов по времени совершения покупки."
   ]
  },
  {
   "cell_type": "code",
   "execution_count": 109,
   "id": "6150b4fb",
   "metadata": {},
   "outputs": [],
   "source": [
    "for i in range(len(data['date'])):\n",
    "    if datetime(2019, 10, 1, 7).time()<=data.loc[i,'time']<datetime(2019, 10, 1, 12).time():\n",
    "        data.loc[i,'time_cat'] = 'morning'\n",
    "    elif datetime(2019, 10, 1, 12).time()<=data.loc[i,'time']<datetime(2019, 10, 1, 18).time():\n",
    "        data.loc[i,'time_cat'] = 'day'\n",
    "    elif datetime(2019, 10, 1, 18).time()<=data.loc[i,'time']<datetime(2019, 10, 1, 22).time():\n",
    "        data.loc[i,'time_cat'] = 'evening'\n",
    "    else:\n",
    "        data.loc[i,'time_cat'] = 'night'"
   ]
  },
  {
   "cell_type": "code",
   "execution_count": 110,
   "id": "5d19b7b5",
   "metadata": {},
   "outputs": [
    {
     "data": {
      "text/html": [
       "<div>\n",
       "<style scoped>\n",
       "    .dataframe tbody tr th:only-of-type {\n",
       "        vertical-align: middle;\n",
       "    }\n",
       "\n",
       "    .dataframe tbody tr th {\n",
       "        vertical-align: top;\n",
       "    }\n",
       "\n",
       "    .dataframe thead th {\n",
       "        text-align: right;\n",
       "    }\n",
       "</style>\n",
       "<table border=\"1\" class=\"dataframe\">\n",
       "  <thead>\n",
       "    <tr style=\"text-align: right;\">\n",
       "      <th></th>\n",
       "      <th>date</th>\n",
       "      <th>customer_id</th>\n",
       "      <th>order_id</th>\n",
       "      <th>product</th>\n",
       "      <th>quantity</th>\n",
       "      <th>price</th>\n",
       "      <th>date_datetime</th>\n",
       "      <th>new</th>\n",
       "      <th>year_month</th>\n",
       "      <th>product_cat</th>\n",
       "      <th>claster_client</th>\n",
       "      <th>time</th>\n",
       "      <th>time_cat</th>\n",
       "    </tr>\n",
       "  </thead>\n",
       "  <tbody>\n",
       "    <tr>\n",
       "      <th>0</th>\n",
       "      <td>2018100100</td>\n",
       "      <td>ee47d746-6d2f-4d3c-9622-c31412542920</td>\n",
       "      <td>68477</td>\n",
       "      <td>комнатное растение в горшке алое вера, d12, h30</td>\n",
       "      <td>1</td>\n",
       "      <td>142</td>\n",
       "      <td>2018-10-01</td>\n",
       "      <td>комнатное растение в горшке алое вера d12 h30</td>\n",
       "      <td>2018-10-01</td>\n",
       "      <td>garden</td>\n",
       "      <td>0</td>\n",
       "      <td>00:00:00</td>\n",
       "      <td>night</td>\n",
       "    </tr>\n",
       "    <tr>\n",
       "      <th>1</th>\n",
       "      <td>2018100100</td>\n",
       "      <td>ee47d746-6d2f-4d3c-9622-c31412542920</td>\n",
       "      <td>68477</td>\n",
       "      <td>комнатное растение в горшке кофе арабика, d12,...</td>\n",
       "      <td>1</td>\n",
       "      <td>194</td>\n",
       "      <td>2018-10-01</td>\n",
       "      <td>комнатное растение в горшке кофе арабика d12 h25</td>\n",
       "      <td>2018-10-01</td>\n",
       "      <td>garden</td>\n",
       "      <td>0</td>\n",
       "      <td>00:00:00</td>\n",
       "      <td>night</td>\n",
       "    </tr>\n",
       "    <tr>\n",
       "      <th>2</th>\n",
       "      <td>2018100100</td>\n",
       "      <td>ee47d746-6d2f-4d3c-9622-c31412542920</td>\n",
       "      <td>68477</td>\n",
       "      <td>радермахера d-12 см h-20 см</td>\n",
       "      <td>1</td>\n",
       "      <td>112</td>\n",
       "      <td>2018-10-01</td>\n",
       "      <td>радермахера d12 см h20 см</td>\n",
       "      <td>2018-10-01</td>\n",
       "      <td>garden</td>\n",
       "      <td>0</td>\n",
       "      <td>00:00:00</td>\n",
       "      <td>night</td>\n",
       "    </tr>\n",
       "    <tr>\n",
       "      <th>3</th>\n",
       "      <td>2018100100</td>\n",
       "      <td>ee47d746-6d2f-4d3c-9622-c31412542920</td>\n",
       "      <td>68477</td>\n",
       "      <td>хризолидокарпус лутесценс d-9 см</td>\n",
       "      <td>1</td>\n",
       "      <td>179</td>\n",
       "      <td>2018-10-01</td>\n",
       "      <td>хризолидокарпус лутесценс d9 см</td>\n",
       "      <td>2018-10-01</td>\n",
       "      <td>garden</td>\n",
       "      <td>0</td>\n",
       "      <td>00:00:00</td>\n",
       "      <td>night</td>\n",
       "    </tr>\n",
       "    <tr>\n",
       "      <th>4</th>\n",
       "      <td>2018100100</td>\n",
       "      <td>ee47d746-6d2f-4d3c-9622-c31412542920</td>\n",
       "      <td>68477</td>\n",
       "      <td>циперус зумула d-12 см h-25 см</td>\n",
       "      <td>1</td>\n",
       "      <td>112</td>\n",
       "      <td>2018-10-01</td>\n",
       "      <td>циперус зумула d12 см h25 см</td>\n",
       "      <td>2018-10-01</td>\n",
       "      <td>garden</td>\n",
       "      <td>0</td>\n",
       "      <td>00:00:00</td>\n",
       "      <td>night</td>\n",
       "    </tr>\n",
       "  </tbody>\n",
       "</table>\n",
       "</div>"
      ],
      "text/plain": [
       "         date                           customer_id  order_id  \\\n",
       "0  2018100100  ee47d746-6d2f-4d3c-9622-c31412542920     68477   \n",
       "1  2018100100  ee47d746-6d2f-4d3c-9622-c31412542920     68477   \n",
       "2  2018100100  ee47d746-6d2f-4d3c-9622-c31412542920     68477   \n",
       "3  2018100100  ee47d746-6d2f-4d3c-9622-c31412542920     68477   \n",
       "4  2018100100  ee47d746-6d2f-4d3c-9622-c31412542920     68477   \n",
       "\n",
       "                                             product  quantity  price  \\\n",
       "0    комнатное растение в горшке алое вера, d12, h30         1    142   \n",
       "1  комнатное растение в горшке кофе арабика, d12,...         1    194   \n",
       "2                        радермахера d-12 см h-20 см         1    112   \n",
       "3                   хризолидокарпус лутесценс d-9 см         1    179   \n",
       "4                     циперус зумула d-12 см h-25 см         1    112   \n",
       "\n",
       "  date_datetime                                               new year_month  \\\n",
       "0    2018-10-01     комнатное растение в горшке алое вера d12 h30 2018-10-01   \n",
       "1    2018-10-01  комнатное растение в горшке кофе арабика d12 h25 2018-10-01   \n",
       "2    2018-10-01                         радермахера d12 см h20 см 2018-10-01   \n",
       "3    2018-10-01                   хризолидокарпус лутесценс d9 см 2018-10-01   \n",
       "4    2018-10-01                      циперус зумула d12 см h25 см 2018-10-01   \n",
       "\n",
       "  product_cat  claster_client      time time_cat  \n",
       "0      garden               0  00:00:00    night  \n",
       "1      garden               0  00:00:00    night  \n",
       "2      garden               0  00:00:00    night  \n",
       "3      garden               0  00:00:00    night  \n",
       "4      garden               0  00:00:00    night  "
      ]
     },
     "execution_count": 110,
     "metadata": {},
     "output_type": "execute_result"
    }
   ],
   "source": [
    "data.head()"
   ]
  },
  {
   "cell_type": "code",
   "execution_count": 111,
   "id": "7413b830",
   "metadata": {},
   "outputs": [
    {
     "data": {
      "text/plain": [
       "array(['night', 'morning', 'day', 'evening'], dtype=object)"
      ]
     },
     "execution_count": 111,
     "metadata": {},
     "output_type": "execute_result"
    }
   ],
   "source": [
    "data['time_cat'].unique()"
   ]
  },
  {
   "cell_type": "code",
   "execution_count": 112,
   "id": "73e30004",
   "metadata": {},
   "outputs": [
    {
     "data": {
      "text/html": [
       "<style type=\"text/css\">\n",
       "#T_34b3d_row0_col1 {\n",
       "  width: 10em;\n",
       "  height: 80%;\n",
       "  background: linear-gradient(90deg,green 100.0%, transparent 100.0%);\n",
       "}\n",
       "#T_34b3d_row1_col1 {\n",
       "  width: 10em;\n",
       "  height: 80%;\n",
       "  background: linear-gradient(90deg,green 58.7%, transparent 58.7%);\n",
       "}\n",
       "#T_34b3d_row2_col1 {\n",
       "  width: 10em;\n",
       "  height: 80%;\n",
       "  background: linear-gradient(90deg,green 28.9%, transparent 28.9%);\n",
       "}\n",
       "#T_34b3d_row3_col1 {\n",
       "  width: 10em;\n",
       "  height: 80%;\n",
       "}\n",
       "</style>\n",
       "<table id=\"T_34b3d_\">\n",
       "  <thead>\n",
       "    <tr>\n",
       "      <th class=\"blank level0\" >&nbsp;</th>\n",
       "      <th class=\"col_heading level0 col0\" >order_count</th>\n",
       "      <th class=\"col_heading level0 col1\" >part</th>\n",
       "    </tr>\n",
       "    <tr>\n",
       "      <th class=\"index_name level0\" >time_cat</th>\n",
       "      <th class=\"blank col0\" >&nbsp;</th>\n",
       "      <th class=\"blank col1\" >&nbsp;</th>\n",
       "    </tr>\n",
       "  </thead>\n",
       "  <tbody>\n",
       "    <tr>\n",
       "      <th id=\"T_34b3d_level0_row0\" class=\"row_heading level0 row0\" >day</th>\n",
       "      <td id=\"T_34b3d_row0_col0\" class=\"data row0 col0\" >1076</td>\n",
       "      <td id=\"T_34b3d_row0_col1\" class=\"data row0 col1\" >41.29%</td>\n",
       "    </tr>\n",
       "    <tr>\n",
       "      <th id=\"T_34b3d_level0_row1\" class=\"row_heading level0 row1\" >morning</th>\n",
       "      <td id=\"T_34b3d_row1_col0\" class=\"data row1 col0\" >753</td>\n",
       "      <td id=\"T_34b3d_row1_col1\" class=\"data row1 col1\" >28.89%</td>\n",
       "    </tr>\n",
       "    <tr>\n",
       "      <th id=\"T_34b3d_level0_row2\" class=\"row_heading level0 row2\" >evening</th>\n",
       "      <td id=\"T_34b3d_row2_col0\" class=\"data row2 col0\" >520</td>\n",
       "      <td id=\"T_34b3d_row2_col1\" class=\"data row2 col1\" >19.95%</td>\n",
       "    </tr>\n",
       "    <tr>\n",
       "      <th id=\"T_34b3d_level0_row3\" class=\"row_heading level0 row3\" >night</th>\n",
       "      <td id=\"T_34b3d_row3_col0\" class=\"data row3 col0\" >294</td>\n",
       "      <td id=\"T_34b3d_row3_col1\" class=\"data row3 col1\" >11.28%</td>\n",
       "    </tr>\n",
       "  </tbody>\n",
       "</table>\n"
      ],
      "text/plain": [
       "<pandas.io.formats.style.Styler at 0x7f4515c88160>"
      ]
     },
     "execution_count": 112,
     "metadata": {},
     "output_type": "execute_result"
    }
   ],
   "source": [
    "time_count = data.groupby('time_cat').agg({'order_id': 'nunique'}).sort_values('order_id', ascending=False)\n",
    "time_count.columns = ['order_count']\n",
    "time_count['part'] = time_count['order_count']/len(data['order_id'].unique())\n",
    "time_count.style.format({'part':'{:,.2%}'.format}).bar('part', color='green')"
   ]
  },
  {
   "cell_type": "markdown",
   "id": "80f5064f",
   "metadata": {},
   "source": [
    "В дневное время совершается больше всего заказов, около 41%. Затем идет утро (около 29%), а в вечернее время было совершено около 20% от общего числа заказов. В ночное время совершено меньше всего покупок, около 11%.\n",
    "\n",
    "Оценим распределение заказов по времени для каждого кластера."
   ]
  },
  {
   "cell_type": "code",
   "execution_count": 113,
   "id": "dc1949d3",
   "metadata": {},
   "outputs": [
    {
     "data": {
      "text/html": [
       "<style type=\"text/css\">\n",
       "</style>\n",
       "<table id=\"T_b3418_\">\n",
       "  <thead>\n",
       "    <tr>\n",
       "      <th class=\"blank level0\" >&nbsp;</th>\n",
       "      <th class=\"col_heading level0 col0\" >day</th>\n",
       "      <th class=\"col_heading level0 col1\" >evening</th>\n",
       "      <th class=\"col_heading level0 col2\" >morning</th>\n",
       "      <th class=\"col_heading level0 col3\" >night</th>\n",
       "      <th class=\"col_heading level0 col4\" >sum</th>\n",
       "      <th class=\"col_heading level0 col5\" >part_morning</th>\n",
       "      <th class=\"col_heading level0 col6\" >part_day</th>\n",
       "      <th class=\"col_heading level0 col7\" >part_evening</th>\n",
       "      <th class=\"col_heading level0 col8\" >part_night</th>\n",
       "    </tr>\n",
       "    <tr>\n",
       "      <th class=\"index_name level0\" >claster_client</th>\n",
       "      <th class=\"blank col0\" >&nbsp;</th>\n",
       "      <th class=\"blank col1\" >&nbsp;</th>\n",
       "      <th class=\"blank col2\" >&nbsp;</th>\n",
       "      <th class=\"blank col3\" >&nbsp;</th>\n",
       "      <th class=\"blank col4\" >&nbsp;</th>\n",
       "      <th class=\"blank col5\" >&nbsp;</th>\n",
       "      <th class=\"blank col6\" >&nbsp;</th>\n",
       "      <th class=\"blank col7\" >&nbsp;</th>\n",
       "      <th class=\"blank col8\" >&nbsp;</th>\n",
       "    </tr>\n",
       "  </thead>\n",
       "  <tbody>\n",
       "    <tr>\n",
       "      <th id=\"T_b3418_level0_row0\" class=\"row_heading level0 row0\" >0</th>\n",
       "      <td id=\"T_b3418_row0_col0\" class=\"data row0 col0\" >790</td>\n",
       "      <td id=\"T_b3418_row0_col1\" class=\"data row0 col1\" >390</td>\n",
       "      <td id=\"T_b3418_row0_col2\" class=\"data row0 col2\" >552</td>\n",
       "      <td id=\"T_b3418_row0_col3\" class=\"data row0 col3\" >203</td>\n",
       "      <td id=\"T_b3418_row0_col4\" class=\"data row0 col4\" >1935</td>\n",
       "      <td id=\"T_b3418_row0_col5\" class=\"data row0 col5\" >28.53%</td>\n",
       "      <td id=\"T_b3418_row0_col6\" class=\"data row0 col6\" >40.83%</td>\n",
       "      <td id=\"T_b3418_row0_col7\" class=\"data row0 col7\" >20.16%</td>\n",
       "      <td id=\"T_b3418_row0_col8\" class=\"data row0 col8\" >10.49%</td>\n",
       "    </tr>\n",
       "    <tr>\n",
       "      <th id=\"T_b3418_level0_row1\" class=\"row_heading level0 row1\" >1</th>\n",
       "      <td id=\"T_b3418_row1_col0\" class=\"data row1 col0\" >129</td>\n",
       "      <td id=\"T_b3418_row1_col1\" class=\"data row1 col1\" >48</td>\n",
       "      <td id=\"T_b3418_row1_col2\" class=\"data row1 col2\" >82</td>\n",
       "      <td id=\"T_b3418_row1_col3\" class=\"data row1 col3\" >31</td>\n",
       "      <td id=\"T_b3418_row1_col4\" class=\"data row1 col4\" >290</td>\n",
       "      <td id=\"T_b3418_row1_col5\" class=\"data row1 col5\" >28.28%</td>\n",
       "      <td id=\"T_b3418_row1_col6\" class=\"data row1 col6\" >44.48%</td>\n",
       "      <td id=\"T_b3418_row1_col7\" class=\"data row1 col7\" >16.55%</td>\n",
       "      <td id=\"T_b3418_row1_col8\" class=\"data row1 col8\" >10.69%</td>\n",
       "    </tr>\n",
       "    <tr>\n",
       "      <th id=\"T_b3418_level0_row2\" class=\"row_heading level0 row2\" >2</th>\n",
       "      <td id=\"T_b3418_row2_col0\" class=\"data row2 col0\" >20</td>\n",
       "      <td id=\"T_b3418_row2_col1\" class=\"data row2 col1\" >11</td>\n",
       "      <td id=\"T_b3418_row2_col2\" class=\"data row2 col2\" >12</td>\n",
       "      <td id=\"T_b3418_row2_col3\" class=\"data row2 col3\" >7</td>\n",
       "      <td id=\"T_b3418_row2_col4\" class=\"data row2 col4\" >50</td>\n",
       "      <td id=\"T_b3418_row2_col5\" class=\"data row2 col5\" >24.00%</td>\n",
       "      <td id=\"T_b3418_row2_col6\" class=\"data row2 col6\" >40.00%</td>\n",
       "      <td id=\"T_b3418_row2_col7\" class=\"data row2 col7\" >22.00%</td>\n",
       "      <td id=\"T_b3418_row2_col8\" class=\"data row2 col8\" >14.00%</td>\n",
       "    </tr>\n",
       "    <tr>\n",
       "      <th id=\"T_b3418_level0_row3\" class=\"row_heading level0 row3\" >3</th>\n",
       "      <td id=\"T_b3418_row3_col0\" class=\"data row3 col0\" >25</td>\n",
       "      <td id=\"T_b3418_row3_col1\" class=\"data row3 col1\" >19</td>\n",
       "      <td id=\"T_b3418_row3_col2\" class=\"data row3 col2\" >28</td>\n",
       "      <td id=\"T_b3418_row3_col3\" class=\"data row3 col3\" >10</td>\n",
       "      <td id=\"T_b3418_row3_col4\" class=\"data row3 col4\" >82</td>\n",
       "      <td id=\"T_b3418_row3_col5\" class=\"data row3 col5\" >34.15%</td>\n",
       "      <td id=\"T_b3418_row3_col6\" class=\"data row3 col6\" >30.49%</td>\n",
       "      <td id=\"T_b3418_row3_col7\" class=\"data row3 col7\" >23.17%</td>\n",
       "      <td id=\"T_b3418_row3_col8\" class=\"data row3 col8\" >12.20%</td>\n",
       "    </tr>\n",
       "    <tr>\n",
       "      <th id=\"T_b3418_level0_row4\" class=\"row_heading level0 row4\" >4</th>\n",
       "      <td id=\"T_b3418_row4_col0\" class=\"data row4 col0\" >112</td>\n",
       "      <td id=\"T_b3418_row4_col1\" class=\"data row4 col1\" >52</td>\n",
       "      <td id=\"T_b3418_row4_col2\" class=\"data row4 col2\" >79</td>\n",
       "      <td id=\"T_b3418_row4_col3\" class=\"data row4 col3\" >43</td>\n",
       "      <td id=\"T_b3418_row4_col4\" class=\"data row4 col4\" >286</td>\n",
       "      <td id=\"T_b3418_row4_col5\" class=\"data row4 col5\" >27.62%</td>\n",
       "      <td id=\"T_b3418_row4_col6\" class=\"data row4 col6\" >39.16%</td>\n",
       "      <td id=\"T_b3418_row4_col7\" class=\"data row4 col7\" >18.18%</td>\n",
       "      <td id=\"T_b3418_row4_col8\" class=\"data row4 col8\" >15.03%</td>\n",
       "    </tr>\n",
       "  </tbody>\n",
       "</table>\n"
      ],
      "text/plain": [
       "<pandas.io.formats.style.Styler at 0x7f4515b937c0>"
      ]
     },
     "execution_count": 113,
     "metadata": {},
     "output_type": "execute_result"
    }
   ],
   "source": [
    "time_part = data.pivot_table(index=['claster_client'], columns='time_cat', values='order_id', aggfunc='nunique')\n",
    "time_part.columns = ['day','evening','morning','night']\n",
    "time_part['sum']=time_part['day']+time_part['evening']+time_part['morning']+time_part['night']\n",
    "time_part['part_morning']=time_part['morning']/time_part['sum']\n",
    "time_part['part_day']=time_part['day']/time_part['sum']\n",
    "time_part['part_evening']=time_part['evening']/time_part['sum']\n",
    "time_part['part_night']=time_part['night']/time_part['sum']\n",
    "time_part.style.format({'part_day':'{:,.2%}'.format, 'part_evening':'{:,.2%}'.format, 'part_morning':'{:,.2%}'.format, 'part_night':'{:,.2%}'.format})#.bar(['part_day','part_evening','part_morning','part_night'], color='green')"
   ]
  },
  {
   "cell_type": "code",
   "execution_count": 114,
   "id": "caf6696e",
   "metadata": {
    "scrolled": true
   },
   "outputs": [
    {
     "data": {
      "image/png": "[encoded data removed]",
      "text/plain": [
       "<Figure size 1440x432 with 1 Axes>"
      ]
     },
     "metadata": {
      "needs_background": "light"
     },
     "output_type": "display_data"
    }
   ],
   "source": [
    "time_part.drop(['day','morning','evening','night', 'sum'], axis=1).plot(kind='bar', xlabel='кластер', figsize=(20,6))\n",
    "plt.title('Доли заказов по времени оформления для каждого кластера')\n",
    "plt.show()"
   ]
  },
  {
   "cell_type": "markdown",
   "id": "8dd715ab",
   "metadata": {},
   "source": [
    "Для кластера 0 характерно следующее распределение:\n",
    "- дневное время (около 41%)\n",
    "- затем утреннее время (28.53%)\n",
    "- вечернее время (20.16%)\n",
    "- ночное время (10.49%)\n",
    "\n",
    "Для кластера 1 характерно:\n",
    "- дневное время (44.48%)\n",
    "- утреннее время (28.28%)\n",
    "- вечернее время (16.55%)\n",
    "- ночное время (10.69%)\n",
    "\n",
    "Для кластера 2 характерно:\n",
    "- дневное время (40%)\n",
    "- утреннее время (24%)\n",
    "- вечернее время (22%)\n",
    "- ночное время (14%)\n",
    "\n",
    "Для кластера 3 характерно:\n",
    "- утреннее время (34.15%)\n",
    "- дневное время (30.49%)\n",
    "- вечернее время (23.17%)\n",
    "- ночное время (12.2%)\n",
    "\n",
    "Для кластера 4 характерно:\n",
    "- дневное время (39.16%)\n",
    "- утреннее время (27.62%)\n",
    "- вечренее время (18.18%)\n",
    "- ночное время (15.03)"
   ]
  },
  {
   "cell_type": "markdown",
   "id": "603e19bf",
   "metadata": {},
   "source": [
    "Общий вывод по исследовательскому анализу данных:\n",
    "- Был произведен анализ цены и количества купленных товаров. Доля оптовых заказов, для которых количество превышало 50 единиц, составил лишь 1.04%. Доля дорогих товаров, цена которых превышает 1100, составило 12.03%.\n",
    "- Лишь 6.53% всех клиентов совершили больше одного заказа. Среди которых были клиенты, совершившие больше 10 заказов. Эти данные посчитали выбросами и удалили их. Доля выбросов составила 4.21% от исходного датафрейма.\n",
    "- Созданы профили пользователей и расчитан коэффициент удержания. Клиенты удерживаются плохо. Наибольший срок жизни 7 месяцев для когорты клиентов, совершивших первый заказ в марте 2019г. Затем идут клиенты от мая 2019 (6 месяцев жизни) и клиенты от ноября 2018 ( 5 месяцев жизни). Меньше всего \"прожили\" клиенты за июнь 2019 года ( всего 2 месяца).\n",
    "- Всем товарам присвоена одна из четырех категорий: это Садоводство, товары для дома, товары для кухни, строитльные принадлежности. Больше всего продано товаров из категории Садоводство (54.69%), затем идут товары для дома (35.37%).\n",
    "- Все клиенты разделены на кластеры в зависимости от категории купленных товаров. Кластеры довольно хорошо разделены, тк оценка silhouette_score равна 0.77.\n",
    "\n",
    "    - Кластер 0\n",
    "        - Сюда вошли клиенты, купившие товары из категории Садоводство и Товары для дома. Товары для дома преобладают в заказах клиентов этого кластера.\n",
    "    - Кластер 1\n",
    "        - Клиенты, купившие товары из категории Садоводство\n",
    "    - Кластер 2\n",
    "        - Сюда вошли клиенты, купившие товары из категории Садоводство, Товары для дома, Строительство и Товары для кухни. В кластере 2 преобладают товары из категории Садоводство, затем идут Товары для дома и для кухни. И малая часть заказов содержит товары из категории Строительные принадлежности.\n",
    "    - Кластер 3\n",
    "        - Клиенты купившие товары из категории Строительство\n",
    "    - Кластер 4\n",
    "        - Клиенты купившие товары из категории Товары для кухни\n",
    "\n",
    "- Третий кластер содержит 43.68% дорогих товаров от числа товаров, вошедших в этот кластер. Затем идет нулевой кластер, в который вошли 22.02% дорогих товаров от числа товаров в этом кластере. Но данный кластер лидирует по содержанию дорогих товаров от общего числа купленных товаров. В первый кластер попало 0% дорогостоящих товаров.\n",
    "- Было расчинато количество заказов в зависимости от времени его оформления. В дневное время совершается больше всего заказов, около 41%. Затем идет утро (около 29%), а в вечернее время было совершено около 20% от общего числа заказов. В ночное время совершено меньше всего покупок, около 11%.\n",
    "- Практически во всех кластерах клиенты предпочитают совершать покупки в дневное время. В ночное время совершено меньше всего покупок в каждом кластере."
   ]
  },
  {
   "cell_type": "markdown",
   "id": "37080e76",
   "metadata": {},
   "source": [
    "## Проверка статистических гипотиз\n",
    "### Траты на товары категории Садоводство равны тратам на товары из других категорий.\n",
    "\n",
    "Нулевая гипотеза: средние траты клиентов на товары из категории Садоводства равны средним тратам на остальные категории.\n",
    "\n",
    "Альтернативная гипотеза: средние траты клиентов на эти товары различны.\n",
    "\n",
    "Нужно исследовать значения трат для всех пользователей, которые совершены в категории Садоводство и на основании полученных данных определить является ли категории Садоводство более прибыльной.\n",
    "Для расчета используем метод scipy.stats.ttest_ind(), так как нужно сравнить средние двух генеральных совокупностей между собой. Одна совокупность, это траты пользователей на товары из категории Садоводство, другая совокупность- все прочие траты."
   ]
  },
  {
   "cell_type": "code",
   "execution_count": 115,
   "id": "4a77bf27",
   "metadata": {},
   "outputs": [
    {
     "name": "stdout",
     "output_type": "stream",
     "text": [
      "p-значение: 1.2075383350773202e-150\n",
      "Отвергаем нулевую гипотезу\n"
     ]
    }
   ],
   "source": [
    "alpha = .05\n",
    "results = st.ttest_ind(\n",
    "    data.query('product_cat == \"garden\"')['price'], \n",
    "    data.query('product_cat != \"garden\"')['price'],\n",
    "    equal_var = False)\n",
    "print('p-значение:', results.pvalue)\n",
    "\n",
    "if results.pvalue < alpha:\n",
    "    print(\"Отвергаем нулевую гипотезу\")\n",
    "else:\n",
    "    print(\"Не получилось отвергнуть нулевую гипотезу\") "
   ]
  },
  {
   "cell_type": "markdown",
   "id": "30a4f57c",
   "metadata": {},
   "source": [
    "Нулевую гипотезу стоит отвергуть. Значение p-value слишком мало, практически равно нулю, чтобы можно было принять нулевую гипотезу."
   ]
  },
  {
   "cell_type": "markdown",
   "id": "cabdde94",
   "metadata": {},
   "source": [
    "### В дневное время пользователи совершают больше покупок\n",
    "Нулевая гипотеза: средние траты пользователей, оформивших покупку в дневное время равна средним тратам пользователей в другое время суток.\n",
    "\n",
    "Альтернативная гипотеза: средние траты в дневное время и в другое время суток отличаются.\n",
    "\n",
    "\n",
    "Рассмотрим траты покупателей в зависимости от времени оформления заказов."
   ]
  },
  {
   "cell_type": "code",
   "execution_count": 116,
   "id": "e4d21c6a",
   "metadata": {},
   "outputs": [
    {
     "name": "stdout",
     "output_type": "stream",
     "text": [
      "p-значение: 0.026240669815787633\n",
      "Отвергаем нулевую гипотезу\n"
     ]
    }
   ],
   "source": [
    "alpha = .05\n",
    "results = st.ttest_ind(\n",
    "    data.query('time_cat == \"day\"')['price'], \n",
    "    data.query('time_cat != \"day\"')['price'],\n",
    "    equal_var = False)\n",
    "print('p-значение:', results.pvalue)\n",
    "\n",
    "if results.pvalue < alpha:\n",
    "    print(\"Отвергаем нулевую гипотезу\")\n",
    "else:\n",
    "    print(\"Не получилось отвергнуть нулевую гипотезу\") "
   ]
  },
  {
   "cell_type": "markdown",
   "id": "64843096",
   "metadata": {},
   "source": [
    "Нулевую гипотезу стоит отвергнуть. Значение p-value меньше 0.05, не получится принять нулевую гипотезу. "
   ]
  },
  {
   "cell_type": "markdown",
   "id": "9a32ab1a",
   "metadata": {},
   "source": [
    "## Вывод\n",
    "В ходе работы были выполнены следующие этапы:\n",
    "\n",
    "**1. Обзор данных**\n",
    "   - Загружен датафрем и оценен его размер. Датафрейм небольшой, пропуски в данных отсутствуют.\n",
    "   \n",
    "**2. Произведена предобработка данных.**\n",
    "   - Изменены типы данных в столбцах date и price на datetime и int соответственно.\n",
    "   - В таблице присутствуют данные за период времени 01 октября 2018 года 00:00 часов по 31 октября 2019 года 16:00 часов.\n",
    "   - Явные дубликаты отсутствуют.\n",
    "   - Была проведена очистка таблицы от задублированных строк, количество которых составило 27%.\n",
    "   - Наименование товаров было преобразовано, очищено от спец символов, лишних пробелов и записано в новый столбец 'new'.\n",
    "   \n",
    "**3. Проведен исследовательский анализ данных.**\n",
    "   - Был произведен анализ цены и количества купленных товаров. Доля оптовых заказов, для которых количество превышало 50 единиц, составил лишь 1.04%. Доля дорогих товаров, цена которых превышает 1100, составило 12.03%.\n",
    "   - Лишь 6.53% всех клиентов совершили больше одного заказа. Среди которых были клиенты, совершившие больше 10 заказов. Эти данные посчитали выбросами и удалили их. Доля выбросов составила 3.1% от исходного датафрейма.\n",
    "   - Созданы профили пользователей и расчитан коэффициент удержания. Клиенты удерживаются плохо. Наибольший срок жизни 6 месяцев для когорты клиентов, совершивших первый заказ в мае 2019г. Затем идут клиенты от ноября 2018 ( 5 месяцев жизни). Меньше всего \"прожили\" клиенты за сентябрь 2019 года ( всего 1 месяц).\n",
    "   - Всем товарам присвоена одна из четырех категорий: это Садоводство, Товары для дома, Товары для кухни, Строительные принадлежности. Больше всего продано товаров из категории Садоводство (54.69%), затем идут товары для дома (35.37%).\n",
    "   - Все клиенты разделены на кластеры в зависимости от категории купленных товаров. Кластеры довольно хорошо разделены, оценка silhouette_score равна 0.77. Мы получили следующие кластеры:\n",
    "        - Кластер 0: Сюда вошли клиенты, купившие товары из категории Садоводство и Товары для дома\n",
    "        - Кластер 1: Клиенты, купившие товары из категории Садоводство\n",
    "        - Кластер 2 :Сюда вошли клиенты, купившие товары из категории Садоводство, Товары для дома, Строительство и Товары для кухни\n",
    "        - Кластер 3: Клиенты купившие товары из категории Строительство\n",
    "        - Кластер 4: Клиенты купившие товары из категории Товары для кухни\n",
    "   \n",
    "Кластеры отображают категории товаров, которые были куплены клиентами. Тк есть клиенты, купившие товары из трех различных категорий товаров. При проведении кластеризации было выбрано число кластеров 5, и в кластер 2 попали клиенты, купившие товары из максимального числа категорий.\n",
    "   - Третий кластер содержит 43.68% дорогих товаров от числа товаров, вошедших в этот кластер. Затем идет нулевой кластер, в который вошли 22.02% дорогих товаров от числа товаров в этом кластере. Но данный кластер лидирует по содержанию дорогих товаров от общего числа купленных товаров. В первый кластер попало 0% дорогостоящих товаров.\n",
    "- Было расчинато количество заказов в зависимости от времени его оформления. В дневное время совершается больше всего заказов, около 41%. Затем идет утро (около 29%), а в вечернее время было совершено около 20% от общего числа заказов. В ночное время совершено меньше всего покупок, около 11%.\n",
    "- Практически во всех кластерах клиенты предпочитают совершать покупки в дневное время. В ночное время совершено меньше всего покупок в каждом кластере.\n",
    "   \n",
    "**4. Проведена проверка статистических гипотез.**\n",
    "   - Траты на товары категории Садоводство равны тратам на товары из других категорий.\n",
    "        * Гипотезу пришлось отвергуть, так как значение pvalue слишком мало, практически равно нулю, чтобы можно было принять нулевую гипотезу.\n",
    "   - Средние траты пользователей, оформивших покупку в дневное время равна средним тратам пользователей в другое время суток.\n",
    "        * Гипотезу пришлось отвергнуть, так как значение pvalue меньше выбранного значения alpha.\n",
    "        \n",
    "**5. Итог**\n",
    "На основании покупок клиентов и кластера, в который эти клиенты попали можно составлять рекомендации при совершении новых покупов. Третий и нулевой кластеры лидируют по количеству купленных дорогих товаров. А в первом кластере совсем нет дорогостоящих товаров. К тому же клиенты больше совершают покупки в дневное время не зависимо от номера кластера."
   ]
  },
  {
   "cell_type": "code",
   "execution_count": null,
   "id": "f87c2ee4",
   "metadata": {},
   "outputs": [],
   "source": []
  }
 ],
 "metadata": {
  "ExecuteTimeLog": [
   {
    "duration": 1670,
    "start_time": "2022-10-04T03:29:43.901Z"
   },
   {
    "duration": 184,
    "start_time": "2022-10-04T03:29:45.573Z"
   },
   {
    "duration": 21,
    "start_time": "2022-10-04T03:29:45.759Z"
   },
   {
    "duration": 14,
    "start_time": "2022-10-04T03:29:45.782Z"
   },
   {
    "duration": 24,
    "start_time": "2022-10-04T03:29:46.011Z"
   },
   {
    "duration": 14,
    "start_time": "2022-10-04T03:30:04.242Z"
   },
   {
    "duration": 11,
    "start_time": "2022-10-04T03:30:17.309Z"
   },
   {
    "duration": 11,
    "start_time": "2022-10-04T03:30:22.250Z"
   },
   {
    "duration": 7,
    "start_time": "2022-10-04T03:34:58.280Z"
   },
   {
    "duration": 8,
    "start_time": "2022-10-04T03:35:09.412Z"
   },
   {
    "duration": 6,
    "start_time": "2022-10-04T03:45:09.780Z"
   },
   {
    "duration": 4,
    "start_time": "2022-10-04T03:47:18.235Z"
   },
   {
    "duration": 741,
    "start_time": "2022-10-04T03:47:18.241Z"
   },
   {
    "duration": 0,
    "start_time": "2022-10-04T03:47:18.985Z"
   },
   {
    "duration": 0,
    "start_time": "2022-10-04T03:47:18.986Z"
   },
   {
    "duration": 0,
    "start_time": "2022-10-04T03:47:18.988Z"
   },
   {
    "duration": 0,
    "start_time": "2022-10-04T03:47:18.988Z"
   },
   {
    "duration": 0,
    "start_time": "2022-10-04T03:47:18.989Z"
   },
   {
    "duration": 0,
    "start_time": "2022-10-04T03:47:18.991Z"
   },
   {
    "duration": 0,
    "start_time": "2022-10-04T03:47:18.992Z"
   },
   {
    "duration": 0,
    "start_time": "2022-10-04T03:47:18.993Z"
   },
   {
    "duration": 0,
    "start_time": "2022-10-04T03:47:18.994Z"
   },
   {
    "duration": 0,
    "start_time": "2022-10-04T03:47:18.996Z"
   },
   {
    "duration": 0,
    "start_time": "2022-10-04T03:47:18.996Z"
   },
   {
    "duration": 0,
    "start_time": "2022-10-04T03:47:18.997Z"
   },
   {
    "duration": 0,
    "start_time": "2022-10-04T03:47:18.998Z"
   },
   {
    "duration": 0,
    "start_time": "2022-10-04T03:47:18.999Z"
   },
   {
    "duration": 0,
    "start_time": "2022-10-04T03:47:19.000Z"
   },
   {
    "duration": 0,
    "start_time": "2022-10-04T03:47:19.001Z"
   },
   {
    "duration": 0,
    "start_time": "2022-10-04T03:47:19.003Z"
   },
   {
    "duration": 0,
    "start_time": "2022-10-04T03:47:19.004Z"
   },
   {
    "duration": 0,
    "start_time": "2022-10-04T03:47:19.004Z"
   },
   {
    "duration": 0,
    "start_time": "2022-10-04T03:47:19.005Z"
   },
   {
    "duration": 0,
    "start_time": "2022-10-04T03:47:19.006Z"
   },
   {
    "duration": 0,
    "start_time": "2022-10-04T03:47:19.007Z"
   },
   {
    "duration": 0,
    "start_time": "2022-10-04T03:47:19.008Z"
   },
   {
    "duration": 0,
    "start_time": "2022-10-04T03:47:19.010Z"
   },
   {
    "duration": 1,
    "start_time": "2022-10-04T03:47:19.010Z"
   },
   {
    "duration": 0,
    "start_time": "2022-10-04T03:47:19.012Z"
   },
   {
    "duration": 0,
    "start_time": "2022-10-04T03:47:19.013Z"
   },
   {
    "duration": 3576,
    "start_time": "2022-10-04T03:47:57.124Z"
   },
   {
    "duration": 890,
    "start_time": "2022-10-04T03:48:00.703Z"
   },
   {
    "duration": 48,
    "start_time": "2022-10-04T03:48:01.596Z"
   },
   {
    "duration": 20,
    "start_time": "2022-10-04T03:48:01.646Z"
   },
   {
    "duration": 41,
    "start_time": "2022-10-04T03:48:01.668Z"
   },
   {
    "duration": 33,
    "start_time": "2022-10-04T03:48:01.711Z"
   },
   {
    "duration": 22,
    "start_time": "2022-10-04T03:48:01.746Z"
   },
   {
    "duration": 37,
    "start_time": "2022-10-04T03:48:01.770Z"
   },
   {
    "duration": 20,
    "start_time": "2022-10-04T03:48:01.809Z"
   },
   {
    "duration": 5,
    "start_time": "2022-10-04T03:48:01.832Z"
   },
   {
    "duration": 5,
    "start_time": "2022-10-04T03:48:01.838Z"
   },
   {
    "duration": 13,
    "start_time": "2022-10-04T03:48:01.845Z"
   },
   {
    "duration": 10,
    "start_time": "2022-10-04T03:48:01.860Z"
   },
   {
    "duration": 9,
    "start_time": "2022-10-04T03:48:01.872Z"
   },
   {
    "duration": 9,
    "start_time": "2022-10-04T03:48:01.883Z"
   },
   {
    "duration": 10,
    "start_time": "2022-10-04T03:48:01.894Z"
   },
   {
    "duration": 14,
    "start_time": "2022-10-04T03:48:01.906Z"
   },
   {
    "duration": 11,
    "start_time": "2022-10-04T03:48:01.922Z"
   },
   {
    "duration": 1271,
    "start_time": "2022-10-04T03:48:01.935Z"
   },
   {
    "duration": 0,
    "start_time": "2022-10-04T03:48:03.208Z"
   },
   {
    "duration": 0,
    "start_time": "2022-10-04T03:48:03.209Z"
   },
   {
    "duration": 0,
    "start_time": "2022-10-04T03:48:03.210Z"
   },
   {
    "duration": 0,
    "start_time": "2022-10-04T03:48:03.211Z"
   },
   {
    "duration": 0,
    "start_time": "2022-10-04T03:48:03.212Z"
   },
   {
    "duration": 0,
    "start_time": "2022-10-04T03:48:03.213Z"
   },
   {
    "duration": 0,
    "start_time": "2022-10-04T03:48:03.214Z"
   },
   {
    "duration": 0,
    "start_time": "2022-10-04T03:48:03.215Z"
   },
   {
    "duration": 0,
    "start_time": "2022-10-04T03:48:03.216Z"
   },
   {
    "duration": 0,
    "start_time": "2022-10-04T03:48:03.218Z"
   },
   {
    "duration": 2651,
    "start_time": "2022-10-04T03:48:35.881Z"
   },
   {
    "duration": 21,
    "start_time": "2022-10-04T03:48:38.534Z"
   },
   {
    "duration": 11,
    "start_time": "2022-10-04T03:48:56.252Z"
   },
   {
    "duration": 3,
    "start_time": "2022-10-04T03:48:56.646Z"
   },
   {
    "duration": 3,
    "start_time": "2022-10-04T03:48:57.632Z"
   },
   {
    "duration": 59,
    "start_time": "2022-10-04T03:48:58.212Z"
   },
   {
    "duration": 11,
    "start_time": "2022-10-04T03:49:01.019Z"
   },
   {
    "duration": 128,
    "start_time": "2022-10-04T03:50:33.102Z"
   },
   {
    "duration": 156,
    "start_time": "2022-10-04T03:50:33.232Z"
   },
   {
    "duration": 218,
    "start_time": "2022-10-04T03:50:33.390Z"
   },
   {
    "duration": 10,
    "start_time": "2022-10-04T03:50:33.610Z"
   },
   {
    "duration": 116,
    "start_time": "2022-10-04T03:50:33.623Z"
   },
   {
    "duration": 21,
    "start_time": "2022-10-04T03:50:33.741Z"
   },
   {
    "duration": 8,
    "start_time": "2022-10-04T03:50:33.764Z"
   },
   {
    "duration": 127,
    "start_time": "2022-10-04T03:50:33.775Z"
   },
   {
    "duration": 10,
    "start_time": "2022-10-04T03:50:33.904Z"
   },
   {
    "duration": 11,
    "start_time": "2022-10-04T03:50:33.917Z"
   },
   {
    "duration": 41,
    "start_time": "2022-10-04T03:50:33.930Z"
   },
   {
    "duration": 5,
    "start_time": "2022-10-04T03:50:33.973Z"
   },
   {
    "duration": 7,
    "start_time": "2022-10-04T03:50:33.979Z"
   },
   {
    "duration": 10,
    "start_time": "2022-10-04T03:50:33.989Z"
   },
   {
    "duration": 21,
    "start_time": "2022-10-04T03:50:34.000Z"
   },
   {
    "duration": 18,
    "start_time": "2022-10-04T03:50:34.022Z"
   },
   {
    "duration": 13,
    "start_time": "2022-10-04T03:50:34.042Z"
   },
   {
    "duration": 53,
    "start_time": "2022-10-04T03:50:34.057Z"
   },
   {
    "duration": 5,
    "start_time": "2022-10-04T03:50:34.112Z"
   },
   {
    "duration": 8,
    "start_time": "2022-10-04T03:50:34.118Z"
   },
   {
    "duration": 5,
    "start_time": "2022-10-04T03:50:34.127Z"
   },
   {
    "duration": 7,
    "start_time": "2022-10-04T03:50:34.134Z"
   },
   {
    "duration": 2122,
    "start_time": "2022-10-04T03:50:34.155Z"
   },
   {
    "duration": 846,
    "start_time": "2022-10-04T03:50:36.279Z"
   },
   {
    "duration": 3,
    "start_time": "2022-10-04T03:50:37.127Z"
   },
   {
    "duration": 142,
    "start_time": "2022-10-04T03:50:37.131Z"
   },
   {
    "duration": 0,
    "start_time": "2022-10-04T03:50:37.277Z"
   },
   {
    "duration": 0,
    "start_time": "2022-10-04T03:50:37.279Z"
   },
   {
    "duration": 0,
    "start_time": "2022-10-04T03:50:37.280Z"
   },
   {
    "duration": 0,
    "start_time": "2022-10-04T03:50:37.282Z"
   },
   {
    "duration": 0,
    "start_time": "2022-10-04T03:50:37.283Z"
   },
   {
    "duration": 0,
    "start_time": "2022-10-04T03:50:37.285Z"
   },
   {
    "duration": 0,
    "start_time": "2022-10-04T03:50:37.286Z"
   },
   {
    "duration": 0,
    "start_time": "2022-10-04T03:50:37.288Z"
   },
   {
    "duration": 0,
    "start_time": "2022-10-04T03:50:37.289Z"
   },
   {
    "duration": 0,
    "start_time": "2022-10-04T03:50:37.291Z"
   },
   {
    "duration": 0,
    "start_time": "2022-10-04T03:50:37.292Z"
   },
   {
    "duration": 0,
    "start_time": "2022-10-04T03:50:37.294Z"
   },
   {
    "duration": 0,
    "start_time": "2022-10-04T03:50:37.295Z"
   },
   {
    "duration": 0,
    "start_time": "2022-10-04T03:50:37.296Z"
   },
   {
    "duration": 0,
    "start_time": "2022-10-04T03:50:37.298Z"
   },
   {
    "duration": 0,
    "start_time": "2022-10-04T03:50:37.299Z"
   },
   {
    "duration": 0,
    "start_time": "2022-10-04T03:50:37.301Z"
   },
   {
    "duration": 0,
    "start_time": "2022-10-04T03:50:37.302Z"
   },
   {
    "duration": 0,
    "start_time": "2022-10-04T03:50:37.304Z"
   },
   {
    "duration": 0,
    "start_time": "2022-10-04T03:50:37.354Z"
   },
   {
    "duration": 0,
    "start_time": "2022-10-04T03:50:37.356Z"
   },
   {
    "duration": 0,
    "start_time": "2022-10-04T03:50:37.357Z"
   },
   {
    "duration": 0,
    "start_time": "2022-10-04T03:50:37.358Z"
   },
   {
    "duration": 0,
    "start_time": "2022-10-04T03:50:37.360Z"
   },
   {
    "duration": 1,
    "start_time": "2022-10-04T03:50:37.361Z"
   },
   {
    "duration": 0,
    "start_time": "2022-10-04T03:50:37.364Z"
   },
   {
    "duration": 0,
    "start_time": "2022-10-04T03:50:37.365Z"
   },
   {
    "duration": 0,
    "start_time": "2022-10-04T03:50:37.366Z"
   },
   {
    "duration": 0,
    "start_time": "2022-10-04T03:50:37.368Z"
   },
   {
    "duration": 0,
    "start_time": "2022-10-04T03:50:37.369Z"
   },
   {
    "duration": 0,
    "start_time": "2022-10-04T03:50:37.371Z"
   },
   {
    "duration": 0,
    "start_time": "2022-10-04T03:50:37.373Z"
   },
   {
    "duration": 0,
    "start_time": "2022-10-04T03:50:37.374Z"
   },
   {
    "duration": 0,
    "start_time": "2022-10-04T03:50:37.376Z"
   },
   {
    "duration": 0,
    "start_time": "2022-10-04T03:50:37.377Z"
   },
   {
    "duration": 0,
    "start_time": "2022-10-04T03:50:37.378Z"
   },
   {
    "duration": 0,
    "start_time": "2022-10-04T03:50:37.380Z"
   },
   {
    "duration": 0,
    "start_time": "2022-10-04T03:50:37.381Z"
   },
   {
    "duration": 0,
    "start_time": "2022-10-04T03:50:37.383Z"
   },
   {
    "duration": 0,
    "start_time": "2022-10-04T03:50:37.384Z"
   },
   {
    "duration": 0,
    "start_time": "2022-10-04T03:50:37.385Z"
   },
   {
    "duration": 0,
    "start_time": "2022-10-04T03:50:37.386Z"
   },
   {
    "duration": 0,
    "start_time": "2022-10-04T03:50:37.387Z"
   },
   {
    "duration": 0,
    "start_time": "2022-10-04T03:50:37.389Z"
   },
   {
    "duration": 0,
    "start_time": "2022-10-04T03:50:37.390Z"
   },
   {
    "duration": 0,
    "start_time": "2022-10-04T03:50:37.391Z"
   },
   {
    "duration": 0,
    "start_time": "2022-10-04T03:50:37.392Z"
   },
   {
    "duration": 0,
    "start_time": "2022-10-04T03:50:37.393Z"
   },
   {
    "duration": 0,
    "start_time": "2022-10-04T03:50:37.454Z"
   },
   {
    "duration": 0,
    "start_time": "2022-10-04T03:50:37.455Z"
   },
   {
    "duration": 0,
    "start_time": "2022-10-04T03:50:37.457Z"
   },
   {
    "duration": 0,
    "start_time": "2022-10-04T03:50:37.458Z"
   },
   {
    "duration": 0,
    "start_time": "2022-10-04T03:50:37.459Z"
   },
   {
    "duration": 0,
    "start_time": "2022-10-04T03:50:37.461Z"
   },
   {
    "duration": 6,
    "start_time": "2022-10-04T03:52:01.621Z"
   },
   {
    "duration": 15,
    "start_time": "2022-10-04T03:52:38.175Z"
   },
   {
    "duration": 5,
    "start_time": "2022-10-04T03:52:54.225Z"
   },
   {
    "duration": 120,
    "start_time": "2022-10-04T03:53:04.439Z"
   },
   {
    "duration": 118,
    "start_time": "2022-10-04T03:53:59.813Z"
   },
   {
    "duration": 2046,
    "start_time": "2022-10-04T03:56:52.932Z"
   },
   {
    "duration": 1439,
    "start_time": "2022-10-04T03:56:54.981Z"
   },
   {
    "duration": 46,
    "start_time": "2022-10-04T03:56:56.422Z"
   },
   {
    "duration": 20,
    "start_time": "2022-10-04T03:56:56.471Z"
   },
   {
    "duration": 13,
    "start_time": "2022-10-04T03:56:56.492Z"
   },
   {
    "duration": 22,
    "start_time": "2022-10-04T03:56:56.507Z"
   },
   {
    "duration": 17,
    "start_time": "2022-10-04T03:56:56.555Z"
   },
   {
    "duration": 17,
    "start_time": "2022-10-04T03:56:56.574Z"
   },
   {
    "duration": 19,
    "start_time": "2022-10-04T03:56:56.593Z"
   },
   {
    "duration": 19,
    "start_time": "2022-10-04T03:56:56.615Z"
   },
   {
    "duration": 30,
    "start_time": "2022-10-04T03:56:56.636Z"
   },
   {
    "duration": 21,
    "start_time": "2022-10-04T03:56:56.668Z"
   },
   {
    "duration": 5,
    "start_time": "2022-10-04T03:56:56.691Z"
   },
   {
    "duration": 6,
    "start_time": "2022-10-04T03:56:56.697Z"
   },
   {
    "duration": 13,
    "start_time": "2022-10-04T03:56:56.704Z"
   },
   {
    "duration": 7,
    "start_time": "2022-10-04T03:56:56.719Z"
   },
   {
    "duration": 6,
    "start_time": "2022-10-04T03:56:56.727Z"
   },
   {
    "duration": 9,
    "start_time": "2022-10-04T03:56:56.734Z"
   },
   {
    "duration": 2683,
    "start_time": "2022-10-04T03:56:56.753Z"
   },
   {
    "duration": 29,
    "start_time": "2022-10-04T03:56:59.438Z"
   },
   {
    "duration": 9,
    "start_time": "2022-10-04T03:56:59.468Z"
   },
   {
    "duration": 21,
    "start_time": "2022-10-04T03:56:59.478Z"
   },
   {
    "duration": 11,
    "start_time": "2022-10-04T03:56:59.501Z"
   },
   {
    "duration": 33,
    "start_time": "2022-10-04T03:56:59.514Z"
   },
   {
    "duration": 67,
    "start_time": "2022-10-04T03:56:59.550Z"
   },
   {
    "duration": 10,
    "start_time": "2022-10-04T03:56:59.619Z"
   },
   {
    "duration": 33,
    "start_time": "2022-10-04T03:56:59.632Z"
   },
   {
    "duration": 4,
    "start_time": "2022-10-04T03:56:59.670Z"
   },
   {
    "duration": 20,
    "start_time": "2022-10-04T03:56:59.676Z"
   },
   {
    "duration": 122,
    "start_time": "2022-10-04T03:56:59.698Z"
   },
   {
    "duration": 124,
    "start_time": "2022-10-04T03:56:59.822Z"
   },
   {
    "duration": 186,
    "start_time": "2022-10-04T03:56:59.948Z"
   },
   {
    "duration": 19,
    "start_time": "2022-10-04T03:57:00.135Z"
   },
   {
    "duration": 11,
    "start_time": "2022-10-04T03:57:00.155Z"
   },
   {
    "duration": 127,
    "start_time": "2022-10-04T03:57:00.167Z"
   },
   {
    "duration": 8,
    "start_time": "2022-10-04T03:57:00.295Z"
   },
   {
    "duration": 129,
    "start_time": "2022-10-04T03:57:00.304Z"
   },
   {
    "duration": 18,
    "start_time": "2022-10-04T03:57:00.436Z"
   },
   {
    "duration": 29,
    "start_time": "2022-10-04T03:57:00.456Z"
   },
   {
    "duration": 30,
    "start_time": "2022-10-04T03:57:00.487Z"
   },
   {
    "duration": 41,
    "start_time": "2022-10-04T03:57:00.519Z"
   },
   {
    "duration": 27,
    "start_time": "2022-10-04T03:57:00.563Z"
   },
   {
    "duration": 38,
    "start_time": "2022-10-04T03:57:00.592Z"
   },
   {
    "duration": 47,
    "start_time": "2022-10-04T03:57:00.632Z"
   },
   {
    "duration": 61,
    "start_time": "2022-10-04T03:57:00.681Z"
   },
   {
    "duration": 22,
    "start_time": "2022-10-04T03:57:00.744Z"
   },
   {
    "duration": 66,
    "start_time": "2022-10-04T03:57:00.768Z"
   },
   {
    "duration": 5,
    "start_time": "2022-10-04T03:57:00.836Z"
   },
   {
    "duration": 39,
    "start_time": "2022-10-04T03:57:00.843Z"
   },
   {
    "duration": 31,
    "start_time": "2022-10-04T03:57:00.884Z"
   },
   {
    "duration": 32,
    "start_time": "2022-10-04T03:57:00.917Z"
   },
   {
    "duration": 2361,
    "start_time": "2022-10-04T03:57:00.950Z"
   },
   {
    "duration": 1265,
    "start_time": "2022-10-04T03:57:03.313Z"
   },
   {
    "duration": 5,
    "start_time": "2022-10-04T03:57:04.580Z"
   },
   {
    "duration": 505,
    "start_time": "2022-10-04T03:57:04.586Z"
   },
   {
    "duration": 0,
    "start_time": "2022-10-04T03:57:05.094Z"
   },
   {
    "duration": 0,
    "start_time": "2022-10-04T03:57:05.096Z"
   },
   {
    "duration": 0,
    "start_time": "2022-10-04T03:57:05.097Z"
   },
   {
    "duration": 0,
    "start_time": "2022-10-04T03:57:05.098Z"
   },
   {
    "duration": 0,
    "start_time": "2022-10-04T03:57:05.099Z"
   },
   {
    "duration": 0,
    "start_time": "2022-10-04T03:57:05.154Z"
   },
   {
    "duration": 0,
    "start_time": "2022-10-04T03:57:05.155Z"
   },
   {
    "duration": 0,
    "start_time": "2022-10-04T03:57:05.157Z"
   },
   {
    "duration": 0,
    "start_time": "2022-10-04T03:57:05.158Z"
   },
   {
    "duration": 0,
    "start_time": "2022-10-04T03:57:05.159Z"
   },
   {
    "duration": 0,
    "start_time": "2022-10-04T03:57:05.161Z"
   },
   {
    "duration": 0,
    "start_time": "2022-10-04T03:57:05.162Z"
   },
   {
    "duration": 0,
    "start_time": "2022-10-04T03:57:05.163Z"
   },
   {
    "duration": 0,
    "start_time": "2022-10-04T03:57:05.164Z"
   },
   {
    "duration": 0,
    "start_time": "2022-10-04T03:57:05.165Z"
   },
   {
    "duration": 0,
    "start_time": "2022-10-04T03:57:05.167Z"
   },
   {
    "duration": 0,
    "start_time": "2022-10-04T03:57:05.168Z"
   },
   {
    "duration": 0,
    "start_time": "2022-10-04T03:57:05.169Z"
   },
   {
    "duration": 0,
    "start_time": "2022-10-04T03:57:05.170Z"
   },
   {
    "duration": 0,
    "start_time": "2022-10-04T03:57:05.171Z"
   },
   {
    "duration": 0,
    "start_time": "2022-10-04T03:57:05.172Z"
   },
   {
    "duration": 0,
    "start_time": "2022-10-04T03:57:05.173Z"
   },
   {
    "duration": 0,
    "start_time": "2022-10-04T03:57:05.174Z"
   },
   {
    "duration": 0,
    "start_time": "2022-10-04T03:57:05.175Z"
   },
   {
    "duration": 0,
    "start_time": "2022-10-04T03:57:05.176Z"
   },
   {
    "duration": 0,
    "start_time": "2022-10-04T03:57:05.177Z"
   },
   {
    "duration": 0,
    "start_time": "2022-10-04T03:57:05.178Z"
   },
   {
    "duration": 0,
    "start_time": "2022-10-04T03:57:05.179Z"
   },
   {
    "duration": 0,
    "start_time": "2022-10-04T03:57:05.180Z"
   },
   {
    "duration": 0,
    "start_time": "2022-10-04T03:57:05.181Z"
   },
   {
    "duration": 0,
    "start_time": "2022-10-04T03:57:05.182Z"
   },
   {
    "duration": 0,
    "start_time": "2022-10-04T03:57:05.184Z"
   },
   {
    "duration": 0,
    "start_time": "2022-10-04T03:57:05.184Z"
   },
   {
    "duration": 0,
    "start_time": "2022-10-04T03:57:05.186Z"
   },
   {
    "duration": 0,
    "start_time": "2022-10-04T03:57:05.187Z"
   },
   {
    "duration": 0,
    "start_time": "2022-10-04T03:57:05.187Z"
   },
   {
    "duration": 0,
    "start_time": "2022-10-04T03:57:05.188Z"
   },
   {
    "duration": 0,
    "start_time": "2022-10-04T03:57:05.254Z"
   },
   {
    "duration": 0,
    "start_time": "2022-10-04T03:57:05.255Z"
   },
   {
    "duration": 0,
    "start_time": "2022-10-04T03:57:05.256Z"
   },
   {
    "duration": 0,
    "start_time": "2022-10-04T03:57:05.257Z"
   },
   {
    "duration": 0,
    "start_time": "2022-10-04T03:57:05.258Z"
   },
   {
    "duration": 0,
    "start_time": "2022-10-04T03:57:05.259Z"
   },
   {
    "duration": 0,
    "start_time": "2022-10-04T03:57:05.261Z"
   },
   {
    "duration": 0,
    "start_time": "2022-10-04T03:57:05.262Z"
   },
   {
    "duration": 0,
    "start_time": "2022-10-04T03:57:05.265Z"
   },
   {
    "duration": 0,
    "start_time": "2022-10-04T03:57:05.267Z"
   },
   {
    "duration": 0,
    "start_time": "2022-10-04T03:57:05.268Z"
   },
   {
    "duration": 0,
    "start_time": "2022-10-04T03:57:05.269Z"
   },
   {
    "duration": 0,
    "start_time": "2022-10-04T03:57:05.270Z"
   },
   {
    "duration": 0,
    "start_time": "2022-10-04T03:57:05.271Z"
   },
   {
    "duration": 0,
    "start_time": "2022-10-04T03:57:05.273Z"
   },
   {
    "duration": 0,
    "start_time": "2022-10-04T03:57:05.274Z"
   },
   {
    "duration": 0,
    "start_time": "2022-10-04T03:57:05.275Z"
   }
  ],
  "kernelspec": {
   "display_name": "Python 3 (ipykernel)",
   "language": "python",
   "name": "python3"
  },
  "language_info": {
   "codemirror_mode": {
    "name": "ipython",
    "version": 3
   },
   "file_extension": ".py",
   "mimetype": "text/x-python",
   "name": "python",
   "nbconvert_exporter": "python",
   "pygments_lexer": "ipython3",
   "version": "3.9.7"
  },
  "toc": {
   "base_numbering": 1,
   "nav_menu": {},
   "number_sections": true,
   "sideBar": true,
   "skip_h1_title": true,
   "title_cell": "Table of Contents",
   "title_sidebar": "Contents",
   "toc_cell": false,
   "toc_position": {},
   "toc_section_display": true,
   "toc_window_display": true
  }
 },
 "nbformat": 4,
 "nbformat_minor": 5
}
