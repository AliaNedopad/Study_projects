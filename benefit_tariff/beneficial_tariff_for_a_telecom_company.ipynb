{
 "cells": [
  {
   "cell_type": "markdown",
   "id": "9d7a29f1",
   "metadata": {},
   "source": [
    "## Обзор данных\n",
    "\n",
    "Импортируем библиотеку pandas и ознакомимся с исходными данными."
   ]
  },
  {
   "cell_type": "code",
   "execution_count": 1,
   "id": "6bd9669f",
   "metadata": {},
   "outputs": [],
   "source": [
    "import pandas as pd\n",
    "import numpy as np\n",
    "import datetime\n",
    "import matplotlib.pyplot as plt\n",
    "from scipy import stats as st\n",
    "\n",
    "calls_df = pd.read_csv('/datasets/calls.csv')\n",
    "#calls_df = pd.read_csv('calls.csv')\n",
    "\n",
    "internet_df = pd.read_csv('/datasets/internet.csv')\n",
    "#internet_df = pd.read_csv('internet.csv')\n",
    "\n",
    "messages_df = pd.read_csv('/datasets/messages.csv')\n",
    "#messages_df = pd.read_csv('messages.csv')\n",
    "\n",
    "tariffs_df = pd.read_csv('/datasets/tariffs.csv')\n",
    "#tariffs_df = pd.read_csv('tariffs.csv')\n",
    "\n",
    "users_df = pd.read_csv('/datasets/users.csv')\n",
    "#users_df = pd.read_csv('users.csv')"
   ]
  },
  {
   "cell_type": "markdown",
   "id": "cb644fe3",
   "metadata": {},
   "source": [
    "Оценим данные по исходным таблицам, применив для каждой таблицы методы info() и describe()."
   ]
  },
  {
   "cell_type": "code",
   "execution_count": 2,
   "id": "206e52c3",
   "metadata": {},
   "outputs": [
    {
     "data": {
      "text/html": [
       "<div>\n",
       "<style scoped>\n",
       "    .dataframe tbody tr th:only-of-type {\n",
       "        vertical-align: middle;\n",
       "    }\n",
       "\n",
       "    .dataframe tbody tr th {\n",
       "        vertical-align: top;\n",
       "    }\n",
       "\n",
       "    .dataframe thead th {\n",
       "        text-align: right;\n",
       "    }\n",
       "</style>\n",
       "<table border=\"1\" class=\"dataframe\">\n",
       "  <thead>\n",
       "    <tr style=\"text-align: right;\">\n",
       "      <th></th>\n",
       "      <th>id</th>\n",
       "      <th>call_date</th>\n",
       "      <th>duration</th>\n",
       "      <th>user_id</th>\n",
       "    </tr>\n",
       "  </thead>\n",
       "  <tbody>\n",
       "    <tr>\n",
       "      <th>0</th>\n",
       "      <td>1000_0</td>\n",
       "      <td>2018-07-25</td>\n",
       "      <td>0.00</td>\n",
       "      <td>1000</td>\n",
       "    </tr>\n",
       "    <tr>\n",
       "      <th>1</th>\n",
       "      <td>1000_1</td>\n",
       "      <td>2018-08-17</td>\n",
       "      <td>0.00</td>\n",
       "      <td>1000</td>\n",
       "    </tr>\n",
       "    <tr>\n",
       "      <th>2</th>\n",
       "      <td>1000_2</td>\n",
       "      <td>2018-06-11</td>\n",
       "      <td>2.85</td>\n",
       "      <td>1000</td>\n",
       "    </tr>\n",
       "    <tr>\n",
       "      <th>3</th>\n",
       "      <td>1000_3</td>\n",
       "      <td>2018-09-21</td>\n",
       "      <td>13.80</td>\n",
       "      <td>1000</td>\n",
       "    </tr>\n",
       "    <tr>\n",
       "      <th>4</th>\n",
       "      <td>1000_4</td>\n",
       "      <td>2018-12-15</td>\n",
       "      <td>5.18</td>\n",
       "      <td>1000</td>\n",
       "    </tr>\n",
       "    <tr>\n",
       "      <th>5</th>\n",
       "      <td>1000_5</td>\n",
       "      <td>2018-11-02</td>\n",
       "      <td>0.00</td>\n",
       "      <td>1000</td>\n",
       "    </tr>\n",
       "    <tr>\n",
       "      <th>6</th>\n",
       "      <td>1000_6</td>\n",
       "      <td>2018-10-18</td>\n",
       "      <td>0.00</td>\n",
       "      <td>1000</td>\n",
       "    </tr>\n",
       "    <tr>\n",
       "      <th>7</th>\n",
       "      <td>1000_7</td>\n",
       "      <td>2018-08-22</td>\n",
       "      <td>18.31</td>\n",
       "      <td>1000</td>\n",
       "    </tr>\n",
       "    <tr>\n",
       "      <th>8</th>\n",
       "      <td>1000_8</td>\n",
       "      <td>2018-09-15</td>\n",
       "      <td>18.44</td>\n",
       "      <td>1000</td>\n",
       "    </tr>\n",
       "    <tr>\n",
       "      <th>9</th>\n",
       "      <td>1000_9</td>\n",
       "      <td>2018-08-15</td>\n",
       "      <td>0.00</td>\n",
       "      <td>1000</td>\n",
       "    </tr>\n",
       "  </tbody>\n",
       "</table>\n",
       "</div>"
      ],
      "text/plain": [
       "       id   call_date  duration  user_id\n",
       "0  1000_0  2018-07-25      0.00     1000\n",
       "1  1000_1  2018-08-17      0.00     1000\n",
       "2  1000_2  2018-06-11      2.85     1000\n",
       "3  1000_3  2018-09-21     13.80     1000\n",
       "4  1000_4  2018-12-15      5.18     1000\n",
       "5  1000_5  2018-11-02      0.00     1000\n",
       "6  1000_6  2018-10-18      0.00     1000\n",
       "7  1000_7  2018-08-22     18.31     1000\n",
       "8  1000_8  2018-09-15     18.44     1000\n",
       "9  1000_9  2018-08-15      0.00     1000"
      ]
     },
     "metadata": {},
     "output_type": "display_data"
    }
   ],
   "source": [
    "display(calls_df.head(10))"
   ]
  },
  {
   "cell_type": "code",
   "execution_count": 3,
   "id": "7973d4af",
   "metadata": {},
   "outputs": [
    {
     "name": "stdout",
     "output_type": "stream",
     "text": [
      "<class 'pandas.core.frame.DataFrame'>\n",
      "RangeIndex: 202607 entries, 0 to 202606\n",
      "Data columns (total 4 columns):\n",
      " #   Column     Non-Null Count   Dtype  \n",
      "---  ------     --------------   -----  \n",
      " 0   id         202607 non-null  object \n",
      " 1   call_date  202607 non-null  object \n",
      " 2   duration   202607 non-null  float64\n",
      " 3   user_id    202607 non-null  int64  \n",
      "dtypes: float64(1), int64(1), object(2)\n",
      "memory usage: 6.2+ MB\n"
     ]
    }
   ],
   "source": [
    "calls_df.info()"
   ]
  },
  {
   "cell_type": "code",
   "execution_count": 4,
   "id": "341e80bb",
   "metadata": {},
   "outputs": [
    {
     "data": {
      "text/html": [
       "<div>\n",
       "<style scoped>\n",
       "    .dataframe tbody tr th:only-of-type {\n",
       "        vertical-align: middle;\n",
       "    }\n",
       "\n",
       "    .dataframe tbody tr th {\n",
       "        vertical-align: top;\n",
       "    }\n",
       "\n",
       "    .dataframe thead th {\n",
       "        text-align: right;\n",
       "    }\n",
       "</style>\n",
       "<table border=\"1\" class=\"dataframe\">\n",
       "  <thead>\n",
       "    <tr style=\"text-align: right;\">\n",
       "      <th></th>\n",
       "      <th>duration</th>\n",
       "      <th>user_id</th>\n",
       "    </tr>\n",
       "  </thead>\n",
       "  <tbody>\n",
       "    <tr>\n",
       "      <th>count</th>\n",
       "      <td>202607.000000</td>\n",
       "      <td>202607.000000</td>\n",
       "    </tr>\n",
       "    <tr>\n",
       "      <th>mean</th>\n",
       "      <td>6.755887</td>\n",
       "      <td>1253.940619</td>\n",
       "    </tr>\n",
       "    <tr>\n",
       "      <th>std</th>\n",
       "      <td>5.843365</td>\n",
       "      <td>144.722751</td>\n",
       "    </tr>\n",
       "    <tr>\n",
       "      <th>min</th>\n",
       "      <td>0.000000</td>\n",
       "      <td>1000.000000</td>\n",
       "    </tr>\n",
       "    <tr>\n",
       "      <th>25%</th>\n",
       "      <td>1.300000</td>\n",
       "      <td>1126.000000</td>\n",
       "    </tr>\n",
       "    <tr>\n",
       "      <th>50%</th>\n",
       "      <td>6.000000</td>\n",
       "      <td>1260.000000</td>\n",
       "    </tr>\n",
       "    <tr>\n",
       "      <th>75%</th>\n",
       "      <td>10.700000</td>\n",
       "      <td>1379.000000</td>\n",
       "    </tr>\n",
       "    <tr>\n",
       "      <th>max</th>\n",
       "      <td>38.000000</td>\n",
       "      <td>1499.000000</td>\n",
       "    </tr>\n",
       "  </tbody>\n",
       "</table>\n",
       "</div>"
      ],
      "text/plain": [
       "            duration        user_id\n",
       "count  202607.000000  202607.000000\n",
       "mean        6.755887    1253.940619\n",
       "std         5.843365     144.722751\n",
       "min         0.000000    1000.000000\n",
       "25%         1.300000    1126.000000\n",
       "50%         6.000000    1260.000000\n",
       "75%        10.700000    1379.000000\n",
       "max        38.000000    1499.000000"
      ]
     },
     "execution_count": 4,
     "metadata": {},
     "output_type": "execute_result"
    }
   ],
   "source": [
    "calls_df.describe()"
   ]
  },
  {
   "cell_type": "markdown",
   "id": "e163c012",
   "metadata": {},
   "source": [
    "В таблице calls_df пропусков нет. Названия столбцов соответствуют принятым стандартам. Необходимо только изменить форматы столбцов call_date на datetime64 и duration на int и округлить в большую сторону."
   ]
  },
  {
   "cell_type": "code",
   "execution_count": 5,
   "id": "8d7f84fa",
   "metadata": {},
   "outputs": [
    {
     "data": {
      "text/html": [
       "<div>\n",
       "<style scoped>\n",
       "    .dataframe tbody tr th:only-of-type {\n",
       "        vertical-align: middle;\n",
       "    }\n",
       "\n",
       "    .dataframe tbody tr th {\n",
       "        vertical-align: top;\n",
       "    }\n",
       "\n",
       "    .dataframe thead th {\n",
       "        text-align: right;\n",
       "    }\n",
       "</style>\n",
       "<table border=\"1\" class=\"dataframe\">\n",
       "  <thead>\n",
       "    <tr style=\"text-align: right;\">\n",
       "      <th></th>\n",
       "      <th>Unnamed: 0</th>\n",
       "      <th>id</th>\n",
       "      <th>mb_used</th>\n",
       "      <th>session_date</th>\n",
       "      <th>user_id</th>\n",
       "    </tr>\n",
       "  </thead>\n",
       "  <tbody>\n",
       "    <tr>\n",
       "      <th>0</th>\n",
       "      <td>0</td>\n",
       "      <td>1000_0</td>\n",
       "      <td>112.95</td>\n",
       "      <td>2018-11-25</td>\n",
       "      <td>1000</td>\n",
       "    </tr>\n",
       "    <tr>\n",
       "      <th>1</th>\n",
       "      <td>1</td>\n",
       "      <td>1000_1</td>\n",
       "      <td>1052.81</td>\n",
       "      <td>2018-09-07</td>\n",
       "      <td>1000</td>\n",
       "    </tr>\n",
       "    <tr>\n",
       "      <th>2</th>\n",
       "      <td>2</td>\n",
       "      <td>1000_2</td>\n",
       "      <td>1197.26</td>\n",
       "      <td>2018-06-25</td>\n",
       "      <td>1000</td>\n",
       "    </tr>\n",
       "    <tr>\n",
       "      <th>3</th>\n",
       "      <td>3</td>\n",
       "      <td>1000_3</td>\n",
       "      <td>550.27</td>\n",
       "      <td>2018-08-22</td>\n",
       "      <td>1000</td>\n",
       "    </tr>\n",
       "    <tr>\n",
       "      <th>4</th>\n",
       "      <td>4</td>\n",
       "      <td>1000_4</td>\n",
       "      <td>302.56</td>\n",
       "      <td>2018-09-24</td>\n",
       "      <td>1000</td>\n",
       "    </tr>\n",
       "    <tr>\n",
       "      <th>5</th>\n",
       "      <td>5</td>\n",
       "      <td>1000_5</td>\n",
       "      <td>399.97</td>\n",
       "      <td>2018-10-02</td>\n",
       "      <td>1000</td>\n",
       "    </tr>\n",
       "    <tr>\n",
       "      <th>6</th>\n",
       "      <td>6</td>\n",
       "      <td>1000_6</td>\n",
       "      <td>540.08</td>\n",
       "      <td>2018-09-07</td>\n",
       "      <td>1000</td>\n",
       "    </tr>\n",
       "    <tr>\n",
       "      <th>7</th>\n",
       "      <td>7</td>\n",
       "      <td>1000_7</td>\n",
       "      <td>415.70</td>\n",
       "      <td>2018-07-11</td>\n",
       "      <td>1000</td>\n",
       "    </tr>\n",
       "    <tr>\n",
       "      <th>8</th>\n",
       "      <td>8</td>\n",
       "      <td>1000_8</td>\n",
       "      <td>505.40</td>\n",
       "      <td>2018-10-08</td>\n",
       "      <td>1000</td>\n",
       "    </tr>\n",
       "    <tr>\n",
       "      <th>9</th>\n",
       "      <td>9</td>\n",
       "      <td>1000_9</td>\n",
       "      <td>345.54</td>\n",
       "      <td>2018-09-03</td>\n",
       "      <td>1000</td>\n",
       "    </tr>\n",
       "  </tbody>\n",
       "</table>\n",
       "</div>"
      ],
      "text/plain": [
       "   Unnamed: 0      id  mb_used session_date  user_id\n",
       "0           0  1000_0   112.95   2018-11-25     1000\n",
       "1           1  1000_1  1052.81   2018-09-07     1000\n",
       "2           2  1000_2  1197.26   2018-06-25     1000\n",
       "3           3  1000_3   550.27   2018-08-22     1000\n",
       "4           4  1000_4   302.56   2018-09-24     1000\n",
       "5           5  1000_5   399.97   2018-10-02     1000\n",
       "6           6  1000_6   540.08   2018-09-07     1000\n",
       "7           7  1000_7   415.70   2018-07-11     1000\n",
       "8           8  1000_8   505.40   2018-10-08     1000\n",
       "9           9  1000_9   345.54   2018-09-03     1000"
      ]
     },
     "metadata": {},
     "output_type": "display_data"
    }
   ],
   "source": [
    "display(internet_df.head(10))"
   ]
  },
  {
   "cell_type": "code",
   "execution_count": 6,
   "id": "a243695c",
   "metadata": {},
   "outputs": [
    {
     "name": "stdout",
     "output_type": "stream",
     "text": [
      "<class 'pandas.core.frame.DataFrame'>\n",
      "RangeIndex: 149396 entries, 0 to 149395\n",
      "Data columns (total 5 columns):\n",
      " #   Column        Non-Null Count   Dtype  \n",
      "---  ------        --------------   -----  \n",
      " 0   Unnamed: 0    149396 non-null  int64  \n",
      " 1   id            149396 non-null  object \n",
      " 2   mb_used       149396 non-null  float64\n",
      " 3   session_date  149396 non-null  object \n",
      " 4   user_id       149396 non-null  int64  \n",
      "dtypes: float64(1), int64(2), object(2)\n",
      "memory usage: 5.7+ MB\n"
     ]
    }
   ],
   "source": [
    "internet_df.info()"
   ]
  },
  {
   "cell_type": "code",
   "execution_count": 7,
   "id": "50a2a3c9",
   "metadata": {},
   "outputs": [
    {
     "data": {
      "text/html": [
       "<div>\n",
       "<style scoped>\n",
       "    .dataframe tbody tr th:only-of-type {\n",
       "        vertical-align: middle;\n",
       "    }\n",
       "\n",
       "    .dataframe tbody tr th {\n",
       "        vertical-align: top;\n",
       "    }\n",
       "\n",
       "    .dataframe thead th {\n",
       "        text-align: right;\n",
       "    }\n",
       "</style>\n",
       "<table border=\"1\" class=\"dataframe\">\n",
       "  <thead>\n",
       "    <tr style=\"text-align: right;\">\n",
       "      <th></th>\n",
       "      <th>Unnamed: 0</th>\n",
       "      <th>mb_used</th>\n",
       "      <th>user_id</th>\n",
       "    </tr>\n",
       "  </thead>\n",
       "  <tbody>\n",
       "    <tr>\n",
       "      <th>count</th>\n",
       "      <td>149396.000000</td>\n",
       "      <td>149396.000000</td>\n",
       "      <td>149396.000000</td>\n",
       "    </tr>\n",
       "    <tr>\n",
       "      <th>mean</th>\n",
       "      <td>74697.500000</td>\n",
       "      <td>370.192426</td>\n",
       "      <td>1252.099842</td>\n",
       "    </tr>\n",
       "    <tr>\n",
       "      <th>std</th>\n",
       "      <td>43127.054745</td>\n",
       "      <td>278.300951</td>\n",
       "      <td>144.050823</td>\n",
       "    </tr>\n",
       "    <tr>\n",
       "      <th>min</th>\n",
       "      <td>0.000000</td>\n",
       "      <td>0.000000</td>\n",
       "      <td>1000.000000</td>\n",
       "    </tr>\n",
       "    <tr>\n",
       "      <th>25%</th>\n",
       "      <td>37348.750000</td>\n",
       "      <td>138.187500</td>\n",
       "      <td>1130.000000</td>\n",
       "    </tr>\n",
       "    <tr>\n",
       "      <th>50%</th>\n",
       "      <td>74697.500000</td>\n",
       "      <td>348.015000</td>\n",
       "      <td>1251.000000</td>\n",
       "    </tr>\n",
       "    <tr>\n",
       "      <th>75%</th>\n",
       "      <td>112046.250000</td>\n",
       "      <td>559.552500</td>\n",
       "      <td>1380.000000</td>\n",
       "    </tr>\n",
       "    <tr>\n",
       "      <th>max</th>\n",
       "      <td>149395.000000</td>\n",
       "      <td>1724.830000</td>\n",
       "      <td>1499.000000</td>\n",
       "    </tr>\n",
       "  </tbody>\n",
       "</table>\n",
       "</div>"
      ],
      "text/plain": [
       "          Unnamed: 0        mb_used        user_id\n",
       "count  149396.000000  149396.000000  149396.000000\n",
       "mean    74697.500000     370.192426    1252.099842\n",
       "std     43127.054745     278.300951     144.050823\n",
       "min         0.000000       0.000000    1000.000000\n",
       "25%     37348.750000     138.187500    1130.000000\n",
       "50%     74697.500000     348.015000    1251.000000\n",
       "75%    112046.250000     559.552500    1380.000000\n",
       "max    149395.000000    1724.830000    1499.000000"
      ]
     },
     "execution_count": 7,
     "metadata": {},
     "output_type": "execute_result"
    }
   ],
   "source": [
    "internet_df.describe()"
   ]
  },
  {
   "cell_type": "markdown",
   "id": "e0efc8ae",
   "metadata": {},
   "source": [
    "В таблице internet_df пропусков нет. В таблице присутствует столбец Unnamed: 0, его можно удалить, так как он не содержит интересующие нас данные. Необходимо также изменить форматы столбцов session_date на datetime64 и mb_used на int,округлив в большую сторону."
   ]
  },
  {
   "cell_type": "code",
   "execution_count": 8,
   "id": "fa48dbe6",
   "metadata": {},
   "outputs": [
    {
     "data": {
      "text/html": [
       "<div>\n",
       "<style scoped>\n",
       "    .dataframe tbody tr th:only-of-type {\n",
       "        vertical-align: middle;\n",
       "    }\n",
       "\n",
       "    .dataframe tbody tr th {\n",
       "        vertical-align: top;\n",
       "    }\n",
       "\n",
       "    .dataframe thead th {\n",
       "        text-align: right;\n",
       "    }\n",
       "</style>\n",
       "<table border=\"1\" class=\"dataframe\">\n",
       "  <thead>\n",
       "    <tr style=\"text-align: right;\">\n",
       "      <th></th>\n",
       "      <th>id</th>\n",
       "      <th>message_date</th>\n",
       "      <th>user_id</th>\n",
       "    </tr>\n",
       "  </thead>\n",
       "  <tbody>\n",
       "    <tr>\n",
       "      <th>0</th>\n",
       "      <td>1000_0</td>\n",
       "      <td>2018-06-27</td>\n",
       "      <td>1000</td>\n",
       "    </tr>\n",
       "    <tr>\n",
       "      <th>1</th>\n",
       "      <td>1000_1</td>\n",
       "      <td>2018-10-08</td>\n",
       "      <td>1000</td>\n",
       "    </tr>\n",
       "    <tr>\n",
       "      <th>2</th>\n",
       "      <td>1000_2</td>\n",
       "      <td>2018-08-04</td>\n",
       "      <td>1000</td>\n",
       "    </tr>\n",
       "    <tr>\n",
       "      <th>3</th>\n",
       "      <td>1000_3</td>\n",
       "      <td>2018-06-16</td>\n",
       "      <td>1000</td>\n",
       "    </tr>\n",
       "    <tr>\n",
       "      <th>4</th>\n",
       "      <td>1000_4</td>\n",
       "      <td>2018-12-05</td>\n",
       "      <td>1000</td>\n",
       "    </tr>\n",
       "    <tr>\n",
       "      <th>5</th>\n",
       "      <td>1000_5</td>\n",
       "      <td>2018-06-20</td>\n",
       "      <td>1000</td>\n",
       "    </tr>\n",
       "    <tr>\n",
       "      <th>6</th>\n",
       "      <td>1000_6</td>\n",
       "      <td>2018-11-19</td>\n",
       "      <td>1000</td>\n",
       "    </tr>\n",
       "    <tr>\n",
       "      <th>7</th>\n",
       "      <td>1000_7</td>\n",
       "      <td>2018-10-29</td>\n",
       "      <td>1000</td>\n",
       "    </tr>\n",
       "    <tr>\n",
       "      <th>8</th>\n",
       "      <td>1000_8</td>\n",
       "      <td>2018-06-25</td>\n",
       "      <td>1000</td>\n",
       "    </tr>\n",
       "    <tr>\n",
       "      <th>9</th>\n",
       "      <td>1000_9</td>\n",
       "      <td>2018-12-18</td>\n",
       "      <td>1000</td>\n",
       "    </tr>\n",
       "  </tbody>\n",
       "</table>\n",
       "</div>"
      ],
      "text/plain": [
       "       id message_date  user_id\n",
       "0  1000_0   2018-06-27     1000\n",
       "1  1000_1   2018-10-08     1000\n",
       "2  1000_2   2018-08-04     1000\n",
       "3  1000_3   2018-06-16     1000\n",
       "4  1000_4   2018-12-05     1000\n",
       "5  1000_5   2018-06-20     1000\n",
       "6  1000_6   2018-11-19     1000\n",
       "7  1000_7   2018-10-29     1000\n",
       "8  1000_8   2018-06-25     1000\n",
       "9  1000_9   2018-12-18     1000"
      ]
     },
     "metadata": {},
     "output_type": "display_data"
    }
   ],
   "source": [
    "display(messages_df.head(10))"
   ]
  },
  {
   "cell_type": "code",
   "execution_count": 9,
   "id": "65d38d88",
   "metadata": {},
   "outputs": [
    {
     "name": "stdout",
     "output_type": "stream",
     "text": [
      "<class 'pandas.core.frame.DataFrame'>\n",
      "RangeIndex: 123036 entries, 0 to 123035\n",
      "Data columns (total 3 columns):\n",
      " #   Column        Non-Null Count   Dtype \n",
      "---  ------        --------------   ----- \n",
      " 0   id            123036 non-null  object\n",
      " 1   message_date  123036 non-null  object\n",
      " 2   user_id       123036 non-null  int64 \n",
      "dtypes: int64(1), object(2)\n",
      "memory usage: 2.8+ MB\n"
     ]
    }
   ],
   "source": [
    "messages_df.info()"
   ]
  },
  {
   "cell_type": "markdown",
   "id": "9b89fa1e",
   "metadata": {},
   "source": [
    "В таблице messages_df пропусков нет. Названия столбцов соответствуют принятым стандартам. Необходимо только изменить формат столбца message_date на datetime64."
   ]
  },
  {
   "cell_type": "code",
   "execution_count": 10,
   "id": "c3c3d824",
   "metadata": {},
   "outputs": [
    {
     "data": {
      "text/html": [
       "<div>\n",
       "<style scoped>\n",
       "    .dataframe tbody tr th:only-of-type {\n",
       "        vertical-align: middle;\n",
       "    }\n",
       "\n",
       "    .dataframe tbody tr th {\n",
       "        vertical-align: top;\n",
       "    }\n",
       "\n",
       "    .dataframe thead th {\n",
       "        text-align: right;\n",
       "    }\n",
       "</style>\n",
       "<table border=\"1\" class=\"dataframe\">\n",
       "  <thead>\n",
       "    <tr style=\"text-align: right;\">\n",
       "      <th></th>\n",
       "      <th>messages_included</th>\n",
       "      <th>mb_per_month_included</th>\n",
       "      <th>minutes_included</th>\n",
       "      <th>rub_monthly_fee</th>\n",
       "      <th>rub_per_gb</th>\n",
       "      <th>rub_per_message</th>\n",
       "      <th>rub_per_minute</th>\n",
       "      <th>tariff_name</th>\n",
       "    </tr>\n",
       "  </thead>\n",
       "  <tbody>\n",
       "    <tr>\n",
       "      <th>0</th>\n",
       "      <td>50</td>\n",
       "      <td>15360</td>\n",
       "      <td>500</td>\n",
       "      <td>550</td>\n",
       "      <td>200</td>\n",
       "      <td>3</td>\n",
       "      <td>3</td>\n",
       "      <td>smart</td>\n",
       "    </tr>\n",
       "    <tr>\n",
       "      <th>1</th>\n",
       "      <td>1000</td>\n",
       "      <td>30720</td>\n",
       "      <td>3000</td>\n",
       "      <td>1950</td>\n",
       "      <td>150</td>\n",
       "      <td>1</td>\n",
       "      <td>1</td>\n",
       "      <td>ultra</td>\n",
       "    </tr>\n",
       "  </tbody>\n",
       "</table>\n",
       "</div>"
      ],
      "text/plain": [
       "   messages_included  mb_per_month_included  minutes_included  \\\n",
       "0                 50                  15360               500   \n",
       "1               1000                  30720              3000   \n",
       "\n",
       "   rub_monthly_fee  rub_per_gb  rub_per_message  rub_per_minute tariff_name  \n",
       "0              550         200                3               3       smart  \n",
       "1             1950         150                1               1       ultra  "
      ]
     },
     "metadata": {},
     "output_type": "display_data"
    }
   ],
   "source": [
    "display(tariffs_df.head(10))"
   ]
  },
  {
   "cell_type": "code",
   "execution_count": 11,
   "id": "5676e19e",
   "metadata": {},
   "outputs": [
    {
     "name": "stdout",
     "output_type": "stream",
     "text": [
      "<class 'pandas.core.frame.DataFrame'>\n",
      "RangeIndex: 2 entries, 0 to 1\n",
      "Data columns (total 8 columns):\n",
      " #   Column                 Non-Null Count  Dtype \n",
      "---  ------                 --------------  ----- \n",
      " 0   messages_included      2 non-null      int64 \n",
      " 1   mb_per_month_included  2 non-null      int64 \n",
      " 2   minutes_included       2 non-null      int64 \n",
      " 3   rub_monthly_fee        2 non-null      int64 \n",
      " 4   rub_per_gb             2 non-null      int64 \n",
      " 5   rub_per_message        2 non-null      int64 \n",
      " 6   rub_per_minute         2 non-null      int64 \n",
      " 7   tariff_name            2 non-null      object\n",
      "dtypes: int64(7), object(1)\n",
      "memory usage: 256.0+ bytes\n"
     ]
    }
   ],
   "source": [
    "tariffs_df.info()"
   ]
  },
  {
   "cell_type": "markdown",
   "id": "7220044b",
   "metadata": {},
   "source": [
    "Таблица с общими данными по исследуемым тарифам. Тут все данные присутствуют и все форматы в норме."
   ]
  },
  {
   "cell_type": "code",
   "execution_count": 12,
   "id": "3fd6fdcf",
   "metadata": {},
   "outputs": [
    {
     "data": {
      "text/html": [
       "<div>\n",
       "<style scoped>\n",
       "    .dataframe tbody tr th:only-of-type {\n",
       "        vertical-align: middle;\n",
       "    }\n",
       "\n",
       "    .dataframe tbody tr th {\n",
       "        vertical-align: top;\n",
       "    }\n",
       "\n",
       "    .dataframe thead th {\n",
       "        text-align: right;\n",
       "    }\n",
       "</style>\n",
       "<table border=\"1\" class=\"dataframe\">\n",
       "  <thead>\n",
       "    <tr style=\"text-align: right;\">\n",
       "      <th></th>\n",
       "      <th>user_id</th>\n",
       "      <th>age</th>\n",
       "      <th>churn_date</th>\n",
       "      <th>city</th>\n",
       "      <th>first_name</th>\n",
       "      <th>last_name</th>\n",
       "      <th>reg_date</th>\n",
       "      <th>tariff</th>\n",
       "    </tr>\n",
       "  </thead>\n",
       "  <tbody>\n",
       "    <tr>\n",
       "      <th>0</th>\n",
       "      <td>1000</td>\n",
       "      <td>52</td>\n",
       "      <td>NaN</td>\n",
       "      <td>Краснодар</td>\n",
       "      <td>Рафаил</td>\n",
       "      <td>Верещагин</td>\n",
       "      <td>2018-05-25</td>\n",
       "      <td>ultra</td>\n",
       "    </tr>\n",
       "    <tr>\n",
       "      <th>1</th>\n",
       "      <td>1001</td>\n",
       "      <td>41</td>\n",
       "      <td>NaN</td>\n",
       "      <td>Москва</td>\n",
       "      <td>Иван</td>\n",
       "      <td>Ежов</td>\n",
       "      <td>2018-11-01</td>\n",
       "      <td>smart</td>\n",
       "    </tr>\n",
       "    <tr>\n",
       "      <th>2</th>\n",
       "      <td>1002</td>\n",
       "      <td>59</td>\n",
       "      <td>NaN</td>\n",
       "      <td>Стерлитамак</td>\n",
       "      <td>Евгений</td>\n",
       "      <td>Абрамович</td>\n",
       "      <td>2018-06-17</td>\n",
       "      <td>smart</td>\n",
       "    </tr>\n",
       "    <tr>\n",
       "      <th>3</th>\n",
       "      <td>1003</td>\n",
       "      <td>23</td>\n",
       "      <td>NaN</td>\n",
       "      <td>Москва</td>\n",
       "      <td>Белла</td>\n",
       "      <td>Белякова</td>\n",
       "      <td>2018-08-17</td>\n",
       "      <td>ultra</td>\n",
       "    </tr>\n",
       "    <tr>\n",
       "      <th>4</th>\n",
       "      <td>1004</td>\n",
       "      <td>68</td>\n",
       "      <td>NaN</td>\n",
       "      <td>Новокузнецк</td>\n",
       "      <td>Татьяна</td>\n",
       "      <td>Авдеенко</td>\n",
       "      <td>2018-05-14</td>\n",
       "      <td>ultra</td>\n",
       "    </tr>\n",
       "    <tr>\n",
       "      <th>5</th>\n",
       "      <td>1005</td>\n",
       "      <td>67</td>\n",
       "      <td>NaN</td>\n",
       "      <td>Набережные Челны</td>\n",
       "      <td>Афанасий</td>\n",
       "      <td>Горлов</td>\n",
       "      <td>2018-01-25</td>\n",
       "      <td>smart</td>\n",
       "    </tr>\n",
       "    <tr>\n",
       "      <th>6</th>\n",
       "      <td>1006</td>\n",
       "      <td>21</td>\n",
       "      <td>NaN</td>\n",
       "      <td>Ульяновск</td>\n",
       "      <td>Леонид</td>\n",
       "      <td>Ермолаев</td>\n",
       "      <td>2018-02-26</td>\n",
       "      <td>smart</td>\n",
       "    </tr>\n",
       "    <tr>\n",
       "      <th>7</th>\n",
       "      <td>1007</td>\n",
       "      <td>65</td>\n",
       "      <td>NaN</td>\n",
       "      <td>Москва</td>\n",
       "      <td>Юна</td>\n",
       "      <td>Березина</td>\n",
       "      <td>2018-04-19</td>\n",
       "      <td>smart</td>\n",
       "    </tr>\n",
       "    <tr>\n",
       "      <th>8</th>\n",
       "      <td>1008</td>\n",
       "      <td>63</td>\n",
       "      <td>NaN</td>\n",
       "      <td>Челябинск</td>\n",
       "      <td>Рустэм</td>\n",
       "      <td>Пономарёв</td>\n",
       "      <td>2018-12-19</td>\n",
       "      <td>smart</td>\n",
       "    </tr>\n",
       "    <tr>\n",
       "      <th>9</th>\n",
       "      <td>1009</td>\n",
       "      <td>24</td>\n",
       "      <td>NaN</td>\n",
       "      <td>Пермь</td>\n",
       "      <td>Василиса</td>\n",
       "      <td>Блинова</td>\n",
       "      <td>2018-03-22</td>\n",
       "      <td>smart</td>\n",
       "    </tr>\n",
       "  </tbody>\n",
       "</table>\n",
       "</div>"
      ],
      "text/plain": [
       "   user_id  age churn_date              city first_name  last_name  \\\n",
       "0     1000   52        NaN         Краснодар     Рафаил  Верещагин   \n",
       "1     1001   41        NaN            Москва       Иван       Ежов   \n",
       "2     1002   59        NaN       Стерлитамак    Евгений  Абрамович   \n",
       "3     1003   23        NaN            Москва      Белла   Белякова   \n",
       "4     1004   68        NaN       Новокузнецк    Татьяна   Авдеенко   \n",
       "5     1005   67        NaN  Набережные Челны   Афанасий     Горлов   \n",
       "6     1006   21        NaN         Ульяновск     Леонид   Ермолаев   \n",
       "7     1007   65        NaN            Москва        Юна   Березина   \n",
       "8     1008   63        NaN         Челябинск     Рустэм  Пономарёв   \n",
       "9     1009   24        NaN             Пермь   Василиса    Блинова   \n",
       "\n",
       "     reg_date tariff  \n",
       "0  2018-05-25  ultra  \n",
       "1  2018-11-01  smart  \n",
       "2  2018-06-17  smart  \n",
       "3  2018-08-17  ultra  \n",
       "4  2018-05-14  ultra  \n",
       "5  2018-01-25  smart  \n",
       "6  2018-02-26  smart  \n",
       "7  2018-04-19  smart  \n",
       "8  2018-12-19  smart  \n",
       "9  2018-03-22  smart  "
      ]
     },
     "metadata": {},
     "output_type": "display_data"
    }
   ],
   "source": [
    "display(users_df.head(10))"
   ]
  },
  {
   "cell_type": "code",
   "execution_count": 13,
   "id": "868d99d5",
   "metadata": {},
   "outputs": [
    {
     "name": "stdout",
     "output_type": "stream",
     "text": [
      "<class 'pandas.core.frame.DataFrame'>\n",
      "RangeIndex: 500 entries, 0 to 499\n",
      "Data columns (total 8 columns):\n",
      " #   Column      Non-Null Count  Dtype \n",
      "---  ------      --------------  ----- \n",
      " 0   user_id     500 non-null    int64 \n",
      " 1   age         500 non-null    int64 \n",
      " 2   churn_date  38 non-null     object\n",
      " 3   city        500 non-null    object\n",
      " 4   first_name  500 non-null    object\n",
      " 5   last_name   500 non-null    object\n",
      " 6   reg_date    500 non-null    object\n",
      " 7   tariff      500 non-null    object\n",
      "dtypes: int64(2), object(6)\n",
      "memory usage: 31.4+ KB\n"
     ]
    }
   ],
   "source": [
    "users_df.info()"
   ]
  },
  {
   "cell_type": "code",
   "execution_count": 14,
   "id": "56b49065",
   "metadata": {},
   "outputs": [
    {
     "data": {
      "text/html": [
       "<div>\n",
       "<style scoped>\n",
       "    .dataframe tbody tr th:only-of-type {\n",
       "        vertical-align: middle;\n",
       "    }\n",
       "\n",
       "    .dataframe tbody tr th {\n",
       "        vertical-align: top;\n",
       "    }\n",
       "\n",
       "    .dataframe thead th {\n",
       "        text-align: right;\n",
       "    }\n",
       "</style>\n",
       "<table border=\"1\" class=\"dataframe\">\n",
       "  <thead>\n",
       "    <tr style=\"text-align: right;\">\n",
       "      <th></th>\n",
       "      <th>user_id</th>\n",
       "      <th>age</th>\n",
       "    </tr>\n",
       "  </thead>\n",
       "  <tbody>\n",
       "    <tr>\n",
       "      <th>count</th>\n",
       "      <td>500.000000</td>\n",
       "      <td>500.00000</td>\n",
       "    </tr>\n",
       "    <tr>\n",
       "      <th>mean</th>\n",
       "      <td>1249.500000</td>\n",
       "      <td>46.58800</td>\n",
       "    </tr>\n",
       "    <tr>\n",
       "      <th>std</th>\n",
       "      <td>144.481833</td>\n",
       "      <td>16.66763</td>\n",
       "    </tr>\n",
       "    <tr>\n",
       "      <th>min</th>\n",
       "      <td>1000.000000</td>\n",
       "      <td>18.00000</td>\n",
       "    </tr>\n",
       "    <tr>\n",
       "      <th>25%</th>\n",
       "      <td>1124.750000</td>\n",
       "      <td>32.00000</td>\n",
       "    </tr>\n",
       "    <tr>\n",
       "      <th>50%</th>\n",
       "      <td>1249.500000</td>\n",
       "      <td>46.00000</td>\n",
       "    </tr>\n",
       "    <tr>\n",
       "      <th>75%</th>\n",
       "      <td>1374.250000</td>\n",
       "      <td>62.00000</td>\n",
       "    </tr>\n",
       "    <tr>\n",
       "      <th>max</th>\n",
       "      <td>1499.000000</td>\n",
       "      <td>75.00000</td>\n",
       "    </tr>\n",
       "  </tbody>\n",
       "</table>\n",
       "</div>"
      ],
      "text/plain": [
       "           user_id        age\n",
       "count   500.000000  500.00000\n",
       "mean   1249.500000   46.58800\n",
       "std     144.481833   16.66763\n",
       "min    1000.000000   18.00000\n",
       "25%    1124.750000   32.00000\n",
       "50%    1249.500000   46.00000\n",
       "75%    1374.250000   62.00000\n",
       "max    1499.000000   75.00000"
      ]
     },
     "execution_count": 14,
     "metadata": {},
     "output_type": "execute_result"
    }
   ],
   "source": [
    "users_df.describe()"
   ]
  },
  {
   "cell_type": "markdown",
   "id": "af03ddae",
   "metadata": {},
   "source": [
    "В таблице users_df пропуски присутствуют, но только в столбце churn_date, где помечена информация об использовании тарица. На момент выгрузки таблицы только 38 пользователей прекратили пользоваться исследуемыми тарифами. Названия столбцов соответствуют принятым стандартам. Необходимо только изменить формат столбцах churn_date и reg_date на datetime64."
   ]
  },
  {
   "cell_type": "markdown",
   "id": "4c805675",
   "metadata": {},
   "source": [
    "## Предобработка данных\n",
    "### Изменение типов данных\n",
    "\n",
    "Необходимо привести значения в надлежащий тип.\n",
    "\n",
    "Для таблице calls_df изменим форматы столбцов call_date на datetime64 и duration на int и округлить в большую сторону."
   ]
  },
  {
   "cell_type": "code",
   "execution_count": 15,
   "id": "5d5393c5",
   "metadata": {
    "scrolled": false
   },
   "outputs": [
    {
     "data": {
      "text/html": [
       "<div>\n",
       "<style scoped>\n",
       "    .dataframe tbody tr th:only-of-type {\n",
       "        vertical-align: middle;\n",
       "    }\n",
       "\n",
       "    .dataframe tbody tr th {\n",
       "        vertical-align: top;\n",
       "    }\n",
       "\n",
       "    .dataframe thead th {\n",
       "        text-align: right;\n",
       "    }\n",
       "</style>\n",
       "<table border=\"1\" class=\"dataframe\">\n",
       "  <thead>\n",
       "    <tr style=\"text-align: right;\">\n",
       "      <th></th>\n",
       "      <th>id</th>\n",
       "      <th>call_date</th>\n",
       "      <th>duration</th>\n",
       "      <th>user_id</th>\n",
       "    </tr>\n",
       "  </thead>\n",
       "  <tbody>\n",
       "    <tr>\n",
       "      <th>0</th>\n",
       "      <td>1000_0</td>\n",
       "      <td>2018-07-25</td>\n",
       "      <td>0.0</td>\n",
       "      <td>1000</td>\n",
       "    </tr>\n",
       "    <tr>\n",
       "      <th>1</th>\n",
       "      <td>1000_1</td>\n",
       "      <td>2018-08-17</td>\n",
       "      <td>0.0</td>\n",
       "      <td>1000</td>\n",
       "    </tr>\n",
       "    <tr>\n",
       "      <th>2</th>\n",
       "      <td>1000_2</td>\n",
       "      <td>2018-06-11</td>\n",
       "      <td>3.0</td>\n",
       "      <td>1000</td>\n",
       "    </tr>\n",
       "    <tr>\n",
       "      <th>3</th>\n",
       "      <td>1000_3</td>\n",
       "      <td>2018-09-21</td>\n",
       "      <td>14.0</td>\n",
       "      <td>1000</td>\n",
       "    </tr>\n",
       "    <tr>\n",
       "      <th>4</th>\n",
       "      <td>1000_4</td>\n",
       "      <td>2018-12-15</td>\n",
       "      <td>6.0</td>\n",
       "      <td>1000</td>\n",
       "    </tr>\n",
       "    <tr>\n",
       "      <th>5</th>\n",
       "      <td>1000_5</td>\n",
       "      <td>2018-11-02</td>\n",
       "      <td>0.0</td>\n",
       "      <td>1000</td>\n",
       "    </tr>\n",
       "    <tr>\n",
       "      <th>6</th>\n",
       "      <td>1000_6</td>\n",
       "      <td>2018-10-18</td>\n",
       "      <td>0.0</td>\n",
       "      <td>1000</td>\n",
       "    </tr>\n",
       "    <tr>\n",
       "      <th>7</th>\n",
       "      <td>1000_7</td>\n",
       "      <td>2018-08-22</td>\n",
       "      <td>19.0</td>\n",
       "      <td>1000</td>\n",
       "    </tr>\n",
       "    <tr>\n",
       "      <th>8</th>\n",
       "      <td>1000_8</td>\n",
       "      <td>2018-09-15</td>\n",
       "      <td>19.0</td>\n",
       "      <td>1000</td>\n",
       "    </tr>\n",
       "    <tr>\n",
       "      <th>9</th>\n",
       "      <td>1000_9</td>\n",
       "      <td>2018-08-15</td>\n",
       "      <td>0.0</td>\n",
       "      <td>1000</td>\n",
       "    </tr>\n",
       "  </tbody>\n",
       "</table>\n",
       "</div>"
      ],
      "text/plain": [
       "       id   call_date  duration  user_id\n",
       "0  1000_0  2018-07-25       0.0     1000\n",
       "1  1000_1  2018-08-17       0.0     1000\n",
       "2  1000_2  2018-06-11       3.0     1000\n",
       "3  1000_3  2018-09-21      14.0     1000\n",
       "4  1000_4  2018-12-15       6.0     1000\n",
       "5  1000_5  2018-11-02       0.0     1000\n",
       "6  1000_6  2018-10-18       0.0     1000\n",
       "7  1000_7  2018-08-22      19.0     1000\n",
       "8  1000_8  2018-09-15      19.0     1000\n",
       "9  1000_9  2018-08-15       0.0     1000"
      ]
     },
     "execution_count": 15,
     "metadata": {},
     "output_type": "execute_result"
    }
   ],
   "source": [
    "calls_df['duration'] = np.ceil(calls_df['duration']) # округляем значения столбца duration в большую сторону\n",
    "calls_df.head(10)"
   ]
  },
  {
   "cell_type": "code",
   "execution_count": 16,
   "id": "d9b82d91",
   "metadata": {
    "scrolled": true
   },
   "outputs": [
    {
     "name": "stdout",
     "output_type": "stream",
     "text": [
      "<class 'pandas.core.frame.DataFrame'>\n",
      "RangeIndex: 202607 entries, 0 to 202606\n",
      "Data columns (total 4 columns):\n",
      " #   Column     Non-Null Count   Dtype         \n",
      "---  ------     --------------   -----         \n",
      " 0   id         202607 non-null  object        \n",
      " 1   call_date  202607 non-null  datetime64[ns]\n",
      " 2   duration   202607 non-null  int64         \n",
      " 3   user_id    202607 non-null  int64         \n",
      "dtypes: datetime64[ns](1), int64(2), object(1)\n",
      "memory usage: 6.2+ MB\n"
     ]
    }
   ],
   "source": [
    "calls_df['duration'] = calls_df['duration'].astype('int') # изменяем тип данных в столбце duration\n",
    "calls_df['call_date'] = pd.to_datetime(calls_df['call_date'], format='%Y-%m-%dT%H:%M:%S')\n",
    "calls_df.info()"
   ]
  },
  {
   "cell_type": "markdown",
   "id": "71275eed",
   "metadata": {},
   "source": [
    "Для таблицы internet_df удалим столбец Unnamed: 0 и изменим форматы столбцов session_date на datetime64 и mb_used на int,округлив в большую сторону."
   ]
  },
  {
   "cell_type": "code",
   "execution_count": 17,
   "id": "c560dd73",
   "metadata": {
    "scrolled": true
   },
   "outputs": [
    {
     "data": {
      "text/html": [
       "<div>\n",
       "<style scoped>\n",
       "    .dataframe tbody tr th:only-of-type {\n",
       "        vertical-align: middle;\n",
       "    }\n",
       "\n",
       "    .dataframe tbody tr th {\n",
       "        vertical-align: top;\n",
       "    }\n",
       "\n",
       "    .dataframe thead th {\n",
       "        text-align: right;\n",
       "    }\n",
       "</style>\n",
       "<table border=\"1\" class=\"dataframe\">\n",
       "  <thead>\n",
       "    <tr style=\"text-align: right;\">\n",
       "      <th></th>\n",
       "      <th>id</th>\n",
       "      <th>mb_used</th>\n",
       "      <th>session_date</th>\n",
       "      <th>user_id</th>\n",
       "    </tr>\n",
       "  </thead>\n",
       "  <tbody>\n",
       "    <tr>\n",
       "      <th>0</th>\n",
       "      <td>1000_0</td>\n",
       "      <td>112.95</td>\n",
       "      <td>2018-11-25</td>\n",
       "      <td>1000</td>\n",
       "    </tr>\n",
       "    <tr>\n",
       "      <th>1</th>\n",
       "      <td>1000_1</td>\n",
       "      <td>1052.81</td>\n",
       "      <td>2018-09-07</td>\n",
       "      <td>1000</td>\n",
       "    </tr>\n",
       "    <tr>\n",
       "      <th>2</th>\n",
       "      <td>1000_2</td>\n",
       "      <td>1197.26</td>\n",
       "      <td>2018-06-25</td>\n",
       "      <td>1000</td>\n",
       "    </tr>\n",
       "    <tr>\n",
       "      <th>3</th>\n",
       "      <td>1000_3</td>\n",
       "      <td>550.27</td>\n",
       "      <td>2018-08-22</td>\n",
       "      <td>1000</td>\n",
       "    </tr>\n",
       "    <tr>\n",
       "      <th>4</th>\n",
       "      <td>1000_4</td>\n",
       "      <td>302.56</td>\n",
       "      <td>2018-09-24</td>\n",
       "      <td>1000</td>\n",
       "    </tr>\n",
       "    <tr>\n",
       "      <th>5</th>\n",
       "      <td>1000_5</td>\n",
       "      <td>399.97</td>\n",
       "      <td>2018-10-02</td>\n",
       "      <td>1000</td>\n",
       "    </tr>\n",
       "    <tr>\n",
       "      <th>6</th>\n",
       "      <td>1000_6</td>\n",
       "      <td>540.08</td>\n",
       "      <td>2018-09-07</td>\n",
       "      <td>1000</td>\n",
       "    </tr>\n",
       "    <tr>\n",
       "      <th>7</th>\n",
       "      <td>1000_7</td>\n",
       "      <td>415.70</td>\n",
       "      <td>2018-07-11</td>\n",
       "      <td>1000</td>\n",
       "    </tr>\n",
       "    <tr>\n",
       "      <th>8</th>\n",
       "      <td>1000_8</td>\n",
       "      <td>505.40</td>\n",
       "      <td>2018-10-08</td>\n",
       "      <td>1000</td>\n",
       "    </tr>\n",
       "    <tr>\n",
       "      <th>9</th>\n",
       "      <td>1000_9</td>\n",
       "      <td>345.54</td>\n",
       "      <td>2018-09-03</td>\n",
       "      <td>1000</td>\n",
       "    </tr>\n",
       "  </tbody>\n",
       "</table>\n",
       "</div>"
      ],
      "text/plain": [
       "       id  mb_used session_date  user_id\n",
       "0  1000_0   112.95   2018-11-25     1000\n",
       "1  1000_1  1052.81   2018-09-07     1000\n",
       "2  1000_2  1197.26   2018-06-25     1000\n",
       "3  1000_3   550.27   2018-08-22     1000\n",
       "4  1000_4   302.56   2018-09-24     1000\n",
       "5  1000_5   399.97   2018-10-02     1000\n",
       "6  1000_6   540.08   2018-09-07     1000\n",
       "7  1000_7   415.70   2018-07-11     1000\n",
       "8  1000_8   505.40   2018-10-08     1000\n",
       "9  1000_9   345.54   2018-09-03     1000"
      ]
     },
     "execution_count": 17,
     "metadata": {},
     "output_type": "execute_result"
    }
   ],
   "source": [
    "internet_df = internet_df.drop('Unnamed: 0', axis='columns') #  удаляю столбец\n",
    "internet_df['session_date'] = pd.to_datetime(internet_df['session_date'], format='%Y-%m-%dT%H:%M:%S')\n",
    "\n",
    "#internet_df['mb_used'] = internet_df['mb_used'].apply(np.ceil) # округляем значения столбца mb_used в большую сторону\n",
    "#internet_df['mb_used'] = internet_df['mb_used'].astype('int')\n",
    "internet_df.head(10)"
   ]
  },
  {
   "cell_type": "code",
   "execution_count": 18,
   "id": "466d120c",
   "metadata": {},
   "outputs": [
    {
     "name": "stdout",
     "output_type": "stream",
     "text": [
      "<class 'pandas.core.frame.DataFrame'>\n",
      "RangeIndex: 149396 entries, 0 to 149395\n",
      "Data columns (total 4 columns):\n",
      " #   Column        Non-Null Count   Dtype         \n",
      "---  ------        --------------   -----         \n",
      " 0   id            149396 non-null  object        \n",
      " 1   mb_used       149396 non-null  float64       \n",
      " 2   session_date  149396 non-null  datetime64[ns]\n",
      " 3   user_id       149396 non-null  int64         \n",
      "dtypes: datetime64[ns](1), float64(1), int64(1), object(1)\n",
      "memory usage: 4.6+ MB\n"
     ]
    }
   ],
   "source": [
    "internet_df.info()"
   ]
  },
  {
   "cell_type": "markdown",
   "id": "5ae7f025",
   "metadata": {},
   "source": [
    "Для таблицы messages_df изменим формат столбца message_date на datetime64."
   ]
  },
  {
   "cell_type": "code",
   "execution_count": 19,
   "id": "5b26053d",
   "metadata": {},
   "outputs": [],
   "source": [
    "messages_df['message_date'] = pd.to_datetime(messages_df['message_date'], format='%Y-%m-%dT%H:%M:%S')"
   ]
  },
  {
   "cell_type": "code",
   "execution_count": 20,
   "id": "f632cde7",
   "metadata": {},
   "outputs": [
    {
     "name": "stdout",
     "output_type": "stream",
     "text": [
      "<class 'pandas.core.frame.DataFrame'>\n",
      "RangeIndex: 123036 entries, 0 to 123035\n",
      "Data columns (total 3 columns):\n",
      " #   Column        Non-Null Count   Dtype         \n",
      "---  ------        --------------   -----         \n",
      " 0   id            123036 non-null  object        \n",
      " 1   message_date  123036 non-null  datetime64[ns]\n",
      " 2   user_id       123036 non-null  int64         \n",
      "dtypes: datetime64[ns](1), int64(1), object(1)\n",
      "memory usage: 2.8+ MB\n"
     ]
    }
   ],
   "source": [
    "messages_df.info()"
   ]
  },
  {
   "cell_type": "markdown",
   "id": "e6104179",
   "metadata": {},
   "source": [
    "В таблице users_df пропуски присутствуют, но только в столбце churn_date, где помечена информация об использовании тарица. На момент выгрузки таблицы только 38 пользователей прекратили пользоваться исследуемыми тарифами.Заполним пустые ячейки текущей датой, при нобходимости эту дату можно будет отсечь. Названия столбцов соответствуют принятым стандартам. Необходимо только изменить формат столбцах churn_date и reg_date на datetime64."
   ]
  },
  {
   "cell_type": "code",
   "execution_count": 21,
   "id": "d89c556c",
   "metadata": {},
   "outputs": [],
   "source": [
    "users_df['reg_date'] = pd.to_datetime(users_df['reg_date'], format='%Y-%m-%dT%H:%M:%S')"
   ]
  },
  {
   "cell_type": "code",
   "execution_count": 22,
   "id": "738fe87e",
   "metadata": {},
   "outputs": [],
   "source": [
    "#users_df['churn_date'] = users_df['churn_date'].fillna(datetime.datetime.now().date()) # заполняю пустые ячейки текущей датой"
   ]
  },
  {
   "cell_type": "code",
   "execution_count": 23,
   "id": "8f874e3c",
   "metadata": {},
   "outputs": [
    {
     "data": {
      "text/html": [
       "<div>\n",
       "<style scoped>\n",
       "    .dataframe tbody tr th:only-of-type {\n",
       "        vertical-align: middle;\n",
       "    }\n",
       "\n",
       "    .dataframe tbody tr th {\n",
       "        vertical-align: top;\n",
       "    }\n",
       "\n",
       "    .dataframe thead th {\n",
       "        text-align: right;\n",
       "    }\n",
       "</style>\n",
       "<table border=\"1\" class=\"dataframe\">\n",
       "  <thead>\n",
       "    <tr style=\"text-align: right;\">\n",
       "      <th></th>\n",
       "      <th>user_id</th>\n",
       "      <th>age</th>\n",
       "      <th>churn_date</th>\n",
       "      <th>city</th>\n",
       "      <th>first_name</th>\n",
       "      <th>last_name</th>\n",
       "      <th>reg_date</th>\n",
       "      <th>tariff</th>\n",
       "    </tr>\n",
       "  </thead>\n",
       "  <tbody>\n",
       "    <tr>\n",
       "      <th>0</th>\n",
       "      <td>1000</td>\n",
       "      <td>52</td>\n",
       "      <td>NaT</td>\n",
       "      <td>Краснодар</td>\n",
       "      <td>Рафаил</td>\n",
       "      <td>Верещагин</td>\n",
       "      <td>2018-05-25</td>\n",
       "      <td>ultra</td>\n",
       "    </tr>\n",
       "    <tr>\n",
       "      <th>1</th>\n",
       "      <td>1001</td>\n",
       "      <td>41</td>\n",
       "      <td>NaT</td>\n",
       "      <td>Москва</td>\n",
       "      <td>Иван</td>\n",
       "      <td>Ежов</td>\n",
       "      <td>2018-11-01</td>\n",
       "      <td>smart</td>\n",
       "    </tr>\n",
       "    <tr>\n",
       "      <th>2</th>\n",
       "      <td>1002</td>\n",
       "      <td>59</td>\n",
       "      <td>NaT</td>\n",
       "      <td>Стерлитамак</td>\n",
       "      <td>Евгений</td>\n",
       "      <td>Абрамович</td>\n",
       "      <td>2018-06-17</td>\n",
       "      <td>smart</td>\n",
       "    </tr>\n",
       "    <tr>\n",
       "      <th>3</th>\n",
       "      <td>1003</td>\n",
       "      <td>23</td>\n",
       "      <td>NaT</td>\n",
       "      <td>Москва</td>\n",
       "      <td>Белла</td>\n",
       "      <td>Белякова</td>\n",
       "      <td>2018-08-17</td>\n",
       "      <td>ultra</td>\n",
       "    </tr>\n",
       "    <tr>\n",
       "      <th>4</th>\n",
       "      <td>1004</td>\n",
       "      <td>68</td>\n",
       "      <td>NaT</td>\n",
       "      <td>Новокузнецк</td>\n",
       "      <td>Татьяна</td>\n",
       "      <td>Авдеенко</td>\n",
       "      <td>2018-05-14</td>\n",
       "      <td>ultra</td>\n",
       "    </tr>\n",
       "    <tr>\n",
       "      <th>5</th>\n",
       "      <td>1005</td>\n",
       "      <td>67</td>\n",
       "      <td>NaT</td>\n",
       "      <td>Набережные Челны</td>\n",
       "      <td>Афанасий</td>\n",
       "      <td>Горлов</td>\n",
       "      <td>2018-01-25</td>\n",
       "      <td>smart</td>\n",
       "    </tr>\n",
       "    <tr>\n",
       "      <th>6</th>\n",
       "      <td>1006</td>\n",
       "      <td>21</td>\n",
       "      <td>NaT</td>\n",
       "      <td>Ульяновск</td>\n",
       "      <td>Леонид</td>\n",
       "      <td>Ермолаев</td>\n",
       "      <td>2018-02-26</td>\n",
       "      <td>smart</td>\n",
       "    </tr>\n",
       "    <tr>\n",
       "      <th>7</th>\n",
       "      <td>1007</td>\n",
       "      <td>65</td>\n",
       "      <td>NaT</td>\n",
       "      <td>Москва</td>\n",
       "      <td>Юна</td>\n",
       "      <td>Березина</td>\n",
       "      <td>2018-04-19</td>\n",
       "      <td>smart</td>\n",
       "    </tr>\n",
       "    <tr>\n",
       "      <th>8</th>\n",
       "      <td>1008</td>\n",
       "      <td>63</td>\n",
       "      <td>NaT</td>\n",
       "      <td>Челябинск</td>\n",
       "      <td>Рустэм</td>\n",
       "      <td>Пономарёв</td>\n",
       "      <td>2018-12-19</td>\n",
       "      <td>smart</td>\n",
       "    </tr>\n",
       "    <tr>\n",
       "      <th>9</th>\n",
       "      <td>1009</td>\n",
       "      <td>24</td>\n",
       "      <td>NaT</td>\n",
       "      <td>Пермь</td>\n",
       "      <td>Василиса</td>\n",
       "      <td>Блинова</td>\n",
       "      <td>2018-03-22</td>\n",
       "      <td>smart</td>\n",
       "    </tr>\n",
       "  </tbody>\n",
       "</table>\n",
       "</div>"
      ],
      "text/plain": [
       "   user_id  age churn_date              city first_name  last_name   reg_date  \\\n",
       "0     1000   52        NaT         Краснодар     Рафаил  Верещагин 2018-05-25   \n",
       "1     1001   41        NaT            Москва       Иван       Ежов 2018-11-01   \n",
       "2     1002   59        NaT       Стерлитамак    Евгений  Абрамович 2018-06-17   \n",
       "3     1003   23        NaT            Москва      Белла   Белякова 2018-08-17   \n",
       "4     1004   68        NaT       Новокузнецк    Татьяна   Авдеенко 2018-05-14   \n",
       "5     1005   67        NaT  Набережные Челны   Афанасий     Горлов 2018-01-25   \n",
       "6     1006   21        NaT         Ульяновск     Леонид   Ермолаев 2018-02-26   \n",
       "7     1007   65        NaT            Москва        Юна   Березина 2018-04-19   \n",
       "8     1008   63        NaT         Челябинск     Рустэм  Пономарёв 2018-12-19   \n",
       "9     1009   24        NaT             Пермь   Василиса    Блинова 2018-03-22   \n",
       "\n",
       "  tariff  \n",
       "0  ultra  \n",
       "1  smart  \n",
       "2  smart  \n",
       "3  ultra  \n",
       "4  ultra  \n",
       "5  smart  \n",
       "6  smart  \n",
       "7  smart  \n",
       "8  smart  \n",
       "9  smart  "
      ]
     },
     "metadata": {},
     "output_type": "display_data"
    }
   ],
   "source": [
    "users_df['churn_date'] = pd.to_datetime(users_df['churn_date'], format='%Y-%m-%dT%H:%M:%S')\n",
    "display(users_df.head(10))"
   ]
  },
  {
   "cell_type": "code",
   "execution_count": 24,
   "id": "20f713d4",
   "metadata": {
    "scrolled": true
   },
   "outputs": [
    {
     "name": "stdout",
     "output_type": "stream",
     "text": [
      "<class 'pandas.core.frame.DataFrame'>\n",
      "RangeIndex: 500 entries, 0 to 499\n",
      "Data columns (total 8 columns):\n",
      " #   Column      Non-Null Count  Dtype         \n",
      "---  ------      --------------  -----         \n",
      " 0   user_id     500 non-null    int64         \n",
      " 1   age         500 non-null    int64         \n",
      " 2   churn_date  38 non-null     datetime64[ns]\n",
      " 3   city        500 non-null    object        \n",
      " 4   first_name  500 non-null    object        \n",
      " 5   last_name   500 non-null    object        \n",
      " 6   reg_date    500 non-null    datetime64[ns]\n",
      " 7   tariff      500 non-null    object        \n",
      "dtypes: datetime64[ns](2), int64(2), object(4)\n",
      "memory usage: 31.4+ KB\n"
     ]
    }
   ],
   "source": [
    "users_df.info()"
   ]
  },
  {
   "cell_type": "markdown",
   "id": "0f37d467",
   "metadata": {},
   "source": [
    "### Проверка на наличие дубликатов\n",
    "\n",
    "Проверим исходные таблицы на наличие дубликатов"
   ]
  },
  {
   "cell_type": "code",
   "execution_count": 25,
   "id": "f4e04885",
   "metadata": {},
   "outputs": [
    {
     "name": "stdout",
     "output_type": "stream",
     "text": [
      "Дубликатов в таблице calls_df: 0\n"
     ]
    }
   ],
   "source": [
    "print ('Дубликатов в таблице calls_df:', calls_df.duplicated().sum())"
   ]
  },
  {
   "cell_type": "code",
   "execution_count": 26,
   "id": "cf3478f1",
   "metadata": {},
   "outputs": [
    {
     "name": "stdout",
     "output_type": "stream",
     "text": [
      "Дубликатов в таблице internet_df: 0\n"
     ]
    }
   ],
   "source": [
    "print ('Дубликатов в таблице internet_df:', internet_df.duplicated().sum())"
   ]
  },
  {
   "cell_type": "code",
   "execution_count": 27,
   "id": "ed5aca37",
   "metadata": {},
   "outputs": [
    {
     "name": "stdout",
     "output_type": "stream",
     "text": [
      "Дубликатов в таблице messages_df: 0\n"
     ]
    }
   ],
   "source": [
    "print ('Дубликатов в таблице messages_df:', messages_df.duplicated().sum())"
   ]
  },
  {
   "cell_type": "code",
   "execution_count": 28,
   "id": "b4759570",
   "metadata": {
    "scrolled": true
   },
   "outputs": [
    {
     "name": "stdout",
     "output_type": "stream",
     "text": [
      "Дубликатов в таблице users_df: 0\n"
     ]
    }
   ],
   "source": [
    "print ('Дубликатов в таблице users_df:', users_df.duplicated().sum())"
   ]
  },
  {
   "cell_type": "markdown",
   "id": "7d8b501c",
   "metadata": {},
   "source": [
    "Краткий вывод по предобработке данных:\n",
    "* минуты исходящий звонков, исходящий трафик округлены в большую сторону.\n",
    "* столбца с датами приведены к фотмату datetime64.\n",
    "* в исходных данных отсутствуют дубликаты.\n",
    "\n",
    "Других замечаний к исходным данных не замечено.\n",
    "\n",
    "### Расчет параметров для каждого пользователя\n",
    "\n",
    "Произведем расчет количества сделанных звонков и израсходованных минут разговора по месяцам. Добавим дополнительный столбец с указанием месяца звонков."
   ]
  },
  {
   "cell_type": "code",
   "execution_count": 29,
   "id": "9f0ab079",
   "metadata": {},
   "outputs": [],
   "source": [
    "calls_df['month'] = pd.DatetimeIndex(calls_df['call_date']).month"
   ]
  },
  {
   "cell_type": "code",
   "execution_count": 30,
   "id": "92c9c40e",
   "metadata": {},
   "outputs": [
    {
     "data": {
      "text/html": [
       "<div>\n",
       "<style scoped>\n",
       "    .dataframe tbody tr th:only-of-type {\n",
       "        vertical-align: middle;\n",
       "    }\n",
       "\n",
       "    .dataframe tbody tr th {\n",
       "        vertical-align: top;\n",
       "    }\n",
       "\n",
       "    .dataframe thead th {\n",
       "        text-align: right;\n",
       "    }\n",
       "</style>\n",
       "<table border=\"1\" class=\"dataframe\">\n",
       "  <thead>\n",
       "    <tr style=\"text-align: right;\">\n",
       "      <th></th>\n",
       "      <th></th>\n",
       "      <th>duration_sum</th>\n",
       "    </tr>\n",
       "    <tr>\n",
       "      <th>month</th>\n",
       "      <th>user_id</th>\n",
       "      <th></th>\n",
       "    </tr>\n",
       "  </thead>\n",
       "  <tbody>\n",
       "    <tr>\n",
       "      <th rowspan=\"5\" valign=\"top\">1</th>\n",
       "      <th>1005</th>\n",
       "      <td>95</td>\n",
       "    </tr>\n",
       "    <tr>\n",
       "      <th>1032</th>\n",
       "      <td>380</td>\n",
       "    </tr>\n",
       "    <tr>\n",
       "      <th>1045</th>\n",
       "      <td>9</td>\n",
       "    </tr>\n",
       "    <tr>\n",
       "      <th>1055</th>\n",
       "      <td>551</td>\n",
       "    </tr>\n",
       "    <tr>\n",
       "      <th>1071</th>\n",
       "      <td>194</td>\n",
       "    </tr>\n",
       "    <tr>\n",
       "      <th>...</th>\n",
       "      <th>...</th>\n",
       "      <td>...</td>\n",
       "    </tr>\n",
       "    <tr>\n",
       "      <th rowspan=\"5\" valign=\"top\">12</th>\n",
       "      <th>1494</th>\n",
       "      <td>418</td>\n",
       "    </tr>\n",
       "    <tr>\n",
       "      <th>1495</th>\n",
       "      <td>1031</td>\n",
       "    </tr>\n",
       "    <tr>\n",
       "      <th>1496</th>\n",
       "      <td>518</td>\n",
       "    </tr>\n",
       "    <tr>\n",
       "      <th>1497</th>\n",
       "      <td>545</td>\n",
       "    </tr>\n",
       "    <tr>\n",
       "      <th>1499</th>\n",
       "      <td>492</td>\n",
       "    </tr>\n",
       "  </tbody>\n",
       "</table>\n",
       "<p>3174 rows × 1 columns</p>\n",
       "</div>"
      ],
      "text/plain": [
       "               duration_sum\n",
       "month user_id              \n",
       "1     1005               95\n",
       "      1032              380\n",
       "      1045                9\n",
       "      1055              551\n",
       "      1071              194\n",
       "...                     ...\n",
       "12    1494              418\n",
       "      1495             1031\n",
       "      1496              518\n",
       "      1497              545\n",
       "      1499              492\n",
       "\n",
       "[3174 rows x 1 columns]"
      ]
     },
     "execution_count": 30,
     "metadata": {},
     "output_type": "execute_result"
    }
   ],
   "source": [
    "calls_sum = calls_df.groupby(['month','user_id'])[['duration']].sum() # общая продолжительность звонков для каждого пользователя в месяц\n",
    "calls_sum.columns = ['duration_sum']\n",
    "calls_sum"
   ]
  },
  {
   "cell_type": "code",
   "execution_count": 31,
   "id": "50257455",
   "metadata": {},
   "outputs": [
    {
     "data": {
      "text/html": [
       "<div>\n",
       "<style scoped>\n",
       "    .dataframe tbody tr th:only-of-type {\n",
       "        vertical-align: middle;\n",
       "    }\n",
       "\n",
       "    .dataframe tbody tr th {\n",
       "        vertical-align: top;\n",
       "    }\n",
       "\n",
       "    .dataframe thead th {\n",
       "        text-align: right;\n",
       "    }\n",
       "</style>\n",
       "<table border=\"1\" class=\"dataframe\">\n",
       "  <thead>\n",
       "    <tr style=\"text-align: right;\">\n",
       "      <th></th>\n",
       "      <th></th>\n",
       "      <th>duration_count</th>\n",
       "    </tr>\n",
       "    <tr>\n",
       "      <th>month</th>\n",
       "      <th>user_id</th>\n",
       "      <th></th>\n",
       "    </tr>\n",
       "  </thead>\n",
       "  <tbody>\n",
       "    <tr>\n",
       "      <th rowspan=\"5\" valign=\"top\">1</th>\n",
       "      <th>1005</th>\n",
       "      <td>15</td>\n",
       "    </tr>\n",
       "    <tr>\n",
       "      <th>1032</th>\n",
       "      <td>61</td>\n",
       "    </tr>\n",
       "    <tr>\n",
       "      <th>1045</th>\n",
       "      <td>1</td>\n",
       "    </tr>\n",
       "    <tr>\n",
       "      <th>1055</th>\n",
       "      <td>64</td>\n",
       "    </tr>\n",
       "    <tr>\n",
       "      <th>1071</th>\n",
       "      <td>24</td>\n",
       "    </tr>\n",
       "    <tr>\n",
       "      <th>...</th>\n",
       "      <th>...</th>\n",
       "      <td>...</td>\n",
       "    </tr>\n",
       "    <tr>\n",
       "      <th rowspan=\"5\" valign=\"top\">12</th>\n",
       "      <th>1494</th>\n",
       "      <td>62</td>\n",
       "    </tr>\n",
       "    <tr>\n",
       "      <th>1495</th>\n",
       "      <td>155</td>\n",
       "    </tr>\n",
       "    <tr>\n",
       "      <th>1496</th>\n",
       "      <td>80</td>\n",
       "    </tr>\n",
       "    <tr>\n",
       "      <th>1497</th>\n",
       "      <td>71</td>\n",
       "    </tr>\n",
       "    <tr>\n",
       "      <th>1499</th>\n",
       "      <td>69</td>\n",
       "    </tr>\n",
       "  </tbody>\n",
       "</table>\n",
       "<p>3174 rows × 1 columns</p>\n",
       "</div>"
      ],
      "text/plain": [
       "               duration_count\n",
       "month user_id                \n",
       "1     1005                 15\n",
       "      1032                 61\n",
       "      1045                  1\n",
       "      1055                 64\n",
       "      1071                 24\n",
       "...                       ...\n",
       "12    1494                 62\n",
       "      1495                155\n",
       "      1496                 80\n",
       "      1497                 71\n",
       "      1499                 69\n",
       "\n",
       "[3174 rows x 1 columns]"
      ]
     },
     "execution_count": 31,
     "metadata": {},
     "output_type": "execute_result"
    }
   ],
   "source": [
    "calls_count = calls_df.groupby(['month','user_id'])[['duration']].count() # количество звонков каждого пользователя\n",
    "calls_count.columns = ['duration_count']\n",
    "calls_count"
   ]
  },
  {
   "cell_type": "markdown",
   "id": "149b0f14",
   "metadata": {},
   "source": [
    "Добавим столбец с указанием месяца для каждого сообщения."
   ]
  },
  {
   "cell_type": "code",
   "execution_count": 32,
   "id": "6d3012b0",
   "metadata": {},
   "outputs": [],
   "source": [
    "messages_df['month'] = pd.DatetimeIndex(messages_df['message_date']).month"
   ]
  },
  {
   "cell_type": "markdown",
   "id": "3c5202e5",
   "metadata": {},
   "source": [
    "Расчитаем количество сообщений для каждого пользователя по месяцам."
   ]
  },
  {
   "cell_type": "code",
   "execution_count": 33,
   "id": "757109d4",
   "metadata": {
    "scrolled": true
   },
   "outputs": [
    {
     "data": {
      "text/html": [
       "<div>\n",
       "<style scoped>\n",
       "    .dataframe tbody tr th:only-of-type {\n",
       "        vertical-align: middle;\n",
       "    }\n",
       "\n",
       "    .dataframe tbody tr th {\n",
       "        vertical-align: top;\n",
       "    }\n",
       "\n",
       "    .dataframe thead th {\n",
       "        text-align: right;\n",
       "    }\n",
       "</style>\n",
       "<table border=\"1\" class=\"dataframe\">\n",
       "  <thead>\n",
       "    <tr style=\"text-align: right;\">\n",
       "      <th></th>\n",
       "      <th></th>\n",
       "      <th>message_count</th>\n",
       "    </tr>\n",
       "    <tr>\n",
       "      <th>month</th>\n",
       "      <th>user_id</th>\n",
       "      <th></th>\n",
       "    </tr>\n",
       "  </thead>\n",
       "  <tbody>\n",
       "    <tr>\n",
       "      <th rowspan=\"5\" valign=\"top\">1</th>\n",
       "      <th>1005</th>\n",
       "      <td>7</td>\n",
       "    </tr>\n",
       "    <tr>\n",
       "      <th>1032</th>\n",
       "      <td>38</td>\n",
       "    </tr>\n",
       "    <tr>\n",
       "      <th>1045</th>\n",
       "      <td>5</td>\n",
       "    </tr>\n",
       "    <tr>\n",
       "      <th>1055</th>\n",
       "      <td>30</td>\n",
       "    </tr>\n",
       "    <tr>\n",
       "      <th>1071</th>\n",
       "      <td>16</td>\n",
       "    </tr>\n",
       "    <tr>\n",
       "      <th>...</th>\n",
       "      <th>...</th>\n",
       "      <td>...</td>\n",
       "    </tr>\n",
       "    <tr>\n",
       "      <th rowspan=\"5\" valign=\"top\">12</th>\n",
       "      <th>1493</th>\n",
       "      <td>78</td>\n",
       "    </tr>\n",
       "    <tr>\n",
       "      <th>1495</th>\n",
       "      <td>84</td>\n",
       "    </tr>\n",
       "    <tr>\n",
       "      <th>1496</th>\n",
       "      <td>51</td>\n",
       "    </tr>\n",
       "    <tr>\n",
       "      <th>1497</th>\n",
       "      <td>17</td>\n",
       "    </tr>\n",
       "    <tr>\n",
       "      <th>1499</th>\n",
       "      <td>66</td>\n",
       "    </tr>\n",
       "  </tbody>\n",
       "</table>\n",
       "<p>2717 rows × 1 columns</p>\n",
       "</div>"
      ],
      "text/plain": [
       "               message_count\n",
       "month user_id               \n",
       "1     1005                 7\n",
       "      1032                38\n",
       "      1045                 5\n",
       "      1055                30\n",
       "      1071                16\n",
       "...                      ...\n",
       "12    1493                78\n",
       "      1495                84\n",
       "      1496                51\n",
       "      1497                17\n",
       "      1499                66\n",
       "\n",
       "[2717 rows x 1 columns]"
      ]
     },
     "execution_count": 33,
     "metadata": {},
     "output_type": "execute_result"
    }
   ],
   "source": [
    "message_count = messages_df.groupby(['month','user_id'])[['id']].count()\n",
    "message_count.columns = ['message_count']\n",
    "message_count"
   ]
  },
  {
   "cell_type": "markdown",
   "id": "e8980272",
   "metadata": {},
   "source": [
    "Расчитаем объем израсходованного интернет-трафика по месяцам для каждого пользователя."
   ]
  },
  {
   "cell_type": "code",
   "execution_count": 34,
   "id": "4b6f24fb",
   "metadata": {},
   "outputs": [],
   "source": [
    "internet_df['month'] = pd.DatetimeIndex(internet_df['session_date']).month"
   ]
  },
  {
   "cell_type": "code",
   "execution_count": 35,
   "id": "3aae8da9",
   "metadata": {},
   "outputs": [
    {
     "data": {
      "text/html": [
       "<div>\n",
       "<style scoped>\n",
       "    .dataframe tbody tr th:only-of-type {\n",
       "        vertical-align: middle;\n",
       "    }\n",
       "\n",
       "    .dataframe tbody tr th {\n",
       "        vertical-align: top;\n",
       "    }\n",
       "\n",
       "    .dataframe thead th {\n",
       "        text-align: right;\n",
       "    }\n",
       "</style>\n",
       "<table border=\"1\" class=\"dataframe\">\n",
       "  <thead>\n",
       "    <tr style=\"text-align: right;\">\n",
       "      <th></th>\n",
       "      <th></th>\n",
       "      <th>mb_used_sum</th>\n",
       "    </tr>\n",
       "    <tr>\n",
       "      <th>month</th>\n",
       "      <th>user_id</th>\n",
       "      <th></th>\n",
       "    </tr>\n",
       "  </thead>\n",
       "  <tbody>\n",
       "    <tr>\n",
       "      <th rowspan=\"5\" valign=\"top\">1</th>\n",
       "      <th>1005</th>\n",
       "      <td>2727.97</td>\n",
       "    </tr>\n",
       "    <tr>\n",
       "      <th>1032</th>\n",
       "      <td>24127.69</td>\n",
       "    </tr>\n",
       "    <tr>\n",
       "      <th>1045</th>\n",
       "      <td>2346.71</td>\n",
       "    </tr>\n",
       "    <tr>\n",
       "      <th>1055</th>\n",
       "      <td>17090.88</td>\n",
       "    </tr>\n",
       "    <tr>\n",
       "      <th>1071</th>\n",
       "      <td>15604.34</td>\n",
       "    </tr>\n",
       "    <tr>\n",
       "      <th>...</th>\n",
       "      <th>...</th>\n",
       "      <td>...</td>\n",
       "    </tr>\n",
       "    <tr>\n",
       "      <th rowspan=\"5\" valign=\"top\">12</th>\n",
       "      <th>1494</th>\n",
       "      <td>17621.21</td>\n",
       "    </tr>\n",
       "    <tr>\n",
       "      <th>1495</th>\n",
       "      <td>23426.76</td>\n",
       "    </tr>\n",
       "    <tr>\n",
       "      <th>1496</th>\n",
       "      <td>20736.15</td>\n",
       "    </tr>\n",
       "    <tr>\n",
       "      <th>1497</th>\n",
       "      <td>19918.60</td>\n",
       "    </tr>\n",
       "    <tr>\n",
       "      <th>1499</th>\n",
       "      <td>13055.58</td>\n",
       "    </tr>\n",
       "  </tbody>\n",
       "</table>\n",
       "<p>3203 rows × 1 columns</p>\n",
       "</div>"
      ],
      "text/plain": [
       "               mb_used_sum\n",
       "month user_id             \n",
       "1     1005         2727.97\n",
       "      1032        24127.69\n",
       "      1045         2346.71\n",
       "      1055        17090.88\n",
       "      1071        15604.34\n",
       "...                    ...\n",
       "12    1494        17621.21\n",
       "      1495        23426.76\n",
       "      1496        20736.15\n",
       "      1497        19918.60\n",
       "      1499        13055.58\n",
       "\n",
       "[3203 rows x 1 columns]"
      ]
     },
     "execution_count": 35,
     "metadata": {},
     "output_type": "execute_result"
    }
   ],
   "source": [
    "internet_sum = internet_df.groupby(['month','user_id'])[['mb_used']].sum()\n",
    "internet_sum.columns = ['mb_used_sum']\n",
    "internet_sum"
   ]
  },
  {
   "cell_type": "code",
   "execution_count": 36,
   "id": "0935b29d",
   "metadata": {},
   "outputs": [
    {
     "data": {
      "text/html": [
       "<div>\n",
       "<style scoped>\n",
       "    .dataframe tbody tr th:only-of-type {\n",
       "        vertical-align: middle;\n",
       "    }\n",
       "\n",
       "    .dataframe tbody tr th {\n",
       "        vertical-align: top;\n",
       "    }\n",
       "\n",
       "    .dataframe thead th {\n",
       "        text-align: right;\n",
       "    }\n",
       "</style>\n",
       "<table border=\"1\" class=\"dataframe\">\n",
       "  <thead>\n",
       "    <tr style=\"text-align: right;\">\n",
       "      <th></th>\n",
       "      <th></th>\n",
       "      <th>mb_used_sum</th>\n",
       "      <th>gb_used_sum</th>\n",
       "    </tr>\n",
       "    <tr>\n",
       "      <th>month</th>\n",
       "      <th>user_id</th>\n",
       "      <th></th>\n",
       "      <th></th>\n",
       "    </tr>\n",
       "  </thead>\n",
       "  <tbody>\n",
       "    <tr>\n",
       "      <th rowspan=\"5\" valign=\"top\">1</th>\n",
       "      <th>1005</th>\n",
       "      <td>2727.97</td>\n",
       "      <td>3</td>\n",
       "    </tr>\n",
       "    <tr>\n",
       "      <th>1032</th>\n",
       "      <td>24127.69</td>\n",
       "      <td>24</td>\n",
       "    </tr>\n",
       "    <tr>\n",
       "      <th>1045</th>\n",
       "      <td>2346.71</td>\n",
       "      <td>3</td>\n",
       "    </tr>\n",
       "    <tr>\n",
       "      <th>1055</th>\n",
       "      <td>17090.88</td>\n",
       "      <td>17</td>\n",
       "    </tr>\n",
       "    <tr>\n",
       "      <th>1071</th>\n",
       "      <td>15604.34</td>\n",
       "      <td>16</td>\n",
       "    </tr>\n",
       "    <tr>\n",
       "      <th>...</th>\n",
       "      <th>...</th>\n",
       "      <td>...</td>\n",
       "      <td>...</td>\n",
       "    </tr>\n",
       "    <tr>\n",
       "      <th rowspan=\"5\" valign=\"top\">12</th>\n",
       "      <th>1494</th>\n",
       "      <td>17621.21</td>\n",
       "      <td>18</td>\n",
       "    </tr>\n",
       "    <tr>\n",
       "      <th>1495</th>\n",
       "      <td>23426.76</td>\n",
       "      <td>23</td>\n",
       "    </tr>\n",
       "    <tr>\n",
       "      <th>1496</th>\n",
       "      <td>20736.15</td>\n",
       "      <td>21</td>\n",
       "    </tr>\n",
       "    <tr>\n",
       "      <th>1497</th>\n",
       "      <td>19918.60</td>\n",
       "      <td>20</td>\n",
       "    </tr>\n",
       "    <tr>\n",
       "      <th>1499</th>\n",
       "      <td>13055.58</td>\n",
       "      <td>13</td>\n",
       "    </tr>\n",
       "  </tbody>\n",
       "</table>\n",
       "<p>3203 rows × 2 columns</p>\n",
       "</div>"
      ],
      "text/plain": [
       "               mb_used_sum  gb_used_sum\n",
       "month user_id                          \n",
       "1     1005         2727.97            3\n",
       "      1032        24127.69           24\n",
       "      1045         2346.71            3\n",
       "      1055        17090.88           17\n",
       "      1071        15604.34           16\n",
       "...                    ...          ...\n",
       "12    1494        17621.21           18\n",
       "      1495        23426.76           23\n",
       "      1496        20736.15           21\n",
       "      1497        19918.60           20\n",
       "      1499        13055.58           13\n",
       "\n",
       "[3203 rows x 2 columns]"
      ]
     },
     "execution_count": 36,
     "metadata": {},
     "output_type": "execute_result"
    }
   ],
   "source": [
    "internet_sum['gb_used_sum'] = internet_sum['mb_used_sum']/1024 # получаем траты интернет-трафика в Гб\n",
    "internet_sum['gb_used_sum'] = np.ceil(internet_sum['gb_used_sum']) # округляем значения столбца mb_used_sum_gb в большую сторону\n",
    "internet_sum['gb_used_sum'] = internet_sum['gb_used_sum'].astype('int')\n",
    "internet_sum"
   ]
  },
  {
   "cell_type": "markdown",
   "id": "9a2d89ad",
   "metadata": {},
   "source": [
    "Создадим таблицу со сводными данными по количеству звонков, сообщений и потраченному трафику по каждому пользователю."
   ]
  },
  {
   "cell_type": "code",
   "execution_count": 37,
   "id": "18fb2125",
   "metadata": {},
   "outputs": [
    {
     "data": {
      "text/html": [
       "<div>\n",
       "<style scoped>\n",
       "    .dataframe tbody tr th:only-of-type {\n",
       "        vertical-align: middle;\n",
       "    }\n",
       "\n",
       "    .dataframe tbody tr th {\n",
       "        vertical-align: top;\n",
       "    }\n",
       "\n",
       "    .dataframe thead th {\n",
       "        text-align: right;\n",
       "    }\n",
       "</style>\n",
       "<table border=\"1\" class=\"dataframe\">\n",
       "  <thead>\n",
       "    <tr style=\"text-align: right;\">\n",
       "      <th></th>\n",
       "      <th></th>\n",
       "      <th>duration_sum</th>\n",
       "      <th>mb_used_sum</th>\n",
       "      <th>gb_used_sum</th>\n",
       "    </tr>\n",
       "    <tr>\n",
       "      <th>month</th>\n",
       "      <th>user_id</th>\n",
       "      <th></th>\n",
       "      <th></th>\n",
       "      <th></th>\n",
       "    </tr>\n",
       "  </thead>\n",
       "  <tbody>\n",
       "    <tr>\n",
       "      <th rowspan=\"5\" valign=\"top\">1</th>\n",
       "      <th>1005</th>\n",
       "      <td>95.0</td>\n",
       "      <td>2727.97</td>\n",
       "      <td>3.0</td>\n",
       "    </tr>\n",
       "    <tr>\n",
       "      <th>1032</th>\n",
       "      <td>380.0</td>\n",
       "      <td>24127.69</td>\n",
       "      <td>24.0</td>\n",
       "    </tr>\n",
       "    <tr>\n",
       "      <th>1045</th>\n",
       "      <td>9.0</td>\n",
       "      <td>2346.71</td>\n",
       "      <td>3.0</td>\n",
       "    </tr>\n",
       "    <tr>\n",
       "      <th>1055</th>\n",
       "      <td>551.0</td>\n",
       "      <td>17090.88</td>\n",
       "      <td>17.0</td>\n",
       "    </tr>\n",
       "    <tr>\n",
       "      <th>1071</th>\n",
       "      <td>194.0</td>\n",
       "      <td>15604.34</td>\n",
       "      <td>16.0</td>\n",
       "    </tr>\n",
       "  </tbody>\n",
       "</table>\n",
       "</div>"
      ],
      "text/plain": [
       "               duration_sum  mb_used_sum  gb_used_sum\n",
       "month user_id                                        \n",
       "1     1005             95.0      2727.97          3.0\n",
       "      1032            380.0     24127.69         24.0\n",
       "      1045              9.0      2346.71          3.0\n",
       "      1055            551.0     17090.88         17.0\n",
       "      1071            194.0     15604.34         16.0"
      ]
     },
     "execution_count": 37,
     "metadata": {},
     "output_type": "execute_result"
    }
   ],
   "source": [
    "all_data = calls_sum.merge(internet_sum, on=['month','user_id'], how='outer', suffixes=(False,False))\n",
    "all_data.head()"
   ]
  },
  {
   "cell_type": "code",
   "execution_count": 38,
   "id": "ced2ca36",
   "metadata": {},
   "outputs": [
    {
     "data": {
      "text/html": [
       "<div>\n",
       "<style scoped>\n",
       "    .dataframe tbody tr th:only-of-type {\n",
       "        vertical-align: middle;\n",
       "    }\n",
       "\n",
       "    .dataframe tbody tr th {\n",
       "        vertical-align: top;\n",
       "    }\n",
       "\n",
       "    .dataframe thead th {\n",
       "        text-align: right;\n",
       "    }\n",
       "</style>\n",
       "<table border=\"1\" class=\"dataframe\">\n",
       "  <thead>\n",
       "    <tr style=\"text-align: right;\">\n",
       "      <th></th>\n",
       "      <th></th>\n",
       "      <th>duration_sum</th>\n",
       "      <th>mb_used_sum</th>\n",
       "      <th>gb_used_sum</th>\n",
       "      <th>message_count</th>\n",
       "    </tr>\n",
       "    <tr>\n",
       "      <th>month</th>\n",
       "      <th>user_id</th>\n",
       "      <th></th>\n",
       "      <th></th>\n",
       "      <th></th>\n",
       "      <th></th>\n",
       "    </tr>\n",
       "  </thead>\n",
       "  <tbody>\n",
       "    <tr>\n",
       "      <th rowspan=\"5\" valign=\"top\">1</th>\n",
       "      <th>1005</th>\n",
       "      <td>95.0</td>\n",
       "      <td>2727.97</td>\n",
       "      <td>3.0</td>\n",
       "      <td>7.0</td>\n",
       "    </tr>\n",
       "    <tr>\n",
       "      <th>1032</th>\n",
       "      <td>380.0</td>\n",
       "      <td>24127.69</td>\n",
       "      <td>24.0</td>\n",
       "      <td>38.0</td>\n",
       "    </tr>\n",
       "    <tr>\n",
       "      <th>1045</th>\n",
       "      <td>9.0</td>\n",
       "      <td>2346.71</td>\n",
       "      <td>3.0</td>\n",
       "      <td>5.0</td>\n",
       "    </tr>\n",
       "    <tr>\n",
       "      <th>1055</th>\n",
       "      <td>551.0</td>\n",
       "      <td>17090.88</td>\n",
       "      <td>17.0</td>\n",
       "      <td>30.0</td>\n",
       "    </tr>\n",
       "    <tr>\n",
       "      <th>1071</th>\n",
       "      <td>194.0</td>\n",
       "      <td>15604.34</td>\n",
       "      <td>16.0</td>\n",
       "      <td>16.0</td>\n",
       "    </tr>\n",
       "  </tbody>\n",
       "</table>\n",
       "</div>"
      ],
      "text/plain": [
       "               duration_sum  mb_used_sum  gb_used_sum  message_count\n",
       "month user_id                                                       \n",
       "1     1005             95.0      2727.97          3.0            7.0\n",
       "      1032            380.0     24127.69         24.0           38.0\n",
       "      1045              9.0      2346.71          3.0            5.0\n",
       "      1055            551.0     17090.88         17.0           30.0\n",
       "      1071            194.0     15604.34         16.0           16.0"
      ]
     },
     "execution_count": 38,
     "metadata": {},
     "output_type": "execute_result"
    }
   ],
   "source": [
    "all_data = all_data.merge(message_count, on=['month','user_id'], how='outer', suffixes=(False,False))\n",
    "all_data.head()"
   ]
  },
  {
   "cell_type": "code",
   "execution_count": 39,
   "id": "9b642557",
   "metadata": {},
   "outputs": [
    {
     "data": {
      "text/html": [
       "<div>\n",
       "<style scoped>\n",
       "    .dataframe tbody tr th:only-of-type {\n",
       "        vertical-align: middle;\n",
       "    }\n",
       "\n",
       "    .dataframe tbody tr th {\n",
       "        vertical-align: top;\n",
       "    }\n",
       "\n",
       "    .dataframe thead th {\n",
       "        text-align: right;\n",
       "    }\n",
       "</style>\n",
       "<table border=\"1\" class=\"dataframe\">\n",
       "  <thead>\n",
       "    <tr style=\"text-align: right;\">\n",
       "      <th></th>\n",
       "      <th>month</th>\n",
       "      <th>user_id</th>\n",
       "      <th>duration_sum</th>\n",
       "      <th>mb_used_sum</th>\n",
       "      <th>gb_used_sum</th>\n",
       "      <th>message_count</th>\n",
       "    </tr>\n",
       "  </thead>\n",
       "  <tbody>\n",
       "    <tr>\n",
       "      <th>0</th>\n",
       "      <td>1</td>\n",
       "      <td>1005</td>\n",
       "      <td>95.0</td>\n",
       "      <td>2727.97</td>\n",
       "      <td>3.0</td>\n",
       "      <td>7.0</td>\n",
       "    </tr>\n",
       "    <tr>\n",
       "      <th>1</th>\n",
       "      <td>1</td>\n",
       "      <td>1032</td>\n",
       "      <td>380.0</td>\n",
       "      <td>24127.69</td>\n",
       "      <td>24.0</td>\n",
       "      <td>38.0</td>\n",
       "    </tr>\n",
       "    <tr>\n",
       "      <th>2</th>\n",
       "      <td>1</td>\n",
       "      <td>1045</td>\n",
       "      <td>9.0</td>\n",
       "      <td>2346.71</td>\n",
       "      <td>3.0</td>\n",
       "      <td>5.0</td>\n",
       "    </tr>\n",
       "    <tr>\n",
       "      <th>3</th>\n",
       "      <td>1</td>\n",
       "      <td>1055</td>\n",
       "      <td>551.0</td>\n",
       "      <td>17090.88</td>\n",
       "      <td>17.0</td>\n",
       "      <td>30.0</td>\n",
       "    </tr>\n",
       "    <tr>\n",
       "      <th>4</th>\n",
       "      <td>1</td>\n",
       "      <td>1071</td>\n",
       "      <td>194.0</td>\n",
       "      <td>15604.34</td>\n",
       "      <td>16.0</td>\n",
       "      <td>16.0</td>\n",
       "    </tr>\n",
       "    <tr>\n",
       "      <th>...</th>\n",
       "      <td>...</td>\n",
       "      <td>...</td>\n",
       "      <td>...</td>\n",
       "      <td>...</td>\n",
       "      <td>...</td>\n",
       "      <td>...</td>\n",
       "    </tr>\n",
       "    <tr>\n",
       "      <th>3209</th>\n",
       "      <td>12</td>\n",
       "      <td>1106</td>\n",
       "      <td>NaN</td>\n",
       "      <td>18701.51</td>\n",
       "      <td>19.0</td>\n",
       "      <td>24.0</td>\n",
       "    </tr>\n",
       "    <tr>\n",
       "      <th>3210</th>\n",
       "      <td>12</td>\n",
       "      <td>1231</td>\n",
       "      <td>NaN</td>\n",
       "      <td>32448.00</td>\n",
       "      <td>32.0</td>\n",
       "      <td>191.0</td>\n",
       "    </tr>\n",
       "    <tr>\n",
       "      <th>3211</th>\n",
       "      <td>12</td>\n",
       "      <td>1328</td>\n",
       "      <td>NaN</td>\n",
       "      <td>39419.73</td>\n",
       "      <td>39.0</td>\n",
       "      <td>7.0</td>\n",
       "    </tr>\n",
       "    <tr>\n",
       "      <th>3212</th>\n",
       "      <td>12</td>\n",
       "      <td>1473</td>\n",
       "      <td>NaN</td>\n",
       "      <td>18418.26</td>\n",
       "      <td>18.0</td>\n",
       "      <td>20.0</td>\n",
       "    </tr>\n",
       "    <tr>\n",
       "      <th>3213</th>\n",
       "      <td>12</td>\n",
       "      <td>1489</td>\n",
       "      <td>NaN</td>\n",
       "      <td>17322.51</td>\n",
       "      <td>17.0</td>\n",
       "      <td>35.0</td>\n",
       "    </tr>\n",
       "  </tbody>\n",
       "</table>\n",
       "<p>3214 rows × 6 columns</p>\n",
       "</div>"
      ],
      "text/plain": [
       "      month  user_id  duration_sum  mb_used_sum  gb_used_sum  message_count\n",
       "0         1     1005          95.0      2727.97          3.0            7.0\n",
       "1         1     1032         380.0     24127.69         24.0           38.0\n",
       "2         1     1045           9.0      2346.71          3.0            5.0\n",
       "3         1     1055         551.0     17090.88         17.0           30.0\n",
       "4         1     1071         194.0     15604.34         16.0           16.0\n",
       "...     ...      ...           ...          ...          ...            ...\n",
       "3209     12     1106           NaN     18701.51         19.0           24.0\n",
       "3210     12     1231           NaN     32448.00         32.0          191.0\n",
       "3211     12     1328           NaN     39419.73         39.0            7.0\n",
       "3212     12     1473           NaN     18418.26         18.0           20.0\n",
       "3213     12     1489           NaN     17322.51         17.0           35.0\n",
       "\n",
       "[3214 rows x 6 columns]"
      ]
     },
     "execution_count": 39,
     "metadata": {},
     "output_type": "execute_result"
    }
   ],
   "source": [
    "all_data=all_data.reset_index()\n",
    "all_data"
   ]
  },
  {
   "cell_type": "code",
   "execution_count": 40,
   "id": "a69f1923",
   "metadata": {},
   "outputs": [
    {
     "data": {
      "text/html": [
       "<div>\n",
       "<style scoped>\n",
       "    .dataframe tbody tr th:only-of-type {\n",
       "        vertical-align: middle;\n",
       "    }\n",
       "\n",
       "    .dataframe tbody tr th {\n",
       "        vertical-align: top;\n",
       "    }\n",
       "\n",
       "    .dataframe thead th {\n",
       "        text-align: right;\n",
       "    }\n",
       "</style>\n",
       "<table border=\"1\" class=\"dataframe\">\n",
       "  <thead>\n",
       "    <tr style=\"text-align: right;\">\n",
       "      <th></th>\n",
       "      <th>month</th>\n",
       "      <th>user_id</th>\n",
       "      <th>duration_sum</th>\n",
       "      <th>mb_used_sum</th>\n",
       "      <th>gb_used_sum</th>\n",
       "      <th>message_count</th>\n",
       "      <th>age</th>\n",
       "      <th>churn_date</th>\n",
       "      <th>city</th>\n",
       "      <th>first_name</th>\n",
       "      <th>last_name</th>\n",
       "      <th>reg_date</th>\n",
       "      <th>tariff</th>\n",
       "    </tr>\n",
       "  </thead>\n",
       "  <tbody>\n",
       "    <tr>\n",
       "      <th>0</th>\n",
       "      <td>1</td>\n",
       "      <td>1005</td>\n",
       "      <td>95.0</td>\n",
       "      <td>2727.97</td>\n",
       "      <td>3.0</td>\n",
       "      <td>7.0</td>\n",
       "      <td>67</td>\n",
       "      <td>NaT</td>\n",
       "      <td>Набережные Челны</td>\n",
       "      <td>Афанасий</td>\n",
       "      <td>Горлов</td>\n",
       "      <td>2018-01-25</td>\n",
       "      <td>smart</td>\n",
       "    </tr>\n",
       "    <tr>\n",
       "      <th>1</th>\n",
       "      <td>1</td>\n",
       "      <td>1032</td>\n",
       "      <td>380.0</td>\n",
       "      <td>24127.69</td>\n",
       "      <td>24.0</td>\n",
       "      <td>38.0</td>\n",
       "      <td>31</td>\n",
       "      <td>NaT</td>\n",
       "      <td>Ульяновск</td>\n",
       "      <td>Инна</td>\n",
       "      <td>Игнатьева</td>\n",
       "      <td>2018-01-04</td>\n",
       "      <td>smart</td>\n",
       "    </tr>\n",
       "    <tr>\n",
       "      <th>2</th>\n",
       "      <td>1</td>\n",
       "      <td>1045</td>\n",
       "      <td>9.0</td>\n",
       "      <td>2346.71</td>\n",
       "      <td>3.0</td>\n",
       "      <td>5.0</td>\n",
       "      <td>48</td>\n",
       "      <td>NaT</td>\n",
       "      <td>Улан-Удэ</td>\n",
       "      <td>Джемма</td>\n",
       "      <td>Карасева</td>\n",
       "      <td>2018-01-30</td>\n",
       "      <td>smart</td>\n",
       "    </tr>\n",
       "    <tr>\n",
       "      <th>3</th>\n",
       "      <td>1</td>\n",
       "      <td>1055</td>\n",
       "      <td>551.0</td>\n",
       "      <td>17090.88</td>\n",
       "      <td>17.0</td>\n",
       "      <td>30.0</td>\n",
       "      <td>39</td>\n",
       "      <td>NaT</td>\n",
       "      <td>Казань</td>\n",
       "      <td>Луиза</td>\n",
       "      <td>Березина</td>\n",
       "      <td>2018-01-02</td>\n",
       "      <td>smart</td>\n",
       "    </tr>\n",
       "    <tr>\n",
       "      <th>4</th>\n",
       "      <td>1</td>\n",
       "      <td>1071</td>\n",
       "      <td>194.0</td>\n",
       "      <td>15604.34</td>\n",
       "      <td>16.0</td>\n",
       "      <td>16.0</td>\n",
       "      <td>20</td>\n",
       "      <td>2018-08-31</td>\n",
       "      <td>Омск</td>\n",
       "      <td>Гектор</td>\n",
       "      <td>Чумаков</td>\n",
       "      <td>2018-01-09</td>\n",
       "      <td>smart</td>\n",
       "    </tr>\n",
       "    <tr>\n",
       "      <th>...</th>\n",
       "      <td>...</td>\n",
       "      <td>...</td>\n",
       "      <td>...</td>\n",
       "      <td>...</td>\n",
       "      <td>...</td>\n",
       "      <td>...</td>\n",
       "      <td>...</td>\n",
       "      <td>...</td>\n",
       "      <td>...</td>\n",
       "      <td>...</td>\n",
       "      <td>...</td>\n",
       "      <td>...</td>\n",
       "      <td>...</td>\n",
       "    </tr>\n",
       "    <tr>\n",
       "      <th>3209</th>\n",
       "      <td>12</td>\n",
       "      <td>1106</td>\n",
       "      <td>NaN</td>\n",
       "      <td>18701.51</td>\n",
       "      <td>19.0</td>\n",
       "      <td>24.0</td>\n",
       "      <td>67</td>\n",
       "      <td>NaT</td>\n",
       "      <td>Калуга</td>\n",
       "      <td>Исаак</td>\n",
       "      <td>Костин</td>\n",
       "      <td>2018-04-26</td>\n",
       "      <td>ultra</td>\n",
       "    </tr>\n",
       "    <tr>\n",
       "      <th>3210</th>\n",
       "      <td>12</td>\n",
       "      <td>1231</td>\n",
       "      <td>NaN</td>\n",
       "      <td>32448.00</td>\n",
       "      <td>32.0</td>\n",
       "      <td>191.0</td>\n",
       "      <td>63</td>\n",
       "      <td>NaT</td>\n",
       "      <td>Чебоксары</td>\n",
       "      <td>Касьян</td>\n",
       "      <td>Авдюков</td>\n",
       "      <td>2018-05-23</td>\n",
       "      <td>ultra</td>\n",
       "    </tr>\n",
       "    <tr>\n",
       "      <th>3211</th>\n",
       "      <td>12</td>\n",
       "      <td>1328</td>\n",
       "      <td>NaN</td>\n",
       "      <td>39419.73</td>\n",
       "      <td>39.0</td>\n",
       "      <td>7.0</td>\n",
       "      <td>44</td>\n",
       "      <td>NaT</td>\n",
       "      <td>Мурманск</td>\n",
       "      <td>Рауль</td>\n",
       "      <td>Аркадьев</td>\n",
       "      <td>2018-10-16</td>\n",
       "      <td>ultra</td>\n",
       "    </tr>\n",
       "    <tr>\n",
       "      <th>3212</th>\n",
       "      <td>12</td>\n",
       "      <td>1473</td>\n",
       "      <td>NaN</td>\n",
       "      <td>18418.26</td>\n",
       "      <td>18.0</td>\n",
       "      <td>20.0</td>\n",
       "      <td>18</td>\n",
       "      <td>NaT</td>\n",
       "      <td>Красноярск</td>\n",
       "      <td>Николай</td>\n",
       "      <td>Лебедев</td>\n",
       "      <td>2018-08-05</td>\n",
       "      <td>ultra</td>\n",
       "    </tr>\n",
       "    <tr>\n",
       "      <th>3213</th>\n",
       "      <td>12</td>\n",
       "      <td>1489</td>\n",
       "      <td>NaN</td>\n",
       "      <td>17322.51</td>\n",
       "      <td>17.0</td>\n",
       "      <td>35.0</td>\n",
       "      <td>35</td>\n",
       "      <td>NaT</td>\n",
       "      <td>Санкт-Петербург</td>\n",
       "      <td>Павел</td>\n",
       "      <td>Гончаров</td>\n",
       "      <td>2018-08-15</td>\n",
       "      <td>smart</td>\n",
       "    </tr>\n",
       "  </tbody>\n",
       "</table>\n",
       "<p>3214 rows × 13 columns</p>\n",
       "</div>"
      ],
      "text/plain": [
       "      month  user_id  duration_sum  mb_used_sum  gb_used_sum  message_count  \\\n",
       "0         1     1005          95.0      2727.97          3.0            7.0   \n",
       "1         1     1032         380.0     24127.69         24.0           38.0   \n",
       "2         1     1045           9.0      2346.71          3.0            5.0   \n",
       "3         1     1055         551.0     17090.88         17.0           30.0   \n",
       "4         1     1071         194.0     15604.34         16.0           16.0   \n",
       "...     ...      ...           ...          ...          ...            ...   \n",
       "3209     12     1106           NaN     18701.51         19.0           24.0   \n",
       "3210     12     1231           NaN     32448.00         32.0          191.0   \n",
       "3211     12     1328           NaN     39419.73         39.0            7.0   \n",
       "3212     12     1473           NaN     18418.26         18.0           20.0   \n",
       "3213     12     1489           NaN     17322.51         17.0           35.0   \n",
       "\n",
       "      age churn_date              city first_name  last_name   reg_date tariff  \n",
       "0      67        NaT  Набережные Челны   Афанасий     Горлов 2018-01-25  smart  \n",
       "1      31        NaT         Ульяновск       Инна  Игнатьева 2018-01-04  smart  \n",
       "2      48        NaT          Улан-Удэ     Джемма   Карасева 2018-01-30  smart  \n",
       "3      39        NaT            Казань      Луиза   Березина 2018-01-02  smart  \n",
       "4      20 2018-08-31              Омск     Гектор    Чумаков 2018-01-09  smart  \n",
       "...   ...        ...               ...        ...        ...        ...    ...  \n",
       "3209   67        NaT            Калуга      Исаак     Костин 2018-04-26  ultra  \n",
       "3210   63        NaT         Чебоксары     Касьян    Авдюков 2018-05-23  ultra  \n",
       "3211   44        NaT          Мурманск      Рауль   Аркадьев 2018-10-16  ultra  \n",
       "3212   18        NaT        Красноярск    Николай    Лебедев 2018-08-05  ultra  \n",
       "3213   35        NaT   Санкт-Петербург      Павел   Гончаров 2018-08-15  smart  \n",
       "\n",
       "[3214 rows x 13 columns]"
      ]
     },
     "execution_count": 40,
     "metadata": {},
     "output_type": "execute_result"
    }
   ],
   "source": [
    "all_data = all_data.merge (users_df, on='user_id', how='left', suffixes=(False, False))\n",
    "#all_data.sort_values(by=['month','user_id']).head()\n",
    "all_data"
   ]
  },
  {
   "cell_type": "code",
   "execution_count": 41,
   "id": "3b1547e2",
   "metadata": {},
   "outputs": [],
   "source": [
    "all_data = all_data.rename(columns={'tariff': 'tariff_name'})\n"
   ]
  },
  {
   "cell_type": "code",
   "execution_count": 42,
   "id": "9db7d508",
   "metadata": {},
   "outputs": [
    {
     "data": {
      "text/html": [
       "<div>\n",
       "<style scoped>\n",
       "    .dataframe tbody tr th:only-of-type {\n",
       "        vertical-align: middle;\n",
       "    }\n",
       "\n",
       "    .dataframe tbody tr th {\n",
       "        vertical-align: top;\n",
       "    }\n",
       "\n",
       "    .dataframe thead th {\n",
       "        text-align: right;\n",
       "    }\n",
       "</style>\n",
       "<table border=\"1\" class=\"dataframe\">\n",
       "  <thead>\n",
       "    <tr style=\"text-align: right;\">\n",
       "      <th></th>\n",
       "      <th>month</th>\n",
       "      <th>user_id</th>\n",
       "      <th>duration_sum</th>\n",
       "      <th>mb_used_sum</th>\n",
       "      <th>gb_used_sum</th>\n",
       "      <th>message_count</th>\n",
       "      <th>age</th>\n",
       "      <th>churn_date</th>\n",
       "      <th>city</th>\n",
       "      <th>first_name</th>\n",
       "      <th>last_name</th>\n",
       "      <th>reg_date</th>\n",
       "      <th>tariff_name</th>\n",
       "      <th>messages_included</th>\n",
       "      <th>mb_per_month_included</th>\n",
       "      <th>minutes_included</th>\n",
       "      <th>rub_monthly_fee</th>\n",
       "      <th>rub_per_gb</th>\n",
       "      <th>rub_per_message</th>\n",
       "      <th>rub_per_minute</th>\n",
       "    </tr>\n",
       "  </thead>\n",
       "  <tbody>\n",
       "    <tr>\n",
       "      <th>0</th>\n",
       "      <td>1</td>\n",
       "      <td>1005</td>\n",
       "      <td>95.0</td>\n",
       "      <td>2727.97</td>\n",
       "      <td>3.0</td>\n",
       "      <td>7.0</td>\n",
       "      <td>67</td>\n",
       "      <td>NaT</td>\n",
       "      <td>Набережные Челны</td>\n",
       "      <td>Афанасий</td>\n",
       "      <td>Горлов</td>\n",
       "      <td>2018-01-25</td>\n",
       "      <td>smart</td>\n",
       "      <td>50</td>\n",
       "      <td>15360</td>\n",
       "      <td>500</td>\n",
       "      <td>550</td>\n",
       "      <td>200</td>\n",
       "      <td>3</td>\n",
       "      <td>3</td>\n",
       "    </tr>\n",
       "    <tr>\n",
       "      <th>1</th>\n",
       "      <td>1</td>\n",
       "      <td>1032</td>\n",
       "      <td>380.0</td>\n",
       "      <td>24127.69</td>\n",
       "      <td>24.0</td>\n",
       "      <td>38.0</td>\n",
       "      <td>31</td>\n",
       "      <td>NaT</td>\n",
       "      <td>Ульяновск</td>\n",
       "      <td>Инна</td>\n",
       "      <td>Игнатьева</td>\n",
       "      <td>2018-01-04</td>\n",
       "      <td>smart</td>\n",
       "      <td>50</td>\n",
       "      <td>15360</td>\n",
       "      <td>500</td>\n",
       "      <td>550</td>\n",
       "      <td>200</td>\n",
       "      <td>3</td>\n",
       "      <td>3</td>\n",
       "    </tr>\n",
       "    <tr>\n",
       "      <th>2</th>\n",
       "      <td>1</td>\n",
       "      <td>1045</td>\n",
       "      <td>9.0</td>\n",
       "      <td>2346.71</td>\n",
       "      <td>3.0</td>\n",
       "      <td>5.0</td>\n",
       "      <td>48</td>\n",
       "      <td>NaT</td>\n",
       "      <td>Улан-Удэ</td>\n",
       "      <td>Джемма</td>\n",
       "      <td>Карасева</td>\n",
       "      <td>2018-01-30</td>\n",
       "      <td>smart</td>\n",
       "      <td>50</td>\n",
       "      <td>15360</td>\n",
       "      <td>500</td>\n",
       "      <td>550</td>\n",
       "      <td>200</td>\n",
       "      <td>3</td>\n",
       "      <td>3</td>\n",
       "    </tr>\n",
       "    <tr>\n",
       "      <th>3</th>\n",
       "      <td>1</td>\n",
       "      <td>1055</td>\n",
       "      <td>551.0</td>\n",
       "      <td>17090.88</td>\n",
       "      <td>17.0</td>\n",
       "      <td>30.0</td>\n",
       "      <td>39</td>\n",
       "      <td>NaT</td>\n",
       "      <td>Казань</td>\n",
       "      <td>Луиза</td>\n",
       "      <td>Березина</td>\n",
       "      <td>2018-01-02</td>\n",
       "      <td>smart</td>\n",
       "      <td>50</td>\n",
       "      <td>15360</td>\n",
       "      <td>500</td>\n",
       "      <td>550</td>\n",
       "      <td>200</td>\n",
       "      <td>3</td>\n",
       "      <td>3</td>\n",
       "    </tr>\n",
       "    <tr>\n",
       "      <th>4</th>\n",
       "      <td>1</td>\n",
       "      <td>1071</td>\n",
       "      <td>194.0</td>\n",
       "      <td>15604.34</td>\n",
       "      <td>16.0</td>\n",
       "      <td>16.0</td>\n",
       "      <td>20</td>\n",
       "      <td>2018-08-31</td>\n",
       "      <td>Омск</td>\n",
       "      <td>Гектор</td>\n",
       "      <td>Чумаков</td>\n",
       "      <td>2018-01-09</td>\n",
       "      <td>smart</td>\n",
       "      <td>50</td>\n",
       "      <td>15360</td>\n",
       "      <td>500</td>\n",
       "      <td>550</td>\n",
       "      <td>200</td>\n",
       "      <td>3</td>\n",
       "      <td>3</td>\n",
       "    </tr>\n",
       "    <tr>\n",
       "      <th>...</th>\n",
       "      <td>...</td>\n",
       "      <td>...</td>\n",
       "      <td>...</td>\n",
       "      <td>...</td>\n",
       "      <td>...</td>\n",
       "      <td>...</td>\n",
       "      <td>...</td>\n",
       "      <td>...</td>\n",
       "      <td>...</td>\n",
       "      <td>...</td>\n",
       "      <td>...</td>\n",
       "      <td>...</td>\n",
       "      <td>...</td>\n",
       "      <td>...</td>\n",
       "      <td>...</td>\n",
       "      <td>...</td>\n",
       "      <td>...</td>\n",
       "      <td>...</td>\n",
       "      <td>...</td>\n",
       "      <td>...</td>\n",
       "    </tr>\n",
       "    <tr>\n",
       "      <th>3209</th>\n",
       "      <td>12</td>\n",
       "      <td>1106</td>\n",
       "      <td>NaN</td>\n",
       "      <td>18701.51</td>\n",
       "      <td>19.0</td>\n",
       "      <td>24.0</td>\n",
       "      <td>67</td>\n",
       "      <td>NaT</td>\n",
       "      <td>Калуга</td>\n",
       "      <td>Исаак</td>\n",
       "      <td>Костин</td>\n",
       "      <td>2018-04-26</td>\n",
       "      <td>ultra</td>\n",
       "      <td>1000</td>\n",
       "      <td>30720</td>\n",
       "      <td>3000</td>\n",
       "      <td>1950</td>\n",
       "      <td>150</td>\n",
       "      <td>1</td>\n",
       "      <td>1</td>\n",
       "    </tr>\n",
       "    <tr>\n",
       "      <th>3210</th>\n",
       "      <td>12</td>\n",
       "      <td>1231</td>\n",
       "      <td>NaN</td>\n",
       "      <td>32448.00</td>\n",
       "      <td>32.0</td>\n",
       "      <td>191.0</td>\n",
       "      <td>63</td>\n",
       "      <td>NaT</td>\n",
       "      <td>Чебоксары</td>\n",
       "      <td>Касьян</td>\n",
       "      <td>Авдюков</td>\n",
       "      <td>2018-05-23</td>\n",
       "      <td>ultra</td>\n",
       "      <td>1000</td>\n",
       "      <td>30720</td>\n",
       "      <td>3000</td>\n",
       "      <td>1950</td>\n",
       "      <td>150</td>\n",
       "      <td>1</td>\n",
       "      <td>1</td>\n",
       "    </tr>\n",
       "    <tr>\n",
       "      <th>3211</th>\n",
       "      <td>12</td>\n",
       "      <td>1328</td>\n",
       "      <td>NaN</td>\n",
       "      <td>39419.73</td>\n",
       "      <td>39.0</td>\n",
       "      <td>7.0</td>\n",
       "      <td>44</td>\n",
       "      <td>NaT</td>\n",
       "      <td>Мурманск</td>\n",
       "      <td>Рауль</td>\n",
       "      <td>Аркадьев</td>\n",
       "      <td>2018-10-16</td>\n",
       "      <td>ultra</td>\n",
       "      <td>1000</td>\n",
       "      <td>30720</td>\n",
       "      <td>3000</td>\n",
       "      <td>1950</td>\n",
       "      <td>150</td>\n",
       "      <td>1</td>\n",
       "      <td>1</td>\n",
       "    </tr>\n",
       "    <tr>\n",
       "      <th>3212</th>\n",
       "      <td>12</td>\n",
       "      <td>1473</td>\n",
       "      <td>NaN</td>\n",
       "      <td>18418.26</td>\n",
       "      <td>18.0</td>\n",
       "      <td>20.0</td>\n",
       "      <td>18</td>\n",
       "      <td>NaT</td>\n",
       "      <td>Красноярск</td>\n",
       "      <td>Николай</td>\n",
       "      <td>Лебедев</td>\n",
       "      <td>2018-08-05</td>\n",
       "      <td>ultra</td>\n",
       "      <td>1000</td>\n",
       "      <td>30720</td>\n",
       "      <td>3000</td>\n",
       "      <td>1950</td>\n",
       "      <td>150</td>\n",
       "      <td>1</td>\n",
       "      <td>1</td>\n",
       "    </tr>\n",
       "    <tr>\n",
       "      <th>3213</th>\n",
       "      <td>12</td>\n",
       "      <td>1489</td>\n",
       "      <td>NaN</td>\n",
       "      <td>17322.51</td>\n",
       "      <td>17.0</td>\n",
       "      <td>35.0</td>\n",
       "      <td>35</td>\n",
       "      <td>NaT</td>\n",
       "      <td>Санкт-Петербург</td>\n",
       "      <td>Павел</td>\n",
       "      <td>Гончаров</td>\n",
       "      <td>2018-08-15</td>\n",
       "      <td>smart</td>\n",
       "      <td>50</td>\n",
       "      <td>15360</td>\n",
       "      <td>500</td>\n",
       "      <td>550</td>\n",
       "      <td>200</td>\n",
       "      <td>3</td>\n",
       "      <td>3</td>\n",
       "    </tr>\n",
       "  </tbody>\n",
       "</table>\n",
       "<p>3214 rows × 20 columns</p>\n",
       "</div>"
      ],
      "text/plain": [
       "      month  user_id  duration_sum  mb_used_sum  gb_used_sum  message_count  \\\n",
       "0         1     1005          95.0      2727.97          3.0            7.0   \n",
       "1         1     1032         380.0     24127.69         24.0           38.0   \n",
       "2         1     1045           9.0      2346.71          3.0            5.0   \n",
       "3         1     1055         551.0     17090.88         17.0           30.0   \n",
       "4         1     1071         194.0     15604.34         16.0           16.0   \n",
       "...     ...      ...           ...          ...          ...            ...   \n",
       "3209     12     1106           NaN     18701.51         19.0           24.0   \n",
       "3210     12     1231           NaN     32448.00         32.0          191.0   \n",
       "3211     12     1328           NaN     39419.73         39.0            7.0   \n",
       "3212     12     1473           NaN     18418.26         18.0           20.0   \n",
       "3213     12     1489           NaN     17322.51         17.0           35.0   \n",
       "\n",
       "      age churn_date              city first_name  last_name   reg_date  \\\n",
       "0      67        NaT  Набережные Челны   Афанасий     Горлов 2018-01-25   \n",
       "1      31        NaT         Ульяновск       Инна  Игнатьева 2018-01-04   \n",
       "2      48        NaT          Улан-Удэ     Джемма   Карасева 2018-01-30   \n",
       "3      39        NaT            Казань      Луиза   Березина 2018-01-02   \n",
       "4      20 2018-08-31              Омск     Гектор    Чумаков 2018-01-09   \n",
       "...   ...        ...               ...        ...        ...        ...   \n",
       "3209   67        NaT            Калуга      Исаак     Костин 2018-04-26   \n",
       "3210   63        NaT         Чебоксары     Касьян    Авдюков 2018-05-23   \n",
       "3211   44        NaT          Мурманск      Рауль   Аркадьев 2018-10-16   \n",
       "3212   18        NaT        Красноярск    Николай    Лебедев 2018-08-05   \n",
       "3213   35        NaT   Санкт-Петербург      Павел   Гончаров 2018-08-15   \n",
       "\n",
       "     tariff_name  messages_included  mb_per_month_included  minutes_included  \\\n",
       "0          smart                 50                  15360               500   \n",
       "1          smart                 50                  15360               500   \n",
       "2          smart                 50                  15360               500   \n",
       "3          smart                 50                  15360               500   \n",
       "4          smart                 50                  15360               500   \n",
       "...          ...                ...                    ...               ...   \n",
       "3209       ultra               1000                  30720              3000   \n",
       "3210       ultra               1000                  30720              3000   \n",
       "3211       ultra               1000                  30720              3000   \n",
       "3212       ultra               1000                  30720              3000   \n",
       "3213       smart                 50                  15360               500   \n",
       "\n",
       "      rub_monthly_fee  rub_per_gb  rub_per_message  rub_per_minute  \n",
       "0                 550         200                3               3  \n",
       "1                 550         200                3               3  \n",
       "2                 550         200                3               3  \n",
       "3                 550         200                3               3  \n",
       "4                 550         200                3               3  \n",
       "...               ...         ...              ...             ...  \n",
       "3209             1950         150                1               1  \n",
       "3210             1950         150                1               1  \n",
       "3211             1950         150                1               1  \n",
       "3212             1950         150                1               1  \n",
       "3213              550         200                3               3  \n",
       "\n",
       "[3214 rows x 20 columns]"
      ]
     },
     "execution_count": 42,
     "metadata": {},
     "output_type": "execute_result"
    }
   ],
   "source": [
    "all_data = all_data.merge (tariffs_df, on='tariff_name', how='left', suffixes=(False, False))\n",
    "all_data"
   ]
  },
  {
   "cell_type": "code",
   "execution_count": 43,
   "id": "6c63c5c8",
   "metadata": {
    "scrolled": true
   },
   "outputs": [
    {
     "name": "stdout",
     "output_type": "stream",
     "text": [
      "<class 'pandas.core.frame.DataFrame'>\n",
      "Int64Index: 3214 entries, 0 to 3213\n",
      "Data columns (total 20 columns):\n",
      " #   Column                 Non-Null Count  Dtype         \n",
      "---  ------                 --------------  -----         \n",
      " 0   month                  3214 non-null   int64         \n",
      " 1   user_id                3214 non-null   int64         \n",
      " 2   duration_sum           3174 non-null   float64       \n",
      " 3   mb_used_sum            3203 non-null   float64       \n",
      " 4   gb_used_sum            3203 non-null   float64       \n",
      " 5   message_count          2717 non-null   float64       \n",
      " 6   age                    3214 non-null   int64         \n",
      " 7   churn_date             187 non-null    datetime64[ns]\n",
      " 8   city                   3214 non-null   object        \n",
      " 9   first_name             3214 non-null   object        \n",
      " 10  last_name              3214 non-null   object        \n",
      " 11  reg_date               3214 non-null   datetime64[ns]\n",
      " 12  tariff_name            3214 non-null   object        \n",
      " 13  messages_included      3214 non-null   int64         \n",
      " 14  mb_per_month_included  3214 non-null   int64         \n",
      " 15  minutes_included       3214 non-null   int64         \n",
      " 16  rub_monthly_fee        3214 non-null   int64         \n",
      " 17  rub_per_gb             3214 non-null   int64         \n",
      " 18  rub_per_message        3214 non-null   int64         \n",
      " 19  rub_per_minute         3214 non-null   int64         \n",
      "dtypes: datetime64[ns](2), float64(4), int64(10), object(4)\n",
      "memory usage: 527.3+ KB\n"
     ]
    }
   ],
   "source": [
    "all_data.info()"
   ]
  },
  {
   "cell_type": "markdown",
   "id": "230904e0",
   "metadata": {},
   "source": [
    "При объединении всех таблиц появились пустые значения в столбцах с расчетными данными по звонкам, сообщениям и потраченному трафику интернета. Эти ячейки нужно заполнить нулями."
   ]
  },
  {
   "cell_type": "code",
   "execution_count": 44,
   "id": "08f7aeaf",
   "metadata": {},
   "outputs": [],
   "source": [
    "all_data = all_data.fillna(0)"
   ]
  },
  {
   "cell_type": "code",
   "execution_count": 45,
   "id": "44268d9d",
   "metadata": {
    "scrolled": true
   },
   "outputs": [
    {
     "name": "stdout",
     "output_type": "stream",
     "text": [
      "<class 'pandas.core.frame.DataFrame'>\n",
      "Int64Index: 3214 entries, 0 to 3213\n",
      "Data columns (total 20 columns):\n",
      " #   Column                 Non-Null Count  Dtype         \n",
      "---  ------                 --------------  -----         \n",
      " 0   month                  3214 non-null   int64         \n",
      " 1   user_id                3214 non-null   int64         \n",
      " 2   duration_sum           3214 non-null   float64       \n",
      " 3   mb_used_sum            3214 non-null   float64       \n",
      " 4   gb_used_sum            3214 non-null   float64       \n",
      " 5   message_count          3214 non-null   float64       \n",
      " 6   age                    3214 non-null   int64         \n",
      " 7   churn_date             3214 non-null   object        \n",
      " 8   city                   3214 non-null   object        \n",
      " 9   first_name             3214 non-null   object        \n",
      " 10  last_name              3214 non-null   object        \n",
      " 11  reg_date               3214 non-null   datetime64[ns]\n",
      " 12  tariff_name            3214 non-null   object        \n",
      " 13  messages_included      3214 non-null   int64         \n",
      " 14  mb_per_month_included  3214 non-null   int64         \n",
      " 15  minutes_included       3214 non-null   int64         \n",
      " 16  rub_monthly_fee        3214 non-null   int64         \n",
      " 17  rub_per_gb             3214 non-null   int64         \n",
      " 18  rub_per_message        3214 non-null   int64         \n",
      " 19  rub_per_minute         3214 non-null   int64         \n",
      "dtypes: datetime64[ns](1), float64(4), int64(10), object(5)\n",
      "memory usage: 527.3+ KB\n"
     ]
    }
   ],
   "source": [
    "all_data.info()"
   ]
  },
  {
   "cell_type": "code",
   "execution_count": 46,
   "id": "a11891d1",
   "metadata": {},
   "outputs": [],
   "source": [
    "columns_for_change = ['duration_sum', 'gb_used_sum', 'message_count'] # список столбцов для изменения типа данных\n",
    "for column in columns_for_change:\n",
    "    all_data[column] = all_data[column].astype('int')"
   ]
  },
  {
   "cell_type": "code",
   "execution_count": 47,
   "id": "f3b7adda",
   "metadata": {},
   "outputs": [
    {
     "name": "stdout",
     "output_type": "stream",
     "text": [
      "<class 'pandas.core.frame.DataFrame'>\n",
      "Int64Index: 3214 entries, 0 to 3213\n",
      "Data columns (total 20 columns):\n",
      " #   Column                 Non-Null Count  Dtype         \n",
      "---  ------                 --------------  -----         \n",
      " 0   month                  3214 non-null   int64         \n",
      " 1   user_id                3214 non-null   int64         \n",
      " 2   duration_sum           3214 non-null   int64         \n",
      " 3   mb_used_sum            3214 non-null   float64       \n",
      " 4   gb_used_sum            3214 non-null   int64         \n",
      " 5   message_count          3214 non-null   int64         \n",
      " 6   age                    3214 non-null   int64         \n",
      " 7   churn_date             3214 non-null   object        \n",
      " 8   city                   3214 non-null   object        \n",
      " 9   first_name             3214 non-null   object        \n",
      " 10  last_name              3214 non-null   object        \n",
      " 11  reg_date               3214 non-null   datetime64[ns]\n",
      " 12  tariff_name            3214 non-null   object        \n",
      " 13  messages_included      3214 non-null   int64         \n",
      " 14  mb_per_month_included  3214 non-null   int64         \n",
      " 15  minutes_included       3214 non-null   int64         \n",
      " 16  rub_monthly_fee        3214 non-null   int64         \n",
      " 17  rub_per_gb             3214 non-null   int64         \n",
      " 18  rub_per_message        3214 non-null   int64         \n",
      " 19  rub_per_minute         3214 non-null   int64         \n",
      "dtypes: datetime64[ns](1), float64(1), int64(13), object(5)\n",
      "memory usage: 527.3+ KB\n"
     ]
    }
   ],
   "source": [
    "all_data.info()"
   ]
  },
  {
   "cell_type": "markdown",
   "id": "1f2b4464",
   "metadata": {},
   "source": [
    "Теперь можно расчитать выручку в месяц с каждого пользователя."
   ]
  },
  {
   "cell_type": "code",
   "execution_count": 48,
   "id": "014abc89",
   "metadata": {},
   "outputs": [
    {
     "data": {
      "text/html": [
       "<div>\n",
       "<style scoped>\n",
       "    .dataframe tbody tr th:only-of-type {\n",
       "        vertical-align: middle;\n",
       "    }\n",
       "\n",
       "    .dataframe tbody tr th {\n",
       "        vertical-align: top;\n",
       "    }\n",
       "\n",
       "    .dataframe thead th {\n",
       "        text-align: right;\n",
       "    }\n",
       "</style>\n",
       "<table border=\"1\" class=\"dataframe\">\n",
       "  <thead>\n",
       "    <tr style=\"text-align: right;\">\n",
       "      <th></th>\n",
       "      <th>month</th>\n",
       "      <th>user_id</th>\n",
       "      <th>duration_sum</th>\n",
       "      <th>mb_used_sum</th>\n",
       "      <th>gb_used_sum</th>\n",
       "      <th>message_count</th>\n",
       "      <th>age</th>\n",
       "      <th>churn_date</th>\n",
       "      <th>city</th>\n",
       "      <th>first_name</th>\n",
       "      <th>last_name</th>\n",
       "      <th>reg_date</th>\n",
       "      <th>tariff_name</th>\n",
       "      <th>messages_included</th>\n",
       "      <th>mb_per_month_included</th>\n",
       "      <th>minutes_included</th>\n",
       "      <th>rub_monthly_fee</th>\n",
       "      <th>rub_per_gb</th>\n",
       "      <th>rub_per_message</th>\n",
       "      <th>rub_per_minute</th>\n",
       "    </tr>\n",
       "  </thead>\n",
       "  <tbody>\n",
       "    <tr>\n",
       "      <th>0</th>\n",
       "      <td>1</td>\n",
       "      <td>1005</td>\n",
       "      <td>95</td>\n",
       "      <td>2727.97</td>\n",
       "      <td>3</td>\n",
       "      <td>7</td>\n",
       "      <td>67</td>\n",
       "      <td>0</td>\n",
       "      <td>Набережные Челны</td>\n",
       "      <td>Афанасий</td>\n",
       "      <td>Горлов</td>\n",
       "      <td>2018-01-25</td>\n",
       "      <td>smart</td>\n",
       "      <td>50</td>\n",
       "      <td>15360</td>\n",
       "      <td>500</td>\n",
       "      <td>550</td>\n",
       "      <td>200</td>\n",
       "      <td>3</td>\n",
       "      <td>3</td>\n",
       "    </tr>\n",
       "    <tr>\n",
       "      <th>1</th>\n",
       "      <td>1</td>\n",
       "      <td>1032</td>\n",
       "      <td>380</td>\n",
       "      <td>24127.69</td>\n",
       "      <td>24</td>\n",
       "      <td>38</td>\n",
       "      <td>31</td>\n",
       "      <td>0</td>\n",
       "      <td>Ульяновск</td>\n",
       "      <td>Инна</td>\n",
       "      <td>Игнатьева</td>\n",
       "      <td>2018-01-04</td>\n",
       "      <td>smart</td>\n",
       "      <td>50</td>\n",
       "      <td>15360</td>\n",
       "      <td>500</td>\n",
       "      <td>550</td>\n",
       "      <td>200</td>\n",
       "      <td>3</td>\n",
       "      <td>3</td>\n",
       "    </tr>\n",
       "    <tr>\n",
       "      <th>2</th>\n",
       "      <td>1</td>\n",
       "      <td>1045</td>\n",
       "      <td>9</td>\n",
       "      <td>2346.71</td>\n",
       "      <td>3</td>\n",
       "      <td>5</td>\n",
       "      <td>48</td>\n",
       "      <td>0</td>\n",
       "      <td>Улан-Удэ</td>\n",
       "      <td>Джемма</td>\n",
       "      <td>Карасева</td>\n",
       "      <td>2018-01-30</td>\n",
       "      <td>smart</td>\n",
       "      <td>50</td>\n",
       "      <td>15360</td>\n",
       "      <td>500</td>\n",
       "      <td>550</td>\n",
       "      <td>200</td>\n",
       "      <td>3</td>\n",
       "      <td>3</td>\n",
       "    </tr>\n",
       "    <tr>\n",
       "      <th>3</th>\n",
       "      <td>1</td>\n",
       "      <td>1055</td>\n",
       "      <td>551</td>\n",
       "      <td>17090.88</td>\n",
       "      <td>17</td>\n",
       "      <td>30</td>\n",
       "      <td>39</td>\n",
       "      <td>0</td>\n",
       "      <td>Казань</td>\n",
       "      <td>Луиза</td>\n",
       "      <td>Березина</td>\n",
       "      <td>2018-01-02</td>\n",
       "      <td>smart</td>\n",
       "      <td>50</td>\n",
       "      <td>15360</td>\n",
       "      <td>500</td>\n",
       "      <td>550</td>\n",
       "      <td>200</td>\n",
       "      <td>3</td>\n",
       "      <td>3</td>\n",
       "    </tr>\n",
       "    <tr>\n",
       "      <th>4</th>\n",
       "      <td>1</td>\n",
       "      <td>1071</td>\n",
       "      <td>194</td>\n",
       "      <td>15604.34</td>\n",
       "      <td>16</td>\n",
       "      <td>16</td>\n",
       "      <td>20</td>\n",
       "      <td>2018-08-31 00:00:00</td>\n",
       "      <td>Омск</td>\n",
       "      <td>Гектор</td>\n",
       "      <td>Чумаков</td>\n",
       "      <td>2018-01-09</td>\n",
       "      <td>smart</td>\n",
       "      <td>50</td>\n",
       "      <td>15360</td>\n",
       "      <td>500</td>\n",
       "      <td>550</td>\n",
       "      <td>200</td>\n",
       "      <td>3</td>\n",
       "      <td>3</td>\n",
       "    </tr>\n",
       "    <tr>\n",
       "      <th>...</th>\n",
       "      <td>...</td>\n",
       "      <td>...</td>\n",
       "      <td>...</td>\n",
       "      <td>...</td>\n",
       "      <td>...</td>\n",
       "      <td>...</td>\n",
       "      <td>...</td>\n",
       "      <td>...</td>\n",
       "      <td>...</td>\n",
       "      <td>...</td>\n",
       "      <td>...</td>\n",
       "      <td>...</td>\n",
       "      <td>...</td>\n",
       "      <td>...</td>\n",
       "      <td>...</td>\n",
       "      <td>...</td>\n",
       "      <td>...</td>\n",
       "      <td>...</td>\n",
       "      <td>...</td>\n",
       "      <td>...</td>\n",
       "    </tr>\n",
       "    <tr>\n",
       "      <th>3209</th>\n",
       "      <td>12</td>\n",
       "      <td>1106</td>\n",
       "      <td>0</td>\n",
       "      <td>18701.51</td>\n",
       "      <td>19</td>\n",
       "      <td>24</td>\n",
       "      <td>67</td>\n",
       "      <td>0</td>\n",
       "      <td>Калуга</td>\n",
       "      <td>Исаак</td>\n",
       "      <td>Костин</td>\n",
       "      <td>2018-04-26</td>\n",
       "      <td>ultra</td>\n",
       "      <td>1000</td>\n",
       "      <td>30720</td>\n",
       "      <td>3000</td>\n",
       "      <td>1950</td>\n",
       "      <td>150</td>\n",
       "      <td>1</td>\n",
       "      <td>1</td>\n",
       "    </tr>\n",
       "    <tr>\n",
       "      <th>3210</th>\n",
       "      <td>12</td>\n",
       "      <td>1231</td>\n",
       "      <td>0</td>\n",
       "      <td>32448.00</td>\n",
       "      <td>32</td>\n",
       "      <td>191</td>\n",
       "      <td>63</td>\n",
       "      <td>0</td>\n",
       "      <td>Чебоксары</td>\n",
       "      <td>Касьян</td>\n",
       "      <td>Авдюков</td>\n",
       "      <td>2018-05-23</td>\n",
       "      <td>ultra</td>\n",
       "      <td>1000</td>\n",
       "      <td>30720</td>\n",
       "      <td>3000</td>\n",
       "      <td>1950</td>\n",
       "      <td>150</td>\n",
       "      <td>1</td>\n",
       "      <td>1</td>\n",
       "    </tr>\n",
       "    <tr>\n",
       "      <th>3211</th>\n",
       "      <td>12</td>\n",
       "      <td>1328</td>\n",
       "      <td>0</td>\n",
       "      <td>39419.73</td>\n",
       "      <td>39</td>\n",
       "      <td>7</td>\n",
       "      <td>44</td>\n",
       "      <td>0</td>\n",
       "      <td>Мурманск</td>\n",
       "      <td>Рауль</td>\n",
       "      <td>Аркадьев</td>\n",
       "      <td>2018-10-16</td>\n",
       "      <td>ultra</td>\n",
       "      <td>1000</td>\n",
       "      <td>30720</td>\n",
       "      <td>3000</td>\n",
       "      <td>1950</td>\n",
       "      <td>150</td>\n",
       "      <td>1</td>\n",
       "      <td>1</td>\n",
       "    </tr>\n",
       "    <tr>\n",
       "      <th>3212</th>\n",
       "      <td>12</td>\n",
       "      <td>1473</td>\n",
       "      <td>0</td>\n",
       "      <td>18418.26</td>\n",
       "      <td>18</td>\n",
       "      <td>20</td>\n",
       "      <td>18</td>\n",
       "      <td>0</td>\n",
       "      <td>Красноярск</td>\n",
       "      <td>Николай</td>\n",
       "      <td>Лебедев</td>\n",
       "      <td>2018-08-05</td>\n",
       "      <td>ultra</td>\n",
       "      <td>1000</td>\n",
       "      <td>30720</td>\n",
       "      <td>3000</td>\n",
       "      <td>1950</td>\n",
       "      <td>150</td>\n",
       "      <td>1</td>\n",
       "      <td>1</td>\n",
       "    </tr>\n",
       "    <tr>\n",
       "      <th>3213</th>\n",
       "      <td>12</td>\n",
       "      <td>1489</td>\n",
       "      <td>0</td>\n",
       "      <td>17322.51</td>\n",
       "      <td>17</td>\n",
       "      <td>35</td>\n",
       "      <td>35</td>\n",
       "      <td>0</td>\n",
       "      <td>Санкт-Петербург</td>\n",
       "      <td>Павел</td>\n",
       "      <td>Гончаров</td>\n",
       "      <td>2018-08-15</td>\n",
       "      <td>smart</td>\n",
       "      <td>50</td>\n",
       "      <td>15360</td>\n",
       "      <td>500</td>\n",
       "      <td>550</td>\n",
       "      <td>200</td>\n",
       "      <td>3</td>\n",
       "      <td>3</td>\n",
       "    </tr>\n",
       "  </tbody>\n",
       "</table>\n",
       "<p>3214 rows × 20 columns</p>\n",
       "</div>"
      ],
      "text/plain": [
       "      month  user_id  duration_sum  mb_used_sum  gb_used_sum  message_count  \\\n",
       "0         1     1005            95      2727.97            3              7   \n",
       "1         1     1032           380     24127.69           24             38   \n",
       "2         1     1045             9      2346.71            3              5   \n",
       "3         1     1055           551     17090.88           17             30   \n",
       "4         1     1071           194     15604.34           16             16   \n",
       "...     ...      ...           ...          ...          ...            ...   \n",
       "3209     12     1106             0     18701.51           19             24   \n",
       "3210     12     1231             0     32448.00           32            191   \n",
       "3211     12     1328             0     39419.73           39              7   \n",
       "3212     12     1473             0     18418.26           18             20   \n",
       "3213     12     1489             0     17322.51           17             35   \n",
       "\n",
       "      age           churn_date              city first_name  last_name  \\\n",
       "0      67                    0  Набережные Челны   Афанасий     Горлов   \n",
       "1      31                    0         Ульяновск       Инна  Игнатьева   \n",
       "2      48                    0          Улан-Удэ     Джемма   Карасева   \n",
       "3      39                    0            Казань      Луиза   Березина   \n",
       "4      20  2018-08-31 00:00:00              Омск     Гектор    Чумаков   \n",
       "...   ...                  ...               ...        ...        ...   \n",
       "3209   67                    0            Калуга      Исаак     Костин   \n",
       "3210   63                    0         Чебоксары     Касьян    Авдюков   \n",
       "3211   44                    0          Мурманск      Рауль   Аркадьев   \n",
       "3212   18                    0        Красноярск    Николай    Лебедев   \n",
       "3213   35                    0   Санкт-Петербург      Павел   Гончаров   \n",
       "\n",
       "       reg_date tariff_name  messages_included  mb_per_month_included  \\\n",
       "0    2018-01-25       smart                 50                  15360   \n",
       "1    2018-01-04       smart                 50                  15360   \n",
       "2    2018-01-30       smart                 50                  15360   \n",
       "3    2018-01-02       smart                 50                  15360   \n",
       "4    2018-01-09       smart                 50                  15360   \n",
       "...         ...         ...                ...                    ...   \n",
       "3209 2018-04-26       ultra               1000                  30720   \n",
       "3210 2018-05-23       ultra               1000                  30720   \n",
       "3211 2018-10-16       ultra               1000                  30720   \n",
       "3212 2018-08-05       ultra               1000                  30720   \n",
       "3213 2018-08-15       smart                 50                  15360   \n",
       "\n",
       "      minutes_included  rub_monthly_fee  rub_per_gb  rub_per_message  \\\n",
       "0                  500              550         200                3   \n",
       "1                  500              550         200                3   \n",
       "2                  500              550         200                3   \n",
       "3                  500              550         200                3   \n",
       "4                  500              550         200                3   \n",
       "...                ...              ...         ...              ...   \n",
       "3209              3000             1950         150                1   \n",
       "3210              3000             1950         150                1   \n",
       "3211              3000             1950         150                1   \n",
       "3212              3000             1950         150                1   \n",
       "3213               500              550         200                3   \n",
       "\n",
       "      rub_per_minute  \n",
       "0                  3  \n",
       "1                  3  \n",
       "2                  3  \n",
       "3                  3  \n",
       "4                  3  \n",
       "...              ...  \n",
       "3209               1  \n",
       "3210               1  \n",
       "3211               1  \n",
       "3212               1  \n",
       "3213               3  \n",
       "\n",
       "[3214 rows x 20 columns]"
      ]
     },
     "execution_count": 48,
     "metadata": {},
     "output_type": "execute_result"
    }
   ],
   "source": [
    "all_data"
   ]
  },
  {
   "cell_type": "code",
   "execution_count": 49,
   "id": "a8adacca",
   "metadata": {},
   "outputs": [
    {
     "data": {
      "text/html": [
       "<div>\n",
       "<style scoped>\n",
       "    .dataframe tbody tr th:only-of-type {\n",
       "        vertical-align: middle;\n",
       "    }\n",
       "\n",
       "    .dataframe tbody tr th {\n",
       "        vertical-align: top;\n",
       "    }\n",
       "\n",
       "    .dataframe thead th {\n",
       "        text-align: right;\n",
       "    }\n",
       "</style>\n",
       "<table border=\"1\" class=\"dataframe\">\n",
       "  <thead>\n",
       "    <tr style=\"text-align: right;\">\n",
       "      <th></th>\n",
       "      <th>month</th>\n",
       "      <th>user_id</th>\n",
       "      <th>duration_sum</th>\n",
       "      <th>mb_used_sum</th>\n",
       "      <th>gb_used_sum</th>\n",
       "      <th>message_count</th>\n",
       "      <th>age</th>\n",
       "      <th>churn_date</th>\n",
       "      <th>city</th>\n",
       "      <th>first_name</th>\n",
       "      <th>...</th>\n",
       "      <th>reg_date</th>\n",
       "      <th>tariff_name</th>\n",
       "      <th>messages_included</th>\n",
       "      <th>mb_per_month_included</th>\n",
       "      <th>minutes_included</th>\n",
       "      <th>rub_monthly_fee</th>\n",
       "      <th>rub_per_gb</th>\n",
       "      <th>rub_per_message</th>\n",
       "      <th>rub_per_minute</th>\n",
       "      <th>gb_per_month_included</th>\n",
       "    </tr>\n",
       "  </thead>\n",
       "  <tbody>\n",
       "    <tr>\n",
       "      <th>0</th>\n",
       "      <td>1</td>\n",
       "      <td>1005</td>\n",
       "      <td>95</td>\n",
       "      <td>2727.97</td>\n",
       "      <td>3</td>\n",
       "      <td>7</td>\n",
       "      <td>67</td>\n",
       "      <td>0</td>\n",
       "      <td>Набережные Челны</td>\n",
       "      <td>Афанасий</td>\n",
       "      <td>...</td>\n",
       "      <td>2018-01-25</td>\n",
       "      <td>smart</td>\n",
       "      <td>50</td>\n",
       "      <td>15360</td>\n",
       "      <td>500</td>\n",
       "      <td>550</td>\n",
       "      <td>200</td>\n",
       "      <td>3</td>\n",
       "      <td>3</td>\n",
       "      <td>15</td>\n",
       "    </tr>\n",
       "    <tr>\n",
       "      <th>1</th>\n",
       "      <td>1</td>\n",
       "      <td>1032</td>\n",
       "      <td>380</td>\n",
       "      <td>24127.69</td>\n",
       "      <td>24</td>\n",
       "      <td>38</td>\n",
       "      <td>31</td>\n",
       "      <td>0</td>\n",
       "      <td>Ульяновск</td>\n",
       "      <td>Инна</td>\n",
       "      <td>...</td>\n",
       "      <td>2018-01-04</td>\n",
       "      <td>smart</td>\n",
       "      <td>50</td>\n",
       "      <td>15360</td>\n",
       "      <td>500</td>\n",
       "      <td>550</td>\n",
       "      <td>200</td>\n",
       "      <td>3</td>\n",
       "      <td>3</td>\n",
       "      <td>15</td>\n",
       "    </tr>\n",
       "    <tr>\n",
       "      <th>2</th>\n",
       "      <td>1</td>\n",
       "      <td>1045</td>\n",
       "      <td>9</td>\n",
       "      <td>2346.71</td>\n",
       "      <td>3</td>\n",
       "      <td>5</td>\n",
       "      <td>48</td>\n",
       "      <td>0</td>\n",
       "      <td>Улан-Удэ</td>\n",
       "      <td>Джемма</td>\n",
       "      <td>...</td>\n",
       "      <td>2018-01-30</td>\n",
       "      <td>smart</td>\n",
       "      <td>50</td>\n",
       "      <td>15360</td>\n",
       "      <td>500</td>\n",
       "      <td>550</td>\n",
       "      <td>200</td>\n",
       "      <td>3</td>\n",
       "      <td>3</td>\n",
       "      <td>15</td>\n",
       "    </tr>\n",
       "    <tr>\n",
       "      <th>3</th>\n",
       "      <td>1</td>\n",
       "      <td>1055</td>\n",
       "      <td>551</td>\n",
       "      <td>17090.88</td>\n",
       "      <td>17</td>\n",
       "      <td>30</td>\n",
       "      <td>39</td>\n",
       "      <td>0</td>\n",
       "      <td>Казань</td>\n",
       "      <td>Луиза</td>\n",
       "      <td>...</td>\n",
       "      <td>2018-01-02</td>\n",
       "      <td>smart</td>\n",
       "      <td>50</td>\n",
       "      <td>15360</td>\n",
       "      <td>500</td>\n",
       "      <td>550</td>\n",
       "      <td>200</td>\n",
       "      <td>3</td>\n",
       "      <td>3</td>\n",
       "      <td>15</td>\n",
       "    </tr>\n",
       "    <tr>\n",
       "      <th>4</th>\n",
       "      <td>1</td>\n",
       "      <td>1071</td>\n",
       "      <td>194</td>\n",
       "      <td>15604.34</td>\n",
       "      <td>16</td>\n",
       "      <td>16</td>\n",
       "      <td>20</td>\n",
       "      <td>2018-08-31 00:00:00</td>\n",
       "      <td>Омск</td>\n",
       "      <td>Гектор</td>\n",
       "      <td>...</td>\n",
       "      <td>2018-01-09</td>\n",
       "      <td>smart</td>\n",
       "      <td>50</td>\n",
       "      <td>15360</td>\n",
       "      <td>500</td>\n",
       "      <td>550</td>\n",
       "      <td>200</td>\n",
       "      <td>3</td>\n",
       "      <td>3</td>\n",
       "      <td>15</td>\n",
       "    </tr>\n",
       "    <tr>\n",
       "      <th>...</th>\n",
       "      <td>...</td>\n",
       "      <td>...</td>\n",
       "      <td>...</td>\n",
       "      <td>...</td>\n",
       "      <td>...</td>\n",
       "      <td>...</td>\n",
       "      <td>...</td>\n",
       "      <td>...</td>\n",
       "      <td>...</td>\n",
       "      <td>...</td>\n",
       "      <td>...</td>\n",
       "      <td>...</td>\n",
       "      <td>...</td>\n",
       "      <td>...</td>\n",
       "      <td>...</td>\n",
       "      <td>...</td>\n",
       "      <td>...</td>\n",
       "      <td>...</td>\n",
       "      <td>...</td>\n",
       "      <td>...</td>\n",
       "      <td>...</td>\n",
       "    </tr>\n",
       "    <tr>\n",
       "      <th>3209</th>\n",
       "      <td>12</td>\n",
       "      <td>1106</td>\n",
       "      <td>0</td>\n",
       "      <td>18701.51</td>\n",
       "      <td>19</td>\n",
       "      <td>24</td>\n",
       "      <td>67</td>\n",
       "      <td>0</td>\n",
       "      <td>Калуга</td>\n",
       "      <td>Исаак</td>\n",
       "      <td>...</td>\n",
       "      <td>2018-04-26</td>\n",
       "      <td>ultra</td>\n",
       "      <td>1000</td>\n",
       "      <td>30720</td>\n",
       "      <td>3000</td>\n",
       "      <td>1950</td>\n",
       "      <td>150</td>\n",
       "      <td>1</td>\n",
       "      <td>1</td>\n",
       "      <td>30</td>\n",
       "    </tr>\n",
       "    <tr>\n",
       "      <th>3210</th>\n",
       "      <td>12</td>\n",
       "      <td>1231</td>\n",
       "      <td>0</td>\n",
       "      <td>32448.00</td>\n",
       "      <td>32</td>\n",
       "      <td>191</td>\n",
       "      <td>63</td>\n",
       "      <td>0</td>\n",
       "      <td>Чебоксары</td>\n",
       "      <td>Касьян</td>\n",
       "      <td>...</td>\n",
       "      <td>2018-05-23</td>\n",
       "      <td>ultra</td>\n",
       "      <td>1000</td>\n",
       "      <td>30720</td>\n",
       "      <td>3000</td>\n",
       "      <td>1950</td>\n",
       "      <td>150</td>\n",
       "      <td>1</td>\n",
       "      <td>1</td>\n",
       "      <td>30</td>\n",
       "    </tr>\n",
       "    <tr>\n",
       "      <th>3211</th>\n",
       "      <td>12</td>\n",
       "      <td>1328</td>\n",
       "      <td>0</td>\n",
       "      <td>39419.73</td>\n",
       "      <td>39</td>\n",
       "      <td>7</td>\n",
       "      <td>44</td>\n",
       "      <td>0</td>\n",
       "      <td>Мурманск</td>\n",
       "      <td>Рауль</td>\n",
       "      <td>...</td>\n",
       "      <td>2018-10-16</td>\n",
       "      <td>ultra</td>\n",
       "      <td>1000</td>\n",
       "      <td>30720</td>\n",
       "      <td>3000</td>\n",
       "      <td>1950</td>\n",
       "      <td>150</td>\n",
       "      <td>1</td>\n",
       "      <td>1</td>\n",
       "      <td>30</td>\n",
       "    </tr>\n",
       "    <tr>\n",
       "      <th>3212</th>\n",
       "      <td>12</td>\n",
       "      <td>1473</td>\n",
       "      <td>0</td>\n",
       "      <td>18418.26</td>\n",
       "      <td>18</td>\n",
       "      <td>20</td>\n",
       "      <td>18</td>\n",
       "      <td>0</td>\n",
       "      <td>Красноярск</td>\n",
       "      <td>Николай</td>\n",
       "      <td>...</td>\n",
       "      <td>2018-08-05</td>\n",
       "      <td>ultra</td>\n",
       "      <td>1000</td>\n",
       "      <td>30720</td>\n",
       "      <td>3000</td>\n",
       "      <td>1950</td>\n",
       "      <td>150</td>\n",
       "      <td>1</td>\n",
       "      <td>1</td>\n",
       "      <td>30</td>\n",
       "    </tr>\n",
       "    <tr>\n",
       "      <th>3213</th>\n",
       "      <td>12</td>\n",
       "      <td>1489</td>\n",
       "      <td>0</td>\n",
       "      <td>17322.51</td>\n",
       "      <td>17</td>\n",
       "      <td>35</td>\n",
       "      <td>35</td>\n",
       "      <td>0</td>\n",
       "      <td>Санкт-Петербург</td>\n",
       "      <td>Павел</td>\n",
       "      <td>...</td>\n",
       "      <td>2018-08-15</td>\n",
       "      <td>smart</td>\n",
       "      <td>50</td>\n",
       "      <td>15360</td>\n",
       "      <td>500</td>\n",
       "      <td>550</td>\n",
       "      <td>200</td>\n",
       "      <td>3</td>\n",
       "      <td>3</td>\n",
       "      <td>15</td>\n",
       "    </tr>\n",
       "  </tbody>\n",
       "</table>\n",
       "<p>3214 rows × 21 columns</p>\n",
       "</div>"
      ],
      "text/plain": [
       "      month  user_id  duration_sum  mb_used_sum  gb_used_sum  message_count  \\\n",
       "0         1     1005            95      2727.97            3              7   \n",
       "1         1     1032           380     24127.69           24             38   \n",
       "2         1     1045             9      2346.71            3              5   \n",
       "3         1     1055           551     17090.88           17             30   \n",
       "4         1     1071           194     15604.34           16             16   \n",
       "...     ...      ...           ...          ...          ...            ...   \n",
       "3209     12     1106             0     18701.51           19             24   \n",
       "3210     12     1231             0     32448.00           32            191   \n",
       "3211     12     1328             0     39419.73           39              7   \n",
       "3212     12     1473             0     18418.26           18             20   \n",
       "3213     12     1489             0     17322.51           17             35   \n",
       "\n",
       "      age           churn_date              city first_name  ...   reg_date  \\\n",
       "0      67                    0  Набережные Челны   Афанасий  ... 2018-01-25   \n",
       "1      31                    0         Ульяновск       Инна  ... 2018-01-04   \n",
       "2      48                    0          Улан-Удэ     Джемма  ... 2018-01-30   \n",
       "3      39                    0            Казань      Луиза  ... 2018-01-02   \n",
       "4      20  2018-08-31 00:00:00              Омск     Гектор  ... 2018-01-09   \n",
       "...   ...                  ...               ...        ...  ...        ...   \n",
       "3209   67                    0            Калуга      Исаак  ... 2018-04-26   \n",
       "3210   63                    0         Чебоксары     Касьян  ... 2018-05-23   \n",
       "3211   44                    0          Мурманск      Рауль  ... 2018-10-16   \n",
       "3212   18                    0        Красноярск    Николай  ... 2018-08-05   \n",
       "3213   35                    0   Санкт-Петербург      Павел  ... 2018-08-15   \n",
       "\n",
       "     tariff_name messages_included  mb_per_month_included  minutes_included  \\\n",
       "0          smart                50                  15360               500   \n",
       "1          smart                50                  15360               500   \n",
       "2          smart                50                  15360               500   \n",
       "3          smart                50                  15360               500   \n",
       "4          smart                50                  15360               500   \n",
       "...          ...               ...                    ...               ...   \n",
       "3209       ultra              1000                  30720              3000   \n",
       "3210       ultra              1000                  30720              3000   \n",
       "3211       ultra              1000                  30720              3000   \n",
       "3212       ultra              1000                  30720              3000   \n",
       "3213       smart                50                  15360               500   \n",
       "\n",
       "      rub_monthly_fee  rub_per_gb  rub_per_message  rub_per_minute  \\\n",
       "0                 550         200                3               3   \n",
       "1                 550         200                3               3   \n",
       "2                 550         200                3               3   \n",
       "3                 550         200                3               3   \n",
       "4                 550         200                3               3   \n",
       "...               ...         ...              ...             ...   \n",
       "3209             1950         150                1               1   \n",
       "3210             1950         150                1               1   \n",
       "3211             1950         150                1               1   \n",
       "3212             1950         150                1               1   \n",
       "3213              550         200                3               3   \n",
       "\n",
       "      gb_per_month_included  \n",
       "0                        15  \n",
       "1                        15  \n",
       "2                        15  \n",
       "3                        15  \n",
       "4                        15  \n",
       "...                     ...  \n",
       "3209                     30  \n",
       "3210                     30  \n",
       "3211                     30  \n",
       "3212                     30  \n",
       "3213                     15  \n",
       "\n",
       "[3214 rows x 21 columns]"
      ]
     },
     "execution_count": 49,
     "metadata": {},
     "output_type": "execute_result"
    }
   ],
   "source": [
    "all_data['gb_per_month_included'] = all_data['mb_per_month_included']/1024\n",
    "all_data['gb_per_month_included'] = all_data['gb_per_month_included'].astype('int')\n",
    "all_data"
   ]
  },
  {
   "cell_type": "code",
   "execution_count": 50,
   "id": "9e79b6f5",
   "metadata": {},
   "outputs": [],
   "source": [
    "for index in range(len(all_data)): # цикл по всем индексам таблицы для расчета помесячной выручки с каждого клиента\n",
    "    if (all_data.loc[index,'messages_included']-all_data.loc[index,'message_count']) < 0: # если израсходованно больше минут, чем включено\n",
    "        message_amount = abs(all_data.loc[index,'messages_included']-all_data.loc[index,'message_count'])*\\\n",
    "        all_data.loc[index,'rub_per_message'] # то вычисляем количество минут сверх тарифа и умножаем на стоимость 1 минуты\n",
    "#        message_amount = int(message_amount)\n",
    "    if (all_data.loc[index,'messages_included']-all_data.loc[index,'message_count']) >= 0: # если израсходованно минут меньше, чем включено\n",
    "        message_amount = 0 # то дополнительная плата не взымается\n",
    "    if (all_data.loc[index,'minutes_included']-all_data.loc[index,'duration_sum']) < 0: # если израсходованно больше сообщений, чем включено\n",
    "        minutes_amount = abs(all_data.loc[index,'minutes_included']-all_data.loc[index,'duration_sum'])*all_data.loc[index,'rub_per_minute']\n",
    "#        minutes_amount = int(minutes_amount)\n",
    "    if (all_data.loc[index,'minutes_included']-all_data.loc[index,'duration_sum']) >= 0: # если израсходованно минут меньше, чем включено\n",
    "        minutes_amount = 0 # то дополнительная плата не взымается\n",
    "    if (all_data.loc[index,'gb_per_month_included']-all_data.loc[index,'gb_used_sum']) <0: # если израсходованно больше Мб, чем включено\n",
    "        internet_price = abs(all_data.loc[index,'gb_per_month_included']-all_data.loc[index,'gb_used_sum']) # находим количество Мб сверх тарифа, переводим в Гб\n",
    "        internet_amount = internet_price*all_data.loc[index,'rub_per_gb'] # и вычисляем стоимость сверх трафика\n",
    "    if (all_data.loc[index,'gb_per_month_included']-all_data.loc[index,'gb_used_sum']) >= 0: #\n",
    "        internet_amount = 0 # то дополнительная плата не взымается\n",
    "    all_data.loc[index,'price_per_month'] = all_data.loc[index,'rub_monthly_fee'] + message_amount + \\\n",
    "    minutes_amount + internet_amount # расчет помесячной выручки с каждого клиента\n",
    "    \n",
    "    \n",
    "#    all_data.loc[index,'price_per_month_fee'] = all_data.loc[index,'rub_monthly_fee'] \n",
    "#    all_data.loc[index,'price_per_month_mes'] =  message_amount \n",
    "#    all_data.loc[index,'price_per_month_min'] =  minutes_amount \n",
    "#    all_data.loc[index,'price_per_month_int'] =  internet_amount"
   ]
  },
  {
   "cell_type": "code",
   "execution_count": 51,
   "id": "f12e1776",
   "metadata": {},
   "outputs": [],
   "source": [
    "all_data['price_per_month']=all_data['price_per_month'].astype('int')"
   ]
  },
  {
   "cell_type": "code",
   "execution_count": 52,
   "id": "47a96d4b",
   "metadata": {},
   "outputs": [
    {
     "name": "stdout",
     "output_type": "stream",
     "text": [
      "<class 'pandas.core.frame.DataFrame'>\n",
      "Int64Index: 3214 entries, 0 to 3213\n",
      "Data columns (total 22 columns):\n",
      " #   Column                 Non-Null Count  Dtype         \n",
      "---  ------                 --------------  -----         \n",
      " 0   month                  3214 non-null   int64         \n",
      " 1   user_id                3214 non-null   int64         \n",
      " 2   duration_sum           3214 non-null   int64         \n",
      " 3   mb_used_sum            3214 non-null   float64       \n",
      " 4   gb_used_sum            3214 non-null   int64         \n",
      " 5   message_count          3214 non-null   int64         \n",
      " 6   age                    3214 non-null   int64         \n",
      " 7   churn_date             3214 non-null   object        \n",
      " 8   city                   3214 non-null   object        \n",
      " 9   first_name             3214 non-null   object        \n",
      " 10  last_name              3214 non-null   object        \n",
      " 11  reg_date               3214 non-null   datetime64[ns]\n",
      " 12  tariff_name            3214 non-null   object        \n",
      " 13  messages_included      3214 non-null   int64         \n",
      " 14  mb_per_month_included  3214 non-null   int64         \n",
      " 15  minutes_included       3214 non-null   int64         \n",
      " 16  rub_monthly_fee        3214 non-null   int64         \n",
      " 17  rub_per_gb             3214 non-null   int64         \n",
      " 18  rub_per_message        3214 non-null   int64         \n",
      " 19  rub_per_minute         3214 non-null   int64         \n",
      " 20  gb_per_month_included  3214 non-null   int64         \n",
      " 21  price_per_month        3214 non-null   int64         \n",
      "dtypes: datetime64[ns](1), float64(1), int64(15), object(5)\n",
      "memory usage: 706.6+ KB\n"
     ]
    }
   ],
   "source": [
    "all_data.info()"
   ]
  },
  {
   "cell_type": "code",
   "execution_count": 53,
   "id": "59cc3550",
   "metadata": {
    "scrolled": true
   },
   "outputs": [
    {
     "data": {
      "text/html": [
       "<div>\n",
       "<style scoped>\n",
       "    .dataframe tbody tr th:only-of-type {\n",
       "        vertical-align: middle;\n",
       "    }\n",
       "\n",
       "    .dataframe tbody tr th {\n",
       "        vertical-align: top;\n",
       "    }\n",
       "\n",
       "    .dataframe thead th {\n",
       "        text-align: right;\n",
       "    }\n",
       "</style>\n",
       "<table border=\"1\" class=\"dataframe\">\n",
       "  <thead>\n",
       "    <tr style=\"text-align: right;\">\n",
       "      <th></th>\n",
       "      <th>month</th>\n",
       "      <th>user_id</th>\n",
       "      <th>duration_sum</th>\n",
       "      <th>mb_used_sum</th>\n",
       "      <th>gb_used_sum</th>\n",
       "      <th>message_count</th>\n",
       "      <th>age</th>\n",
       "      <th>churn_date</th>\n",
       "      <th>city</th>\n",
       "      <th>first_name</th>\n",
       "      <th>...</th>\n",
       "      <th>tariff_name</th>\n",
       "      <th>messages_included</th>\n",
       "      <th>mb_per_month_included</th>\n",
       "      <th>minutes_included</th>\n",
       "      <th>rub_monthly_fee</th>\n",
       "      <th>rub_per_gb</th>\n",
       "      <th>rub_per_message</th>\n",
       "      <th>rub_per_minute</th>\n",
       "      <th>gb_per_month_included</th>\n",
       "      <th>price_per_month</th>\n",
       "    </tr>\n",
       "  </thead>\n",
       "  <tbody>\n",
       "    <tr>\n",
       "      <th>0</th>\n",
       "      <td>1</td>\n",
       "      <td>1005</td>\n",
       "      <td>95</td>\n",
       "      <td>2727.97</td>\n",
       "      <td>3</td>\n",
       "      <td>7</td>\n",
       "      <td>67</td>\n",
       "      <td>0</td>\n",
       "      <td>Набережные Челны</td>\n",
       "      <td>Афанасий</td>\n",
       "      <td>...</td>\n",
       "      <td>smart</td>\n",
       "      <td>50</td>\n",
       "      <td>15360</td>\n",
       "      <td>500</td>\n",
       "      <td>550</td>\n",
       "      <td>200</td>\n",
       "      <td>3</td>\n",
       "      <td>3</td>\n",
       "      <td>15</td>\n",
       "      <td>550</td>\n",
       "    </tr>\n",
       "    <tr>\n",
       "      <th>1</th>\n",
       "      <td>1</td>\n",
       "      <td>1032</td>\n",
       "      <td>380</td>\n",
       "      <td>24127.69</td>\n",
       "      <td>24</td>\n",
       "      <td>38</td>\n",
       "      <td>31</td>\n",
       "      <td>0</td>\n",
       "      <td>Ульяновск</td>\n",
       "      <td>Инна</td>\n",
       "      <td>...</td>\n",
       "      <td>smart</td>\n",
       "      <td>50</td>\n",
       "      <td>15360</td>\n",
       "      <td>500</td>\n",
       "      <td>550</td>\n",
       "      <td>200</td>\n",
       "      <td>3</td>\n",
       "      <td>3</td>\n",
       "      <td>15</td>\n",
       "      <td>2350</td>\n",
       "    </tr>\n",
       "    <tr>\n",
       "      <th>2</th>\n",
       "      <td>1</td>\n",
       "      <td>1045</td>\n",
       "      <td>9</td>\n",
       "      <td>2346.71</td>\n",
       "      <td>3</td>\n",
       "      <td>5</td>\n",
       "      <td>48</td>\n",
       "      <td>0</td>\n",
       "      <td>Улан-Удэ</td>\n",
       "      <td>Джемма</td>\n",
       "      <td>...</td>\n",
       "      <td>smart</td>\n",
       "      <td>50</td>\n",
       "      <td>15360</td>\n",
       "      <td>500</td>\n",
       "      <td>550</td>\n",
       "      <td>200</td>\n",
       "      <td>3</td>\n",
       "      <td>3</td>\n",
       "      <td>15</td>\n",
       "      <td>550</td>\n",
       "    </tr>\n",
       "    <tr>\n",
       "      <th>3</th>\n",
       "      <td>1</td>\n",
       "      <td>1055</td>\n",
       "      <td>551</td>\n",
       "      <td>17090.88</td>\n",
       "      <td>17</td>\n",
       "      <td>30</td>\n",
       "      <td>39</td>\n",
       "      <td>0</td>\n",
       "      <td>Казань</td>\n",
       "      <td>Луиза</td>\n",
       "      <td>...</td>\n",
       "      <td>smart</td>\n",
       "      <td>50</td>\n",
       "      <td>15360</td>\n",
       "      <td>500</td>\n",
       "      <td>550</td>\n",
       "      <td>200</td>\n",
       "      <td>3</td>\n",
       "      <td>3</td>\n",
       "      <td>15</td>\n",
       "      <td>1103</td>\n",
       "    </tr>\n",
       "    <tr>\n",
       "      <th>4</th>\n",
       "      <td>1</td>\n",
       "      <td>1071</td>\n",
       "      <td>194</td>\n",
       "      <td>15604.34</td>\n",
       "      <td>16</td>\n",
       "      <td>16</td>\n",
       "      <td>20</td>\n",
       "      <td>2018-08-31 00:00:00</td>\n",
       "      <td>Омск</td>\n",
       "      <td>Гектор</td>\n",
       "      <td>...</td>\n",
       "      <td>smart</td>\n",
       "      <td>50</td>\n",
       "      <td>15360</td>\n",
       "      <td>500</td>\n",
       "      <td>550</td>\n",
       "      <td>200</td>\n",
       "      <td>3</td>\n",
       "      <td>3</td>\n",
       "      <td>15</td>\n",
       "      <td>750</td>\n",
       "    </tr>\n",
       "  </tbody>\n",
       "</table>\n",
       "<p>5 rows × 22 columns</p>\n",
       "</div>"
      ],
      "text/plain": [
       "   month  user_id  duration_sum  mb_used_sum  gb_used_sum  message_count  age  \\\n",
       "0      1     1005            95      2727.97            3              7   67   \n",
       "1      1     1032           380     24127.69           24             38   31   \n",
       "2      1     1045             9      2346.71            3              5   48   \n",
       "3      1     1055           551     17090.88           17             30   39   \n",
       "4      1     1071           194     15604.34           16             16   20   \n",
       "\n",
       "            churn_date              city first_name  ... tariff_name  \\\n",
       "0                    0  Набережные Челны   Афанасий  ...       smart   \n",
       "1                    0         Ульяновск       Инна  ...       smart   \n",
       "2                    0          Улан-Удэ     Джемма  ...       smart   \n",
       "3                    0            Казань      Луиза  ...       smart   \n",
       "4  2018-08-31 00:00:00              Омск     Гектор  ...       smart   \n",
       "\n",
       "  messages_included mb_per_month_included  minutes_included  rub_monthly_fee  \\\n",
       "0                50                 15360               500              550   \n",
       "1                50                 15360               500              550   \n",
       "2                50                 15360               500              550   \n",
       "3                50                 15360               500              550   \n",
       "4                50                 15360               500              550   \n",
       "\n",
       "   rub_per_gb  rub_per_message  rub_per_minute  gb_per_month_included  \\\n",
       "0         200                3               3                     15   \n",
       "1         200                3               3                     15   \n",
       "2         200                3               3                     15   \n",
       "3         200                3               3                     15   \n",
       "4         200                3               3                     15   \n",
       "\n",
       "   price_per_month  \n",
       "0              550  \n",
       "1             2350  \n",
       "2              550  \n",
       "3             1103  \n",
       "4              750  \n",
       "\n",
       "[5 rows x 22 columns]"
      ]
     },
     "execution_count": 53,
     "metadata": {},
     "output_type": "execute_result"
    }
   ],
   "source": [
    "all_data.head()"
   ]
  },
  {
   "cell_type": "markdown",
   "id": "36a1457a",
   "metadata": {},
   "source": [
    "## Анализ исходных данных\n",
    "### Расчет общего расхода минут, сообщений  и трафика по тарифам\n",
    "Расчитаем суммарный расход для всех пользователей по месяцам сообщений, минут разговора и Мб интернета. Так же посчитаем количество пользователей каждого тарица."
   ]
  },
  {
   "cell_type": "code",
   "execution_count": 54,
   "id": "20babd1d",
   "metadata": {},
   "outputs": [
    {
     "data": {
      "text/html": [
       "<div>\n",
       "<style scoped>\n",
       "    .dataframe tbody tr th:only-of-type {\n",
       "        vertical-align: middle;\n",
       "    }\n",
       "\n",
       "    .dataframe tbody tr th {\n",
       "        vertical-align: top;\n",
       "    }\n",
       "\n",
       "    .dataframe thead tr th {\n",
       "        text-align: left;\n",
       "    }\n",
       "\n",
       "    .dataframe thead tr:last-of-type th {\n",
       "        text-align: right;\n",
       "    }\n",
       "</style>\n",
       "<table border=\"1\" class=\"dataframe\">\n",
       "  <thead>\n",
       "    <tr>\n",
       "      <th></th>\n",
       "      <th></th>\n",
       "      <th colspan=\"3\" halign=\"left\">sum</th>\n",
       "      <th colspan=\"3\" halign=\"left\">mean</th>\n",
       "    </tr>\n",
       "    <tr>\n",
       "      <th></th>\n",
       "      <th></th>\n",
       "      <th>duration_sum</th>\n",
       "      <th>mb_used_sum</th>\n",
       "      <th>message_count</th>\n",
       "      <th>duration_sum</th>\n",
       "      <th>mb_used_sum</th>\n",
       "      <th>message_count</th>\n",
       "    </tr>\n",
       "    <tr>\n",
       "      <th>month</th>\n",
       "      <th>tariff_name</th>\n",
       "      <th></th>\n",
       "      <th></th>\n",
       "      <th></th>\n",
       "      <th></th>\n",
       "      <th></th>\n",
       "      <th></th>\n",
       "    </tr>\n",
       "  </thead>\n",
       "  <tbody>\n",
       "    <tr>\n",
       "      <th rowspan=\"2\" valign=\"top\">1</th>\n",
       "      <th>smart</th>\n",
       "      <td>6931</td>\n",
       "      <td>289466.40</td>\n",
       "      <td>620</td>\n",
       "      <td>203.852941</td>\n",
       "      <td>8513.717647</td>\n",
       "      <td>18.235294</td>\n",
       "    </tr>\n",
       "    <tr>\n",
       "      <th>ultra</th>\n",
       "      <td>3853</td>\n",
       "      <td>118266.13</td>\n",
       "      <td>304</td>\n",
       "      <td>428.111111</td>\n",
       "      <td>13140.681111</td>\n",
       "      <td>33.777778</td>\n",
       "    </tr>\n",
       "    <tr>\n",
       "      <th rowspan=\"2\" valign=\"top\">2</th>\n",
       "      <th>smart</th>\n",
       "      <td>17324</td>\n",
       "      <td>672629.15</td>\n",
       "      <td>1397</td>\n",
       "      <td>298.689655</td>\n",
       "      <td>11597.054310</td>\n",
       "      <td>24.086207</td>\n",
       "    </tr>\n",
       "    <tr>\n",
       "      <th>ultra</th>\n",
       "      <td>7131</td>\n",
       "      <td>282622.50</td>\n",
       "      <td>527</td>\n",
       "      <td>297.125000</td>\n",
       "      <td>11775.937500</td>\n",
       "      <td>21.958333</td>\n",
       "    </tr>\n",
       "    <tr>\n",
       "      <th rowspan=\"2\" valign=\"top\">3</th>\n",
       "      <th>smart</th>\n",
       "      <td>30034</td>\n",
       "      <td>1163020.25</td>\n",
       "      <td>2453</td>\n",
       "      <td>390.051948</td>\n",
       "      <td>15104.159091</td>\n",
       "      <td>31.857143</td>\n",
       "    </tr>\n",
       "    <tr>\n",
       "      <th>ultra</th>\n",
       "      <td>18117</td>\n",
       "      <td>648815.36</td>\n",
       "      <td>1195</td>\n",
       "      <td>489.648649</td>\n",
       "      <td>17535.550270</td>\n",
       "      <td>32.297297</td>\n",
       "    </tr>\n",
       "    <tr>\n",
       "      <th rowspan=\"2\" valign=\"top\">4</th>\n",
       "      <th>smart</th>\n",
       "      <td>41119</td>\n",
       "      <td>1507764.23</td>\n",
       "      <td>3443</td>\n",
       "      <td>367.133929</td>\n",
       "      <td>13462.180625</td>\n",
       "      <td>30.741071</td>\n",
       "    </tr>\n",
       "    <tr>\n",
       "      <th>ultra</th>\n",
       "      <td>25191</td>\n",
       "      <td>925547.39</td>\n",
       "      <td>1736</td>\n",
       "      <td>458.018182</td>\n",
       "      <td>16828.134364</td>\n",
       "      <td>31.563636</td>\n",
       "    </tr>\n",
       "    <tr>\n",
       "      <th rowspan=\"2\" valign=\"top\">5</th>\n",
       "      <th>smart</th>\n",
       "      <td>54618</td>\n",
       "      <td>2228530.99</td>\n",
       "      <td>4762</td>\n",
       "      <td>387.361702</td>\n",
       "      <td>15805.184326</td>\n",
       "      <td>33.773050</td>\n",
       "    </tr>\n",
       "    <tr>\n",
       "      <th>ultra</th>\n",
       "      <td>34192</td>\n",
       "      <td>1297331.25</td>\n",
       "      <td>2536</td>\n",
       "      <td>510.328358</td>\n",
       "      <td>19363.152985</td>\n",
       "      <td>37.850746</td>\n",
       "    </tr>\n",
       "    <tr>\n",
       "      <th rowspan=\"2\" valign=\"top\">6</th>\n",
       "      <th>smart</th>\n",
       "      <td>64885</td>\n",
       "      <td>2590322.27</td>\n",
       "      <td>5478</td>\n",
       "      <td>395.640244</td>\n",
       "      <td>15794.647988</td>\n",
       "      <td>33.402439</td>\n",
       "    </tr>\n",
       "    <tr>\n",
       "      <th>ultra</th>\n",
       "      <td>40295</td>\n",
       "      <td>1589694.90</td>\n",
       "      <td>3505</td>\n",
       "      <td>479.702381</td>\n",
       "      <td>18924.939286</td>\n",
       "      <td>41.726190</td>\n",
       "    </tr>\n",
       "    <tr>\n",
       "      <th rowspan=\"2\" valign=\"top\">7</th>\n",
       "      <th>smart</th>\n",
       "      <td>82079</td>\n",
       "      <td>3164373.22</td>\n",
       "      <td>6784</td>\n",
       "      <td>408.353234</td>\n",
       "      <td>15743.150348</td>\n",
       "      <td>33.751244</td>\n",
       "    </tr>\n",
       "    <tr>\n",
       "      <th>ultra</th>\n",
       "      <td>49667</td>\n",
       "      <td>1865105.53</td>\n",
       "      <td>4536</td>\n",
       "      <td>545.791209</td>\n",
       "      <td>20495.665165</td>\n",
       "      <td>49.846154</td>\n",
       "    </tr>\n",
       "    <tr>\n",
       "      <th rowspan=\"2\" valign=\"top\">8</th>\n",
       "      <th>smart</th>\n",
       "      <td>99045</td>\n",
       "      <td>3903519.22</td>\n",
       "      <td>7905</td>\n",
       "      <td>421.468085</td>\n",
       "      <td>16610.720085</td>\n",
       "      <td>33.638298</td>\n",
       "    </tr>\n",
       "    <tr>\n",
       "      <th>ultra</th>\n",
       "      <td>54653</td>\n",
       "      <td>2094637.85</td>\n",
       "      <td>5183</td>\n",
       "      <td>510.775701</td>\n",
       "      <td>19576.054673</td>\n",
       "      <td>48.439252</td>\n",
       "    </tr>\n",
       "    <tr>\n",
       "      <th rowspan=\"2\" valign=\"top\">9</th>\n",
       "      <th>smart</th>\n",
       "      <td>111439</td>\n",
       "      <td>4238930.49</td>\n",
       "      <td>8746</td>\n",
       "      <td>428.611538</td>\n",
       "      <td>16303.578808</td>\n",
       "      <td>33.638462</td>\n",
       "    </tr>\n",
       "    <tr>\n",
       "      <th>ultra</th>\n",
       "      <td>62036</td>\n",
       "      <td>2208491.87</td>\n",
       "      <td>6013</td>\n",
       "      <td>539.443478</td>\n",
       "      <td>19204.277130</td>\n",
       "      <td>52.286957</td>\n",
       "    </tr>\n",
       "    <tr>\n",
       "      <th rowspan=\"2\" valign=\"top\">10</th>\n",
       "      <th>smart</th>\n",
       "      <td>125284</td>\n",
       "      <td>4926594.13</td>\n",
       "      <td>9927</td>\n",
       "      <td>426.136054</td>\n",
       "      <td>16757.122891</td>\n",
       "      <td>33.765306</td>\n",
       "    </tr>\n",
       "    <tr>\n",
       "      <th>ultra</th>\n",
       "      <td>68644</td>\n",
       "      <td>2465576.49</td>\n",
       "      <td>7187</td>\n",
       "      <td>558.081301</td>\n",
       "      <td>20045.337317</td>\n",
       "      <td>58.430894</td>\n",
       "    </tr>\n",
       "    <tr>\n",
       "      <th rowspan=\"2\" valign=\"top\">11</th>\n",
       "      <th>smart</th>\n",
       "      <td>137544</td>\n",
       "      <td>5339040.14</td>\n",
       "      <td>10768</td>\n",
       "      <td>435.265823</td>\n",
       "      <td>16895.696646</td>\n",
       "      <td>34.075949</td>\n",
       "    </tr>\n",
       "    <tr>\n",
       "      <th>ultra</th>\n",
       "      <td>72545</td>\n",
       "      <td>2651432.87</td>\n",
       "      <td>7476</td>\n",
       "      <td>541.380597</td>\n",
       "      <td>19786.812463</td>\n",
       "      <td>55.791045</td>\n",
       "    </tr>\n",
       "    <tr>\n",
       "      <th rowspan=\"2\" valign=\"top\">12</th>\n",
       "      <th>smart</th>\n",
       "      <td>161275</td>\n",
       "      <td>6104304.11</td>\n",
       "      <td>12130</td>\n",
       "      <td>478.560831</td>\n",
       "      <td>18113.662047</td>\n",
       "      <td>35.994065</td>\n",
       "    </tr>\n",
       "    <tr>\n",
       "      <th>ultra</th>\n",
       "      <td>82400</td>\n",
       "      <td>3029250.99</td>\n",
       "      <td>8425</td>\n",
       "      <td>592.805755</td>\n",
       "      <td>21793.172590</td>\n",
       "      <td>60.611511</td>\n",
       "    </tr>\n",
       "  </tbody>\n",
       "</table>\n",
       "</div>"
      ],
      "text/plain": [
       "                           sum                                   mean  \\\n",
       "                  duration_sum mb_used_sum message_count duration_sum   \n",
       "month tariff_name                                                       \n",
       "1     smart               6931   289466.40           620   203.852941   \n",
       "      ultra               3853   118266.13           304   428.111111   \n",
       "2     smart              17324   672629.15          1397   298.689655   \n",
       "      ultra               7131   282622.50           527   297.125000   \n",
       "3     smart              30034  1163020.25          2453   390.051948   \n",
       "      ultra              18117   648815.36          1195   489.648649   \n",
       "4     smart              41119  1507764.23          3443   367.133929   \n",
       "      ultra              25191   925547.39          1736   458.018182   \n",
       "5     smart              54618  2228530.99          4762   387.361702   \n",
       "      ultra              34192  1297331.25          2536   510.328358   \n",
       "6     smart              64885  2590322.27          5478   395.640244   \n",
       "      ultra              40295  1589694.90          3505   479.702381   \n",
       "7     smart              82079  3164373.22          6784   408.353234   \n",
       "      ultra              49667  1865105.53          4536   545.791209   \n",
       "8     smart              99045  3903519.22          7905   421.468085   \n",
       "      ultra              54653  2094637.85          5183   510.775701   \n",
       "9     smart             111439  4238930.49          8746   428.611538   \n",
       "      ultra              62036  2208491.87          6013   539.443478   \n",
       "10    smart             125284  4926594.13          9927   426.136054   \n",
       "      ultra              68644  2465576.49          7187   558.081301   \n",
       "11    smart             137544  5339040.14         10768   435.265823   \n",
       "      ultra              72545  2651432.87          7476   541.380597   \n",
       "12    smart             161275  6104304.11         12130   478.560831   \n",
       "      ultra              82400  3029250.99          8425   592.805755   \n",
       "\n",
       "                                               \n",
       "                    mb_used_sum message_count  \n",
       "month tariff_name                              \n",
       "1     smart         8513.717647     18.235294  \n",
       "      ultra        13140.681111     33.777778  \n",
       "2     smart        11597.054310     24.086207  \n",
       "      ultra        11775.937500     21.958333  \n",
       "3     smart        15104.159091     31.857143  \n",
       "      ultra        17535.550270     32.297297  \n",
       "4     smart        13462.180625     30.741071  \n",
       "      ultra        16828.134364     31.563636  \n",
       "5     smart        15805.184326     33.773050  \n",
       "      ultra        19363.152985     37.850746  \n",
       "6     smart        15794.647988     33.402439  \n",
       "      ultra        18924.939286     41.726190  \n",
       "7     smart        15743.150348     33.751244  \n",
       "      ultra        20495.665165     49.846154  \n",
       "8     smart        16610.720085     33.638298  \n",
       "      ultra        19576.054673     48.439252  \n",
       "9     smart        16303.578808     33.638462  \n",
       "      ultra        19204.277130     52.286957  \n",
       "10    smart        16757.122891     33.765306  \n",
       "      ultra        20045.337317     58.430894  \n",
       "11    smart        16895.696646     34.075949  \n",
       "      ultra        19786.812463     55.791045  \n",
       "12    smart        18113.662047     35.994065  \n",
       "      ultra        21793.172590     60.611511  "
      ]
     },
     "execution_count": 54,
     "metadata": {},
     "output_type": "execute_result"
    }
   ],
   "source": [
    "all_data.pivot_table(index = ['month','tariff_name'], values = ['duration_sum','mb_used_sum','message_count'],\\\n",
    "                                 aggfunc=['sum','mean'])"
   ]
  },
  {
   "cell_type": "code",
   "execution_count": 55,
   "id": "7d0a9814",
   "metadata": {},
   "outputs": [
    {
     "name": "stdout",
     "output_type": "stream",
     "text": [
      "Количество пользователей тарица СМАРТ:  351\n"
     ]
    }
   ],
   "source": [
    "print('Количество пользователей тарица СМАРТ: ', users_df.query('tariff == \"smart\"')['user_id'].count())"
   ]
  },
  {
   "cell_type": "code",
   "execution_count": 56,
   "id": "70c54eeb",
   "metadata": {
    "scrolled": true
   },
   "outputs": [
    {
     "name": "stdout",
     "output_type": "stream",
     "text": [
      "Количество пользователей тарица УЛЬТРА:  149\n"
     ]
    }
   ],
   "source": [
    "print('Количество пользователей тарица УЛЬТРА: ', users_df.query('tariff == \"ultra\"')['user_id'].count())"
   ]
  },
  {
   "cell_type": "markdown",
   "id": "01436b8f",
   "metadata": {},
   "source": [
    "Вывод по текущему пункту:\n",
    "\n",
    "Пользователей тарифа Ультра почти в два раза меньше, чем пользователей тарифа Смарт.\n",
    "В среднем пользователи тарифа Ультра используют больше минут, интернет-трафика и сообщений.\n",
    "В течении года пользователи тарифа Смарт увеличивали потребление минут, интернет-трафика и сообщений. Возможно это связано с увеличением количества клиентов в течении года.\n",
    "В течении года для пользователей тарифа Ультра не заметен такой сильный рост в потреблении минут, интернет-трафика и сообщений. Возможно количество пользователей тарифа Ультра в течении года несильно изменилось.\n",
    "\n",
    "### Расчет среднего количества, дисперсии и стандартного отклонения. \n",
    "\n",
    "Расчеты производим для выборки."
   ]
  },
  {
   "cell_type": "code",
   "execution_count": 57,
   "id": "ee14a0fb",
   "metadata": {},
   "outputs": [
    {
     "name": "stdout",
     "output_type": "stream",
     "text": [
      "417.9349484073576\n",
      "36219.31578434428\n",
      "190.31372988921288\n"
     ]
    }
   ],
   "source": [
    "mu_call_smart = all_data.query('tariff_name == \"smart\"')['duration_sum'].mean()  # Расчет среденего для длительности звонков пользователей тарифа СМАРТ\n",
    "print(mu_call_smart)\n",
    "\n",
    "var_call_smart = np.var(all_data.query('tariff_name == \"smart\"')['duration_sum'], ddof=1) # Расчет дисперсии для длительности звонков пользователей тарифа СМАРТ\n",
    "print(var_call_smart)\n",
    "\n",
    "std_call_smart = np.sqrt(var_call_smart) # Расчет стандартного отклонения для длительности звонков пользователей тарифа СМАРТ\n",
    "print(std_call_smart)"
   ]
  },
  {
   "cell_type": "code",
   "execution_count": 58,
   "id": "9d2e7224",
   "metadata": {},
   "outputs": [
    {
     "name": "stdout",
     "output_type": "stream",
     "text": [
      "-153.006241260281\n",
      "988.8761380749961\n"
     ]
    }
   ],
   "source": [
    "print(mu_call_smart-3*std_call_smart) # нижняя граница диапазона 3х сигма\n",
    "print(mu_call_smart+3*std_call_smart) # верхняя граница диапазона 3х сигма"
   ]
  },
  {
   "cell_type": "markdown",
   "id": "e37ccfc4",
   "metadata": {},
   "source": [
    "Пользователи тарифа Смарт тратят от 0 до 990 минут. Среднее значение потраченных минут равно 417 ( в абонентскую плату входит 500). Верхняя граница диапазона почти в два раза превышает количество минут, входящий в абонентскую плату."
   ]
  },
  {
   "cell_type": "code",
   "execution_count": 59,
   "id": "ed51713b",
   "metadata": {},
   "outputs": [
    {
     "name": "stdout",
     "output_type": "stream",
     "text": [
      "526.6233502538071\n",
      "100873.63339730098\n",
      "317.6060978591264\n"
     ]
    }
   ],
   "source": [
    "mu_call_ultra = all_data.query('tariff_name == \"ultra\"')['duration_sum'].mean() # Расчет среденего для длительности звонков пользователей тарифа УЛЬТРА\n",
    "print(mu_call_ultra)\n",
    "\n",
    "var_call_ultra = np.var(all_data.query('tariff_name == \"ultra\"')['duration_sum'], ddof=1) # Расчет дисперсии для длительности звонков пользователей тарифа УЛЬТРА\n",
    "print(var_call_ultra)\n",
    "\n",
    "std_call_ultra = np.sqrt(var_call_ultra) # Расчет стандартного для длительности звонков пользователей тарифа УЛЬТРА\n",
    "print(std_call_ultra)"
   ]
  },
  {
   "cell_type": "code",
   "execution_count": 60,
   "id": "f98a9afc",
   "metadata": {},
   "outputs": [
    {
     "name": "stdout",
     "output_type": "stream",
     "text": [
      "-426.19494332357215\n",
      "1479.4416438311864\n"
     ]
    }
   ],
   "source": [
    "print(mu_call_ultra-3*std_call_ultra) # нижняя граница диапазона 3х сигма\n",
    "print(mu_call_ultra+3*std_call_ultra) # верхняя граница диапазона 3х сигма"
   ]
  },
  {
   "cell_type": "markdown",
   "id": "1f618428",
   "metadata": {},
   "source": [
    "Пользователи тарифа Ультра тратят от 0 до 1480 минут. Среднее значение потраченных минут равно 526 ( в абонентскую плату входит 3000). Верхняя граница диапазона не превышает количества минут, входящих в абонентскую плату."
   ]
  },
  {
   "cell_type": "code",
   "execution_count": 61,
   "id": "de5903cc",
   "metadata": {},
   "outputs": [
    {
     "name": "stdout",
     "output_type": "stream",
     "text": [
      "16208.386989681476\n",
      "34462496.46274242\n",
      "5870.476681049199\n"
     ]
    }
   ],
   "source": [
    "mu_mb_smart = all_data.query('tariff_name == \"smart\"')['mb_used_sum'].mean() # Расчет среденего для интернет-трафика пользователей тарифа СМАРТ\n",
    "print(mu_mb_smart)\n",
    "\n",
    "var_mb_smart = np.var(all_data.query('tariff_name == \"smart\"')['mb_used_sum'], ddof=1) # Расчет дисперсии для интернет-трафика пользователей тарифа СМАРТ\n",
    "print(var_mb_smart)\n",
    "\n",
    "std_mb_smart = np.sqrt(var_mb_smart) # Расчет стандартного отклонения для интернет-трафика пользователей тарифа СМАРТ\n",
    "print(std_mb_smart)"
   ]
  },
  {
   "cell_type": "code",
   "execution_count": 62,
   "id": "f0ff9bcd",
   "metadata": {},
   "outputs": [
    {
     "name": "stdout",
     "output_type": "stream",
     "text": [
      "-1403.043053466121\n",
      "33819.81703282907\n"
     ]
    }
   ],
   "source": [
    "print(mu_mb_smart-3*std_mb_smart) # нижняя граница диапазона 3х сигма\n",
    "print(mu_mb_smart+3*std_mb_smart) # верхняя граница диапазона 3х сигма"
   ]
  },
  {
   "cell_type": "markdown",
   "id": "b08de79b",
   "metadata": {},
   "source": [
    "Пользователи тарифа Смарт тратят от 0 до 33820 Мб. Среднее значение потраченных Мб равно 16208 ( в абонентскую плату входит 15360). Верхняя граница диапазона больше чем в два раза превышает количество трафика, входящего в абонентскую плату."
   ]
  },
  {
   "cell_type": "code",
   "execution_count": 63,
   "id": "5a135aa1",
   "metadata": {},
   "outputs": [
    {
     "name": "stdout",
     "output_type": "stream",
     "text": [
      "19468.80520812183\n",
      "101751013.78335385\n",
      "10087.170752166034\n"
     ]
    }
   ],
   "source": [
    "mu_mb_ultra = all_data.query('tariff_name == \"ultra\"')['mb_used_sum'].mean() # Расчет среденего для интернет-трафика пользователей тарифа УЛЬТРА\n",
    "print(mu_mb_ultra)\n",
    "\n",
    "var_mb_ultra = np.var(all_data.query('tariff_name == \"ultra\"')['mb_used_sum'], ddof=1) # Расчет дисперсии для интернет-трафика пользователей тарифа УЛЬТРА\n",
    "print(var_mb_ultra)\n",
    "\n",
    "std_mb_ultra = np.sqrt(var_mb_ultra) # Расчет стандартного для интернет-трафика пользователей тарифа УЛЬТРА\n",
    "print(std_mb_ultra)"
   ]
  },
  {
   "cell_type": "code",
   "execution_count": 64,
   "id": "907a14dc",
   "metadata": {},
   "outputs": [
    {
     "name": "stdout",
     "output_type": "stream",
     "text": [
      "-10792.707048376269\n",
      "49730.31746461993\n"
     ]
    }
   ],
   "source": [
    "print(mu_mb_ultra-3*std_mb_ultra) # нижняя граница диапазона 3х сигма\n",
    "print(mu_mb_ultra+3*std_mb_ultra) # верхняя граница диапазона 3х сигма"
   ]
  },
  {
   "cell_type": "markdown",
   "id": "133af9d5",
   "metadata": {},
   "source": [
    "Пользователи тарифа Ультра тратят от 0 до 49730 Мб. Среднее значение потраченных Мб равно 19470 ( в абонентскую плату входит 30720). Верхняя граница диапазона превышает объем интернет трафика, входящего в абонентскую плату, примерно в полтора раза."
   ]
  },
  {
   "cell_type": "code",
   "execution_count": 65,
   "id": "487cc765",
   "metadata": {},
   "outputs": [
    {
     "name": "stdout",
     "output_type": "stream",
     "text": [
      "33.384028712427096\n",
      "796.8129584480083\n",
      "28.22787555676141\n"
     ]
    }
   ],
   "source": [
    "mu_message_smart = all_data.query('tariff_name == \"smart\"')['message_count'].mean()  # Расчет среденего для количества сообщений пользователей тарифа СМАРТ\n",
    "print(mu_message_smart)\n",
    "\n",
    "var_message_smart = np.var(all_data.query('tariff_name == \"smart\"')['message_count'], ddof=1) # Расчет дисперсии для количества сообщений пользователей тарифа СМАРТ\n",
    "print(var_message_smart)\n",
    "\n",
    "std_message_smart = np.sqrt(var_message_smart) # Расчет стандартного отклонения для количества сообщений пользователей тарифа СМАРТ\n",
    "print(std_message_smart)"
   ]
  },
  {
   "cell_type": "code",
   "execution_count": 66,
   "id": "b6bcac9f",
   "metadata": {},
   "outputs": [
    {
     "name": "stdout",
     "output_type": "stream",
     "text": [
      "-51.299597957857145\n",
      "118.06765538271134\n"
     ]
    }
   ],
   "source": [
    "print(mu_message_smart-3*std_message_smart) # нижняя граница диапазона 3х сигма\n",
    "print(mu_message_smart+3*std_message_smart) # верхняя граница диапазона 3х сигма"
   ]
  },
  {
   "cell_type": "markdown",
   "id": "8b45cb46",
   "metadata": {},
   "source": [
    "Пользователи тарифа Смарт тратят от 0 до 118 сообщений. Среднее значение потраченных сообщений равно 34 ( в абонентскую плату входит 50). Верхняя граница диапазона больше чем в два раза превышает количество сообщений, входящего в абонентскую плату."
   ]
  },
  {
   "cell_type": "code",
   "execution_count": 67,
   "id": "8e7fe6be",
   "metadata": {},
   "outputs": [
    {
     "name": "stdout",
     "output_type": "stream",
     "text": [
      "49.36345177664975\n",
      "2285.266142544674\n",
      "47.80445735017472\n"
     ]
    }
   ],
   "source": [
    "mu_message_ultra = all_data.query('tariff_name == \"ultra\"')['message_count'].mean()  # Расчет среденего для количества сообщений пользователей тарифа УЛЬТРА\n",
    "print(mu_message_ultra)\n",
    "\n",
    "var_message_ultra = np.var(all_data.query('tariff_name == \"ultra\"')['message_count'], ddof=1) # Расчет дисперсии для количества сообщений пользователей тарифа УЛЬТРА\n",
    "print(var_message_ultra)\n",
    "\n",
    "#std_message_ultra = np.std(sum_data.query('tariff_name == \"ultra\"')['message_count'], ddof=1)\n",
    "std_message_ultra = np.sqrt(var_message_ultra) # Расчет стандартного отклонения для количества сообщений пользователей тарифа УЛЬТРА\n",
    "print(std_message_ultra)"
   ]
  },
  {
   "cell_type": "code",
   "execution_count": 68,
   "id": "2b3e52f7",
   "metadata": {},
   "outputs": [
    {
     "name": "stdout",
     "output_type": "stream",
     "text": [
      "-94.04992027387442\n",
      "192.77682382717393\n"
     ]
    }
   ],
   "source": [
    "print(mu_message_ultra-3*std_message_ultra) # нижняя граница диапазона 3х сигма\n",
    "print(mu_message_ultra+3*std_message_ultra) # верхняя граница диапазона 3х сигма"
   ]
  },
  {
   "cell_type": "markdown",
   "id": "a698eaff",
   "metadata": {},
   "source": [
    "Пользователи тарифа Смарт тратят от 0 до 193 сообщений. Среднее значение потраченных сообщений равно 50 ( в абонентскую плату входит 1000). Верхняя граница диапазона не превышает количество сообщений, входящего в абонентскую плату."
   ]
  },
  {
   "cell_type": "code",
   "execution_count": 69,
   "id": "718cbc1e",
   "metadata": {},
   "outputs": [
    {
     "name": "stdout",
     "output_type": "stream",
     "text": [
      "1289.9735307312696\n",
      "669785.7080064242\n",
      "818.4043670499469\n"
     ]
    }
   ],
   "source": [
    "mu_price_smart = all_data.query('tariff_name == \"smart\"')['price_per_month'].mean()  # Расчет среденего для количества сообщений пользователей тарифа СМАРТ\n",
    "print(mu_price_smart)\n",
    "\n",
    "var_price_smart = np.var(all_data.query('tariff_name == \"smart\"')['price_per_month'], ddof=1) # Расчет дисперсии для количества сообщений пользователей тарифа СМАРТ\n",
    "print(var_price_smart)\n",
    "\n",
    "std_price_smart = np.sqrt(var_price_smart) # Расчет стандартного отклонения для количества сообщений пользователей тарифа СМАРТ\n",
    "print(std_price_smart)"
   ]
  },
  {
   "cell_type": "code",
   "execution_count": 70,
   "id": "39ff0758",
   "metadata": {},
   "outputs": [
    {
     "name": "stdout",
     "output_type": "stream",
     "text": [
      "-1165.2395704185712\n",
      "3745.1866318811108\n"
     ]
    }
   ],
   "source": [
    "print(mu_price_smart-3*std_price_smart) # нижняя граница диапазона 3х сигма\n",
    "print(mu_price_smart+3*std_price_smart) # верхняя граница диапазона 3х сигма"
   ]
  },
  {
   "cell_type": "code",
   "execution_count": 71,
   "id": "745dce25",
   "metadata": {},
   "outputs": [
    {
     "name": "stdout",
     "output_type": "stream",
     "text": [
      "2070.1522842639592\n",
      "141516.74507861826\n",
      "376.1871144505328\n"
     ]
    }
   ],
   "source": [
    "mu_price_ultra = all_data.query('tariff_name == \"ultra\"')['price_per_month'].mean()  # Расчет среденего для количества сообщений пользователей тарифа УЛЬТРА\n",
    "print(mu_price_ultra)\n",
    "\n",
    "var_price_ultra = np.var(all_data.query('tariff_name == \"ultra\"')['price_per_month'], ddof=1) # Расчет дисперсии для количества сообщений пользователей тарифа УЛЬТРА\n",
    "print(var_price_ultra)\n",
    "\n",
    "std_price_ultra = np.sqrt(var_price_ultra) # Расчет стандартного отклонения для количества сообщений пользователей тарифа УЛЬТРА\n",
    "print(std_price_ultra)"
   ]
  },
  {
   "cell_type": "code",
   "execution_count": 72,
   "id": "8d51d2f9",
   "metadata": {},
   "outputs": [
    {
     "name": "stdout",
     "output_type": "stream",
     "text": [
      "941.5909409123608\n",
      "3198.713627615558\n"
     ]
    }
   ],
   "source": [
    "print(mu_price_ultra-3*std_price_ultra) # нижняя граница диапазона 3х сигма\n",
    "print(mu_price_ultra+3*std_price_ultra) # верхняя граница диапазона 3х сигма"
   ]
  },
  {
   "cell_type": "markdown",
   "id": "cf277461",
   "metadata": {},
   "source": [
    "Значение средней прибыли для пользователей тарифа Смарт приблизительно равна 1300р.\n",
    "Значение средней прибыли для пользователей тарифа Ультра приблизительно равна 2000р.\n",
    "\n",
    "Дисперсия - это средний квадрат расстояния между значениями датасета и средним. Значение стандартного отклонения равно квадратному корню из дисперсии.\n",
    "Дисперсия и стандартное отклонение расчета выручки пользователей тарифа Смарт больше чем для выборки с данными о пользователях тарифа Ультра.\n",
    "\n",
    "По правилу трех сигм можем получить диапазоны выручки для пользователей тарифов Смарт и Ультра. Так для пользователей тарифа Смарт диапазон будет от 550р( величина абонентской платы) до 3746р. А для пользователей тарифа Ультра диапазон будет от 1950р( величина абонентской платы) до 3200р.\n",
    "\n",
    "В целом получается, что пользователи тарифа Смарт чаще доплачивают за дополнительные расходы."
   ]
  },
  {
   "cell_type": "markdown",
   "id": "6756e0c3",
   "metadata": {},
   "source": [
    "### Построение гистограмм"
   ]
  },
  {
   "cell_type": "code",
   "execution_count": 73,
   "id": "93c97de6",
   "metadata": {},
   "outputs": [
    {
     "data": {
      "image/png": "[encoded data removed]",
      "text/plain": [
       "<Figure size 720x360 with 1 Axes>"
      ]
     },
     "metadata": {
      "needs_background": "light"
     },
     "output_type": "display_data"
    }
   ],
   "source": [
    "all_data.query('tariff_name == \"smart\"')['duration_sum'].hist(figsize=(10,5))\n",
    "all_data.query('tariff_name == \"ultra\"')['duration_sum'].hist(alpha=0.5)\n",
    "\n",
    "plt.show()"
   ]
  },
  {
   "cell_type": "markdown",
   "id": "25e4498e",
   "metadata": {},
   "source": [
    "Гистограмма по количеству израсходованных минут для пользователей тарифа Смарт скошена влево. Это означает, что среди пользователей тарифа Смарт больше тех, кто меньше всех тратит минуты. Но в тоже время пик расхода звонков приходится на диапазон 400-550. В абонентскую плату входит только 500 минут.\n",
    "\n",
    "Гистограмма по количеству израсходованных минут для пользователей тарифа Смарт скошена враво. Это означает, что среди пользователей тарифа Ультра пребладают те, кто больше тратит минут."
   ]
  },
  {
   "cell_type": "code",
   "execution_count": 74,
   "id": "0b4c3258",
   "metadata": {},
   "outputs": [
    {
     "data": {
      "image/png": "[encoded data removed]",
      "text/plain": [
       "<Figure size 720x360 with 1 Axes>"
      ]
     },
     "metadata": {
      "needs_background": "light"
     },
     "output_type": "display_data"
    }
   ],
   "source": [
    "all_data.query('tariff_name == \"smart\"')['mb_used_sum'].hist(figsize=(10,5))\n",
    "all_data.query('tariff_name == \"ultra\"')['mb_used_sum'].hist(alpha=0.5)\n",
    "\n",
    "plt.show()"
   ]
  },
  {
   "cell_type": "markdown",
   "id": "cc19e755",
   "metadata": {},
   "source": [
    "Гистограмма по количеству израсходованных Мб для пользователей тарифа Смарт скошена влево. Это означает, что среди пользователей тарифа Смарт больше тех, кто меньше использует интернет. Но в тоже время пик расхода приходится на значение большего, чем входит в абонентскую плату (это 15360 Мб) - примерно от 15000 до 19000 Мб.\n",
    "\n",
    "Гистограмма по количеству израсходованных Мб для пользователей тарифа Смарт скошена вправо. Это означает, что среди пользователей тарифа Ультра больше тех, кто использует интернет чаще и тратит больше Мб. Но пик расхода интернет- трафика приходится примерно на 15000-20000 Мб, что ниже значения, входящего в абонентскую плату."
   ]
  },
  {
   "cell_type": "code",
   "execution_count": 75,
   "id": "e69809af",
   "metadata": {},
   "outputs": [
    {
     "data": {
      "image/png": "[encoded data removed]",
      "text/plain": [
       "<Figure size 720x360 with 1 Axes>"
      ]
     },
     "metadata": {
      "needs_background": "light"
     },
     "output_type": "display_data"
    }
   ],
   "source": [
    "all_data.query('tariff_name == \"smart\"')['message_count'].hist(figsize=(10,5))\n",
    "all_data.query('tariff_name == \"ultra\"')['message_count'].hist(alpha=0.5)\n",
    "\n",
    "plt.show()"
   ]
  },
  {
   "cell_type": "markdown",
   "id": "6e3149fe",
   "metadata": {},
   "source": [
    "Гистограммы по количеству израсходованных сообщений для пользователей тарифов Смарт и Ультра скошены вправо. Это означает, что среди пользователей больше тех, что пользуется сообщениями в большем объеме, чем остальные."
   ]
  },
  {
   "cell_type": "code",
   "execution_count": 76,
   "id": "f49bdf29",
   "metadata": {},
   "outputs": [
    {
     "data": {
      "image/png": "[encoded data removed]",
      "text/plain": [
       "<Figure size 720x360 with 1 Axes>"
      ]
     },
     "metadata": {
      "needs_background": "light"
     },
     "output_type": "display_data"
    }
   ],
   "source": [
    "all_data.query('tariff_name == \"smart\"')['price_per_month'].hist(figsize=(10,5))\n",
    "all_data.query('tariff_name == \"ultra\"')['price_per_month'].hist(alpha=0.5)\n",
    "\n",
    "plt.show()"
   ]
  },
  {
   "cell_type": "markdown",
   "id": "9a43f1d0",
   "metadata": {},
   "source": [
    "Гистограммы по суммарной выручки в месяц для пользователей двух тарифов скошена вправо.\n",
    "\n",
    "Но для пользователей тарифа Смарт пик гистограммы в диапазоне от 500 до 1100р, а для пользователей тарифа Ультра - около 2000р, что приблизительно равно значению абонентской платы.\n",
    "\n",
    "По скошенности гистограммы можно судить о размещении данных в таблице. Раз гистограмма скошенна вправа, значит медианное значение меньше чем среднее арифметическое, и следовательно, в данных много таких значений, которые показывают, что пользователи платят больше, чем остальные."
   ]
  },
  {
   "cell_type": "markdown",
   "id": "2debd960",
   "metadata": {},
   "source": [
    "Краткий вывод по текущему пункту:\n",
    "* Расчитали среднее количество, дисперсию и стандартное отклонение по использованию минут, сообщений, трафика и трат в месяц. \n",
    "\n",
    "По правилу трех сигм можем получить диапазоны выручки для пользователей тарифов Смарт и Ультра. Так для пользователей тарифа Смарт диапазон будет от 550р( величина абонентской платы) до 3746р. А для пользователей тарифа Ультра диапазон будет от 1950р( величина абонентской платы) до 3200р.В целом получается, что пользователи тарифа Смарт чаще доплачивают за дополнительные расходы.\n",
    "* Построили гистограммы по расходу сообщений, минут и Мб для пользователей разных тарифов. Гистограммы для пользователей тарифа Ультра смещены вправо, гистограммы для пользователей тарифа Смарт смещены влево, кроме гистограммы расхода сообщений.\n",
    "\n",
    "Среди пользователей тарифа Смарт больше таких людей, кто использует меньше интернета и звонков, чем остальные. Но среди пользователей тарифа смарт есть такие пользователи, кто использует сообщения больше, чем остальные. Но в тоже время пик расхода звонков приходится на диапазон 400-550. В абонентскую плату входит только 500 минут. А пик расхода интернет-трафика приходится на значение большего, чем входит в абонентскую плату (это 15360 Мб) - примерно от 15000 до 19000 Мб.\n",
    "\n",
    "Среди пользователей тарифа Ультра преобладает больший расход сообщений, интернет-трафика и сообщений. Но практически все значения расходов не выходят за объем, входящий в абонентскую плату. Пик расхода интернет-трафика примерно в диапазоне 15000-20000 Мб, что не выходит за установленный лимит 30Гб.\n",
    "* Гистограммы по суммарной выручке в месяц для пользователей двух тарифов смещены вправо. Это означает, что в данных много таких значений, которые показывают, что пользователи платят больше, чем остальные.\n",
    "\n",
    "Среди пользователей тарифа Смарт больше тех, кто платит за траты сверх абонентской платы.\n",
    "\n",
    "## Проверка гипотез\n",
    "\n",
    "\n",
    "\n",
    "### Средняя выручка пользователей тарифов «Ультра» и «Смарт» различаются\n",
    "\n",
    "Нулевая гипотеза: средние выручки пользователей тарифа Смарт и тарифа Ультра равны между собой.\n",
    "\n",
    "Альтернативная гипотеза: средние выручки пользователей тарифов различны.\n",
    "\n",
    "Нужно исследовать значение прибыли в месяц для всех пользователей, так как нужно узнать, какой из тарифов приносит больше выручки и на основании полученных данных определить более прибыльный тариф.\n",
    "Для расчета используем метод scipy.stats.ttest_ind(), так как нужно сравнить средние двух генеральных совокупностей между собой. Одна совокупность, это пользователи тарифа Смарт, другая совокупность- пользователи тарифа Ультра."
   ]
  },
  {
   "cell_type": "code",
   "execution_count": 77,
   "id": "1853159f",
   "metadata": {},
   "outputs": [
    {
     "name": "stdout",
     "output_type": "stream",
     "text": [
      "p-значение: 4.2606313931076085e-250\n",
      "Отвергаем нулевую гипотезу\n"
     ]
    }
   ],
   "source": [
    "alpha = .05\n",
    "results = st.ttest_ind(\n",
    "    all_data.query('tariff_name == \"smart\"')['price_per_month'], \n",
    "    all_data.query('tariff_name == \"ultra\"')['price_per_month'],\n",
    "    equal_var = False)\n",
    "print('p-значение:', results.pvalue)\n",
    "\n",
    "if results.pvalue < alpha:\n",
    "    print(\"Отвергаем нулевую гипотезу\")\n",
    "else:\n",
    "    print(\"Не получилось отвергнуть нулевую гипотезу\") "
   ]
  },
  {
   "cell_type": "markdown",
   "id": "207e12c1",
   "metadata": {},
   "source": [
    "Нулевую гипотезу стоит отвергуть. Значение pvalue слишком мало, практически равно нулю, чтобы можно было принять нулевую гипотезу."
   ]
  },
  {
   "cell_type": "markdown",
   "id": "ac773726",
   "metadata": {},
   "source": [
    "### средняя выручка пользователей из Москвы отличается от выручки пользователей из других регионов.\n",
    "\n",
    "Нулевая гипотеза: средняя выручка пользователей из Москвы равна средней выручке пользователей из других регионов.\n",
    "\n",
    "Альтернативная гипотеза: средняя выручка пользователей из Москвы отличается от выручки пользователей из других регионов.\n",
    "\n",
    "Нужно исследовать значение прибыли в месяц для всех пользователей, так как нужно узнать, какой из тарифов приносит больше выручки и на основании полученных данных определить более прибыльный тариф."
   ]
  },
  {
   "cell_type": "code",
   "execution_count": 78,
   "id": "c0a1e7c1",
   "metadata": {
    "scrolled": true
   },
   "outputs": [
    {
     "name": "stdout",
     "output_type": "stream",
     "text": [
      "p-значение: 0.5257376663729298\n",
      "Не получилось отвергнуть нулевую гипотезу\n"
     ]
    }
   ],
   "source": [
    "alpha = .05\n",
    "results = st.ttest_ind(\n",
    "    all_data.query('city == \"Москва\"')['price_per_month'], \n",
    "    all_data.query('city != \"Москва\"')['price_per_month'],\n",
    "    equal_var = False)\n",
    "print('p-значение:', results.pvalue)\n",
    "\n",
    "if results.pvalue < alpha:\n",
    "    print(\"Отвергаем нулевую гипотезу\")\n",
    "else:\n",
    "    print(\"Не получилось отвергнуть нулевую гипотезу\") "
   ]
  },
  {
   "cell_type": "markdown",
   "id": "9b8c5bd0",
   "metadata": {},
   "source": [
    "<div class=\"alert alert-success\">\n",
    "<b>Комментарий с комплиментом ревьюера:</b> \n",
    "\n",
    "Ты верно сформулировала Н0 и Н1 гипотезы, это очень важно, использовала правильный метод и получила корректные результаты проверок гипотез.\n",
    "</div>\n"
   ]
  },
  {
   "cell_type": "markdown",
   "id": "e1169275",
   "metadata": {},
   "source": [
    "Нулевую гипотезу не получится отвергнуть. Значение pvalue больше 50%, это явно слишком большая вероятность, чтобы делать вывод о значимом различии между средними тратами пользователей Москвы и других регионов.\n",
    "\n",
    "## Вывод\n",
    "\n",
    "При исследовательском анализе данных были выполнены следующие пункты:\n",
    "* минуты исходящий звонков, исходящий трафик округлены в большую сторону.\n",
    "* столбца с датами приведены к фотмату datetime64.\n",
    "* в исходных данных отсутствуют дубликаты.\n",
    "\n",
    "Все данные по использованному трафику, минутам и сообщениям были вседены в одну таблицу. Был произведен расчет трат каждого пользователя в месяц.\n",
    "\n",
    "Пользователей тарифа Ультра почти в два раза меньше, чем пользователей тарифа Смарт.\n",
    "В среднем пользователи тарифа Ультра используют больше минут, интернет-трафика и сообщений.\n",
    "В течении года пользователи тарифа Смарт увеличивали потребление минут, интернет-трафика и сообщений. Возможно это связано с увеличением количества клиентов в течении года.\n",
    "В течении года для пользователей тарифа Ультра не заметен такой сильный рост в потреблении минут, интернет-трафика и сообщений. Возможно количество пользователей тарифа Ультра в течении года несильно изменилось.\n",
    "\n",
    "* Расчитали среднее количество, дисперсию и стандартное отклонение по использованию минут, сообщений, трафика и трат в месяц. \n",
    "Значение средней прибыли для пользователей тарифа Смарт приблизительно равна 1300р, что больше чем в 2 раза больше абонентской платы за этот тариф.\n",
    "Значение средней прибыли для пользователей тарифа Ультра приблизительно равна 2000р.\n",
    "\n",
    "* Построили гистограммы по расходу сообщений, минут и Мб для пользователей разных тарифов. Гистограммы для пользователей тарифа Ультра смещены вправо, гистограммы для пользователей тарифа Смарт смещены влево, кроме гистограммы расхода сообщений.\n",
    "\n",
    "По гистограммам выяснили, что пользователи тарифа Смарт в большем количестве используют минуты в диапазоне 400-550 минут, интернет - в диапазоне от 15000 до 19000 Мб, что больше интернет - трафика, входящего в абонентскую плату.\n",
    "* Гистограммы по суммарной выручке в месяц для пользователей двух тарифов смещены вправо. Но для пользователей тарифа Смарт пик гистограммы в диапазоне от 500 до 1100р, а для пользователей тарифа Ультра - около 2000р.\n",
    "Пользователи тарифа Смарт чаще платят больше абонентской платы.\n",
    "\n",
    "Были проверены две гипотезы:\n",
    "* средняя выручка пользователей тарифов «Ультра» и «Смарт» равны.\n",
    "Гипотезу пришлось отвергуть, такая значение pvalue слишком мало, практически равно нулю, чтобы можно было принять нулевую гипотезу.\n",
    "* средняя выручка пользователей из Москвы равна средней выручке пользователей из других регионов.\n",
    "Нулевую гипотезу не получится отвергнуть. Значение pvalue больше 50%, это явно слишком большая вероятность, чтобы делать вывод о значимом различии между средними тратами пользователей Москвы и других регионов.\n",
    "\n",
    "Поэтому в заключение можно отметить, что тариф Смарт более прибыльный, т.к. количество пользователей больше, и среди них большое количество тех, что доплачивает за услуги связи сверх тарифного пакета. А так же пользователи из Москвы в среднем тратят на связь столько же, сколько пользователи из других регионов."
   ]
  },
  {
   "cell_type": "code",
   "execution_count": null,
   "id": "2b76f0a8",
   "metadata": {},
   "outputs": [],
   "source": []
  }
 ],
 "metadata": {
  "ExecuteTimeLog": [
   {
    "duration": 1505,
    "start_time": "2022-05-27T15:04:19.713Z"
   },
   {
    "duration": 15,
    "start_time": "2022-05-27T15:04:21.220Z"
   },
   {
    "duration": 25,
    "start_time": "2022-05-27T15:04:21.237Z"
   },
   {
    "duration": 32,
    "start_time": "2022-05-27T15:04:21.264Z"
   },
   {
    "duration": 8,
    "start_time": "2022-05-27T15:04:21.298Z"
   },
   {
    "duration": 26,
    "start_time": "2022-05-27T15:04:21.308Z"
   },
   {
    "duration": 33,
    "start_time": "2022-05-27T15:04:21.335Z"
   },
   {
    "duration": 31,
    "start_time": "2022-05-27T15:04:21.370Z"
   },
   {
    "duration": 19,
    "start_time": "2022-05-27T15:04:21.402Z"
   },
   {
    "duration": 8,
    "start_time": "2022-05-27T15:04:21.423Z"
   },
   {
    "duration": 11,
    "start_time": "2022-05-27T15:04:21.433Z"
   },
   {
    "duration": 14,
    "start_time": "2022-05-27T15:04:21.446Z"
   },
   {
    "duration": 40,
    "start_time": "2022-05-27T15:04:21.462Z"
   },
   {
    "duration": 15,
    "start_time": "2022-05-27T15:04:21.504Z"
   },
   {
    "duration": 13,
    "start_time": "2022-05-27T15:04:21.521Z"
   },
   {
    "duration": 73,
    "start_time": "2022-05-27T15:04:21.535Z"
   },
   {
    "duration": 44,
    "start_time": "2022-05-27T15:04:21.610Z"
   },
   {
    "duration": 17,
    "start_time": "2022-05-27T15:04:21.657Z"
   },
   {
    "duration": 35,
    "start_time": "2022-05-27T15:04:21.675Z"
   },
   {
    "duration": 15,
    "start_time": "2022-05-27T15:04:21.712Z"
   },
   {
    "duration": 4,
    "start_time": "2022-05-27T15:04:21.728Z"
   },
   {
    "duration": 9,
    "start_time": "2022-05-27T15:04:21.733Z"
   },
   {
    "duration": 18,
    "start_time": "2022-05-27T15:04:21.743Z"
   },
   {
    "duration": 39,
    "start_time": "2022-05-27T15:04:21.763Z"
   },
   {
    "duration": 110,
    "start_time": "2022-05-27T15:04:21.803Z"
   },
   {
    "duration": 37,
    "start_time": "2022-05-27T15:04:21.914Z"
   },
   {
    "duration": 66,
    "start_time": "2022-05-27T15:04:21.953Z"
   },
   {
    "duration": 6,
    "start_time": "2022-05-27T15:04:22.023Z"
   },
   {
    "duration": 25,
    "start_time": "2022-05-27T15:04:22.030Z"
   },
   {
    "duration": 44,
    "start_time": "2022-05-27T15:04:22.057Z"
   },
   {
    "duration": 27,
    "start_time": "2022-05-27T15:04:22.102Z"
   },
   {
    "duration": 15,
    "start_time": "2022-05-27T15:04:22.130Z"
   },
   {
    "duration": 50,
    "start_time": "2022-05-27T15:04:22.147Z"
   },
   {
    "duration": 17,
    "start_time": "2022-05-27T15:04:22.199Z"
   },
   {
    "duration": 26,
    "start_time": "2022-05-27T15:04:22.218Z"
   },
   {
    "duration": 15,
    "start_time": "2022-05-27T15:04:22.245Z"
   },
   {
    "duration": 49,
    "start_time": "2022-05-27T15:04:22.261Z"
   },
   {
    "duration": 21,
    "start_time": "2022-05-27T15:04:22.313Z"
   },
   {
    "duration": 29,
    "start_time": "2022-05-27T15:04:22.335Z"
   },
   {
    "duration": 31,
    "start_time": "2022-05-27T15:04:22.366Z"
   },
   {
    "duration": 37,
    "start_time": "2022-05-27T15:04:22.400Z"
   },
   {
    "duration": 15,
    "start_time": "2022-05-27T15:04:22.439Z"
   },
   {
    "duration": 6,
    "start_time": "2022-05-27T15:04:22.456Z"
   },
   {
    "duration": 39,
    "start_time": "2022-05-27T15:04:22.464Z"
   },
   {
    "duration": 8,
    "start_time": "2022-05-27T15:04:22.505Z"
   },
   {
    "duration": 17,
    "start_time": "2022-05-27T15:04:22.515Z"
   },
   {
    "duration": 25,
    "start_time": "2022-05-27T15:04:22.535Z"
   },
   {
    "duration": 1546,
    "start_time": "2022-05-27T15:04:22.562Z"
   },
   {
    "duration": 4,
    "start_time": "2022-05-27T15:04:24.110Z"
   },
   {
    "duration": 15,
    "start_time": "2022-05-27T15:04:24.116Z"
   },
   {
    "duration": 15,
    "start_time": "2022-05-27T15:04:24.133Z"
   },
   {
    "duration": 58,
    "start_time": "2022-05-27T15:04:24.149Z"
   },
   {
    "duration": 10,
    "start_time": "2022-05-27T15:04:24.209Z"
   },
   {
    "duration": 9,
    "start_time": "2022-05-27T15:04:24.221Z"
   },
   {
    "duration": 20,
    "start_time": "2022-05-27T15:04:24.232Z"
   },
   {
    "duration": 15,
    "start_time": "2022-05-27T15:04:24.254Z"
   },
   {
    "duration": 27,
    "start_time": "2022-05-27T15:04:24.270Z"
   },
   {
    "duration": 11,
    "start_time": "2022-05-27T15:04:24.299Z"
   },
   {
    "duration": 11,
    "start_time": "2022-05-27T15:04:24.312Z"
   },
   {
    "duration": 12,
    "start_time": "2022-05-27T15:04:24.324Z"
   },
   {
    "duration": 11,
    "start_time": "2022-05-27T15:04:24.338Z"
   },
   {
    "duration": 48,
    "start_time": "2022-05-27T15:04:24.351Z"
   },
   {
    "duration": 195,
    "start_time": "2022-05-27T15:04:24.400Z"
   },
   {
    "duration": 248,
    "start_time": "2022-05-27T15:04:24.597Z"
   },
   {
    "duration": 171,
    "start_time": "2022-05-27T15:04:24.847Z"
   },
   {
    "duration": 171,
    "start_time": "2022-05-27T15:04:25.019Z"
   },
   {
    "duration": 12,
    "start_time": "2022-05-27T15:04:25.194Z"
   },
   {
    "duration": 10,
    "start_time": "2022-05-27T15:04:25.208Z"
   },
   {
    "duration": 2895,
    "start_time": "2022-05-27T18:28:01.322Z"
   },
   {
    "duration": 14,
    "start_time": "2022-05-27T18:28:04.219Z"
   },
   {
    "duration": 34,
    "start_time": "2022-05-27T18:28:04.234Z"
   },
   {
    "duration": 32,
    "start_time": "2022-05-27T18:28:04.271Z"
   },
   {
    "duration": 9,
    "start_time": "2022-05-27T18:28:04.304Z"
   },
   {
    "duration": 21,
    "start_time": "2022-05-27T18:28:04.315Z"
   },
   {
    "duration": 28,
    "start_time": "2022-05-27T18:28:04.338Z"
   },
   {
    "duration": 6,
    "start_time": "2022-05-27T18:28:04.368Z"
   },
   {
    "duration": 19,
    "start_time": "2022-05-27T18:28:04.401Z"
   },
   {
    "duration": 8,
    "start_time": "2022-05-27T18:28:04.423Z"
   },
   {
    "duration": 11,
    "start_time": "2022-05-27T18:28:04.433Z"
   },
   {
    "duration": 13,
    "start_time": "2022-05-27T18:28:04.446Z"
   },
   {
    "duration": 15,
    "start_time": "2022-05-27T18:28:04.460Z"
   },
   {
    "duration": 13,
    "start_time": "2022-05-27T18:28:04.502Z"
   },
   {
    "duration": 9,
    "start_time": "2022-05-27T18:28:04.517Z"
   },
   {
    "duration": 47,
    "start_time": "2022-05-27T18:28:04.528Z"
   },
   {
    "duration": 61,
    "start_time": "2022-05-27T18:28:04.577Z"
   },
   {
    "duration": 15,
    "start_time": "2022-05-27T18:28:04.640Z"
   },
   {
    "duration": 20,
    "start_time": "2022-05-27T18:28:04.656Z"
   },
   {
    "duration": 33,
    "start_time": "2022-05-27T18:28:04.678Z"
   },
   {
    "duration": 3,
    "start_time": "2022-05-27T18:28:04.713Z"
   },
   {
    "duration": 6,
    "start_time": "2022-05-27T18:28:04.718Z"
   },
   {
    "duration": 15,
    "start_time": "2022-05-27T18:28:04.726Z"
   },
   {
    "duration": 13,
    "start_time": "2022-05-27T18:28:04.743Z"
   },
   {
    "duration": 128,
    "start_time": "2022-05-27T18:28:04.758Z"
   },
   {
    "duration": 49,
    "start_time": "2022-05-27T18:28:04.887Z"
   },
   {
    "duration": 44,
    "start_time": "2022-05-27T18:28:04.938Z"
   },
   {
    "duration": 6,
    "start_time": "2022-05-27T18:28:05.001Z"
   },
   {
    "duration": 25,
    "start_time": "2022-05-27T18:28:05.009Z"
   },
   {
    "duration": 28,
    "start_time": "2022-05-27T18:28:05.036Z"
   },
   {
    "duration": 43,
    "start_time": "2022-05-27T18:28:05.065Z"
   },
   {
    "duration": 14,
    "start_time": "2022-05-27T18:28:05.110Z"
   },
   {
    "duration": 28,
    "start_time": "2022-05-27T18:28:05.126Z"
   },
   {
    "duration": 16,
    "start_time": "2022-05-27T18:28:05.156Z"
   },
   {
    "duration": 47,
    "start_time": "2022-05-27T18:28:05.173Z"
   },
   {
    "duration": 13,
    "start_time": "2022-05-27T18:28:05.221Z"
   },
   {
    "duration": 14,
    "start_time": "2022-05-27T18:28:05.236Z"
   },
   {
    "duration": 13,
    "start_time": "2022-05-27T18:28:05.251Z"
   },
   {
    "duration": 55,
    "start_time": "2022-05-27T18:28:05.266Z"
   },
   {
    "duration": 4,
    "start_time": "2022-05-27T18:28:05.322Z"
   },
   {
    "duration": 29,
    "start_time": "2022-05-27T18:28:05.327Z"
   },
   {
    "duration": 11,
    "start_time": "2022-05-27T18:28:05.358Z"
   },
   {
    "duration": 5,
    "start_time": "2022-05-27T18:28:05.370Z"
   },
   {
    "duration": 34,
    "start_time": "2022-05-27T18:28:05.376Z"
   },
   {
    "duration": 5,
    "start_time": "2022-05-27T18:28:05.412Z"
   },
   {
    "duration": 17,
    "start_time": "2022-05-27T18:28:05.419Z"
   },
   {
    "duration": 20,
    "start_time": "2022-05-27T18:28:05.437Z"
   },
   {
    "duration": 1545,
    "start_time": "2022-05-27T18:28:05.459Z"
   },
   {
    "duration": 3,
    "start_time": "2022-05-27T18:28:07.006Z"
   },
   {
    "duration": 14,
    "start_time": "2022-05-27T18:28:07.010Z"
   },
   {
    "duration": 13,
    "start_time": "2022-05-27T18:28:07.025Z"
   },
   {
    "duration": 38,
    "start_time": "2022-05-27T18:28:07.040Z"
   },
   {
    "duration": 7,
    "start_time": "2022-05-27T18:28:07.080Z"
   },
   {
    "duration": 6,
    "start_time": "2022-05-27T18:28:07.101Z"
   },
   {
    "duration": 10,
    "start_time": "2022-05-27T18:28:07.109Z"
   },
   {
    "duration": 9,
    "start_time": "2022-05-27T18:28:07.120Z"
   },
   {
    "duration": 10,
    "start_time": "2022-05-27T18:28:07.131Z"
   },
   {
    "duration": 9,
    "start_time": "2022-05-27T18:28:07.142Z"
   },
   {
    "duration": 9,
    "start_time": "2022-05-27T18:28:07.153Z"
   },
   {
    "duration": 12,
    "start_time": "2022-05-27T18:28:07.202Z"
   },
   {
    "duration": 9,
    "start_time": "2022-05-27T18:28:07.215Z"
   },
   {
    "duration": 9,
    "start_time": "2022-05-27T18:28:07.226Z"
   },
   {
    "duration": 213,
    "start_time": "2022-05-27T18:28:07.237Z"
   },
   {
    "duration": 227,
    "start_time": "2022-05-27T18:28:07.451Z"
   },
   {
    "duration": 155,
    "start_time": "2022-05-27T18:28:07.680Z"
   },
   {
    "duration": 158,
    "start_time": "2022-05-27T18:28:07.837Z"
   },
   {
    "duration": 14,
    "start_time": "2022-05-27T18:28:07.996Z"
   },
   {
    "duration": 10,
    "start_time": "2022-05-27T18:28:08.011Z"
   },
   {
    "duration": 120,
    "start_time": "2022-05-27T18:30:26.161Z"
   },
   {
    "duration": 1455,
    "start_time": "2022-05-27T18:30:54.953Z"
   },
   {
    "duration": 14,
    "start_time": "2022-05-27T18:30:56.410Z"
   },
   {
    "duration": 24,
    "start_time": "2022-05-27T18:30:56.425Z"
   },
   {
    "duration": 29,
    "start_time": "2022-05-27T18:30:56.452Z"
   },
   {
    "duration": 24,
    "start_time": "2022-05-27T18:30:56.482Z"
   },
   {
    "duration": 22,
    "start_time": "2022-05-27T18:30:56.508Z"
   },
   {
    "duration": 31,
    "start_time": "2022-05-27T18:30:56.532Z"
   },
   {
    "duration": 7,
    "start_time": "2022-05-27T18:30:56.564Z"
   },
   {
    "duration": 39,
    "start_time": "2022-05-27T18:30:56.573Z"
   },
   {
    "duration": 7,
    "start_time": "2022-05-27T18:30:56.614Z"
   },
   {
    "duration": 14,
    "start_time": "2022-05-27T18:30:56.622Z"
   },
   {
    "duration": 16,
    "start_time": "2022-05-27T18:30:56.637Z"
   },
   {
    "duration": 17,
    "start_time": "2022-05-27T18:30:56.655Z"
   },
   {
    "duration": 40,
    "start_time": "2022-05-27T18:30:56.673Z"
   },
   {
    "duration": 14,
    "start_time": "2022-05-27T18:30:56.715Z"
   },
   {
    "duration": 99,
    "start_time": "2022-05-27T18:30:56.732Z"
   },
   {
    "duration": 41,
    "start_time": "2022-05-27T18:31:55.468Z"
   },
   {
    "duration": 16,
    "start_time": "2022-05-27T18:32:16.094Z"
   },
   {
    "duration": 20,
    "start_time": "2022-05-27T18:32:17.462Z"
   },
   {
    "duration": 14,
    "start_time": "2022-05-27T18:32:18.023Z"
   },
   {
    "duration": 4,
    "start_time": "2022-05-27T18:32:21.691Z"
   },
   {
    "duration": 2,
    "start_time": "2022-05-27T18:32:22.262Z"
   },
   {
    "duration": 14,
    "start_time": "2022-05-27T18:32:22.921Z"
   },
   {
    "duration": 15,
    "start_time": "2022-05-27T18:32:28.614Z"
   },
   {
    "duration": 114,
    "start_time": "2022-05-27T18:32:37.622Z"
   },
   {
    "duration": 60,
    "start_time": "2022-05-27T18:32:37.790Z"
   },
   {
    "duration": 52,
    "start_time": "2022-05-27T18:32:38.108Z"
   },
   {
    "duration": 8,
    "start_time": "2022-05-27T18:32:38.311Z"
   },
   {
    "duration": 32,
    "start_time": "2022-05-27T18:32:41.883Z"
   },
   {
    "duration": 40,
    "start_time": "2022-05-27T18:32:42.274Z"
   },
   {
    "duration": 37,
    "start_time": "2022-05-27T18:32:42.699Z"
   },
   {
    "duration": 16,
    "start_time": "2022-05-27T18:32:47.670Z"
   },
   {
    "duration": 31,
    "start_time": "2022-05-27T18:32:51.490Z"
   },
   {
    "duration": 19,
    "start_time": "2022-05-27T18:32:56.666Z"
   },
   {
    "duration": 35,
    "start_time": "2022-05-27T18:32:57.201Z"
   },
   {
    "duration": 105,
    "start_time": "2022-05-27T18:34:03.607Z"
   },
   {
    "duration": 13,
    "start_time": "2022-05-27T18:34:21.829Z"
   },
   {
    "duration": 1604,
    "start_time": "2022-05-27T18:34:53.313Z"
   },
   {
    "duration": 15,
    "start_time": "2022-05-27T18:34:54.919Z"
   },
   {
    "duration": 28,
    "start_time": "2022-05-27T18:34:54.936Z"
   },
   {
    "duration": 56,
    "start_time": "2022-05-27T18:34:54.966Z"
   },
   {
    "duration": 10,
    "start_time": "2022-05-27T18:34:55.025Z"
   },
   {
    "duration": 35,
    "start_time": "2022-05-27T18:34:55.036Z"
   },
   {
    "duration": 42,
    "start_time": "2022-05-27T18:34:55.073Z"
   },
   {
    "duration": 8,
    "start_time": "2022-05-27T18:34:55.118Z"
   },
   {
    "duration": 26,
    "start_time": "2022-05-27T18:34:55.128Z"
   },
   {
    "duration": 9,
    "start_time": "2022-05-27T18:34:55.155Z"
   },
   {
    "duration": 19,
    "start_time": "2022-05-27T18:34:55.165Z"
   },
   {
    "duration": 32,
    "start_time": "2022-05-27T18:34:55.185Z"
   },
   {
    "duration": 10,
    "start_time": "2022-05-27T18:34:55.219Z"
   },
   {
    "duration": 15,
    "start_time": "2022-05-27T18:34:55.231Z"
   },
   {
    "duration": 12,
    "start_time": "2022-05-27T18:34:55.248Z"
   },
   {
    "duration": 85,
    "start_time": "2022-05-27T18:34:55.263Z"
   },
   {
    "duration": 44,
    "start_time": "2022-05-27T18:34:55.349Z"
   },
   {
    "duration": 28,
    "start_time": "2022-05-27T18:34:55.395Z"
   },
   {
    "duration": 28,
    "start_time": "2022-05-27T18:34:55.425Z"
   },
   {
    "duration": 18,
    "start_time": "2022-05-27T18:34:55.454Z"
   },
   {
    "duration": 4,
    "start_time": "2022-05-27T18:34:55.474Z"
   },
   {
    "duration": 32,
    "start_time": "2022-05-27T18:34:55.480Z"
   },
   {
    "duration": 20,
    "start_time": "2022-05-27T18:34:55.514Z"
   },
   {
    "duration": 14,
    "start_time": "2022-05-27T18:34:55.536Z"
   },
   {
    "duration": 114,
    "start_time": "2022-05-27T18:34:55.551Z"
   },
   {
    "duration": 63,
    "start_time": "2022-05-27T18:34:55.667Z"
   },
   {
    "duration": 45,
    "start_time": "2022-05-27T18:34:55.731Z"
   },
   {
    "duration": 6,
    "start_time": "2022-05-27T18:34:55.778Z"
   },
   {
    "duration": 44,
    "start_time": "2022-05-27T18:34:55.786Z"
   },
   {
    "duration": 37,
    "start_time": "2022-05-27T18:34:55.832Z"
   },
   {
    "duration": 52,
    "start_time": "2022-05-27T18:34:55.871Z"
   },
   {
    "duration": 16,
    "start_time": "2022-05-27T18:34:55.924Z"
   },
   {
    "duration": 27,
    "start_time": "2022-05-27T18:34:55.942Z"
   },
   {
    "duration": 41,
    "start_time": "2022-05-27T18:34:55.971Z"
   },
   {
    "duration": 25,
    "start_time": "2022-05-27T18:34:56.014Z"
   },
   {
    "duration": 19,
    "start_time": "2022-05-27T18:35:02.353Z"
   },
   {
    "duration": 105,
    "start_time": "2022-05-27T18:35:07.084Z"
   },
   {
    "duration": 12,
    "start_time": "2022-05-27T18:36:09.273Z"
   },
   {
    "duration": 2800,
    "start_time": "2022-05-27T18:40:26.074Z"
   },
   {
    "duration": 16,
    "start_time": "2022-05-27T18:40:28.876Z"
   },
   {
    "duration": 34,
    "start_time": "2022-05-27T18:40:28.894Z"
   },
   {
    "duration": 31,
    "start_time": "2022-05-27T18:40:28.930Z"
   },
   {
    "duration": 9,
    "start_time": "2022-05-27T18:40:28.963Z"
   },
   {
    "duration": 46,
    "start_time": "2022-05-27T18:40:28.973Z"
   },
   {
    "duration": 38,
    "start_time": "2022-05-27T18:40:29.021Z"
   },
   {
    "duration": 7,
    "start_time": "2022-05-27T18:40:29.061Z"
   },
   {
    "duration": 41,
    "start_time": "2022-05-27T18:40:29.070Z"
   },
   {
    "duration": 11,
    "start_time": "2022-05-27T18:40:29.114Z"
   },
   {
    "duration": 11,
    "start_time": "2022-05-27T18:40:29.126Z"
   },
   {
    "duration": 13,
    "start_time": "2022-05-27T18:40:29.138Z"
   },
   {
    "duration": 11,
    "start_time": "2022-05-27T18:40:29.152Z"
   },
   {
    "duration": 47,
    "start_time": "2022-05-27T18:40:29.164Z"
   },
   {
    "duration": 12,
    "start_time": "2022-05-27T18:40:29.219Z"
   },
   {
    "duration": 46,
    "start_time": "2022-05-27T18:40:29.233Z"
   },
   {
    "duration": 56,
    "start_time": "2022-05-27T18:40:29.280Z"
   },
   {
    "duration": 15,
    "start_time": "2022-05-27T18:40:29.337Z"
   },
   {
    "duration": 21,
    "start_time": "2022-05-27T18:40:29.353Z"
   },
   {
    "duration": 35,
    "start_time": "2022-05-27T18:40:29.376Z"
   },
   {
    "duration": 6,
    "start_time": "2022-05-27T18:40:29.412Z"
   },
   {
    "duration": 3,
    "start_time": "2022-05-27T18:40:29.420Z"
   },
   {
    "duration": 14,
    "start_time": "2022-05-27T18:40:29.424Z"
   },
   {
    "duration": 11,
    "start_time": "2022-05-27T18:40:29.440Z"
   },
   {
    "duration": 137,
    "start_time": "2022-05-27T18:40:29.453Z"
   },
   {
    "duration": 57,
    "start_time": "2022-05-27T18:40:29.592Z"
   },
   {
    "duration": 59,
    "start_time": "2022-05-27T18:40:29.651Z"
   },
   {
    "duration": 5,
    "start_time": "2022-05-27T18:40:29.716Z"
   },
   {
    "duration": 22,
    "start_time": "2022-05-27T18:40:29.723Z"
   },
   {
    "duration": 29,
    "start_time": "2022-05-27T18:40:29.747Z"
   },
   {
    "duration": 50,
    "start_time": "2022-05-27T18:40:29.778Z"
   },
   {
    "duration": 16,
    "start_time": "2022-05-27T18:40:29.830Z"
   },
   {
    "duration": 29,
    "start_time": "2022-05-27T18:40:29.847Z"
   },
   {
    "duration": 41,
    "start_time": "2022-05-27T18:40:29.877Z"
   },
   {
    "duration": 28,
    "start_time": "2022-05-27T18:40:29.920Z"
   },
   {
    "duration": 13,
    "start_time": "2022-05-27T18:40:29.949Z"
   },
   {
    "duration": 48,
    "start_time": "2022-05-27T18:40:29.963Z"
   },
   {
    "duration": 16,
    "start_time": "2022-05-27T18:40:30.016Z"
   },
   {
    "duration": 13,
    "start_time": "2022-05-27T18:40:30.034Z"
   },
   {
    "duration": 27,
    "start_time": "2022-05-27T18:40:30.049Z"
   },
   {
    "duration": 27,
    "start_time": "2022-05-27T18:40:30.077Z"
   },
   {
    "duration": 65,
    "start_time": "2022-05-27T18:40:30.113Z"
   },
   {
    "duration": 13,
    "start_time": "2022-05-27T18:40:30.179Z"
   },
   {
    "duration": 40,
    "start_time": "2022-05-27T18:40:30.193Z"
   },
   {
    "duration": 12,
    "start_time": "2022-05-27T18:40:30.235Z"
   },
   {
    "duration": 17,
    "start_time": "2022-05-27T18:40:30.248Z"
   },
   {
    "duration": 31,
    "start_time": "2022-05-27T18:40:30.267Z"
   },
   {
    "duration": 25,
    "start_time": "2022-05-27T18:40:30.300Z"
   },
   {
    "duration": 1749,
    "start_time": "2022-05-27T18:40:30.326Z"
   },
   {
    "duration": 1670,
    "start_time": "2022-05-27T18:40:35.566Z"
   },
   {
    "duration": 3,
    "start_time": "2022-05-27T18:40:37.238Z"
   },
   {
    "duration": 14,
    "start_time": "2022-05-27T18:40:43.127Z"
   },
   {
    "duration": 16,
    "start_time": "2022-05-27T18:40:43.478Z"
   },
   {
    "duration": 41,
    "start_time": "2022-05-27T18:41:19.778Z"
   },
   {
    "duration": 8,
    "start_time": "2022-05-27T18:41:20.425Z"
   },
   {
    "duration": 6,
    "start_time": "2022-05-27T18:41:21.017Z"
   },
   {
    "duration": 2420,
    "start_time": "2022-05-28T16:51:35.231Z"
   },
   {
    "duration": 14,
    "start_time": "2022-05-28T16:51:37.653Z"
   },
   {
    "duration": 22,
    "start_time": "2022-05-28T16:51:37.669Z"
   },
   {
    "duration": 31,
    "start_time": "2022-05-28T16:51:37.693Z"
   },
   {
    "duration": 33,
    "start_time": "2022-05-28T16:51:37.726Z"
   },
   {
    "duration": 20,
    "start_time": "2022-05-28T16:51:37.761Z"
   },
   {
    "duration": 28,
    "start_time": "2022-05-28T16:51:37.783Z"
   },
   {
    "duration": 7,
    "start_time": "2022-05-28T16:51:37.813Z"
   },
   {
    "duration": 38,
    "start_time": "2022-05-28T16:51:37.822Z"
   },
   {
    "duration": 8,
    "start_time": "2022-05-28T16:51:37.863Z"
   },
   {
    "duration": 15,
    "start_time": "2022-05-28T16:51:37.873Z"
   },
   {
    "duration": 11,
    "start_time": "2022-05-28T16:51:37.890Z"
   },
   {
    "duration": 12,
    "start_time": "2022-05-28T16:51:37.902Z"
   },
   {
    "duration": 37,
    "start_time": "2022-05-28T16:51:37.916Z"
   },
   {
    "duration": 11,
    "start_time": "2022-05-28T16:51:37.954Z"
   },
   {
    "duration": 48,
    "start_time": "2022-05-28T16:51:37.966Z"
   },
   {
    "duration": 60,
    "start_time": "2022-05-28T16:51:38.016Z"
   },
   {
    "duration": 15,
    "start_time": "2022-05-28T16:51:38.078Z"
   },
   {
    "duration": 19,
    "start_time": "2022-05-28T16:51:38.095Z"
   },
   {
    "duration": 44,
    "start_time": "2022-05-28T16:51:38.116Z"
   },
   {
    "duration": 4,
    "start_time": "2022-05-28T16:51:38.163Z"
   },
   {
    "duration": 7,
    "start_time": "2022-05-28T16:51:38.169Z"
   },
   {
    "duration": 17,
    "start_time": "2022-05-28T16:51:38.178Z"
   },
   {
    "duration": 14,
    "start_time": "2022-05-28T16:51:38.197Z"
   },
   {
    "duration": 105,
    "start_time": "2022-05-28T16:51:38.212Z"
   },
   {
    "duration": 53,
    "start_time": "2022-05-28T16:51:38.319Z"
   },
   {
    "duration": 39,
    "start_time": "2022-05-28T16:51:38.374Z"
   },
   {
    "duration": 6,
    "start_time": "2022-05-28T16:51:38.417Z"
   },
   {
    "duration": 45,
    "start_time": "2022-05-28T16:51:38.424Z"
   },
   {
    "duration": 27,
    "start_time": "2022-05-28T16:51:38.470Z"
   },
   {
    "duration": 25,
    "start_time": "2022-05-28T16:51:38.499Z"
   },
   {
    "duration": 32,
    "start_time": "2022-05-28T16:51:38.525Z"
   },
   {
    "duration": 26,
    "start_time": "2022-05-28T16:51:38.558Z"
   },
   {
    "duration": 16,
    "start_time": "2022-05-28T16:51:38.586Z"
   },
   {
    "duration": 47,
    "start_time": "2022-05-28T16:51:38.604Z"
   },
   {
    "duration": 13,
    "start_time": "2022-05-28T16:51:38.653Z"
   },
   {
    "duration": 18,
    "start_time": "2022-05-28T16:51:38.668Z"
   },
   {
    "duration": 15,
    "start_time": "2022-05-28T16:51:38.687Z"
   },
   {
    "duration": 13,
    "start_time": "2022-05-28T16:51:38.703Z"
   },
   {
    "duration": 58,
    "start_time": "2022-05-28T16:51:38.718Z"
   },
   {
    "duration": 3,
    "start_time": "2022-05-28T16:51:38.777Z"
   },
   {
    "duration": 37,
    "start_time": "2022-05-28T16:51:38.782Z"
   },
   {
    "duration": 12,
    "start_time": "2022-05-28T16:51:38.821Z"
   },
   {
    "duration": 30,
    "start_time": "2022-05-28T16:51:38.851Z"
   },
   {
    "duration": 12,
    "start_time": "2022-05-28T16:51:38.883Z"
   },
   {
    "duration": 12,
    "start_time": "2022-05-28T16:51:38.896Z"
   },
   {
    "duration": 16,
    "start_time": "2022-05-28T16:51:38.910Z"
   },
   {
    "duration": 38,
    "start_time": "2022-05-28T16:51:38.927Z"
   },
   {
    "duration": 1519,
    "start_time": "2022-05-28T16:51:38.966Z"
   },
   {
    "duration": 4,
    "start_time": "2022-05-28T16:51:40.487Z"
   },
   {
    "duration": 17,
    "start_time": "2022-05-28T16:51:40.492Z"
   },
   {
    "duration": 15,
    "start_time": "2022-05-28T16:51:40.510Z"
   },
   {
    "duration": 51,
    "start_time": "2022-05-28T16:51:40.527Z"
   },
   {
    "duration": 7,
    "start_time": "2022-05-28T16:51:40.580Z"
   },
   {
    "duration": 24,
    "start_time": "2022-05-28T16:51:40.589Z"
   },
   {
    "duration": 15,
    "start_time": "2022-05-28T16:51:40.615Z"
   },
   {
    "duration": 10,
    "start_time": "2022-05-28T16:51:40.632Z"
   },
   {
    "duration": 10,
    "start_time": "2022-05-28T16:51:40.652Z"
   },
   {
    "duration": 10,
    "start_time": "2022-05-28T16:51:40.664Z"
   },
   {
    "duration": 10,
    "start_time": "2022-05-28T16:51:40.675Z"
   },
   {
    "duration": 16,
    "start_time": "2022-05-28T16:51:40.687Z"
   },
   {
    "duration": 10,
    "start_time": "2022-05-28T16:51:40.704Z"
   },
   {
    "duration": 42,
    "start_time": "2022-05-28T16:51:40.716Z"
   },
   {
    "duration": 194,
    "start_time": "2022-05-28T16:51:40.760Z"
   },
   {
    "duration": 249,
    "start_time": "2022-05-28T16:51:40.956Z"
   },
   {
    "duration": 173,
    "start_time": "2022-05-28T16:51:41.206Z"
   },
   {
    "duration": 175,
    "start_time": "2022-05-28T16:51:41.381Z"
   },
   {
    "duration": 11,
    "start_time": "2022-05-28T16:51:41.558Z"
   },
   {
    "duration": 14,
    "start_time": "2022-05-28T16:51:41.571Z"
   },
   {
    "duration": 16,
    "start_time": "2022-05-28T16:52:23.007Z"
   },
   {
    "duration": 1498,
    "start_time": "2022-05-28T16:52:35.320Z"
   },
   {
    "duration": 13,
    "start_time": "2022-05-28T16:52:36.821Z"
   },
   {
    "duration": 29,
    "start_time": "2022-05-28T16:52:36.836Z"
   },
   {
    "duration": 32,
    "start_time": "2022-05-28T16:52:36.867Z"
   },
   {
    "duration": 9,
    "start_time": "2022-05-28T16:52:36.900Z"
   },
   {
    "duration": 21,
    "start_time": "2022-05-28T16:52:36.910Z"
   },
   {
    "duration": 30,
    "start_time": "2022-05-28T16:52:36.952Z"
   },
   {
    "duration": 7,
    "start_time": "2022-05-28T16:52:36.983Z"
   },
   {
    "duration": 19,
    "start_time": "2022-05-28T16:52:36.992Z"
   },
   {
    "duration": 7,
    "start_time": "2022-05-28T16:52:37.014Z"
   },
   {
    "duration": 40,
    "start_time": "2022-05-28T16:52:37.022Z"
   },
   {
    "duration": 18,
    "start_time": "2022-05-28T16:52:37.063Z"
   },
   {
    "duration": 28,
    "start_time": "2022-05-28T16:52:37.083Z"
   },
   {
    "duration": 15,
    "start_time": "2022-05-28T16:52:37.113Z"
   },
   {
    "duration": 13,
    "start_time": "2022-05-28T16:52:37.130Z"
   },
   {
    "duration": 46,
    "start_time": "2022-05-28T16:52:37.151Z"
   },
   {
    "duration": 38,
    "start_time": "2022-05-28T16:52:37.199Z"
   },
   {
    "duration": 15,
    "start_time": "2022-05-28T16:52:37.252Z"
   },
   {
    "duration": 19,
    "start_time": "2022-05-28T16:52:37.269Z"
   },
   {
    "duration": 13,
    "start_time": "2022-05-28T16:52:37.289Z"
   },
   {
    "duration": 4,
    "start_time": "2022-05-28T16:52:37.303Z"
   },
   {
    "duration": 9,
    "start_time": "2022-05-28T16:52:37.308Z"
   },
   {
    "duration": 41,
    "start_time": "2022-05-28T16:52:37.319Z"
   },
   {
    "duration": 11,
    "start_time": "2022-05-28T16:52:37.361Z"
   },
   {
    "duration": 109,
    "start_time": "2022-05-28T16:52:37.373Z"
   },
   {
    "duration": 42,
    "start_time": "2022-05-28T16:52:37.484Z"
   },
   {
    "duration": 57,
    "start_time": "2022-05-28T16:52:37.527Z"
   },
   {
    "duration": 5,
    "start_time": "2022-05-28T16:52:37.588Z"
   },
   {
    "duration": 23,
    "start_time": "2022-05-28T16:52:37.595Z"
   },
   {
    "duration": 43,
    "start_time": "2022-05-28T16:52:37.620Z"
   },
   {
    "duration": 24,
    "start_time": "2022-05-28T16:52:37.665Z"
   },
   {
    "duration": 15,
    "start_time": "2022-05-28T16:52:37.690Z"
   },
   {
    "duration": 51,
    "start_time": "2022-05-28T16:52:37.707Z"
   },
   {
    "duration": 16,
    "start_time": "2022-05-28T16:52:37.760Z"
   },
   {
    "duration": 24,
    "start_time": "2022-05-28T16:52:37.778Z"
   },
   {
    "duration": 12,
    "start_time": "2022-05-28T16:52:37.804Z"
   },
   {
    "duration": 40,
    "start_time": "2022-05-28T16:52:37.817Z"
   },
   {
    "duration": 16,
    "start_time": "2022-05-28T16:52:37.859Z"
   },
   {
    "duration": 18,
    "start_time": "2022-05-28T16:52:37.876Z"
   },
   {
    "duration": 26,
    "start_time": "2022-05-28T16:52:37.896Z"
   },
   {
    "duration": 30,
    "start_time": "2022-05-28T16:52:37.924Z"
   },
   {
    "duration": 32,
    "start_time": "2022-05-28T16:52:37.956Z"
   },
   {
    "duration": 13,
    "start_time": "2022-05-28T16:52:37.990Z"
   },
   {
    "duration": 54,
    "start_time": "2022-05-28T16:52:38.005Z"
   },
   {
    "duration": 13,
    "start_time": "2022-05-28T16:52:38.061Z"
   },
   {
    "duration": 6,
    "start_time": "2022-05-28T16:52:38.076Z"
   },
   {
    "duration": 20,
    "start_time": "2022-05-28T16:52:38.083Z"
   },
   {
    "duration": 47,
    "start_time": "2022-05-28T16:52:38.105Z"
   },
   {
    "duration": 1574,
    "start_time": "2022-05-28T16:52:38.154Z"
   },
   {
    "duration": 4,
    "start_time": "2022-05-28T16:52:39.730Z"
   },
   {
    "duration": 20,
    "start_time": "2022-05-28T16:52:39.736Z"
   },
   {
    "duration": 14,
    "start_time": "2022-05-28T16:52:39.758Z"
   },
   {
    "duration": 37,
    "start_time": "2022-05-28T16:52:39.774Z"
   },
   {
    "duration": 7,
    "start_time": "2022-05-28T16:52:39.813Z"
   },
   {
    "duration": 32,
    "start_time": "2022-05-28T16:52:39.821Z"
   },
   {
    "duration": 17,
    "start_time": "2022-05-28T16:52:39.855Z"
   },
   {
    "duration": 25,
    "start_time": "2022-05-28T16:52:39.874Z"
   },
   {
    "duration": 25,
    "start_time": "2022-05-28T16:52:39.901Z"
   },
   {
    "duration": 22,
    "start_time": "2022-05-28T16:52:39.928Z"
   },
   {
    "duration": 15,
    "start_time": "2022-05-28T16:52:39.952Z"
   },
   {
    "duration": 27,
    "start_time": "2022-05-28T16:52:39.969Z"
   },
   {
    "duration": 10,
    "start_time": "2022-05-28T16:52:39.998Z"
   },
   {
    "duration": 28,
    "start_time": "2022-05-28T16:52:40.010Z"
   },
   {
    "duration": 188,
    "start_time": "2022-05-28T16:52:40.039Z"
   },
   {
    "duration": 325,
    "start_time": "2022-05-28T16:52:40.229Z"
   },
   {
    "duration": 314,
    "start_time": "2022-05-28T16:52:40.556Z"
   },
   {
    "duration": 327,
    "start_time": "2022-05-28T16:52:40.872Z"
   },
   {
    "duration": 10,
    "start_time": "2022-05-28T16:52:41.252Z"
   },
   {
    "duration": 16,
    "start_time": "2022-05-28T16:52:41.264Z"
   },
   {
    "duration": 11,
    "start_time": "2022-05-28T17:00:34.230Z"
   },
   {
    "duration": 10,
    "start_time": "2022-05-28T17:00:36.787Z"
   },
   {
    "duration": 3,
    "start_time": "2022-05-28T17:52:28.047Z"
   },
   {
    "duration": 5,
    "start_time": "2022-05-28T17:52:37.452Z"
   },
   {
    "duration": 4,
    "start_time": "2022-05-28T17:58:42.908Z"
   },
   {
    "duration": 151,
    "start_time": "2022-05-28T18:04:42.444Z"
   },
   {
    "duration": 11,
    "start_time": "2022-05-28T18:04:48.116Z"
   },
   {
    "duration": 70,
    "start_time": "2022-05-28T18:04:54.312Z"
   },
   {
    "duration": 4,
    "start_time": "2022-05-28T18:07:11.720Z"
   },
   {
    "duration": 3,
    "start_time": "2022-05-28T18:07:24.874Z"
   },
   {
    "duration": 3,
    "start_time": "2022-05-28T18:07:31.996Z"
   },
   {
    "duration": 4,
    "start_time": "2022-05-28T18:11:46.427Z"
   },
   {
    "duration": 4,
    "start_time": "2022-05-28T18:12:43.783Z"
   },
   {
    "duration": 3,
    "start_time": "2022-05-28T18:17:11.484Z"
   },
   {
    "duration": 4,
    "start_time": "2022-05-28T18:17:35.669Z"
   },
   {
    "duration": 3,
    "start_time": "2022-05-28T18:22:01.886Z"
   },
   {
    "duration": 3,
    "start_time": "2022-05-28T18:22:24.626Z"
   },
   {
    "duration": 2474,
    "start_time": "2022-05-28T19:41:43.529Z"
   },
   {
    "duration": 14,
    "start_time": "2022-05-28T19:41:46.004Z"
   },
   {
    "duration": 20,
    "start_time": "2022-05-28T19:41:46.020Z"
   },
   {
    "duration": 29,
    "start_time": "2022-05-28T19:41:46.042Z"
   },
   {
    "duration": 8,
    "start_time": "2022-05-28T19:41:46.073Z"
   },
   {
    "duration": 21,
    "start_time": "2022-05-28T19:41:46.083Z"
   },
   {
    "duration": 27,
    "start_time": "2022-05-28T19:41:46.106Z"
   },
   {
    "duration": 21,
    "start_time": "2022-05-28T19:41:46.135Z"
   },
   {
    "duration": 18,
    "start_time": "2022-05-28T19:41:46.158Z"
   },
   {
    "duration": 8,
    "start_time": "2022-05-28T19:41:46.179Z"
   },
   {
    "duration": 12,
    "start_time": "2022-05-28T19:41:46.188Z"
   },
   {
    "duration": 13,
    "start_time": "2022-05-28T19:41:46.201Z"
   },
   {
    "duration": 13,
    "start_time": "2022-05-28T19:41:46.215Z"
   },
   {
    "duration": 15,
    "start_time": "2022-05-28T19:41:46.252Z"
   },
   {
    "duration": 13,
    "start_time": "2022-05-28T19:41:46.268Z"
   },
   {
    "duration": 46,
    "start_time": "2022-05-28T19:41:46.282Z"
   },
   {
    "duration": 55,
    "start_time": "2022-05-28T19:41:46.330Z"
   },
   {
    "duration": 14,
    "start_time": "2022-05-28T19:41:46.387Z"
   },
   {
    "duration": 18,
    "start_time": "2022-05-28T19:41:46.402Z"
   },
   {
    "duration": 35,
    "start_time": "2022-05-28T19:41:46.421Z"
   },
   {
    "duration": 3,
    "start_time": "2022-05-28T19:41:46.458Z"
   },
   {
    "duration": 5,
    "start_time": "2022-05-28T19:41:46.463Z"
   },
   {
    "duration": 15,
    "start_time": "2022-05-28T19:41:46.469Z"
   },
   {
    "duration": 10,
    "start_time": "2022-05-28T19:41:46.486Z"
   },
   {
    "duration": 103,
    "start_time": "2022-05-28T19:41:46.498Z"
   },
   {
    "duration": 49,
    "start_time": "2022-05-28T19:41:46.603Z"
   },
   {
    "duration": 38,
    "start_time": "2022-05-28T19:41:46.654Z"
   },
   {
    "duration": 5,
    "start_time": "2022-05-28T19:41:46.696Z"
   },
   {
    "duration": 24,
    "start_time": "2022-05-28T19:41:46.703Z"
   },
   {
    "duration": 47,
    "start_time": "2022-05-28T19:41:46.729Z"
   },
   {
    "duration": 26,
    "start_time": "2022-05-28T19:41:46.778Z"
   },
   {
    "duration": 18,
    "start_time": "2022-05-28T19:41:46.806Z"
   },
   {
    "duration": 48,
    "start_time": "2022-05-28T19:41:46.825Z"
   },
   {
    "duration": 17,
    "start_time": "2022-05-28T19:41:46.874Z"
   },
   {
    "duration": 25,
    "start_time": "2022-05-28T19:41:46.893Z"
   },
   {
    "duration": 40,
    "start_time": "2022-05-28T19:41:46.920Z"
   },
   {
    "duration": 14,
    "start_time": "2022-05-28T19:41:46.962Z"
   },
   {
    "duration": 14,
    "start_time": "2022-05-28T19:41:46.978Z"
   },
   {
    "duration": 13,
    "start_time": "2022-05-28T19:41:46.994Z"
   },
   {
    "duration": 54,
    "start_time": "2022-05-28T19:41:47.009Z"
   },
   {
    "duration": 4,
    "start_time": "2022-05-28T19:41:47.065Z"
   },
   {
    "duration": 42,
    "start_time": "2022-05-28T19:41:47.071Z"
   },
   {
    "duration": 11,
    "start_time": "2022-05-28T19:41:47.115Z"
   },
   {
    "duration": 36,
    "start_time": "2022-05-28T19:41:47.128Z"
   },
   {
    "duration": 11,
    "start_time": "2022-05-28T19:41:47.165Z"
   },
   {
    "duration": 4,
    "start_time": "2022-05-28T19:41:47.178Z"
   },
   {
    "duration": 12,
    "start_time": "2022-05-28T19:41:47.184Z"
   },
   {
    "duration": 19,
    "start_time": "2022-05-28T19:41:47.198Z"
   },
   {
    "duration": 1518,
    "start_time": "2022-05-28T19:41:47.219Z"
   },
   {
    "duration": 3,
    "start_time": "2022-05-28T19:41:48.739Z"
   },
   {
    "duration": 17,
    "start_time": "2022-05-28T19:41:48.744Z"
   },
   {
    "duration": 12,
    "start_time": "2022-05-28T19:41:48.763Z"
   },
   {
    "duration": 28,
    "start_time": "2022-05-28T19:41:48.777Z"
   },
   {
    "duration": 6,
    "start_time": "2022-05-28T19:41:48.807Z"
   },
   {
    "duration": 12,
    "start_time": "2022-05-28T19:41:48.815Z"
   },
   {
    "duration": 11,
    "start_time": "2022-05-28T19:41:48.853Z"
   },
   {
    "duration": 3,
    "start_time": "2022-05-28T19:41:48.866Z"
   },
   {
    "duration": 12,
    "start_time": "2022-05-28T19:41:48.871Z"
   },
   {
    "duration": 3,
    "start_time": "2022-05-28T19:41:48.885Z"
   },
   {
    "duration": 13,
    "start_time": "2022-05-28T19:41:48.890Z"
   },
   {
    "duration": 3,
    "start_time": "2022-05-28T19:41:48.905Z"
   },
   {
    "duration": 45,
    "start_time": "2022-05-28T19:41:48.910Z"
   },
   {
    "duration": 3,
    "start_time": "2022-05-28T19:41:48.957Z"
   },
   {
    "duration": 14,
    "start_time": "2022-05-28T19:41:48.961Z"
   },
   {
    "duration": 5,
    "start_time": "2022-05-28T19:41:48.977Z"
   },
   {
    "duration": 11,
    "start_time": "2022-05-28T19:41:48.984Z"
   },
   {
    "duration": 5,
    "start_time": "2022-05-28T19:41:48.996Z"
   },
   {
    "duration": 12,
    "start_time": "2022-05-28T19:41:49.003Z"
   },
   {
    "duration": 36,
    "start_time": "2022-05-28T19:41:49.017Z"
   },
   {
    "duration": 10,
    "start_time": "2022-05-28T19:41:49.055Z"
   },
   {
    "duration": 5,
    "start_time": "2022-05-28T19:41:49.066Z"
   },
   {
    "duration": 184,
    "start_time": "2022-05-28T19:41:49.072Z"
   },
   {
    "duration": 207,
    "start_time": "2022-05-28T19:41:49.258Z"
   },
   {
    "duration": 148,
    "start_time": "2022-05-28T19:41:49.466Z"
   },
   {
    "duration": 156,
    "start_time": "2022-05-28T19:41:49.615Z"
   },
   {
    "duration": 10,
    "start_time": "2022-05-28T19:41:49.773Z"
   },
   {
    "duration": 13,
    "start_time": "2022-05-28T19:41:49.785Z"
   },
   {
    "duration": 2355,
    "start_time": "2022-05-29T17:23:57.047Z"
   },
   {
    "duration": 16,
    "start_time": "2022-05-29T17:23:59.404Z"
   },
   {
    "duration": 43,
    "start_time": "2022-05-29T17:23:59.422Z"
   },
   {
    "duration": 43,
    "start_time": "2022-05-29T17:23:59.467Z"
   },
   {
    "duration": 23,
    "start_time": "2022-05-29T17:23:59.513Z"
   },
   {
    "duration": 32,
    "start_time": "2022-05-29T17:23:59.537Z"
   },
   {
    "duration": 31,
    "start_time": "2022-05-29T17:23:59.571Z"
   },
   {
    "duration": 8,
    "start_time": "2022-05-29T17:23:59.627Z"
   },
   {
    "duration": 30,
    "start_time": "2022-05-29T17:23:59.637Z"
   },
   {
    "duration": 9,
    "start_time": "2022-05-29T17:23:59.669Z"
   },
   {
    "duration": 14,
    "start_time": "2022-05-29T17:23:59.680Z"
   },
   {
    "duration": 39,
    "start_time": "2022-05-29T17:23:59.695Z"
   },
   {
    "duration": 13,
    "start_time": "2022-05-29T17:23:59.736Z"
   },
   {
    "duration": 17,
    "start_time": "2022-05-29T17:23:59.750Z"
   },
   {
    "duration": 15,
    "start_time": "2022-05-29T17:23:59.769Z"
   },
   {
    "duration": 94,
    "start_time": "2022-05-29T17:23:59.786Z"
   },
   {
    "duration": 50,
    "start_time": "2022-05-29T17:23:59.882Z"
   },
   {
    "duration": 16,
    "start_time": "2022-05-29T17:23:59.933Z"
   },
   {
    "duration": 20,
    "start_time": "2022-05-29T17:23:59.951Z"
   },
   {
    "duration": 15,
    "start_time": "2022-05-29T17:23:59.973Z"
   },
   {
    "duration": 4,
    "start_time": "2022-05-29T17:23:59.990Z"
   },
   {
    "duration": 32,
    "start_time": "2022-05-29T17:23:59.995Z"
   },
   {
    "duration": 20,
    "start_time": "2022-05-29T17:24:00.029Z"
   },
   {
    "duration": 36,
    "start_time": "2022-05-29T17:24:00.051Z"
   },
   {
    "duration": 105,
    "start_time": "2022-05-29T17:24:00.089Z"
   },
   {
    "duration": 47,
    "start_time": "2022-05-29T17:24:00.196Z"
   },
   {
    "duration": 45,
    "start_time": "2022-05-29T17:24:00.245Z"
   },
   {
    "duration": 7,
    "start_time": "2022-05-29T17:24:00.294Z"
   },
   {
    "duration": 42,
    "start_time": "2022-05-29T17:24:00.303Z"
   },
   {
    "duration": 29,
    "start_time": "2022-05-29T17:24:00.347Z"
   },
   {
    "duration": 26,
    "start_time": "2022-05-29T17:24:00.378Z"
   },
   {
    "duration": 34,
    "start_time": "2022-05-29T17:24:00.405Z"
   },
   {
    "duration": 28,
    "start_time": "2022-05-29T17:24:00.441Z"
   },
   {
    "duration": 18,
    "start_time": "2022-05-29T17:24:00.471Z"
   },
   {
    "duration": 54,
    "start_time": "2022-05-29T17:24:00.491Z"
   },
   {
    "duration": 19,
    "start_time": "2022-05-29T17:24:02.669Z"
   },
   {
    "duration": 20,
    "start_time": "2022-05-29T17:24:03.657Z"
   },
   {
    "duration": 15,
    "start_time": "2022-05-29T17:24:19.811Z"
   },
   {
    "duration": 22,
    "start_time": "2022-05-29T17:24:20.504Z"
   },
   {
    "duration": 17,
    "start_time": "2022-05-29T17:24:21.291Z"
   },
   {
    "duration": 1447,
    "start_time": "2022-05-29T17:26:32.494Z"
   },
   {
    "duration": 13,
    "start_time": "2022-05-29T17:26:33.943Z"
   },
   {
    "duration": 22,
    "start_time": "2022-05-29T17:26:33.958Z"
   },
   {
    "duration": 30,
    "start_time": "2022-05-29T17:26:33.981Z"
   },
   {
    "duration": 24,
    "start_time": "2022-05-29T17:26:34.013Z"
   },
   {
    "duration": 22,
    "start_time": "2022-05-29T17:26:34.040Z"
   },
   {
    "duration": 28,
    "start_time": "2022-05-29T17:26:34.064Z"
   },
   {
    "duration": 8,
    "start_time": "2022-05-29T17:26:34.094Z"
   },
   {
    "duration": 48,
    "start_time": "2022-05-29T17:26:34.103Z"
   },
   {
    "duration": 8,
    "start_time": "2022-05-29T17:26:34.153Z"
   },
   {
    "duration": 11,
    "start_time": "2022-05-29T17:26:34.162Z"
   },
   {
    "duration": 13,
    "start_time": "2022-05-29T17:26:34.175Z"
   },
   {
    "duration": 11,
    "start_time": "2022-05-29T17:26:34.189Z"
   },
   {
    "duration": 40,
    "start_time": "2022-05-29T17:26:34.202Z"
   },
   {
    "duration": 12,
    "start_time": "2022-05-29T17:26:34.243Z"
   },
   {
    "duration": 45,
    "start_time": "2022-05-29T17:26:34.256Z"
   },
   {
    "duration": 66,
    "start_time": "2022-05-29T17:26:34.302Z"
   },
   {
    "duration": 14,
    "start_time": "2022-05-29T17:26:34.370Z"
   },
   {
    "duration": 21,
    "start_time": "2022-05-29T17:26:34.385Z"
   },
   {
    "duration": 39,
    "start_time": "2022-05-29T17:26:34.408Z"
   },
   {
    "duration": 4,
    "start_time": "2022-05-29T17:26:34.448Z"
   },
   {
    "duration": 6,
    "start_time": "2022-05-29T17:26:34.453Z"
   },
   {
    "duration": 14,
    "start_time": "2022-05-29T17:26:34.460Z"
   },
   {
    "duration": 12,
    "start_time": "2022-05-29T17:26:34.475Z"
   },
   {
    "duration": 146,
    "start_time": "2022-05-29T17:26:34.488Z"
   },
   {
    "duration": 50,
    "start_time": "2022-05-29T17:26:34.636Z"
   },
   {
    "duration": 67,
    "start_time": "2022-05-29T17:26:34.688Z"
   },
   {
    "duration": 5,
    "start_time": "2022-05-29T17:26:34.759Z"
   },
   {
    "duration": 24,
    "start_time": "2022-05-29T17:26:34.765Z"
   },
   {
    "duration": 39,
    "start_time": "2022-05-29T17:26:34.791Z"
   },
   {
    "duration": 29,
    "start_time": "2022-05-29T17:26:34.832Z"
   },
   {
    "duration": 14,
    "start_time": "2022-05-29T17:26:34.862Z"
   },
   {
    "duration": 26,
    "start_time": "2022-05-29T17:26:34.877Z"
   },
   {
    "duration": 41,
    "start_time": "2022-05-29T17:26:34.904Z"
   },
   {
    "duration": 26,
    "start_time": "2022-05-29T17:26:34.946Z"
   },
   {
    "duration": 14,
    "start_time": "2022-05-29T17:26:34.973Z"
   },
   {
    "duration": 56,
    "start_time": "2022-05-29T17:26:34.988Z"
   },
   {
    "duration": 16,
    "start_time": "2022-05-29T17:26:35.045Z"
   },
   {
    "duration": 16,
    "start_time": "2022-05-29T17:26:35.062Z"
   },
   {
    "duration": 24,
    "start_time": "2022-05-29T17:26:35.079Z"
   },
   {
    "duration": 5,
    "start_time": "2022-05-29T17:26:35.127Z"
   },
   {
    "duration": 42,
    "start_time": "2022-05-29T17:26:35.134Z"
   },
   {
    "duration": 13,
    "start_time": "2022-05-29T17:26:35.177Z"
   },
   {
    "duration": 48,
    "start_time": "2022-05-29T17:26:35.191Z"
   },
   {
    "duration": 12,
    "start_time": "2022-05-29T17:26:35.241Z"
   },
   {
    "duration": 5,
    "start_time": "2022-05-29T17:26:35.255Z"
   },
   {
    "duration": 15,
    "start_time": "2022-05-29T17:26:35.261Z"
   },
   {
    "duration": 19,
    "start_time": "2022-05-29T17:26:35.277Z"
   },
   {
    "duration": 24,
    "start_time": "2022-05-29T17:29:14.125Z"
   },
   {
    "duration": 24,
    "start_time": "2022-05-29T17:30:32.327Z"
   },
   {
    "duration": 1685,
    "start_time": "2022-05-29T17:37:25.529Z"
   },
   {
    "duration": 13,
    "start_time": "2022-05-29T17:37:27.216Z"
   },
   {
    "duration": 23,
    "start_time": "2022-05-29T17:37:27.230Z"
   },
   {
    "duration": 31,
    "start_time": "2022-05-29T17:37:27.255Z"
   },
   {
    "duration": 9,
    "start_time": "2022-05-29T17:37:27.287Z"
   },
   {
    "duration": 44,
    "start_time": "2022-05-29T17:37:27.297Z"
   },
   {
    "duration": 29,
    "start_time": "2022-05-29T17:37:27.342Z"
   },
   {
    "duration": 7,
    "start_time": "2022-05-29T17:37:27.372Z"
   },
   {
    "duration": 20,
    "start_time": "2022-05-29T17:37:27.380Z"
   },
   {
    "duration": 7,
    "start_time": "2022-05-29T17:37:27.426Z"
   },
   {
    "duration": 12,
    "start_time": "2022-05-29T17:37:27.434Z"
   },
   {
    "duration": 12,
    "start_time": "2022-05-29T17:37:27.447Z"
   },
   {
    "duration": 13,
    "start_time": "2022-05-29T17:37:27.460Z"
   },
   {
    "duration": 14,
    "start_time": "2022-05-29T17:37:27.474Z"
   },
   {
    "duration": 38,
    "start_time": "2022-05-29T17:37:27.489Z"
   },
   {
    "duration": 47,
    "start_time": "2022-05-29T17:37:27.529Z"
   },
   {
    "duration": 57,
    "start_time": "2022-05-29T17:37:27.578Z"
   },
   {
    "duration": 15,
    "start_time": "2022-05-29T17:37:27.636Z"
   },
   {
    "duration": 19,
    "start_time": "2022-05-29T17:37:27.653Z"
   },
   {
    "duration": 13,
    "start_time": "2022-05-29T17:37:27.674Z"
   },
   {
    "duration": 3,
    "start_time": "2022-05-29T17:37:27.689Z"
   },
   {
    "duration": 32,
    "start_time": "2022-05-29T17:37:27.694Z"
   },
   {
    "duration": 12,
    "start_time": "2022-05-29T17:37:27.728Z"
   },
   {
    "duration": 15,
    "start_time": "2022-05-29T17:37:27.742Z"
   },
   {
    "duration": 118,
    "start_time": "2022-05-29T17:37:27.759Z"
   },
   {
    "duration": 56,
    "start_time": "2022-05-29T17:37:27.879Z"
   },
   {
    "duration": 41,
    "start_time": "2022-05-29T17:37:27.937Z"
   },
   {
    "duration": 6,
    "start_time": "2022-05-29T17:37:27.981Z"
   },
   {
    "duration": 41,
    "start_time": "2022-05-29T17:37:27.988Z"
   },
   {
    "duration": 28,
    "start_time": "2022-05-29T17:37:28.031Z"
   },
   {
    "duration": 26,
    "start_time": "2022-05-29T17:37:28.060Z"
   },
   {
    "duration": 41,
    "start_time": "2022-05-29T17:37:28.088Z"
   },
   {
    "duration": 27,
    "start_time": "2022-05-29T17:37:28.130Z"
   },
   {
    "duration": 16,
    "start_time": "2022-05-29T17:37:28.159Z"
   },
   {
    "duration": 24,
    "start_time": "2022-05-29T17:37:28.177Z"
   },
   {
    "duration": 14,
    "start_time": "2022-05-29T17:37:28.226Z"
   },
   {
    "duration": 15,
    "start_time": "2022-05-29T17:37:28.241Z"
   },
   {
    "duration": 15,
    "start_time": "2022-05-29T17:37:28.257Z"
   },
   {
    "duration": 13,
    "start_time": "2022-05-29T17:37:28.274Z"
   },
   {
    "duration": 55,
    "start_time": "2022-05-29T17:37:28.289Z"
   },
   {
    "duration": 3,
    "start_time": "2022-05-29T17:37:28.346Z"
   },
   {
    "duration": 29,
    "start_time": "2022-05-29T17:37:28.350Z"
   },
   {
    "duration": 13,
    "start_time": "2022-05-29T17:37:28.380Z"
   },
   {
    "duration": 59,
    "start_time": "2022-05-29T17:37:28.395Z"
   },
   {
    "duration": 17,
    "start_time": "2022-05-29T17:37:28.456Z"
   },
   {
    "duration": 138,
    "start_time": "2022-05-29T17:37:28.475Z"
   },
   {
    "duration": 0,
    "start_time": "2022-05-29T17:37:28.616Z"
   },
   {
    "duration": 0,
    "start_time": "2022-05-29T17:37:28.617Z"
   },
   {
    "duration": 0,
    "start_time": "2022-05-29T17:37:28.618Z"
   },
   {
    "duration": 0,
    "start_time": "2022-05-29T17:37:28.619Z"
   },
   {
    "duration": 0,
    "start_time": "2022-05-29T17:37:28.627Z"
   },
   {
    "duration": 1,
    "start_time": "2022-05-29T17:37:28.627Z"
   },
   {
    "duration": 0,
    "start_time": "2022-05-29T17:37:28.629Z"
   },
   {
    "duration": 0,
    "start_time": "2022-05-29T17:37:28.630Z"
   },
   {
    "duration": 0,
    "start_time": "2022-05-29T17:37:28.632Z"
   },
   {
    "duration": 0,
    "start_time": "2022-05-29T17:37:28.633Z"
   },
   {
    "duration": 0,
    "start_time": "2022-05-29T17:37:28.636Z"
   },
   {
    "duration": 0,
    "start_time": "2022-05-29T17:37:28.638Z"
   },
   {
    "duration": 0,
    "start_time": "2022-05-29T17:37:28.639Z"
   },
   {
    "duration": 0,
    "start_time": "2022-05-29T17:37:28.641Z"
   },
   {
    "duration": 0,
    "start_time": "2022-05-29T17:37:28.642Z"
   },
   {
    "duration": 0,
    "start_time": "2022-05-29T17:37:28.644Z"
   },
   {
    "duration": 0,
    "start_time": "2022-05-29T17:37:28.645Z"
   },
   {
    "duration": 0,
    "start_time": "2022-05-29T17:37:28.646Z"
   },
   {
    "duration": 0,
    "start_time": "2022-05-29T17:37:28.647Z"
   },
   {
    "duration": 0,
    "start_time": "2022-05-29T17:37:28.648Z"
   },
   {
    "duration": 0,
    "start_time": "2022-05-29T17:37:28.649Z"
   },
   {
    "duration": 0,
    "start_time": "2022-05-29T17:37:28.651Z"
   },
   {
    "duration": 0,
    "start_time": "2022-05-29T17:37:28.652Z"
   },
   {
    "duration": 0,
    "start_time": "2022-05-29T17:37:28.653Z"
   },
   {
    "duration": 0,
    "start_time": "2022-05-29T17:37:28.655Z"
   },
   {
    "duration": 0,
    "start_time": "2022-05-29T17:37:28.656Z"
   },
   {
    "duration": 0,
    "start_time": "2022-05-29T17:37:28.657Z"
   },
   {
    "duration": 0,
    "start_time": "2022-05-29T17:37:28.658Z"
   },
   {
    "duration": 0,
    "start_time": "2022-05-29T17:37:28.660Z"
   },
   {
    "duration": 0,
    "start_time": "2022-05-29T17:37:28.661Z"
   },
   {
    "duration": 0,
    "start_time": "2022-05-29T17:37:28.662Z"
   },
   {
    "duration": 0,
    "start_time": "2022-05-29T17:37:28.663Z"
   },
   {
    "duration": 1530,
    "start_time": "2022-05-29T17:37:56.597Z"
   },
   {
    "duration": 13,
    "start_time": "2022-05-29T17:37:58.129Z"
   },
   {
    "duration": 25,
    "start_time": "2022-05-29T17:37:58.143Z"
   },
   {
    "duration": 30,
    "start_time": "2022-05-29T17:37:58.170Z"
   },
   {
    "duration": 26,
    "start_time": "2022-05-29T17:37:58.201Z"
   },
   {
    "duration": 20,
    "start_time": "2022-05-29T17:37:58.229Z"
   },
   {
    "duration": 37,
    "start_time": "2022-05-29T17:37:58.250Z"
   },
   {
    "duration": 7,
    "start_time": "2022-05-29T17:37:58.289Z"
   },
   {
    "duration": 54,
    "start_time": "2022-05-29T17:37:58.298Z"
   },
   {
    "duration": 8,
    "start_time": "2022-05-29T17:37:58.356Z"
   },
   {
    "duration": 11,
    "start_time": "2022-05-29T17:37:58.365Z"
   },
   {
    "duration": 12,
    "start_time": "2022-05-29T17:37:58.378Z"
   },
   {
    "duration": 38,
    "start_time": "2022-05-29T17:37:58.392Z"
   },
   {
    "duration": 14,
    "start_time": "2022-05-29T17:37:58.432Z"
   },
   {
    "duration": 11,
    "start_time": "2022-05-29T17:37:58.448Z"
   },
   {
    "duration": 68,
    "start_time": "2022-05-29T17:37:58.461Z"
   },
   {
    "duration": 38,
    "start_time": "2022-05-29T17:37:58.531Z"
   },
   {
    "duration": 17,
    "start_time": "2022-05-29T17:37:58.571Z"
   },
   {
    "duration": 49,
    "start_time": "2022-05-29T17:37:58.590Z"
   },
   {
    "duration": 14,
    "start_time": "2022-05-29T17:37:58.640Z"
   },
   {
    "duration": 4,
    "start_time": "2022-05-29T17:37:58.655Z"
   },
   {
    "duration": 8,
    "start_time": "2022-05-29T17:37:58.661Z"
   },
   {
    "duration": 19,
    "start_time": "2022-05-29T17:37:58.670Z"
   },
   {
    "duration": 13,
    "start_time": "2022-05-29T17:37:58.691Z"
   },
   {
    "duration": 110,
    "start_time": "2022-05-29T17:37:58.706Z"
   },
   {
    "duration": 51,
    "start_time": "2022-05-29T17:37:58.818Z"
   },
   {
    "duration": 56,
    "start_time": "2022-05-29T17:37:58.870Z"
   },
   {
    "duration": 5,
    "start_time": "2022-05-29T17:37:58.931Z"
   },
   {
    "duration": 33,
    "start_time": "2022-05-29T17:37:58.938Z"
   },
   {
    "duration": 28,
    "start_time": "2022-05-29T17:37:58.973Z"
   },
   {
    "duration": 46,
    "start_time": "2022-05-29T17:37:59.003Z"
   },
   {
    "duration": 13,
    "start_time": "2022-05-29T17:37:59.051Z"
   },
   {
    "duration": 25,
    "start_time": "2022-05-29T17:37:59.066Z"
   },
   {
    "duration": 39,
    "start_time": "2022-05-29T17:37:59.092Z"
   },
   {
    "duration": 25,
    "start_time": "2022-05-29T17:37:59.133Z"
   },
   {
    "duration": 16,
    "start_time": "2022-05-29T17:37:59.160Z"
   },
   {
    "duration": 16,
    "start_time": "2022-05-29T17:37:59.178Z"
   },
   {
    "duration": 46,
    "start_time": "2022-05-29T17:37:59.196Z"
   },
   {
    "duration": 15,
    "start_time": "2022-05-29T17:37:59.243Z"
   },
   {
    "duration": 24,
    "start_time": "2022-05-29T17:37:59.260Z"
   },
   {
    "duration": 3,
    "start_time": "2022-05-29T17:37:59.286Z"
   },
   {
    "duration": 61,
    "start_time": "2022-05-29T17:37:59.290Z"
   },
   {
    "duration": 12,
    "start_time": "2022-05-29T17:37:59.353Z"
   },
   {
    "duration": 28,
    "start_time": "2022-05-29T17:37:59.367Z"
   },
   {
    "duration": 40,
    "start_time": "2022-05-29T17:37:59.396Z"
   },
   {
    "duration": 6,
    "start_time": "2022-05-29T17:37:59.437Z"
   },
   {
    "duration": 13,
    "start_time": "2022-05-29T17:37:59.444Z"
   },
   {
    "duration": 22,
    "start_time": "2022-05-29T17:37:59.458Z"
   },
   {
    "duration": 65,
    "start_time": "2022-05-29T17:37:59.483Z"
   },
   {
    "duration": 1490,
    "start_time": "2022-05-29T17:37:59.550Z"
   },
   {
    "duration": 3,
    "start_time": "2022-05-29T17:38:01.041Z"
   },
   {
    "duration": 34,
    "start_time": "2022-05-29T17:38:01.046Z"
   },
   {
    "duration": 26,
    "start_time": "2022-05-29T17:38:01.082Z"
   },
   {
    "duration": 38,
    "start_time": "2022-05-29T17:38:01.110Z"
   },
   {
    "duration": 7,
    "start_time": "2022-05-29T17:38:01.149Z"
   },
   {
    "duration": 17,
    "start_time": "2022-05-29T17:38:01.158Z"
   },
   {
    "duration": 24,
    "start_time": "2022-05-29T17:38:01.177Z"
   },
   {
    "duration": 17,
    "start_time": "2022-05-29T17:38:01.203Z"
   },
   {
    "duration": 18,
    "start_time": "2022-05-29T17:38:01.222Z"
   },
   {
    "duration": 8,
    "start_time": "2022-05-29T17:38:01.242Z"
   },
   {
    "duration": 19,
    "start_time": "2022-05-29T17:38:01.252Z"
   },
   {
    "duration": 25,
    "start_time": "2022-05-29T17:38:01.273Z"
   },
   {
    "duration": 27,
    "start_time": "2022-05-29T17:38:01.300Z"
   },
   {
    "duration": 38,
    "start_time": "2022-05-29T17:38:01.329Z"
   },
   {
    "duration": 16,
    "start_time": "2022-05-29T17:38:01.368Z"
   },
   {
    "duration": 26,
    "start_time": "2022-05-29T17:38:01.386Z"
   },
   {
    "duration": 20,
    "start_time": "2022-05-29T17:38:01.413Z"
   },
   {
    "duration": 50,
    "start_time": "2022-05-29T17:38:01.436Z"
   },
   {
    "duration": 31,
    "start_time": "2022-05-29T17:38:01.488Z"
   },
   {
    "duration": 37,
    "start_time": "2022-05-29T17:38:01.522Z"
   },
   {
    "duration": 24,
    "start_time": "2022-05-29T17:38:01.561Z"
   },
   {
    "duration": 21,
    "start_time": "2022-05-29T17:38:01.588Z"
   },
   {
    "duration": 188,
    "start_time": "2022-05-29T17:38:01.610Z"
   },
   {
    "duration": 237,
    "start_time": "2022-05-29T17:38:01.800Z"
   },
   {
    "duration": 160,
    "start_time": "2022-05-29T17:38:02.039Z"
   },
   {
    "duration": 174,
    "start_time": "2022-05-29T17:38:02.201Z"
   },
   {
    "duration": 12,
    "start_time": "2022-05-29T17:38:02.376Z"
   },
   {
    "duration": 34,
    "start_time": "2022-05-29T17:38:02.390Z"
   },
   {
    "duration": 2383,
    "start_time": "2022-05-29T18:41:44.180Z"
   },
   {
    "duration": 17,
    "start_time": "2022-05-29T18:41:46.565Z"
   },
   {
    "duration": 40,
    "start_time": "2022-05-29T18:41:46.584Z"
   },
   {
    "duration": 38,
    "start_time": "2022-05-29T18:41:46.626Z"
   },
   {
    "duration": 8,
    "start_time": "2022-05-29T18:41:46.666Z"
   },
   {
    "duration": 35,
    "start_time": "2022-05-29T18:41:46.697Z"
   },
   {
    "duration": 31,
    "start_time": "2022-05-29T18:41:46.733Z"
   },
   {
    "duration": 34,
    "start_time": "2022-05-29T18:41:46.765Z"
   },
   {
    "duration": 31,
    "start_time": "2022-05-29T18:41:46.802Z"
   },
   {
    "duration": 10,
    "start_time": "2022-05-29T18:41:46.837Z"
   },
   {
    "duration": 15,
    "start_time": "2022-05-29T18:41:46.849Z"
   },
   {
    "duration": 42,
    "start_time": "2022-05-29T18:41:46.866Z"
   },
   {
    "duration": 18,
    "start_time": "2022-05-29T18:41:46.913Z"
   },
   {
    "duration": 22,
    "start_time": "2022-05-29T18:41:46.933Z"
   },
   {
    "duration": 15,
    "start_time": "2022-05-29T18:41:46.957Z"
   },
   {
    "duration": 94,
    "start_time": "2022-05-29T18:41:46.974Z"
   },
   {
    "duration": 54,
    "start_time": "2022-05-29T18:41:47.070Z"
   },
   {
    "duration": 19,
    "start_time": "2022-05-29T18:41:47.126Z"
   },
   {
    "duration": 19,
    "start_time": "2022-05-29T18:41:47.147Z"
   },
   {
    "duration": 53,
    "start_time": "2022-05-29T18:41:47.168Z"
   },
   {
    "duration": 12,
    "start_time": "2022-05-29T18:41:47.228Z"
   },
   {
    "duration": 20,
    "start_time": "2022-05-29T18:41:47.244Z"
   },
   {
    "duration": 19,
    "start_time": "2022-05-29T18:41:47.267Z"
   },
   {
    "duration": 34,
    "start_time": "2022-05-29T18:41:47.288Z"
   },
   {
    "duration": 138,
    "start_time": "2022-05-29T18:41:47.324Z"
   },
   {
    "duration": 74,
    "start_time": "2022-05-29T18:41:47.464Z"
   },
   {
    "duration": 70,
    "start_time": "2022-05-29T18:41:47.541Z"
   },
   {
    "duration": 8,
    "start_time": "2022-05-29T18:41:47.622Z"
   },
   {
    "duration": 34,
    "start_time": "2022-05-29T18:41:47.632Z"
   },
   {
    "duration": 40,
    "start_time": "2022-05-29T18:41:47.668Z"
   },
   {
    "duration": 27,
    "start_time": "2022-05-29T18:41:47.709Z"
   },
   {
    "duration": 14,
    "start_time": "2022-05-29T18:41:47.738Z"
   },
   {
    "duration": 59,
    "start_time": "2022-05-29T18:41:47.754Z"
   },
   {
    "duration": 17,
    "start_time": "2022-05-29T18:41:47.814Z"
   },
   {
    "duration": 24,
    "start_time": "2022-05-29T18:41:47.833Z"
   },
   {
    "duration": 39,
    "start_time": "2022-05-29T18:41:47.858Z"
   },
   {
    "duration": 20,
    "start_time": "2022-05-29T18:41:47.901Z"
   },
   {
    "duration": 18,
    "start_time": "2022-05-29T18:41:47.922Z"
   },
   {
    "duration": 15,
    "start_time": "2022-05-29T18:41:47.942Z"
   },
   {
    "duration": 59,
    "start_time": "2022-05-29T18:41:47.959Z"
   },
   {
    "duration": 4,
    "start_time": "2022-05-29T18:41:48.020Z"
   },
   {
    "duration": 32,
    "start_time": "2022-05-29T18:41:48.026Z"
   },
   {
    "duration": 14,
    "start_time": "2022-05-29T18:41:48.060Z"
   },
   {
    "duration": 57,
    "start_time": "2022-05-29T18:41:48.075Z"
   },
   {
    "duration": 13,
    "start_time": "2022-05-29T18:41:48.133Z"
   },
   {
    "duration": 6,
    "start_time": "2022-05-29T18:41:48.148Z"
   },
   {
    "duration": 24,
    "start_time": "2022-05-29T18:41:48.155Z"
   },
   {
    "duration": 46,
    "start_time": "2022-05-29T18:41:48.180Z"
   },
   {
    "duration": 29,
    "start_time": "2022-05-29T18:41:48.228Z"
   },
   {
    "duration": 1695,
    "start_time": "2022-05-29T18:41:48.259Z"
   },
   {
    "duration": 4,
    "start_time": "2022-05-29T18:41:49.956Z"
   },
   {
    "duration": 19,
    "start_time": "2022-05-29T18:41:49.962Z"
   },
   {
    "duration": 33,
    "start_time": "2022-05-29T18:41:49.983Z"
   },
   {
    "duration": 37,
    "start_time": "2022-05-29T18:41:50.017Z"
   },
   {
    "duration": 10,
    "start_time": "2022-05-29T18:41:50.056Z"
   },
   {
    "duration": 28,
    "start_time": "2022-05-29T18:41:50.068Z"
   },
   {
    "duration": 15,
    "start_time": "2022-05-29T18:41:50.102Z"
   },
   {
    "duration": 10,
    "start_time": "2022-05-29T18:41:50.118Z"
   },
   {
    "duration": 11,
    "start_time": "2022-05-29T18:41:50.130Z"
   },
   {
    "duration": 4,
    "start_time": "2022-05-29T18:41:50.143Z"
   },
   {
    "duration": 17,
    "start_time": "2022-05-29T18:41:50.148Z"
   },
   {
    "duration": 6,
    "start_time": "2022-05-29T18:41:50.167Z"
   },
   {
    "duration": 30,
    "start_time": "2022-05-29T18:41:50.202Z"
   },
   {
    "duration": 9,
    "start_time": "2022-05-29T18:41:50.233Z"
   },
   {
    "duration": 20,
    "start_time": "2022-05-29T18:41:50.244Z"
   },
   {
    "duration": 14,
    "start_time": "2022-05-29T18:41:50.266Z"
   },
   {
    "duration": 16,
    "start_time": "2022-05-29T18:41:50.281Z"
   },
   {
    "duration": 6,
    "start_time": "2022-05-29T18:41:50.301Z"
   },
   {
    "duration": 23,
    "start_time": "2022-05-29T18:41:50.312Z"
   },
   {
    "duration": 2,
    "start_time": "2022-05-29T18:41:50.337Z"
   },
   {
    "duration": 16,
    "start_time": "2022-05-29T18:41:50.341Z"
   },
   {
    "duration": 3,
    "start_time": "2022-05-29T18:41:50.359Z"
   },
   {
    "duration": 189,
    "start_time": "2022-05-29T18:41:50.363Z"
   },
   {
    "duration": 234,
    "start_time": "2022-05-29T18:41:50.553Z"
   },
   {
    "duration": 165,
    "start_time": "2022-05-29T18:41:50.796Z"
   },
   {
    "duration": 174,
    "start_time": "2022-05-29T18:41:50.962Z"
   },
   {
    "duration": 13,
    "start_time": "2022-05-29T18:41:51.137Z"
   },
   {
    "duration": 11,
    "start_time": "2022-05-29T18:41:51.151Z"
   }
  ],
  "kernelspec": {
   "display_name": "Python 3 (ipykernel)",
   "language": "python",
   "name": "python3"
  },
  "language_info": {
   "codemirror_mode": {
    "name": "ipython",
    "version": 3
   },
   "file_extension": ".py",
   "mimetype": "text/x-python",
   "name": "python",
   "nbconvert_exporter": "python",
   "pygments_lexer": "ipython3",
   "version": "3.9.7"
  },
  "toc": {
   "base_numbering": 1,
   "nav_menu": {},
   "number_sections": true,
   "sideBar": true,
   "skip_h1_title": true,
   "title_cell": "Table of Contents",
   "title_sidebar": "Contents",
   "toc_cell": false,
   "toc_position": {
    "height": "calc(100% - 180px)",
    "left": "10px",
    "top": "150px",
    "width": "220.55px"
   },
   "toc_section_display": true,
   "toc_window_display": true
  }
 },
 "nbformat": 4,
 "nbformat_minor": 5
}
